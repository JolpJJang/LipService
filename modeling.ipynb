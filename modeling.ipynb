{
 "cells": [
  {
   "cell_type": "code",
   "execution_count": null,
   "metadata": {},
   "outputs": [],
   "source": [
    "import keras\n",
    "import tensorflow as tf\n",
    "import numpy as np"
   ]
  },
  {
   "cell_type": "code",
   "execution_count": null,
   "metadata": {},
   "outputs": [],
   "source": [
    "# CNN+LSTM Baseline"
   ]
  },
  {
   "cell_type": "code",
   "execution_count": null,
   "metadata": {},
   "outputs": [],
   "source": [
    "X = tf.keras.layers.Input(shape=[])\n",
    "H = tf.keras.layers.Conv2D(32, kernel_size=5, padding='same', activation='relu')(X)\n",
    "H = tf.keras.layers.Conv2D(32, kernel_size=5, padding='same', activation='relu')(H)\n",
    "H = tf.keras.layers.Conv2D(32, kernel_size=5, padding='same', activation='relu')(H)\n",
    "H = tf.keras.layers.LSTM(64, return_sequences = False)(H)\n",
    "H = tf.keras.layers.Dense(120, activation='relu')(H)\n",
    "H = tf.keras.layers.Dense(84, activation='relu')(H)\n",
    "Y = tf.keras.layers.Dense(16, activation='softmax')(H)\n",
    "\n",
    "model = tf.keras.models.Model(X, Y)"
   ]
  },
  {
   "cell_type": "code",
   "execution_count": null,
   "metadata": {},
   "outputs": [],
   "source": [
    "# Deep Layered CNN+LSTM"
   ]
  },
  {
   "cell_type": "code",
   "execution_count": null,
   "metadata": {},
   "outputs": [],
   "source": [
    "X = tf.keras.layers.Input(shape=[])\n",
    "H = tf.keras.layers.Conv2D(8, kernel_size=5, padding='same', activation='relu')(X)\n",
    "H = tf.keras.layers.MaxPool2D()(H)\n",
    "H = tf.keras.layers.Conv2D(16,kernel_size=5,activation='relu')(H)\n",
    "H = tf.keras.layers.MaxPool2D()(H)\n",
    "H = tf.keras.layers.Conv2D(32,kernel_size=5,activation='relu')(H)\n",
    "H = tf.keras.layers.MaxPool2D()(H)\n",
    "H = tf.keras.layers.Bidirectional(layers.LSTM(64), merge_mode = 'concat')\n",
    "H = tf.keras.layers.Dense(120, activation='relu')(H)\n",
    "H = tf.keras.layers.Dense(84, activation='relu')(H)\n",
    "Y = tf.keras.layers.Dense(10, activation='softmax')(H)\n",
    "\n",
    "model = tf.keras.models.Model(X, Y)"
   ]
  },
  {
   "cell_type": "code",
   "execution_count": null,
   "metadata": {},
   "outputs": [],
   "source": [
    "# ImageNet Pretrained VGG-16 Features+LSTM"
   ]
  },
  {
   "cell_type": "code",
   "execution_count": null,
   "metadata": {},
   "outputs": [],
   "source": [
    "''''\n",
    "X = tf.keras.layers.Input(shape=[])\n",
    "H = tf.keras.layers.Conv2D(64, kernel_size=5, padding='same', activation='relu')(X)\n",
    "H = tf.keras.layers.Conv2D(64, kernel_size=5, padding='same', activation='relu')(H)\n",
    "H = tf.keras.layers.MaxPool2D()(H)\n",
    "H = tf.keras.layers.Conv2D(128, kernel_size=5, padding='same', activation='relu')(H)\n",
    "H = tf.keras.layers.Conv2D(128, kernel_size=5, padding='same', activation='relu')(H)\n",
    "H = tf.keras.layers.MaxPool2D()(H)\n",
    "H = tf.keras.layers.Conv2D(256, kernel_size=5, padding='same', activation='relu')(H)\n",
    "H = tf.keras.layers.Conv2D(256, kernel_size=5, padding='same', activation='relu')(H)\n",
    "H = tf.keras.layers.MaxPool2D()(H)\n",
    "H = tf.keras.layers.Conv2D(512, kernel_size=5, padding='same', activation='relu')(H)\n",
    "H = tf.keras.layers.Conv2D(512, kernel_size=5, padding='same', activation='relu')(H)\n",
    "H = tf.keras.layers.Conv2D(512, kernel_size=5, padding='same', activation='relu')(H)\n",
    "H = tf.keras.layers.MaxPool2D()(H)\n",
    "''''\n",
    "\n",
    "transfer_model = VGG16(weights='imagenet', include_top=False, input_shape=())\n",
    "transfer_model.trainable=False\n",
    "model_tr = Sequential([\n",
    "    transfer_model, \n",
    "    Flatten(), \n",
    "    Dense(64, activation='relu'), \n",
    "    Dense(1, 'sigmoid')\n",
    "])\n",
    "\n",
    "#...................."
   ]
  }
 ],
 "metadata": {
  "kernelspec": {
   "display_name": "Python 3",
   "language": "python",
   "name": "python3"
  },
  "language_info": {
   "codemirror_mode": {
    "name": "ipython",
    "version": 3
   },
   "file_extension": ".py",
   "mimetype": "text/x-python",
   "name": "python",
   "nbconvert_exporter": "python",
   "pygments_lexer": "ipython3",
   "version": "3.8.3"
  }
 },
 "nbformat": 4,
 "nbformat_minor": 4
}
