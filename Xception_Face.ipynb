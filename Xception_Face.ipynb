{
 "cells": [
  {
   "cell_type": "code",
   "execution_count": 1,
   "metadata": {},
   "outputs": [],
   "source": [
    "import numpy as np\n",
    "from sklearn.model_selection import train_test_split\n",
    "\n",
    "import tensorflow as tf\n",
    "from tensorflow import keras\n",
    "from keras import layers\n",
    "from keras.models import Sequential\n",
    "from keras import models, layers, activations\n",
    "from keras.layers import Conv2D, TimeDistributed, BatchNormalization, MaxPooling2D, Flatten, Bidirectional, Dense, Dropout, Embedding\n",
    "from keras.callbacks import EarlyStopping\n",
    "from keras.callbacks import ModelCheckpoint"
   ]
  },
  {
   "cell_type": "code",
   "execution_count": 2,
   "metadata": {},
   "outputs": [
    {
     "name": "stdout",
     "output_type": "stream",
     "text": [
      "(3000, 27, 64, 64, 3) (3000, 11)\n"
     ]
    }
   ],
   "source": [
    "x_data = np.load('face/face_x_data.npy') # x_save.npy\n",
    "y_data = np.load('face/face_y_data.npy') # y_data.npy\n",
    "y_data = keras.utils.to_categorical(y_data,11)\n",
    "print(x_data.shape, y_data.shape)"
   ]
  },
  {
   "cell_type": "code",
   "execution_count": 3,
   "metadata": {},
   "outputs": [
    {
     "name": "stdout",
     "output_type": "stream",
     "text": [
      "X_train: (2400, 27, 64, 64, 3), X_test: (600, 27, 64, 64, 3)\n",
      "Y_train: (2400, 11), Y_test: (600, 11)\n"
     ]
    }
   ],
   "source": [
    "# Train과 Test 분리\n",
    "X_train, X_test, Y_train, Y_test = train_test_split(x_data, y_data, test_size = 0.2, shuffle = True, stratify=y_data)\n",
    "#X_train = X_train / 255\n",
    "print(\"X_train: {}, X_test: {}\".format(X_train.shape, X_test.shape))\n",
    "print(\"Y_train: {}, Y_test: {}\".format(Y_train.shape, Y_test.shape))"
   ]
  },
  {
   "cell_type": "code",
   "execution_count": 4,
   "metadata": {},
   "outputs": [],
   "source": [
    "from tensorflow.keras.applications import Xception\n",
    "\n",
    "class Xception_LSTM(keras.Model):\n",
    "    def __init__(self, num_classes):\n",
    "        super(Xception_LSTM, self).__init__()\n",
    "        #self.BZ = input_shape[0]\n",
    "        #self.frame = input_shape[1]\n",
    "        self.xc = TimeDistributed(Xception(weights='imagenet', include_top=False,\n",
    "                                               pooling='max'))\n",
    "        self.xc.trainable = False\n",
    "        self.bilstm = layers.Bidirectional(layers.LSTM(128), merge_mode='concat')\n",
    "        self.dense2 = layers.Dense(128, activation='relu')\n",
    "        self.dense = layers.Dense(num_classes, activation='softmax')\n",
    "        self.max_pool = TimeDistributed(MaxPooling2D(pool_size=(2, 2)))\n",
    "        self.dropout2 = layers.Dropout(0.2)\n",
    "        self.dropout3 = layers.Dropout(0.3)\n",
    "        self.flat = TimeDistributed(Flatten())\n",
    "\n",
    "    def call(self, x):\n",
    "        x = self.xc(x)\n",
    "        x = self.flat(x)\n",
    "        x = self.dropout2(x)\n",
    "        x = self.bilstm(x)\n",
    "        #x = self.dense2(x)\n",
    "        x = self.dropout2(x)\n",
    "        return self.dense(x)"
   ]
  },
  {
   "cell_type": "code",
   "execution_count": 5,
   "metadata": {},
   "outputs": [],
   "source": [
    "model = Xception_LSTM(num_classes = 11)\n",
    "model.compile(optimizer = 'adam', loss = 'categorical_crossentropy', metrics = ['accuracy'])"
   ]
  },
  {
   "cell_type": "code",
   "execution_count": 6,
   "metadata": {},
   "outputs": [
    {
     "name": "stdout",
     "output_type": "stream",
     "text": [
      "Epoch 1/100\n",
      "60/60 [==============================] - 1900s 32s/step - loss: 2.3315 - accuracy: 0.1047 - val_loss: 2.2973 - val_accuracy: 0.1417\n",
      "Epoch 2/100\n",
      "60/60 [==============================] - 1841s 31s/step - loss: 2.2407 - accuracy: 0.1578 - val_loss: 2.2688 - val_accuracy: 0.1479\n",
      "Epoch 3/100\n",
      "60/60 [==============================] - 1925s 32s/step - loss: 2.1652 - accuracy: 0.2130 - val_loss: 2.2592 - val_accuracy: 0.1479\n",
      "Epoch 4/100\n",
      "60/60 [==============================] - 1937s 32s/step - loss: 2.0854 - accuracy: 0.2406 - val_loss: 2.2277 - val_accuracy: 0.2021\n",
      "Epoch 5/100\n",
      "60/60 [==============================] - 1760s 29s/step - loss: 2.0088 - accuracy: 0.2823 - val_loss: 2.1236 - val_accuracy: 0.2375\n",
      "Epoch 6/100\n",
      "60/60 [==============================] - 1623s 27s/step - loss: 1.8892 - accuracy: 0.3396 - val_loss: 2.1086 - val_accuracy: 0.2396\n",
      "Epoch 7/100\n",
      "60/60 [==============================] - 1618s 27s/step - loss: 1.7193 - accuracy: 0.4161 - val_loss: 2.0974 - val_accuracy: 0.2458\n",
      "Epoch 8/100\n",
      "60/60 [==============================] - 1643s 27s/step - loss: 1.6036 - accuracy: 0.4646 - val_loss: 2.0811 - val_accuracy: 0.3167\n",
      "Epoch 9/100\n",
      "60/60 [==============================] - 1623s 27s/step - loss: 1.4421 - accuracy: 0.5203 - val_loss: 1.9965 - val_accuracy: 0.3042\n",
      "Epoch 10/100\n",
      "60/60 [==============================] - 1609s 27s/step - loss: 1.2628 - accuracy: 0.5911 - val_loss: 2.0536 - val_accuracy: 0.3229\n",
      "Epoch 11/100\n",
      "60/60 [==============================] - 1812s 30s/step - loss: 1.1176 - accuracy: 0.6401 - val_loss: 2.0099 - val_accuracy: 0.3479\n",
      "Epoch 12/100\n",
      "60/60 [==============================] - 2072s 35s/step - loss: 0.9101 - accuracy: 0.7141 - val_loss: 1.9930 - val_accuracy: 0.3896\n",
      "Epoch 13/100\n",
      "60/60 [==============================] - 1558s 26s/step - loss: 0.7818 - accuracy: 0.7594 - val_loss: 2.0675 - val_accuracy: 0.3688\n",
      "Epoch 14/100\n",
      "60/60 [==============================] - 1371s 23s/step - loss: 0.6752 - accuracy: 0.8036 - val_loss: 2.0017 - val_accuracy: 0.4313\n",
      "Epoch 15/100\n",
      "60/60 [==============================] - 1361s 23s/step - loss: 0.5846 - accuracy: 0.8245 - val_loss: 1.8736 - val_accuracy: 0.4250\n",
      "Epoch 16/100\n",
      "60/60 [==============================] - 1547s 26s/step - loss: 0.4573 - accuracy: 0.8656 - val_loss: 1.8601 - val_accuracy: 0.4479\n",
      "Epoch 17/100\n",
      "60/60 [==============================] - 1377s 23s/step - loss: 0.3550 - accuracy: 0.9083 - val_loss: 1.9726 - val_accuracy: 0.4625\n",
      "Epoch 18/100\n",
      "60/60 [==============================] - 1351s 23s/step - loss: 0.3030 - accuracy: 0.9208 - val_loss: 1.9075 - val_accuracy: 0.4771\n",
      "Epoch 19/100\n",
      "60/60 [==============================] - 1328s 22s/step - loss: 0.2508 - accuracy: 0.9365 - val_loss: 1.9937 - val_accuracy: 0.4583\n",
      "Epoch 20/100\n",
      "60/60 [==============================] - 1298s 22s/step - loss: 0.2488 - accuracy: 0.9260 - val_loss: 1.9391 - val_accuracy: 0.4729\n",
      "Epoch 21/100\n",
      "60/60 [==============================] - 1292s 22s/step - loss: 0.2031 - accuracy: 0.9479 - val_loss: 2.1185 - val_accuracy: 0.4375\n",
      "Epoch 22/100\n",
      "60/60 [==============================] - 1328s 22s/step - loss: 0.1640 - accuracy: 0.9609 - val_loss: 2.0415 - val_accuracy: 0.5042\n",
      "Epoch 23/100\n",
      "60/60 [==============================] - 1344s 22s/step - loss: 0.1851 - accuracy: 0.9438 - val_loss: 2.1345 - val_accuracy: 0.4604\n",
      "Epoch 24/100\n",
      "60/60 [==============================] - 1432s 24s/step - loss: 0.1697 - accuracy: 0.9531 - val_loss: 2.0491 - val_accuracy: 0.4625\n",
      "Epoch 25/100\n",
      "60/60 [==============================] - 1404s 23s/step - loss: 0.1277 - accuracy: 0.9672 - val_loss: 1.9945 - val_accuracy: 0.5104\n",
      "Epoch 26/100\n",
      "60/60 [==============================] - 1367s 23s/step - loss: 0.1201 - accuracy: 0.9677 - val_loss: 2.1605 - val_accuracy: 0.4958\n"
     ]
    }
   ],
   "source": [
    "es = EarlyStopping(monitor = 'val_loss', patience = 10)\n",
    "history = model.fit(X_train, Y_train, batch_size=32, epochs=100, verbose = 1, validation_split=0.2, callbacks = [es])"
   ]
  },
  {
   "cell_type": "code",
   "execution_count": 8,
   "metadata": {},
   "outputs": [
    {
     "name": "stdout",
     "output_type": "stream",
     "text": [
      "dict_keys(['loss', 'accuracy', 'val_loss', 'val_accuracy'])\n"
     ]
    },
    {
     "data": {
      "image/png": "[encoded data removed]",
      "text/plain": [
       "<Figure size 432x288 with 1 Axes>"
      ]
     },
     "metadata": {
      "needs_background": "light"
     },
     "output_type": "display_data"
    },
    {
     "data": {
      "image/png": "[encoded data removed]",
      "text/plain": [
       "<Figure size 432x288 with 1 Axes>"
      ]
     },
     "metadata": {
      "needs_background": "light"
     },
     "output_type": "display_data"
    }
   ],
   "source": [
    "\n",
    "import matplotlib.pyplot as plt\n",
    "# list all data in history\n",
    "print(history.history.keys())\n",
    "# summarize history for accuracy\n",
    "plt.plot(history.history['accuracy'])\n",
    "plt.plot(history.history['val_accuracy'])\n",
    "plt.title('model accuracy')\n",
    "plt.ylabel('accuracy')\n",
    "plt.xlabel('epoch')\n",
    "plt.legend(['train', 'test'], loc='upper left')\n",
    "plt.show()\n",
    "# summarize history for loss\n",
    "plt.plot(history.history['loss'])\n",
    "plt.plot(history.history['val_loss'])\n",
    "plt.title('model loss')\n",
    "plt.ylabel('loss')\n",
    "plt.xlabel('epoch')\n",
    "plt.legend(['train', 'test'], loc='upper left')\n",
    "plt.show()"
   ]
  },
  {
   "cell_type": "code",
   "execution_count": 9,
   "metadata": {},
   "outputs": [
    {
     "name": "stdout",
     "output_type": "stream",
     "text": [
      "19/19 [==============================] - 343s 18s/step - loss: 2.2430 - accuracy: 0.4900\n"
     ]
    }
   ],
   "source": [
    "score = model.evaluate(X_test, Y_test, batch_size = 32, verbose = 1)"
   ]
  },
  {
   "cell_type": "code",
   "execution_count": 11,
   "metadata": {},
   "outputs": [
    {
     "name": "stdout",
     "output_type": "stream",
     "text": [
      "0.49000000953674316 2.242950916290283\n"
     ]
    }
   ],
   "source": [
    "print(score[1] ,score[0]) "
   ]
  },
  {
   "cell_type": "code",
   "execution_count": 13,
   "metadata": {},
   "outputs": [],
   "source": [
    " model.save_weights('xceptiom_bilstm')"
   ]
  },
  {
   "cell_type": "code",
   "execution_count": null,
   "metadata": {},
   "outputs": [],
   "source": []
  }
 ],
 "metadata": {
  "kernelspec": {
   "display_name": "Joll",
   "language": "python",
   "name": "joll"
  },
  "language_info": {
   "codemirror_mode": {
    "name": "ipython",
    "version": 3
   },
   "file_extension": ".py",
   "mimetype": "text/x-python",
   "name": "python",
   "nbconvert_exporter": "python",
   "pygments_lexer": "ipython3",
   "version": "3.8.10"
  }
 },
 "nbformat": 4,
 "nbformat_minor": 4
}
