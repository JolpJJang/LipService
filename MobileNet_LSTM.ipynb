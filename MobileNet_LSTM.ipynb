{
  "nbformat": 4,
  "nbformat_minor": 0,
  "metadata": {
    "accelerator": "GPU",
    "colab": {
      "name": "MobileNetLSTM.ipynb",
      "provenance": [],
      "machine_shape": "hm",
      "authorship_tag": "ABX9TyMwfYSzOvQNm166QmcQOrn9"
    },
    "kernelspec": {
      "display_name": "Python 3",
      "name": "python3"
    },
    "language_info": {
      "name": "python"
    }
  },
  "cells": [
    {
      "cell_type": "code",
      "metadata": {
        "id": "16GDW75_KqcG"
      },
      "source": [
        "import numpy as np\n",
        "from sklearn.model_selection import train_test_split\n",
        "from keras.callbacks import EarlyStopping\n",
        "import tensorflow as tf\n",
        "from tensorflow import keras\n",
        "from tensorflow.keras import layers\n",
        "from keras.models import Sequential\n",
        "from keras import models, layers, activations\n",
        "from keras.layers import Conv2D, TimeDistributed, BatchNormalization, MaxPooling2D, Flatten, Bidirectional, Dense,Dropout,Flatten"
      ],
      "execution_count": null,
      "outputs": []
    },
    {
      "cell_type": "code",
      "metadata": {
        "colab": {
          "base_uri": "https://localhost:8080/"
        },
        "id": "E4dUbzT_KrJZ",
        "outputId": "de373730-9a73-4395-f4f1-a724e6f87d46"
      },
      "source": [
        "from google.colab import drive\n",
        "\n",
        "drive.mount('/content/gdrive')"
      ],
      "execution_count": null,
      "outputs": [
        {
          "output_type": "stream",
          "text": [
            "Drive already mounted at /content/gdrive; to attempt to forcibly remount, call drive.mount(\"/content/gdrive\", force_remount=True).\n"
          ],
          "name": "stdout"
        }
      ]
    },
    {
      "cell_type": "code",
      "metadata": {
        "colab": {
          "base_uri": "https://localhost:8080/"
        },
        "id": "5CoSZVaaKs7A",
        "outputId": "d9f3de18-be1b-4f88-a7e5-55d73df97d02"
      },
      "source": [
        "x_data = np.load('/content/gdrive/My Drive/jolp/face/face_x_data.npy') # x_save.npy\n",
        "y_data = np.load('/content/gdrive/My Drive/jolp/face/face_y_data.npy') # y_data.npy\n",
        "\n",
        "\n",
        "\n",
        "y_data = keras.utils.to_categorical(y_data, num_classes=None)\n",
        "#X_train, X_test, Y_train, Y_test = train_test_split(x_data, y_data, test_size = 0.2, shuffle = True, stratify=y_data)\n",
        "print(x_data.shape, y_data.shape)"
      ],
      "execution_count": null,
      "outputs": [
        {
          "output_type": "stream",
          "text": [
            "(3000, 27, 64, 64, 3) (3000, 11)\n"
          ],
          "name": "stdout"
        }
      ]
    },
    {
      "cell_type": "code",
      "metadata": {
        "colab": {
          "base_uri": "https://localhost:8080/"
        },
        "id": "ftDjQ4RwKzDs",
        "outputId": "bb0b3781-2021-4d55-c38a-f6a7daee48f0"
      },
      "source": [
        "# Train과 Test 분리\n",
        "X_train, X_test, Y_train, Y_test = train_test_split(x_data, y_data, test_size = 0.2, shuffle = True, stratify=y_data)\\\n",
        "#X_train, X_test, Y_train, Y_test = train_test_split(x_data, y_data, test_size = 0.2, shuffle = False)\n",
        "print(\"x_train: {}, X_test: {}\".format(X_train.shape, X_test.shape))\n",
        "print(\"Y_train: {}, Y_test: {}\".format(Y_train.shape, Y_test.shape))"
      ],
      "execution_count": null,
      "outputs": [
        {
          "output_type": "stream",
          "text": [
            "x_train: (2400, 27, 64, 64, 3), X_test: (600, 27, 64, 64, 3)\n",
            "Y_train: (2400, 11), Y_test: (600, 11)\n"
          ],
          "name": "stdout"
        }
      ]
    },
    {
      "cell_type": "code",
      "metadata": {
        "id": "VyeW-Rh-K3Tn"
      },
      "source": [
        "from tensorflow.keras.applications.mobilenet import MobileNet\n",
        "from tensorflow.keras.layers import Input\n",
        "\n",
        "\n",
        "# this could also be the output a different Keras model or layer\n",
        "#input_tensor = Input(shape=(224, 224, 3))\n",
        "\n",
        "#model = InceptionV3(input_tensor=input_tensor, weights='imagenet', include_top=True)\n",
        "\n",
        "class MobileNet_LSTM(keras.Model):\n",
        "    def __init__(self, num_classes):\n",
        "        super(MobileNet_LSTM, self).__init__()\n",
        "        #self.BZ = input_shape[0]\n",
        "        #self.frame = input_shape[1]\n",
        "\n",
        "        self.mobile = TimeDistributed(MobileNet(weights='imagenet', include_top=False))\n",
        "        #self.vgg.trainable = False\n",
        "\n",
        "        self.bilstm = layers.Bidirectional(layers.LSTM(256), merge_mode='concat')\n",
        "        self.dense = layers.Dense(num_classes, activation='softmax')\n",
        "        self.max = TimeDistributed(MaxPooling2D(pool_size=(2, 2)))\n",
        "        self.dropout = layers.Dropout(0.2)\n",
        "        self.flat= TimeDistributed(Flatten())\n",
        "\n",
        "    def call(self, x):\n",
        "        x = self.mobile(x)\n",
        "        x = self.max(x)\n",
        "        x = self.dropout(x)      \n",
        "        x = self.flat(x)\n",
        "        x = self.dropout(x)\n",
        "        x = self.bilstm(x)\n",
        "        return self.dense(x)"
      ],
      "execution_count": null,
      "outputs": []
    },
    {
      "cell_type": "code",
      "metadata": {
        "id": "YZzd4UlKK5CE"
      },
      "source": [
        "def get_model():\n",
        "    return MobileNet_LSTM(num_classes =11)"
      ],
      "execution_count": null,
      "outputs": []
    },
    {
      "cell_type": "code",
      "metadata": {
        "colab": {
          "base_uri": "https://localhost:8080/"
        },
        "id": "WcjU8VfsK5EV",
        "outputId": "f663f425-0fab-47b9-e1ce-f611a2cffeab"
      },
      "source": [
        "tf.config.experimental_run_functions_eagerly(True)"
      ],
      "execution_count": null,
      "outputs": [
        {
          "output_type": "stream",
          "text": [
            "WARNING:tensorflow:From <ipython-input-7-bdb3352f611a>:1: experimental_run_functions_eagerly (from tensorflow.python.eager.def_function) is deprecated and will be removed in a future version.\n",
            "Instructions for updating:\n",
            "Use `tf.config.run_functions_eagerly` instead of the experimental version.\n"
          ],
          "name": "stdout"
        }
      ]
    },
    {
      "cell_type": "code",
      "metadata": {
        "colab": {
          "base_uri": "https://localhost:8080/"
        },
        "id": "kgInUWt1K8MX",
        "outputId": "d0a71b0b-183f-4172-de9d-b0965423ad7d"
      },
      "source": [
        "\n",
        "model = get_model()\n",
        "model.compile(optimizer = 'adam', loss = 'categorical_crossentropy', metrics = ['accuracy'])"
      ],
      "execution_count": null,
      "outputs": [
        {
          "output_type": "stream",
          "text": [
            "WARNING:tensorflow:`input_shape` is undefined or non-square, or `rows` is not in [128, 160, 192, 224]. Weights for input shape (224, 224) will be loaded as the default.\n"
          ],
          "name": "stdout"
        }
      ]
    },
    {
      "cell_type": "code",
      "metadata": {
        "colab": {
          "base_uri": "https://localhost:8080/"
        },
        "id": "mxaZmL_FK8Qf",
        "outputId": "588e7ee7-db89-48c3-8cec-c8ec5cc623cc"
      },
      "source": [
        "es = EarlyStopping(monitor = 'val_loss', patience = 10)\n",
        "history = model.fit(X_train, Y_train, batch_size= 32, epochs= 100, verbose = 1, validation_split = 0.2, callbacks=[es])"
      ],
      "execution_count": null,
      "outputs": [
        {
          "output_type": "stream",
          "text": [
            "/usr/local/lib/python3.7/dist-packages/tensorflow/python/data/ops/dataset_ops.py:3504: UserWarning: Even though the tf.config.experimental_run_functions_eagerly option is set, this option does not apply to tf.data functions. tf.data functions are still traced and executed as graphs.\n",
            "  \"Even though the tf.config.experimental_run_functions_eagerly \"\n"
          ],
          "name": "stderr"
        },
        {
          "output_type": "stream",
          "text": [
            "Epoch 1/100\n",
            "60/60 [==============================] - 30s 226ms/step - loss: 2.4494 - accuracy: 0.0891 - val_loss: 2.3419 - val_accuracy: 0.0708\n",
            "Epoch 2/100\n",
            "60/60 [==============================] - 12s 207ms/step - loss: 2.2921 - accuracy: 0.1275 - val_loss: 2.3185 - val_accuracy: 0.1187\n",
            "Epoch 3/100\n",
            "60/60 [==============================] - 12s 208ms/step - loss: 2.2607 - accuracy: 0.1619 - val_loss: 2.3075 - val_accuracy: 0.1250\n",
            "Epoch 4/100\n",
            "60/60 [==============================] - 13s 209ms/step - loss: 2.1919 - accuracy: 0.1794 - val_loss: 2.3137 - val_accuracy: 0.1229\n",
            "Epoch 5/100\n",
            "60/60 [==============================] - 12s 206ms/step - loss: 2.1182 - accuracy: 0.2266 - val_loss: 2.2258 - val_accuracy: 0.1521\n",
            "Epoch 6/100\n",
            "60/60 [==============================] - 12s 209ms/step - loss: 2.0219 - accuracy: 0.2721 - val_loss: 2.4668 - val_accuracy: 0.1750\n",
            "Epoch 7/100\n",
            "60/60 [==============================] - 12s 206ms/step - loss: 1.9529 - accuracy: 0.2775 - val_loss: 2.5796 - val_accuracy: 0.1000\n",
            "Epoch 8/100\n",
            "60/60 [==============================] - 12s 208ms/step - loss: 1.8590 - accuracy: 0.3483 - val_loss: 2.3070 - val_accuracy: 0.1958\n",
            "Epoch 9/100\n",
            "60/60 [==============================] - 13s 209ms/step - loss: 1.6871 - accuracy: 0.4094 - val_loss: 3.0564 - val_accuracy: 0.1333\n",
            "Epoch 10/100\n",
            "60/60 [==============================] - 12s 206ms/step - loss: 1.4888 - accuracy: 0.5053 - val_loss: 2.6356 - val_accuracy: 0.1792\n",
            "Epoch 11/100\n",
            "60/60 [==============================] - 12s 208ms/step - loss: 1.4308 - accuracy: 0.5133 - val_loss: 2.2687 - val_accuracy: 0.2333\n",
            "Epoch 12/100\n",
            "60/60 [==============================] - 12s 207ms/step - loss: 1.1723 - accuracy: 0.6184 - val_loss: 2.7549 - val_accuracy: 0.2000\n",
            "Epoch 13/100\n",
            "60/60 [==============================] - 12s 208ms/step - loss: 1.0285 - accuracy: 0.6788 - val_loss: 2.2522 - val_accuracy: 0.2958\n",
            "Epoch 14/100\n",
            "60/60 [==============================] - 12s 206ms/step - loss: 0.9533 - accuracy: 0.7101 - val_loss: 2.8780 - val_accuracy: 0.2167\n",
            "Epoch 15/100\n",
            "60/60 [==============================] - 12s 209ms/step - loss: 0.8748 - accuracy: 0.7334 - val_loss: 2.2894 - val_accuracy: 0.3042\n"
          ],
          "name": "stdout"
        }
      ]
    },
    {
      "cell_type": "code",
      "metadata": {
        "colab": {
          "base_uri": "https://localhost:8080/"
        },
        "id": "z-hY8020LDrS",
        "outputId": "0397b7c3-fc4d-4304-98dc-7e100ff3479a"
      },
      "source": [
        "history.history"
      ],
      "execution_count": null,
      "outputs": [
        {
          "output_type": "execute_result",
          "data": {
            "text/plain": [
              "{'accuracy': [0.09375,\n",
              "  0.12083332985639572,\n",
              "  0.15052083134651184,\n",
              "  0.1770833283662796,\n",
              "  0.2083333283662796,\n",
              "  0.2645833194255829,\n",
              "  0.2874999940395355,\n",
              "  0.3505208194255829,\n",
              "  0.4026041626930237,\n",
              "  0.4661458432674408,\n",
              "  0.5182291865348816,\n",
              "  0.573437511920929,\n",
              "  0.640625,\n",
              "  0.6875,\n",
              "  0.7020833492279053],\n",
              " 'loss': [2.390050172805786,\n",
              "  2.3054513931274414,\n",
              "  2.2700226306915283,\n",
              "  2.2069694995880127,\n",
              "  2.152264356613159,\n",
              "  2.0157082080841064,\n",
              "  1.9452288150787354,\n",
              "  1.8532741069793701,\n",
              "  1.7030147314071655,\n",
              "  1.5469528436660767,\n",
              "  1.4371014833450317,\n",
              "  1.2581655979156494,\n",
              "  1.1025843620300293,\n",
              "  0.9785966277122498,\n",
              "  0.92221999168396],\n",
              " 'val_accuracy': [0.07083333283662796,\n",
              "  0.11874999850988388,\n",
              "  0.125,\n",
              "  0.12291666865348816,\n",
              "  0.15208333730697632,\n",
              "  0.17499999701976776,\n",
              "  0.10000000149011612,\n",
              "  0.19583334028720856,\n",
              "  0.13333334028720856,\n",
              "  0.17916665971279144,\n",
              "  0.23333333432674408,\n",
              "  0.20000000298023224,\n",
              "  0.2958333194255829,\n",
              "  0.21666666865348816,\n",
              "  0.30416667461395264],\n",
              " 'val_loss': [2.3419227600097656,\n",
              "  2.3184635639190674,\n",
              "  2.307522773742676,\n",
              "  2.313732147216797,\n",
              "  2.2258269786834717,\n",
              "  2.466785430908203,\n",
              "  2.5796444416046143,\n",
              "  2.3069965839385986,\n",
              "  3.056405544281006,\n",
              "  2.6355557441711426,\n",
              "  2.268681764602661,\n",
              "  2.754866123199463,\n",
              "  2.2522494792938232,\n",
              "  2.878035545349121,\n",
              "  2.289443254470825]}"
            ]
          },
          "metadata": {
            "tags": []
          },
          "execution_count": 12
        }
      ]
    },
    {
      "cell_type": "code",
      "metadata": {
        "colab": {
          "base_uri": "https://localhost:8080/",
          "height": 590
        },
        "id": "rIVkh1U-LGd3",
        "outputId": "5ab5f775-1e65-48e4-bb8f-e5ba8f7aca6b"
      },
      "source": [
        "import matplotlib.pyplot as plt\n",
        "# list all data in history\n",
        "print(history.history.keys())\n",
        "# summarize history for accuracy\n",
        "plt.plot(history.history['accuracy'])\n",
        "plt.plot(history.history['val_accuracy'])\n",
        "plt.title('model accuracy')\n",
        "plt.ylabel('accuracy')\n",
        "plt.xlabel('epoch')\n",
        "plt.legend(['train', 'test'], loc='upper left')\n",
        "plt.show()\n",
        "# summarize history for loss\n",
        "plt.plot(history.history['loss'])\n",
        "plt.plot(history.history['val_loss'])\n",
        "plt.title('model loss')\n",
        "plt.ylabel('loss')\n",
        "plt.xlabel('epoch')\n",
        "plt.legend(['train', 'test'], loc='upper left')\n",
        "plt.show()"
      ],
      "execution_count": null,
      "outputs": [
        {
          "output_type": "stream",
          "text": [
            "dict_keys(['loss', 'accuracy', 'val_loss', 'val_accuracy'])\n"
          ],
          "name": "stdout"
        },
        {
          "output_type": "display_data",
          "data": {
            "image/png": "[encoded data removed]",
            "text/plain": [
              "<Figure size 432x288 with 1 Axes>"
            ]
          },
          "metadata": {
            "tags": [],
            "needs_background": "light"
          }
        },
        {
          "output_type": "display_data",
          "data": {
            "image/png": "[encoded data removed]",
            "text/plain": [
              "<Figure size 432x288 with 1 Axes>"
            ]
          },
          "metadata": {
            "tags": [],
            "needs_background": "light"
          }
        }
      ]
    },
    {
      "cell_type": "code",
      "metadata": {
        "id": "KAGquR3OLmm3",
        "colab": {
          "base_uri": "https://localhost:8080/"
        },
        "outputId": "de796c71-ab3d-41c8-f1ab-486af246969d"
      },
      "source": [
        "score = model.evaluate(X_test, Y_test, batch_size = 32, verbose = 1)\n",
        "print(\"acc:\", score[1], \"loss:\", score[0])"
      ],
      "execution_count": null,
      "outputs": [
        {
          "output_type": "stream",
          "text": [
            "\r 1/19 [>.............................] - ETA: 2s - loss: 2.1825 - accuracy: 0.2500"
          ],
          "name": "stdout"
        },
        {
          "output_type": "stream",
          "text": [
            "/usr/local/lib/python3.7/dist-packages/tensorflow/python/data/ops/dataset_ops.py:3504: UserWarning: Even though the tf.config.experimental_run_functions_eagerly option is set, this option does not apply to tf.data functions. tf.data functions are still traced and executed as graphs.\n",
            "  \"Even though the tf.config.experimental_run_functions_eagerly \"\n"
          ],
          "name": "stderr"
        },
        {
          "output_type": "stream",
          "text": [
            "19/19 [==============================] - 2s 89ms/step - loss: 2.3615 - accuracy: 0.2883\n",
            "acc: 0.28833332657814026 loss: 2.3615081310272217\n"
          ],
          "name": "stdout"
        }
      ]
    },
    {
      "cell_type": "code",
      "metadata": {
        "id": "66GoTxGW5Gtm"
      },
      "source": [
        "model.save_weights('mobilenet_lstm.h5')"
      ],
      "execution_count": null,
      "outputs": []
    },
    {
      "cell_type": "code",
      "metadata": {
        "id": "dfGVVeJ15UCN"
      },
      "source": [
        ""
      ],
      "execution_count": null,
      "outputs": []
    }
  ]
}