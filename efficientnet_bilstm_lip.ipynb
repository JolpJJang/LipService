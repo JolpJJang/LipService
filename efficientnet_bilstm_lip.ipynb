{
 "cells": [
  {
   "cell_type": "code",
   "execution_count": 1,
   "metadata": {},
   "outputs": [],
   "source": [
    "import numpy as np\n",
    "from sklearn.model_selection import train_test_split\n",
    "\n",
    "import tensorflow as tf\n",
    "from tensorflow import keras\n",
    "from tensorflow.keras import layers\n",
    "from keras.models import Sequential\n",
    "from keras import models, layers, activations\n",
    "from keras.layers import Conv2D, TimeDistributed, BatchNormalization, MaxPooling2D, Flatten, Bidirectional, Dense, Dropout, Embedding\n",
    "from keras.callbacks import EarlyStopping"
   ]
  },
  {
   "cell_type": "code",
   "execution_count": 2,
   "metadata": {},
   "outputs": [
    {
     "name": "stdout",
     "output_type": "stream",
     "text": [
      "(3000, 27, 64, 64, 3) (3000, 11)\n"
     ]
    }
   ],
   "source": [
    "x_data = np.load('lip/lip_x_data.npy') # x_save.npy\n",
    "y_data = np.load('lip/lip_y_data.npy') # y_data.npy\n",
    "y_data = keras.utils.to_categorical(y_data,11)\n",
    "print(x_data.shape, y_data.shape)"
   ]
  },
  {
   "cell_type": "code",
   "execution_count": 3,
   "metadata": {},
   "outputs": [
    {
     "name": "stdout",
     "output_type": "stream",
     "text": [
      "X_train: (2400, 27, 64, 64, 3), X_test: (600, 27, 64, 64, 3)\n",
      "Y_train: (2400, 11), Y_test: (600, 11)\n"
     ]
    }
   ],
   "source": [
    "# Train과 Test 분리\n",
    "X_train, X_test, Y_train, Y_test = train_test_split(x_data, y_data, test_size = 0.2, shuffle = True, stratify=y_data)\n",
    "#X_train = X_train / 255\n",
    "print(\"X_train: {}, X_test: {}\".format(X_train.shape, X_test.shape))\n",
    "print(\"Y_train: {}, Y_test: {}\".format(Y_train.shape, Y_test.shape))"
   ]
  },
  {
   "cell_type": "code",
   "execution_count": 4,
   "metadata": {},
   "outputs": [],
   "source": [
    "import efficientnet.keras as efn\n",
    "\n",
    "class EfficientNet_LSTM(keras.Model):\n",
    "    def __init__(self, num_classes):\n",
    "        super(EfficientNet_LSTM, self).__init__()\n",
    "        #self.BZ = input_shape[0]\n",
    "        #self.frame = input_shape[1]\n",
    "        self.EFNB0 = TimeDistributed(efn.EfficientNetB0(weights='imagenet', include_top=False,\n",
    "                                               pooling='max'))\n",
    "        self.EFNB0.trainable = False\n",
    "        self.bilstm = layers.Bidirectional(layers.LSTM(128), merge_mode='concat')\n",
    "        self.dense2 = layers.Dense(128, activation='relu')\n",
    "        self.dense = layers.Dense(num_classes, activation='softmax')\n",
    "        self.max_pool = TimeDistributed(MaxPooling2D(pool_size=(2, 2)))\n",
    "        self.dropout2 = layers.Dropout(0.2)\n",
    "        self.dropout3 = layers.Dropout(0.3)\n",
    "        self.flat = TimeDistributed(Flatten())\n",
    "\n",
    "    def call(self, x):\n",
    "        x = self.EFNB0(x)\n",
    "        x = self.flat(x)\n",
    "        x = self.dropout2(x)\n",
    "        x = self.bilstm(x)\n",
    "        #x = self.dense2(x)\n",
    "        x = self.dropout2(x)\n",
    "        return self.dense(x)"
   ]
  },
  {
   "cell_type": "code",
   "execution_count": 5,
   "metadata": {},
   "outputs": [],
   "source": [
    "def get_model_vgg():\n",
    "    return EfficientNet_LSTM(num_classes = 11)"
   ]
  },
  {
   "cell_type": "code",
   "execution_count": 6,
   "metadata": {},
   "outputs": [],
   "source": [
    "model = get_model_vgg()\n",
    "model.compile(optimizer = 'adam', loss = 'categorical_crossentropy', metrics = ['accuracy'])"
   ]
  },
  {
   "cell_type": "code",
   "execution_count": 7,
   "metadata": {},
   "outputs": [
    {
     "name": "stdout",
     "output_type": "stream",
     "text": [
      "Epoch 1/100\n",
      "60/60 [==============================] - 383s 6s/step - loss: 2.4132 - accuracy: 0.1138 - val_loss: 2.3313 - val_accuracy: 0.0979\n",
      "Epoch 2/100\n",
      "60/60 [==============================] - 306s 5s/step - loss: 2.2796 - accuracy: 0.1511 - val_loss: 2.2721 - val_accuracy: 0.1354\n",
      "Epoch 3/100\n",
      "60/60 [==============================] - 303s 5s/step - loss: 2.2058 - accuracy: 0.1966 - val_loss: 2.1983 - val_accuracy: 0.1667\n",
      "Epoch 4/100\n",
      "60/60 [==============================] - 303s 5s/step - loss: 2.1338 - accuracy: 0.2081 - val_loss: 2.1254 - val_accuracy: 0.2354\n",
      "Epoch 5/100\n",
      "60/60 [==============================] - 302s 5s/step - loss: 1.9415 - accuracy: 0.2936 - val_loss: 2.0185 - val_accuracy: 0.2438\n",
      "Epoch 6/100\n",
      "60/60 [==============================] - 305s 5s/step - loss: 1.8534 - accuracy: 0.3385 - val_loss: 1.9564 - val_accuracy: 0.3021\n",
      "Epoch 7/100\n",
      "60/60 [==============================] - 305s 5s/step - loss: 1.7741 - accuracy: 0.3808 - val_loss: 1.9267 - val_accuracy: 0.2979\n",
      "Epoch 8/100\n",
      "60/60 [==============================] - 309s 5s/step - loss: 1.7043 - accuracy: 0.4015 - val_loss: 1.8443 - val_accuracy: 0.3500\n",
      "Epoch 9/100\n",
      "60/60 [==============================] - 303s 5s/step - loss: 1.6010 - accuracy: 0.4269 - val_loss: 1.7882 - val_accuracy: 0.3771\n",
      "Epoch 10/100\n",
      "60/60 [==============================] - 301s 5s/step - loss: 1.4617 - accuracy: 0.4931 - val_loss: 1.6371 - val_accuracy: 0.4208\n",
      "Epoch 11/100\n",
      "60/60 [==============================] - 305s 5s/step - loss: 1.4134 - accuracy: 0.5175 - val_loss: 1.5965 - val_accuracy: 0.4396\n",
      "Epoch 12/100\n",
      "60/60 [==============================] - 303s 5s/step - loss: 1.3907 - accuracy: 0.5229 - val_loss: 1.4942 - val_accuracy: 0.5125\n",
      "Epoch 13/100\n",
      "60/60 [==============================] - 304s 5s/step - loss: 1.1634 - accuracy: 0.5997 - val_loss: 1.4746 - val_accuracy: 0.4667\n",
      "Epoch 14/100\n",
      "60/60 [==============================] - 302s 5s/step - loss: 1.1287 - accuracy: 0.6184 - val_loss: 1.4257 - val_accuracy: 0.5063\n",
      "Epoch 15/100\n",
      "60/60 [==============================] - 304s 5s/step - loss: 1.0974 - accuracy: 0.6307 - val_loss: 1.4279 - val_accuracy: 0.5104\n",
      "Epoch 16/100\n",
      "60/60 [==============================] - 303s 5s/step - loss: 1.0081 - accuracy: 0.6636 - val_loss: 1.4988 - val_accuracy: 0.4479\n",
      "Epoch 17/100\n",
      "60/60 [==============================] - 303s 5s/step - loss: 0.9607 - accuracy: 0.6671 - val_loss: 1.3016 - val_accuracy: 0.5437\n",
      "Epoch 18/100\n",
      "60/60 [==============================] - 304s 5s/step - loss: 0.8583 - accuracy: 0.7122 - val_loss: 1.2766 - val_accuracy: 0.5708\n",
      "Epoch 19/100\n",
      "60/60 [==============================] - 304s 5s/step - loss: 0.7839 - accuracy: 0.7346 - val_loss: 1.2919 - val_accuracy: 0.5604\n",
      "Epoch 20/100\n",
      "60/60 [==============================] - 304s 5s/step - loss: 0.7707 - accuracy: 0.7317 - val_loss: 1.2736 - val_accuracy: 0.5833\n",
      "Epoch 21/100\n",
      "60/60 [==============================] - 304s 5s/step - loss: 0.7286 - accuracy: 0.7618 - val_loss: 1.1503 - val_accuracy: 0.6208\n",
      "Epoch 22/100\n",
      "60/60 [==============================] - 305s 5s/step - loss: 0.6629 - accuracy: 0.7825 - val_loss: 1.2187 - val_accuracy: 0.5917\n",
      "Epoch 23/100\n",
      "60/60 [==============================] - 303s 5s/step - loss: 0.5921 - accuracy: 0.8099 - val_loss: 1.1231 - val_accuracy: 0.6083\n",
      "Epoch 24/100\n",
      "60/60 [==============================] - 303s 5s/step - loss: 0.6054 - accuracy: 0.7917 - val_loss: 1.2132 - val_accuracy: 0.5958\n",
      "Epoch 25/100\n",
      "60/60 [==============================] - 303s 5s/step - loss: 0.5772 - accuracy: 0.8106 - val_loss: 1.2075 - val_accuracy: 0.5979\n",
      "Epoch 26/100\n",
      "60/60 [==============================] - 307s 5s/step - loss: 0.4989 - accuracy: 0.8385 - val_loss: 1.1434 - val_accuracy: 0.6146\n",
      "Epoch 27/100\n",
      "60/60 [==============================] - 304s 5s/step - loss: 0.5465 - accuracy: 0.8082 - val_loss: 1.1283 - val_accuracy: 0.6375\n",
      "Epoch 28/100\n",
      "60/60 [==============================] - 304s 5s/step - loss: 0.4376 - accuracy: 0.8544 - val_loss: 1.1288 - val_accuracy: 0.6146\n",
      "Epoch 29/100\n",
      "60/60 [==============================] - 301s 5s/step - loss: 0.3963 - accuracy: 0.8690 - val_loss: 1.0559 - val_accuracy: 0.6646\n",
      "Epoch 30/100\n",
      "60/60 [==============================] - 304s 5s/step - loss: 0.4116 - accuracy: 0.8632 - val_loss: 1.0572 - val_accuracy: 0.6625\n",
      "Epoch 31/100\n",
      "60/60 [==============================] - 304s 5s/step - loss: 0.3912 - accuracy: 0.8777 - val_loss: 1.0464 - val_accuracy: 0.6458\n",
      "Epoch 32/100\n",
      "60/60 [==============================] - 304s 5s/step - loss: 0.3651 - accuracy: 0.8882 - val_loss: 1.1210 - val_accuracy: 0.6438\n",
      "Epoch 33/100\n",
      "60/60 [==============================] - 303s 5s/step - loss: 0.3606 - accuracy: 0.8899 - val_loss: 1.1090 - val_accuracy: 0.6500\n",
      "Epoch 34/100\n",
      "60/60 [==============================] - 303s 5s/step - loss: 0.3066 - accuracy: 0.9079 - val_loss: 1.0947 - val_accuracy: 0.6521\n",
      "Epoch 35/100\n",
      "60/60 [==============================] - 301s 5s/step - loss: 0.2873 - accuracy: 0.9153 - val_loss: 1.1283 - val_accuracy: 0.6229\n",
      "Epoch 36/100\n",
      "60/60 [==============================] - 304s 5s/step - loss: 0.3028 - accuracy: 0.9072 - val_loss: 1.2013 - val_accuracy: 0.6271\n",
      "Epoch 37/100\n",
      "60/60 [==============================] - 301s 5s/step - loss: 0.2711 - accuracy: 0.9208 - val_loss: 1.1236 - val_accuracy: 0.6708\n",
      "Epoch 38/100\n",
      "60/60 [==============================] - 303s 5s/step - loss: 0.2793 - accuracy: 0.9138 - val_loss: 1.2147 - val_accuracy: 0.6333\n",
      "Epoch 39/100\n",
      "60/60 [==============================] - 304s 5s/step - loss: 0.3139 - accuracy: 0.8994 - val_loss: 1.1515 - val_accuracy: 0.6438\n",
      "Epoch 40/100\n",
      "60/60 [==============================] - 304s 5s/step - loss: 0.2910 - accuracy: 0.9017 - val_loss: 1.1226 - val_accuracy: 0.6750\n",
      "Epoch 41/100\n",
      "60/60 [==============================] - 307s 5s/step - loss: 0.2525 - accuracy: 0.9174 - val_loss: 1.0956 - val_accuracy: 0.6625\n"
     ]
    }
   ],
   "source": [
    "es = EarlyStopping(monitor = 'val_loss', patience = 10)\n",
    "history = model.fit(X_train, Y_train, batch_size=32, epochs=100, verbose = 1, validation_split=0.2, callbacks = [es])"
   ]
  },
  {
   "cell_type": "code",
   "execution_count": 8,
   "metadata": {},
   "outputs": [
    {
     "name": "stdout",
     "output_type": "stream",
     "text": [
      "dict_keys(['loss', 'accuracy', 'val_loss', 'val_accuracy'])\n"
     ]
    },
    {
     "data": {
      "image/png": "[encoded data removed]",
      "text/plain": [
       "<Figure size 432x288 with 1 Axes>"
      ]
     },
     "metadata": {
      "needs_background": "light"
     },
     "output_type": "display_data"
    },
    {
     "data": {
      "image/png": "[encoded data removed]",
      "text/plain": [
       "<Figure size 432x288 with 1 Axes>"
      ]
     },
     "metadata": {
      "needs_background": "light"
     },
     "output_type": "display_data"
    }
   ],
   "source": [
    "import matplotlib.pyplot as plt\n",
    "# list all data in history\n",
    "print(history.history.keys())\n",
    "# summarize history for accuracy\n",
    "plt.plot(history.history['accuracy'])\n",
    "plt.plot(history.history['val_accuracy'])\n",
    "plt.title('model accuracy')\n",
    "plt.ylabel('accuracy')\n",
    "plt.xlabel('epoch')\n",
    "plt.legend(['train', 'test'], loc='upper left')\n",
    "plt.show()\n",
    "# summarize history for loss\n",
    "plt.plot(history.history['loss'])\n",
    "plt.plot(history.history['val_loss'])\n",
    "plt.title('model loss')\n",
    "plt.ylabel('loss')\n",
    "plt.xlabel('epoch')\n",
    "plt.legend(['train', 'test'], loc='upper left')\n",
    "plt.show()"
   ]
  },
  {
   "cell_type": "code",
   "execution_count": 9,
   "metadata": {},
   "outputs": [
    {
     "name": "stdout",
     "output_type": "stream",
     "text": [
      "19/19 [==============================] - 99s 4s/step - loss: 1.0144 - accuracy: 0.6783\n",
      "acc: 0.6783333420753479 loss: 1.01444411277771\n"
     ]
    }
   ],
   "source": [
    "score = model.evaluate(X_test, Y_test, batch_size = 32, verbose = 1)\n",
    "print(\"acc:\", score[1], \"loss:\", score[0]) "
   ]
  },
  {
   "cell_type": "code",
   "execution_count": 10,
   "metadata": {},
   "outputs": [],
   "source": [
    "from tensorflow.python.keras.models import load_model\n",
    "model.save_weights('efficientnet_lstm_lip_model.h5')"
   ]
  },
  {
   "cell_type": "code",
   "execution_count": null,
   "metadata": {},
   "outputs": [],
   "source": []
  }
 ],
 "metadata": {
  "kernelspec": {
   "display_name": "Python 3",
   "language": "python",
   "name": "python3"
  },
  "language_info": {
   "codemirror_mode": {
    "name": "ipython",
    "version": 3
   },
   "file_extension": ".py",
   "mimetype": "text/x-python",
   "name": "python",
   "nbconvert_exporter": "python",
   "pygments_lexer": "ipython3",
   "version": "3.8.5"
  }
 },
 "nbformat": 4,
 "nbformat_minor": 4
}
