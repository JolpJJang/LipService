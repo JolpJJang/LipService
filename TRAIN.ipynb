{
 "cells": [
  {
   "cell_type": "markdown",
   "metadata": {},
   "source": [
    "기존 Dataset 코드에서\n",
    "\n",
    "```python\n",
    "np.save('D:/git/LipService/x_save', x_data) # x_save.npy\n",
    "np.save('D:/git/LipService/y_data', y_data) # y_data.npy\n",
    "```"
   ]
  },
  {
   "cell_type": "code",
   "execution_count": 1,
   "metadata": {},
   "outputs": [],
   "source": [
    "import keras\n",
    "from keras import models, layers, activations\n",
    "import tensorflow as tf\n",
    "import numpy as np"
   ]
  },
  {
   "cell_type": "code",
   "execution_count": 4,
   "metadata": {},
   "outputs": [
    {
     "data": {
      "text/plain": [
       "(300, 16)"
      ]
     },
     "execution_count": 4,
     "metadata": {},
     "output_type": "execute_result"
    }
   ],
   "source": [
    "x_data = np.load('D:/git/LipService/x_save.npy') # x_save.npy\n",
    "y_data = np.load('D:/git/LipService/y_data.npy') # y_data.npy\n",
    "y_data = keras.utils.to_categorical(y_data,16)\n",
    "print(x_data.shape, y_data.shape)"
   ]
  },
  {
   "cell_type": "code",
   "execution_count": 5,
   "metadata": {},
   "outputs": [],
   "source": [
    "class CNN_LSTM(keras.Model):\n",
    "    def __init__(self, input_shape, num_classes):\n",
    "        super(CNN_LSTM, self).__init__()\n",
    "        self.BZ = input_shape[0]\n",
    "        self.frame = input_shape[1]\n",
    "        \n",
    "        self.conv1 = layers.Conv2D(32, kernel_size=(5,5), activation= 'relu', input_shape = input_shape)\n",
    "        self.conv2 = layers.Conv2D(64, kernel_size=(5,5), activation= 'relu')\n",
    "        self.conv3 = layers.Conv2D(128, kernel_size=(5,5), activation= 'relu')\n",
    "        self.lstm = layers.LSTM(256, return_sequences = False)\n",
    "        #self.lstm2 = layers.LSTM(128, return_sequences = True)\n",
    "        #self.lstm3= layers.LSTM(256, return_sequences = False)\n",
    "        self.dense = layers.Dense(16, activation = 'softmax')\n",
    "        \n",
    "        #self.compile(loss = keras.losses.categorical_crossentropy, optimizer = 'adam', metircs = ['accuracy'])\n",
    "        \n",
    "    def call(self, x):\n",
    "        x = self.conv1(x) # (32, 20, 60, 60, 32)\n",
    "        x = self.conv2(x) #  (32, 20, 56, 56, 64)\n",
    "        x = self.conv3(x) # (32, 20, 52, 52, 128)\n",
    "        x = tf.reshape(x,(self.BZ, self.frame, -1)) #(32, 20, 346112)\n",
    "        x = self.lstm(x)  # (32, 256)\n",
    "        x = self.dense(x) # (32, 16)\n",
    "#         label = []\n",
    "#         for i  in range(len(x)):\n",
    "#             label.append(np.argmax(x[i]))\n",
    "#         #print(label)\n",
    "        return x"
   ]
  },
  {
   "cell_type": "markdown",
   "metadata": {},
   "source": [
    "#### models.py 내 모델 가지고 오기"
   ]
  },
  {
   "cell_type": "code",
   "execution_count": 1,
   "metadata": {},
   "outputs": [],
   "source": [
    "from models import CNN_LSTM\n",
    "from models import deep_CNN_LSTM\n",
    "from models import VGG_LSTM\n",
    "from models import VGG_LSTM_fine"
   ]
  },
  {
   "cell_type": "code",
   "execution_count": 6,
   "metadata": {},
   "outputs": [],
   "source": [
    "# parameter 설정\n",
    "BZ = 32\n",
    "frame_size = 20\n",
    "input_shape = (BZ, frame_size, 64, 64, 3)\n",
    "num_classes = 16"
   ]
  },
  {
   "cell_type": "code",
   "execution_count": 7,
   "metadata": {},
   "outputs": [],
   "source": [
    "model = CNN_LSTM(input_shape, num_classes)"
   ]
  },
  {
   "cell_type": "code",
   "execution_count": 8,
   "metadata": {},
   "outputs": [],
   "source": [
    "model.compile(optimizer = 'adam', loss = 'categorical_crossentropy', metrics = ['accuracy'])"
   ]
  },
  {
   "cell_type": "code",
   "execution_count": null,
   "metadata": {},
   "outputs": [
    {
     "name": "stdout",
     "output_type": "stream",
     "text": [
      "Epoch 1/3\n",
      "1/1 [==============================] - 81s 81s/step - loss: 2.7700 - accuracy: 0.0000e+00\n",
      "Epoch 2/3\n"
     ]
    }
   ],
   "source": [
    "x_data = tf.Variable(x_data)\n",
    "y_data = tf.Variable(y_data)\n",
    "model.fit(x_data[:32], y_data[:32], epochs= 3)"
   ]
  },
  {
   "cell_type": "code",
   "execution_count": null,
   "metadata": {},
   "outputs": [],
   "source": []
  }
 ],
 "metadata": {
  "kernelspec": {
   "display_name": "JolpJJang",
   "language": "python",
   "name": "jolpjjang"
  },
  "language_info": {
   "codemirror_mode": {
    "name": "ipython",
    "version": 3
   },
   "file_extension": ".py",
   "mimetype": "text/x-python",
   "name": "python",
   "nbconvert_exporter": "python",
   "pygments_lexer": "ipython3",
   "version": "3.8.8"
  }
 },
 "nbformat": 4,
 "nbformat_minor": 4
}
