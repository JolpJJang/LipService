{
 "cells": [
  {
   "cell_type": "markdown",
   "metadata": {},
   "source": [
    "기존 Dataset 코드에서\n",
    "\n",
    "```python\n",
    "np.save('D:/git/LipService/x_save', x_data) # x_save.npy\n",
    "np.save('D:/git/LipService/y_data', y_data) # y_data.npy\n",
    "```"
   ]
  },
  {
   "cell_type": "code",
   "execution_count": 1,
   "metadata": {},
   "outputs": [],
   "source": [
    "import numpy as np\n",
    "from sklearn.model_selection import train_test_split\n",
    "\n",
    "import tensorflow as tf\n",
    "from tensorflow import keras\n",
    "from tensorflow.keras import layers\n",
    "from keras.models import Sequential\n",
    "from keras import models, layers, activations\n",
    "from keras.layers import Conv2D, TimeDistributed, BatchNormalization, MaxPooling2D, Flatten, Bidirectional, Dense,Dropout,Flatten"
   ]
  },
  {
   "cell_type": "code",
   "execution_count": 2,
   "metadata": {},
   "outputs": [
    {
     "name": "stdout",
     "output_type": "stream",
     "text": [
      "(300, 20, 64, 64, 3) (300, 16)\n"
     ]
    }
   ],
   "source": [
    "x_data = np.load('D:/git/LipService/x_save.npy') # x_save.npy\n",
    "y_data = np.load('D:/git/LipService/y_data.npy') # y_data.npy\n",
    "y_data = keras.utils.to_categorical(y_data,16)\n",
    "print(x_data.shape, y_data.shape)"
   ]
  },
  {
   "cell_type": "code",
   "execution_count": 3,
   "metadata": {},
   "outputs": [
    {
     "name": "stdout",
     "output_type": "stream",
     "text": [
      "x_train: (240, 20, 64, 64, 3), X_test: (60, 20, 64, 64, 3)\n",
      "Y_train: (240, 16), Y_test: (60, 16)\n"
     ]
    }
   ],
   "source": [
    "# Train과 Test 분리\n",
    "X_train, X_test, Y_train, Y_test = train_test_split(x_data, y_data, test_size = 0.2, shuffle = True, stratify=y_data)\n",
    "print(\"x_train: {}, X_test: {}\".format(X_train.shape, X_test.shape))\n",
    "print(\"Y_train: {}, Y_test: {}\".format(Y_train.shape, Y_test.shape))"
   ]
  },
  {
   "cell_type": "code",
   "execution_count": 4,
   "metadata": {},
   "outputs": [],
   "source": [
    "class deep_CNN_LSTM(keras.Model):\n",
    "    def __init__(self, num_classes):\n",
    "        super(deep_CNN_LSTM, self).__init__()\n",
    "        self.conv1 = TimeDistributed(Conv2D(32, kernel_size=(5,5), activation = 'relu'))\n",
    "        self.conv2 = TimeDistributed(Conv2D(32, kernel_size=(5,5), activation = 'relu'))\n",
    "        self.conv3 = TimeDistributed(Conv2D(128, kernel_size=(5,5), activation = 'relu'))\n",
    "        \n",
    "        self.bilstm = layers.Bidirectional(layers.LSTM(256), merge_mode = 'concat')\n",
    "        self.dense = layers.Dense(num_classes, activation = 'softmax')\n",
    "        self.max_pool= TimeDistributed(MaxPooling2D(pool_size= (2,2)))\n",
    "        self.dropout = layers.Dropout(0.2)\n",
    "        self.flat= TimeDistributed(Flatten())\n",
    "        \n",
    "    def call(self, x):\n",
    "        #x = self.dropout(BatchNormalization()(self.conv1(x)))\n",
    "        #x = self.dropout(BatchNormalization()(self.conv2(x)))\n",
    "        #x = self.dropout(BatchNormalization()(self.conv3(x)))\n",
    "        \n",
    "        x = self.max_pool(self.dropout(BatchNormalization()(self.conv1(x))))\n",
    "        #x = self.max_pool(self.dropout(BatchNormalization()(self.conv2(x))))\n",
    "        #x = self.max_pool(self.dropout(BatchNormalization()(self.conv3(x))))\n",
    "        x = self.flat(x)\n",
    "        x = self.bilstm(x)\n",
    "        return self.dense(x)"
   ]
  },
  {
   "cell_type": "code",
   "execution_count": 5,
   "metadata": {},
   "outputs": [],
   "source": [
    "def get_model():\n",
    "    return deep_CNN_LSTM(num_classes = 16)\n",
    "#def get_model():\n",
    "#    return VGG_LSTM(num_classes = 16)"
   ]
  },
  {
   "cell_type": "code",
   "execution_count": 6,
   "metadata": {},
   "outputs": [
    {
     "name": "stdout",
     "output_type": "stream",
     "text": [
      "WARNING:tensorflow:From <ipython-input-6-bdb3352f611a>:1: experimental_run_functions_eagerly (from tensorflow.python.eager.def_function) is deprecated and will be removed in a future version.\n",
      "Instructions for updating:\n",
      "Use `tf.config.run_functions_eagerly` instead of the experimental version.\n"
     ]
    }
   ],
   "source": [
    "tf.config.experimental_run_functions_eagerly(True)"
   ]
  },
  {
   "cell_type": "code",
   "execution_count": 7,
   "metadata": {},
   "outputs": [
    {
     "name": "stderr",
     "output_type": "stream",
     "text": [
      "C:\\Users\\hwj43\\anaconda3\\envs\\JolpJJang\\lib\\site-packages\\tensorflow\\python\\data\\ops\\dataset_ops.py:3503: UserWarning: Even though the tf.config.experimental_run_functions_eagerly option is set, this option does not apply to tf.data functions. tf.data functions are still traced and executed as graphs.\n",
      "  warnings.warn(\n"
     ]
    },
    {
     "name": "stdout",
     "output_type": "stream",
     "text": [
      "Epoch 1/5\n",
      "15/15 [==============================] - 72s 5s/step - loss: 1.7533 - accuracy: 0.3176 - val_loss: 1.9224 - val_accuracy: 0.3333\n",
      "Epoch 2/5\n",
      "15/15 [==============================] - 75s 5s/step - loss: 1.0866 - accuracy: 0.3218 - val_loss: 2.1213 - val_accuracy: 0.3333\n",
      "Epoch 3/5\n",
      "15/15 [==============================] - 74s 5s/step - loss: 1.0358 - accuracy: 0.4078 - val_loss: 2.1357 - val_accuracy: 0.3333\n",
      "Epoch 4/5\n",
      "15/15 [==============================] - 73s 5s/step - loss: 1.0062 - accuracy: 0.4484 - val_loss: 2.2804 - val_accuracy: 0.3333\n",
      "Epoch 5/5\n",
      "15/15 [==============================] - 73s 5s/step - loss: 0.9926 - accuracy: 0.4930 - val_loss: 2.1756 - val_accuracy: 0.3333\n"
     ]
    }
   ],
   "source": [
    "model = get_model()\n",
    "model.compile(optimizer = 'adam', loss = 'categorical_crossentropy', metrics = ['accuracy'])\n",
    "history = model.fit(X_train, Y_train, batch_size=16, epochs=5, verbose = 1, validation_data = (X_test, Y_test))\n",
    "#model.summary()"
   ]
  },
  {
   "cell_type": "code",
   "execution_count": 8,
   "metadata": {},
   "outputs": [
    {
     "data": {
      "text/plain": [
       "{'loss': [1.3797569274902344,\n",
       "  1.0851168632507324,\n",
       "  1.0621267557144165,\n",
       "  1.0314115285873413,\n",
       "  0.9942508339881897],\n",
       " 'accuracy': [0.3541666567325592,\n",
       "  0.34166666865348816,\n",
       "  0.38333332538604736,\n",
       "  0.4166666567325592,\n",
       "  0.49166667461395264],\n",
       " 'val_loss': [1.9223592281341553,\n",
       "  2.121258497238159,\n",
       "  2.13565993309021,\n",
       "  2.2804179191589355,\n",
       "  2.175640344619751],\n",
       " 'val_accuracy': [0.3333333432674408,\n",
       "  0.3333333432674408,\n",
       "  0.3333333432674408,\n",
       "  0.3333333432674408,\n",
       "  0.3333333432674408]}"
      ]
     },
     "execution_count": 8,
     "metadata": {},
     "output_type": "execute_result"
    }
   ],
   "source": [
    "history.history"
   ]
  },
  {
   "cell_type": "code",
   "execution_count": 11,
   "metadata": {},
   "outputs": [
    {
     "name": "stdout",
     "output_type": "stream",
     "text": [
      "dict_keys(['loss', 'accuracy', 'val_loss', 'val_accuracy'])\n"
     ]
    },
    {
     "data": {
      "image/png": "[encoded data removed]",
      "text/plain": [
       "<Figure size 432x288 with 1 Axes>"
      ]
     },
     "metadata": {
      "needs_background": "light"
     },
     "output_type": "display_data"
    },
    {
     "data": {
      "image/png": "[encoded data removed]",
      "text/plain": [
       "<Figure size 432x288 with 1 Axes>"
      ]
     },
     "metadata": {
      "needs_background": "light"
     },
     "output_type": "display_data"
    }
   ],
   "source": [
    "import matplotlib.pyplot as plt\n",
    "# list all data in history\n",
    "print(history.history.keys())\n",
    "# summarize history for accuracy\n",
    "plt.plot(history.history['accuracy'])\n",
    "plt.plot(history.history['val_accuracy'])\n",
    "plt.title('model accuracy')\n",
    "plt.ylabel('accuracy')\n",
    "plt.xlabel('epoch')\n",
    "plt.legend(['train', 'test'], loc='upper left')\n",
    "plt.show()\n",
    "# summarize history for loss\n",
    "plt.plot(history.history['loss'])\n",
    "plt.plot(history.history['val_loss'])\n",
    "plt.title('model loss')\n",
    "plt.ylabel('loss')\n",
    "plt.xlabel('epoch')\n",
    "plt.legend(['train', 'test'], loc='upper left')\n",
    "plt.show()"
   ]
  },
  {
   "cell_type": "code",
   "execution_count": null,
   "metadata": {},
   "outputs": [],
   "source": []
  }
 ],
 "metadata": {
  "kernelspec": {
   "display_name": "JolpJJang",
   "language": "python",
   "name": "jolpjjang"
  },
  "language_info": {
   "codemirror_mode": {
    "name": "ipython",
    "version": 3
   },
   "file_extension": ".py",
   "mimetype": "text/x-python",
   "name": "python",
   "nbconvert_exporter": "python",
   "pygments_lexer": "ipython3",
   "version": "3.8.8"
  }
 },
 "nbformat": 4,
 "nbformat_minor": 4
}
