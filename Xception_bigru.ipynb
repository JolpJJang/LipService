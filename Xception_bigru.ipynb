{
 "cells": [
  {
   "cell_type": "code",
   "execution_count": 1,
   "metadata": {},
   "outputs": [],
   "source": [
    "import numpy as np\n",
    "from sklearn.model_selection import train_test_split\n",
    "\n",
    "import tensorflow as tf\n",
    "from tensorflow import keras\n",
    "from keras import layers\n",
    "from keras.models import Sequential\n",
    "from keras import models, layers, activations\n",
    "from keras.layers import Conv2D, TimeDistributed, BatchNormalization, MaxPooling2D, Flatten, Bidirectional, Dense, Dropout, Embedding\n",
    "from keras.callbacks import EarlyStopping\n",
    "from keras.callbacks import ModelCheckpoint"
   ]
  },
  {
   "cell_type": "code",
   "execution_count": 2,
   "metadata": {},
   "outputs": [
    {
     "name": "stdout",
     "output_type": "stream",
     "text": [
      "(3000, 27, 64, 64, 3) (3000, 11)\n"
     ]
    }
   ],
   "source": [
    "x_data = np.load('face/face_x_data.npy') # x_save.npy\n",
    "y_data = np.load('face/face_y_data.npy') # y_data.npy\n",
    "y_data = keras.utils.to_categorical(y_data,11)\n",
    "print(x_data.shape, y_data.shape)"
   ]
  },
  {
   "cell_type": "code",
   "execution_count": 3,
   "metadata": {},
   "outputs": [
    {
     "name": "stdout",
     "output_type": "stream",
     "text": [
      "X_train: (2400, 27, 64, 64, 3), X_test: (600, 27, 64, 64, 3)\n",
      "Y_train: (2400, 11), Y_test: (600, 11)\n"
     ]
    }
   ],
   "source": [
    "# Train과 Test 분리\n",
    "X_train, X_test, Y_train, Y_test = train_test_split(x_data, y_data, test_size = 0.2, shuffle = True, stratify=y_data)\n",
    "#X_train = X_train / 255\n",
    "print(\"X_train: {}, X_test: {}\".format(X_train.shape, X_test.shape))\n",
    "print(\"Y_train: {}, Y_test: {}\".format(Y_train.shape, Y_test.shape))"
   ]
  },
  {
   "cell_type": "code",
   "execution_count": 4,
   "metadata": {},
   "outputs": [],
   "source": [
    "from tensorflow.keras.applications import Xception\n",
    "\n",
    "class Xception_GRU(keras.Model):\n",
    "    def __init__(self, num_classes):\n",
    "        super(Xception_GRU, self).__init__()\n",
    "        #self.BZ = input_shape[0]\n",
    "        #self.frame = input_shape[1]\n",
    "        self.xc = TimeDistributed(Xception(weights='imagenet', include_top=False,\n",
    "                                               pooling='max'))\n",
    "        self.xc.trainable = False\n",
    "        self.bilstm = layers.Bidirectional(layers.GRU(128), merge_mode='concat')\n",
    "        self.dense2 = layers.Dense(128, activation='relu')\n",
    "        self.dense = layers.Dense(num_classes, activation='softmax')\n",
    "        self.max_pool = TimeDistributed(MaxPooling2D(pool_size=(2, 2)))\n",
    "        self.dropout2 = layers.Dropout(0.2)\n",
    "        self.dropout3 = layers.Dropout(0.3)\n",
    "        self.flat = TimeDistributed(Flatten())\n",
    "\n",
    "    def call(self, x):\n",
    "        x = self.xc(x)\n",
    "        x = self.flat(x)\n",
    "        x = self.dropout2(x)\n",
    "        x = self.bilstm(x)\n",
    "        #x = self.dense2(x)\n",
    "        x = self.dropout2(x)\n",
    "        return self.dense(x)"
   ]
  },
  {
   "cell_type": "code",
   "execution_count": 5,
   "metadata": {},
   "outputs": [],
   "source": [
    "model = Xception_GRU(num_classes = 11)\n",
    "model.compile(optimizer = 'adam', loss = 'categorical_crossentropy', metrics = ['accuracy'])"
   ]
  },
  {
   "cell_type": "code",
   "execution_count": 6,
   "metadata": {},
   "outputs": [
    {
     "name": "stdout",
     "output_type": "stream",
     "text": [
      "Epoch 1/100\n",
      "60/60 [==============================] - 1469s 24s/step - loss: 2.3730 - accuracy: 0.1016 - val_loss: 2.2751 - val_accuracy: 0.1437\n",
      "Epoch 2/100\n",
      "60/60 [==============================] - 1335s 22s/step - loss: 2.2087 - accuracy: 0.1958 - val_loss: 2.2792 - val_accuracy: 0.1562\n",
      "Epoch 3/100\n",
      "60/60 [==============================] - 1334s 22s/step - loss: 2.0966 - accuracy: 0.2505 - val_loss: 2.2245 - val_accuracy: 0.1625\n",
      "Epoch 4/100\n",
      "60/60 [==============================] - 1646s 27s/step - loss: 1.9497 - accuracy: 0.3417 - val_loss: 2.1567 - val_accuracy: 0.2417\n",
      "Epoch 5/100\n",
      "60/60 [==============================] - 1517s 25s/step - loss: 1.7888 - accuracy: 0.3885 - val_loss: 2.1066 - val_accuracy: 0.2542\n",
      "Epoch 6/100\n",
      "60/60 [==============================] - 1963s 33s/step - loss: 1.5776 - accuracy: 0.4646 - val_loss: 2.0804 - val_accuracy: 0.2562\n",
      "Epoch 7/100\n",
      "60/60 [==============================] - 2047s 34s/step - loss: 1.3614 - accuracy: 0.5620 - val_loss: 2.3773 - val_accuracy: 0.2688\n",
      "Epoch 8/100\n",
      "60/60 [==============================] - 1578s 26s/step - loss: 1.1755 - accuracy: 0.6172 - val_loss: 1.9390 - val_accuracy: 0.3229\n",
      "Epoch 9/100\n",
      "60/60 [==============================] - 1506s 25s/step - loss: 0.9148 - accuracy: 0.7130 - val_loss: 1.9350 - val_accuracy: 0.3875\n",
      "Epoch 10/100\n",
      "60/60 [==============================] - 1507s 25s/step - loss: 0.7958 - accuracy: 0.7526 - val_loss: 1.9667 - val_accuracy: 0.3917\n",
      "Epoch 11/100\n",
      "60/60 [==============================] - 1514s 25s/step - loss: 0.5770 - accuracy: 0.8328 - val_loss: 1.9780 - val_accuracy: 0.4000\n",
      "Epoch 12/100\n",
      "60/60 [==============================] - 1540s 26s/step - loss: 0.4461 - accuracy: 0.8724 - val_loss: 2.1337 - val_accuracy: 0.3875\n",
      "Epoch 13/100\n",
      "60/60 [==============================] - 1584s 26s/step - loss: 0.3588 - accuracy: 0.9005 - val_loss: 2.0591 - val_accuracy: 0.4521\n",
      "Epoch 14/100\n",
      "60/60 [==============================] - 1482s 25s/step - loss: 0.3031 - accuracy: 0.9161 - val_loss: 2.0831 - val_accuracy: 0.4583\n",
      "Epoch 15/100\n",
      "60/60 [==============================] - 1463s 24s/step - loss: 0.2584 - accuracy: 0.9240 - val_loss: 2.0732 - val_accuracy: 0.4625\n",
      "Epoch 16/100\n",
      "60/60 [==============================] - 1594s 27s/step - loss: 0.2029 - accuracy: 0.9432 - val_loss: 2.1059 - val_accuracy: 0.4792\n",
      "Epoch 17/100\n",
      "60/60 [==============================] - 1738s 29s/step - loss: 0.1539 - accuracy: 0.9599 - val_loss: 2.3206 - val_accuracy: 0.4250\n",
      "Epoch 18/100\n",
      "60/60 [==============================] - 1505s 25s/step - loss: 0.1817 - accuracy: 0.9484 - val_loss: 2.2433 - val_accuracy: 0.4521\n",
      "Epoch 19/100\n",
      "60/60 [==============================] - 1457s 24s/step - loss: 0.1385 - accuracy: 0.9604 - val_loss: 2.3885 - val_accuracy: 0.4313\n"
     ]
    }
   ],
   "source": [
    "es = EarlyStopping(monitor = 'val_loss', patience = 10)\n",
    "history = model.fit(X_train, Y_train, batch_size=32, epochs=100, verbose = 1, validation_split=0.2, callbacks = [es])"
   ]
  },
  {
   "cell_type": "code",
   "execution_count": 7,
   "metadata": {},
   "outputs": [
    {
     "name": "stdout",
     "output_type": "stream",
     "text": [
      "dict_keys(['loss', 'accuracy', 'val_loss', 'val_accuracy'])\n"
     ]
    },
    {
     "data": {
      "image/png": "[encoded data removed]",
      "text/plain": [
       "<Figure size 432x288 with 1 Axes>"
      ]
     },
     "metadata": {
      "needs_background": "light"
     },
     "output_type": "display_data"
    },
    {
     "data": {
      "image/png": "[encoded data removed]",
      "text/plain": [
       "<Figure size 432x288 with 1 Axes>"
      ]
     },
     "metadata": {
      "needs_background": "light"
     },
     "output_type": "display_data"
    }
   ],
   "source": [
    "\n",
    "import matplotlib.pyplot as plt\n",
    "# list all data in history\n",
    "print(history.history.keys())\n",
    "# summarize history for accuracy\n",
    "plt.plot(history.history['accuracy'])\n",
    "plt.plot(history.history['val_accuracy'])\n",
    "plt.title('model accuracy')\n",
    "plt.ylabel('accuracy')\n",
    "plt.xlabel('epoch')\n",
    "plt.legend(['train', 'test'], loc='upper left')\n",
    "plt.show()\n",
    "# summarize history for loss\n",
    "plt.plot(history.history['loss'])\n",
    "plt.plot(history.history['val_loss'])\n",
    "plt.title('model loss')\n",
    "plt.ylabel('loss')\n",
    "plt.xlabel('epoch')\n",
    "plt.legend(['train', 'test'], loc='upper left')\n",
    "plt.show()"
   ]
  },
  {
   "cell_type": "code",
   "execution_count": 8,
   "metadata": {},
   "outputs": [
    {
     "name": "stdout",
     "output_type": "stream",
     "text": [
      "19/19 [==============================] - 551s 29s/step - loss: 2.0619 - accuracy: 0.4883\n",
      "0.4883333444595337 2.0619263648986816\n"
     ]
    }
   ],
   "source": [
    "score = model.evaluate(X_test, Y_test, batch_size = 32, verbose = 1)\n",
    "print(score[1] ,score[0]) "
   ]
  },
  {
   "cell_type": "code",
   "execution_count": 9,
   "metadata": {},
   "outputs": [],
   "source": [
    " model.save_weights('xceptiom_bigru')"
   ]
  },
  {
   "cell_type": "code",
   "execution_count": null,
   "metadata": {},
   "outputs": [],
   "source": []
  }
 ],
 "metadata": {
  "kernelspec": {
   "display_name": "Joll",
   "language": "python",
   "name": "joll"
  },
  "language_info": {
   "codemirror_mode": {
    "name": "ipython",
    "version": 3
   },
   "file_extension": ".py",
   "mimetype": "text/x-python",
   "name": "python",
   "nbconvert_exporter": "python",
   "pygments_lexer": "ipython3",
   "version": "3.8.10"
  }
 },
 "nbformat": 4,
 "nbformat_minor": 4
}
