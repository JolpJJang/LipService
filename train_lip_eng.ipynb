{
  "nbformat": 4,
  "nbformat_minor": 0,
  "metadata": {
    "colab": {
      "name": "train_lip_eng.ipynb",
      "provenance": [],
      "collapsed_sections": [],
      "machine_shape": "hm",
      "authorship_tag": "ABX9TyP2s8h3y4mOlXE6G8NDd5qv",
      "include_colab_link": true
    },
    "kernelspec": {
      "name": "python3",
      "display_name": "Python 3"
    },
    "language_info": {
      "name": "python"
    },
    "accelerator": "GPU"
  },
  "cells": [
    {
      "cell_type": "markdown",
      "metadata": {
        "id": "view-in-github",
        "colab_type": "text"
      },
      "source": [
        "<a href=\"https://colab.research.google.com/github/yoon-303/LipService/blob/main/train_lip_eng.ipynb\" target=\"_parent\"><img src=\"https://colab.research.google.com/assets/colab-badge.svg\" alt=\"Open In Colab\"/></a>"
      ]
    },
    {
      "cell_type": "code",
      "metadata": {
        "id": "N_GZDmXL4NoL"
      },
      "source": [
        "import numpy as np\n",
        "from sklearn.model_selection import train_test_split\n",
        "from keras.callbacks import EarlyStopping\n",
        "import tensorflow as tf\n",
        "from tensorflow import keras\n",
        "from tensorflow.keras import layers\n",
        "from keras.models import Sequential\n",
        "from keras import models, layers, activations\n",
        "from keras.layers import Conv2D, TimeDistributed, BatchNormalization, MaxPooling2D, Flatten, Bidirectional, Dense,Dropout,Flatten"
      ],
      "execution_count": 1,
      "outputs": []
    },
    {
      "cell_type": "code",
      "metadata": {
        "colab": {
          "base_uri": "https://localhost:8080/"
        },
        "id": "SFlrZwnq4VXB",
        "outputId": "af55877d-418d-41f3-8377-88ff79df61f6"
      },
      "source": [
        "from google.colab import drive\n",
        "\n",
        "drive.mount('/content/gdrive')"
      ],
      "execution_count": 2,
      "outputs": [
        {
          "output_type": "stream",
          "text": [
            "Drive already mounted at /content/gdrive; to attempt to forcibly remount, call drive.mount(\"/content/gdrive\", force_remount=True).\n"
          ],
          "name": "stdout"
        }
      ]
    },
    {
      "cell_type": "code",
      "metadata": {
        "id": "apz_qTdl4VZa",
        "colab": {
          "base_uri": "https://localhost:8080/"
        },
        "outputId": "7af34c21-44e1-4372-b484-20f4cab04f3d"
      },
      "source": [
        "x_data = np.load('/content/gdrive/My Drive/jolp/lip/lip_x_data.npy') # x_save.npy\n",
        "y_data = np.load('/content/gdrive/My Drive/jolp/lip/lip_y_data.npy') # y_data.npy\n",
        "\n",
        "\n",
        "\n",
        "y_data = keras.utils.to_categorical(y_data, num_classes=None)\n",
        "#X_train, X_test, Y_train, Y_test = train_test_split(x_data, y_data, test_size = 0.2, shuffle = True, stratify=y_data)\n",
        "print(x_data.shape, y_data.shape)"
      ],
      "execution_count": 3,
      "outputs": [
        {
          "output_type": "stream",
          "text": [
            "(3000, 27, 64, 64, 3) (3000, 11)\n"
          ],
          "name": "stdout"
        }
      ]
    },
    {
      "cell_type": "code",
      "metadata": {
        "id": "BNl3Su8h4VcD",
        "colab": {
          "base_uri": "https://localhost:8080/"
        },
        "outputId": "4b2ec22a-57bd-485a-c130-bd6e6a55f09d"
      },
      "source": [
        "# Train과 Test 분리\n",
        "X_train, X_test, Y_train, Y_test = train_test_split(x_data, y_data, test_size = 0.2, shuffle = True, stratify=y_data)\\\n",
        "#X_train, X_test, Y_train, Y_test = train_test_split(x_data, y_data, test_size = 0.2, shuffle = False)\n",
        "print(\"x_train: {}, X_test: {}\".format(X_train.shape, X_test.shape))\n",
        "print(\"Y_train: {}, Y_test: {}\".format(Y_train.shape, Y_test.shape))"
      ],
      "execution_count": 4,
      "outputs": [
        {
          "output_type": "stream",
          "text": [
            "x_train: (2400, 27, 64, 64, 3), X_test: (600, 27, 64, 64, 3)\n",
            "Y_train: (2400, 11), Y_test: (600, 11)\n"
          ],
          "name": "stdout"
        }
      ]
    },
    {
      "cell_type": "code",
      "metadata": {
        "id": "93sq1aKz4VeX"
      },
      "source": [
        "\n",
        "\n",
        "class CNN_LSTM(keras.Model):\n",
        "    def __init__(self, num_classes):\n",
        "        super(CNN_LSTM, self).__init__()\n",
        "       \n",
        "        self.conv1 =TimeDistributed(Conv2D(64, kernel_size=(5, 5),  activation='relu'))\n",
        "        self.conv2 = TimeDistributed(Conv2D(32, kernel_size=(5, 5),  activation='relu'))\n",
        "        self.conv3 = TimeDistributed(Conv2D(64, kernel_size=(5, 5), activation='relu'))\n",
        "        self.Max = TimeDistributed(MaxPooling2D(pool_size= (2,2)))\n",
        "        self.Max2 = TimeDistributed(MaxPooling2D(pool_size= (2,2)))\n",
        "        self.lstm = layers.LSTM(256, return_sequences=False)\n",
        "        self.flat = TimeDistributed(Flatten())\n",
        "        self.dense = layers.Dense(11, activation='softmax')\n",
        "        \n",
        "    def call(self,x ):\n",
        "        x = self.conv1(x) #(32, 20, 60, 60, 32)\n",
        "        x = self.Max(x)\n",
        "        x = self.conv2(x) #(32, 20, 56, 56, 64)\n",
        "        x = self.Max2(x)\n",
        "        x = self.conv3(x)\n",
        "        x = self.flat(x)\n",
        "        x = self.lstm(x)\n",
        "        x = self.dense(x)\n",
        "        return x"
      ],
      "execution_count": 5,
      "outputs": []
    },
    {
      "cell_type": "code",
      "metadata": {
        "id": "-pcQOefU4VhC"
      },
      "source": [
        "\n",
        "def get_model():\n",
        "    return CNN_LSTM(num_classes =11)"
      ],
      "execution_count": 6,
      "outputs": []
    },
    {
      "cell_type": "code",
      "metadata": {
        "id": "Xkg_Wk1w4VjN",
        "colab": {
          "base_uri": "https://localhost:8080/"
        },
        "outputId": "8b09d228-b04f-4d27-da9b-7d1a799c2be7"
      },
      "source": [
        "tf.config.experimental_run_functions_eagerly(True)"
      ],
      "execution_count": 7,
      "outputs": [
        {
          "output_type": "stream",
          "text": [
            "WARNING:tensorflow:From <ipython-input-7-bdb3352f611a>:1: experimental_run_functions_eagerly (from tensorflow.python.eager.def_function) is deprecated and will be removed in a future version.\n",
            "Instructions for updating:\n",
            "Use `tf.config.run_functions_eagerly` instead of the experimental version.\n"
          ],
          "name": "stdout"
        }
      ]
    },
    {
      "cell_type": "code",
      "metadata": {
        "id": "nUICiAsH4eZw",
        "colab": {
          "base_uri": "https://localhost:8080/"
        },
        "outputId": "2c8f278e-2205-474b-8b31-1d6e7d9ee611"
      },
      "source": [
        "model = get_model()\n",
        "model.compile(optimizer = 'adam', loss = 'categorical_crossentropy', metrics = ['accuracy'])\n",
        "es = EarlyStopping(monitor = 'val_loss', patience = 10)\n",
        "history = model.fit(X_train, Y_train, batch_size= 32, epochs= 100, verbose = 1, validation_data = (X_test, Y_test), callbacks=[es])\n",
        "#model.summary()\n"
      ],
      "execution_count": 8,
      "outputs": [
        {
          "output_type": "stream",
          "text": [
            "/usr/local/lib/python3.7/dist-packages/tensorflow/python/data/ops/dataset_ops.py:3504: UserWarning: Even though the tf.config.experimental_run_functions_eagerly option is set, this option does not apply to tf.data functions. tf.data functions are still traced and executed as graphs.\n",
            "  \"Even though the tf.config.experimental_run_functions_eagerly \"\n"
          ],
          "name": "stderr"
        },
        {
          "output_type": "stream",
          "text": [
            "Epoch 1/100\n",
            "75/75 [==============================] - 28s 160ms/step - loss: 2.3414 - accuracy: 0.1056 - val_loss: 2.2711 - val_accuracy: 0.1283\n",
            "Epoch 2/100\n",
            "75/75 [==============================] - 11s 142ms/step - loss: 2.2507 - accuracy: 0.1511 - val_loss: 2.2589 - val_accuracy: 0.1433\n",
            "Epoch 3/100\n",
            "75/75 [==============================] - 11s 142ms/step - loss: 2.2411 - accuracy: 0.1685 - val_loss: 2.2402 - val_accuracy: 0.1617\n",
            "Epoch 4/100\n",
            "75/75 [==============================] - 11s 142ms/step - loss: 2.2317 - accuracy: 0.1480 - val_loss: 2.2422 - val_accuracy: 0.1400\n",
            "Epoch 5/100\n",
            "75/75 [==============================] - 11s 142ms/step - loss: 2.2036 - accuracy: 0.1830 - val_loss: 2.2475 - val_accuracy: 0.1567\n",
            "Epoch 6/100\n",
            "75/75 [==============================] - 11s 142ms/step - loss: 2.2059 - accuracy: 0.1827 - val_loss: 2.2221 - val_accuracy: 0.1850\n",
            "Epoch 7/100\n",
            "75/75 [==============================] - 11s 142ms/step - loss: 2.1632 - accuracy: 0.2089 - val_loss: 2.2362 - val_accuracy: 0.1683\n",
            "Epoch 8/100\n",
            "75/75 [==============================] - 11s 141ms/step - loss: 2.1043 - accuracy: 0.2151 - val_loss: 2.1047 - val_accuracy: 0.1917\n",
            "Epoch 9/100\n",
            "75/75 [==============================] - 11s 142ms/step - loss: 2.0455 - accuracy: 0.2507 - val_loss: 2.0604 - val_accuracy: 0.2167\n",
            "Epoch 10/100\n",
            "75/75 [==============================] - 11s 142ms/step - loss: 1.9411 - accuracy: 0.2869 - val_loss: 1.9252 - val_accuracy: 0.2600\n",
            "Epoch 11/100\n",
            "75/75 [==============================] - 11s 142ms/step - loss: 1.8059 - accuracy: 0.3305 - val_loss: 1.7913 - val_accuracy: 0.3233\n",
            "Epoch 12/100\n",
            "75/75 [==============================] - 11s 143ms/step - loss: 1.6846 - accuracy: 0.3746 - val_loss: 1.7216 - val_accuracy: 0.3400\n",
            "Epoch 13/100\n",
            "75/75 [==============================] - 11s 142ms/step - loss: 1.6220 - accuracy: 0.4059 - val_loss: 1.7677 - val_accuracy: 0.3417\n",
            "Epoch 14/100\n",
            "75/75 [==============================] - 11s 142ms/step - loss: 1.5563 - accuracy: 0.4171 - val_loss: 1.6661 - val_accuracy: 0.3700\n",
            "Epoch 15/100\n",
            "75/75 [==============================] - 11s 142ms/step - loss: 1.4277 - accuracy: 0.4790 - val_loss: 1.5575 - val_accuracy: 0.4050\n",
            "Epoch 16/100\n",
            "75/75 [==============================] - 11s 141ms/step - loss: 1.2851 - accuracy: 0.5321 - val_loss: 1.6418 - val_accuracy: 0.3817\n",
            "Epoch 17/100\n",
            "75/75 [==============================] - 11s 142ms/step - loss: 1.1849 - accuracy: 0.5559 - val_loss: 1.5962 - val_accuracy: 0.4283\n",
            "Epoch 18/100\n",
            "75/75 [==============================] - 11s 142ms/step - loss: 1.0748 - accuracy: 0.6117 - val_loss: 1.5833 - val_accuracy: 0.4700\n",
            "Epoch 19/100\n",
            "75/75 [==============================] - 11s 142ms/step - loss: 0.9926 - accuracy: 0.6439 - val_loss: 1.4733 - val_accuracy: 0.4933\n",
            "Epoch 20/100\n",
            "75/75 [==============================] - 11s 142ms/step - loss: 0.8118 - accuracy: 0.7106 - val_loss: 1.5005 - val_accuracy: 0.5200\n",
            "Epoch 21/100\n",
            "75/75 [==============================] - 11s 142ms/step - loss: 0.7401 - accuracy: 0.7308 - val_loss: 1.5752 - val_accuracy: 0.4950\n",
            "Epoch 22/100\n",
            "75/75 [==============================] - 11s 142ms/step - loss: 0.6022 - accuracy: 0.7956 - val_loss: 1.5768 - val_accuracy: 0.5400\n",
            "Epoch 23/100\n",
            "75/75 [==============================] - 11s 142ms/step - loss: 0.4705 - accuracy: 0.8409 - val_loss: 1.8571 - val_accuracy: 0.5100\n",
            "Epoch 24/100\n",
            "75/75 [==============================] - 11s 143ms/step - loss: 0.5416 - accuracy: 0.8059 - val_loss: 1.6775 - val_accuracy: 0.5600\n",
            "Epoch 25/100\n",
            "75/75 [==============================] - 11s 142ms/step - loss: 0.3306 - accuracy: 0.8902 - val_loss: 1.7644 - val_accuracy: 0.5200\n",
            "Epoch 26/100\n",
            "75/75 [==============================] - 11s 143ms/step - loss: 0.3202 - accuracy: 0.8960 - val_loss: 1.9173 - val_accuracy: 0.5533\n",
            "Epoch 27/100\n",
            "75/75 [==============================] - 11s 142ms/step - loss: 0.2410 - accuracy: 0.9186 - val_loss: 1.9737 - val_accuracy: 0.5433\n",
            "Epoch 28/100\n",
            "75/75 [==============================] - 11s 142ms/step - loss: 0.1647 - accuracy: 0.9454 - val_loss: 2.2128 - val_accuracy: 0.5333\n",
            "Epoch 29/100\n",
            "75/75 [==============================] - 11s 142ms/step - loss: 0.1280 - accuracy: 0.9594 - val_loss: 2.1185 - val_accuracy: 0.5433\n"
          ],
          "name": "stdout"
        }
      ]
    },
    {
      "cell_type": "code",
      "metadata": {
        "id": "u72IeFtu4hmR",
        "colab": {
          "base_uri": "https://localhost:8080/"
        },
        "outputId": "bcb687c3-092b-4965-e078-ba3b1a42825e"
      },
      "source": [
        "\n",
        "history.history"
      ],
      "execution_count": 9,
      "outputs": [
        {
          "output_type": "execute_result",
          "data": {
            "text/plain": [
              "{'accuracy': [0.12208333611488342,\n",
              "  0.14791665971279144,\n",
              "  0.16124999523162842,\n",
              "  0.15791666507720947,\n",
              "  0.1783333271741867,\n",
              "  0.1820833384990692,\n",
              "  0.20874999463558197,\n",
              "  0.22458332777023315,\n",
              "  0.24541667103767395,\n",
              "  0.29374998807907104,\n",
              "  0.3241666555404663,\n",
              "  0.3683333396911621,\n",
              "  0.39625000953674316,\n",
              "  0.42500001192092896,\n",
              "  0.4741666615009308,\n",
              "  0.5145833492279053,\n",
              "  0.5562499761581421,\n",
              "  0.6212499737739563,\n",
              "  0.6641666889190674,\n",
              "  0.6929166913032532,\n",
              "  0.7304166555404663,\n",
              "  0.7799999713897705,\n",
              "  0.8162500262260437,\n",
              "  0.8129166960716248,\n",
              "  0.8858333230018616,\n",
              "  0.89041668176651,\n",
              "  0.9191666841506958,\n",
              "  0.9474999904632568,\n",
              "  0.9574999809265137],\n",
              " 'loss': [2.311356782913208,\n",
              "  2.253497362136841,\n",
              "  2.2280709743499756,\n",
              "  2.2213902473449707,\n",
              "  2.2050282955169678,\n",
              "  2.1948087215423584,\n",
              "  2.1455109119415283,\n",
              "  2.0930848121643066,\n",
              "  2.0503311157226562,\n",
              "  1.9138246774673462,\n",
              "  1.8071211576461792,\n",
              "  1.6903702020645142,\n",
              "  1.6139276027679443,\n",
              "  1.542405128479004,\n",
              "  1.422471046447754,\n",
              "  1.3218058347702026,\n",
              "  1.1920844316482544,\n",
              "  1.0543639659881592,\n",
              "  0.935414731502533,\n",
              "  0.8551722168922424,\n",
              "  0.7410709857940674,\n",
              "  0.6053665280342102,\n",
              "  0.5299539566040039,\n",
              "  0.5251542925834656,\n",
              "  0.3353164792060852,\n",
              "  0.32955360412597656,\n",
              "  0.2455790638923645,\n",
              "  0.16917145252227783,\n",
              "  0.1387530416250229],\n",
              " 'val_accuracy': [0.12833333015441895,\n",
              "  0.1433333307504654,\n",
              "  0.1616666615009308,\n",
              "  0.14000000059604645,\n",
              "  0.15666666626930237,\n",
              "  0.1850000023841858,\n",
              "  0.16833333671092987,\n",
              "  0.19166666269302368,\n",
              "  0.21666666865348816,\n",
              "  0.25999999046325684,\n",
              "  0.3233333230018616,\n",
              "  0.3400000035762787,\n",
              "  0.34166666865348816,\n",
              "  0.3700000047683716,\n",
              "  0.4050000011920929,\n",
              "  0.3816666603088379,\n",
              "  0.4283333420753479,\n",
              "  0.4699999988079071,\n",
              "  0.4933333396911621,\n",
              "  0.5199999809265137,\n",
              "  0.4950000047683716,\n",
              "  0.5400000214576721,\n",
              "  0.5099999904632568,\n",
              "  0.5600000023841858,\n",
              "  0.5199999809265137,\n",
              "  0.5533333420753479,\n",
              "  0.5433333516120911,\n",
              "  0.5333333611488342,\n",
              "  0.5433333516120911],\n",
              " 'val_loss': [2.2710607051849365,\n",
              "  2.2589309215545654,\n",
              "  2.2402076721191406,\n",
              "  2.242169141769409,\n",
              "  2.2475287914276123,\n",
              "  2.22209095954895,\n",
              "  2.236152410507202,\n",
              "  2.1046578884124756,\n",
              "  2.0603818893432617,\n",
              "  1.9252253770828247,\n",
              "  1.7913384437561035,\n",
              "  1.7216224670410156,\n",
              "  1.7676788568496704,\n",
              "  1.666114330291748,\n",
              "  1.5574694871902466,\n",
              "  1.6418204307556152,\n",
              "  1.5962294340133667,\n",
              "  1.583320140838623,\n",
              "  1.4732651710510254,\n",
              "  1.5005031824111938,\n",
              "  1.5751781463623047,\n",
              "  1.5768020153045654,\n",
              "  1.857142686843872,\n",
              "  1.677465558052063,\n",
              "  1.7644362449645996,\n",
              "  1.91730797290802,\n",
              "  1.9736970663070679,\n",
              "  2.2127902507781982,\n",
              "  2.1185104846954346]}"
            ]
          },
          "metadata": {
            "tags": []
          },
          "execution_count": 9
        }
      ]
    },
    {
      "cell_type": "code",
      "metadata": {
        "id": "Ju2CmHiO4hoi",
        "colab": {
          "base_uri": "https://localhost:8080/",
          "height": 590
        },
        "outputId": "4c022a50-a5aa-4664-f17b-376139a257f8"
      },
      "source": [
        "import matplotlib.pyplot as plt\n",
        "# list all data in history\n",
        "print(history.history.keys())\n",
        "# summarize history for accuracy\n",
        "plt.plot(history.history['accuracy'])\n",
        "plt.plot(history.history['val_accuracy'])\n",
        "plt.title('model accuracy')\n",
        "plt.ylabel('accuracy')\n",
        "plt.xlabel('epoch')\n",
        "plt.legend(['train', 'test'], loc='upper left')\n",
        "plt.show()\n",
        "# summarize history for loss\n",
        "plt.plot(history.history['loss'])\n",
        "plt.plot(history.history['val_loss'])\n",
        "plt.title('model loss')\n",
        "plt.ylabel('loss')\n",
        "plt.xlabel('epoch')\n",
        "plt.legend(['train', 'test'], loc='upper left')\n",
        "plt.show()"
      ],
      "execution_count": 10,
      "outputs": [
        {
          "output_type": "stream",
          "text": [
            "dict_keys(['loss', 'accuracy', 'val_loss', 'val_accuracy'])\n"
          ],
          "name": "stdout"
        },
        {
          "output_type": "display_data",
          "data": {
            "image/png": "[encoded data removed]",
            "text/plain": [
              "<Figure size 432x288 with 1 Axes>"
            ]
          },
          "metadata": {
            "tags": [],
            "needs_background": "light"
          }
        },
        {
          "output_type": "display_data",
          "data": {
            "image/png": "[encoded data removed]",
            "text/plain": [
              "<Figure size 432x288 with 1 Axes>"
            ]
          },
          "metadata": {
            "tags": [],
            "needs_background": "light"
          }
        }
      ]
    },
    {
      "cell_type": "code",
      "metadata": {
        "id": "CkwHsUg64hqv",
        "colab": {
          "base_uri": "https://localhost:8080/",
          "height": 164
        },
        "outputId": "01884740-7a1e-433f-916f-4251fc2ccb10"
      },
      "source": [
        "tf.keras.models.save_model('/models/cvcvclstm.h5')"
      ],
      "execution_count": 17,
      "outputs": [
        {
          "output_type": "error",
          "ename": "TypeError",
          "evalue": "ignored",
          "traceback": [
            "\u001b[0;31m---------------------------------------------------------------------------\u001b[0m",
            "\u001b[0;31mTypeError\u001b[0m                                 Traceback (most recent call last)",
            "\u001b[0;32m<ipython-input-17-8f962b51917d>\u001b[0m in \u001b[0;36m<module>\u001b[0;34m()\u001b[0m\n\u001b[0;32m----> 1\u001b[0;31m \u001b[0mtf\u001b[0m\u001b[0;34m.\u001b[0m\u001b[0mkeras\u001b[0m\u001b[0;34m.\u001b[0m\u001b[0mmodels\u001b[0m\u001b[0;34m.\u001b[0m\u001b[0msave_model\u001b[0m\u001b[0;34m(\u001b[0m\u001b[0;34m'/models/cvcvclstm.h5'\u001b[0m\u001b[0;34m)\u001b[0m\u001b[0;34m\u001b[0m\u001b[0;34m\u001b[0m\u001b[0m\n\u001b[0m",
            "\u001b[0;31mTypeError\u001b[0m: save_model() missing 1 required positional argument: 'filepath'"
          ]
        }
      ]
    },
    {
      "cell_type": "code",
      "metadata": {
        "id": "mXDMSyZAANZH",
        "outputId": "b134d905-1006-40d1-cfc7-b22adcdd1389",
        "colab": {
          "base_uri": "https://localhost:8080/",
          "height": 443
        }
      },
      "source": [
        "tf.keras.models.save_model(\n",
        "    models,\n",
        "    '/content/gdrive/My Drive/models',\n",
        "    overwrite=True,\n",
        "    include_optimizer=True,\n",
        "    save_format=None,\n",
        "    signatures=None,\n",
        "    options=None\n",
        ")"
      ],
      "execution_count": 21,
      "outputs": [
        {
          "output_type": "error",
          "ename": "AttributeError",
          "evalue": "ignored",
          "traceback": [
            "\u001b[0;31m---------------------------------------------------------------------------\u001b[0m",
            "\u001b[0;31mAttributeError\u001b[0m                            Traceback (most recent call last)",
            "\u001b[0;32m<ipython-input-21-488cf68cd19c>\u001b[0m in \u001b[0;36m<module>\u001b[0;34m()\u001b[0m\n\u001b[1;32m      6\u001b[0m     \u001b[0msave_format\u001b[0m\u001b[0;34m=\u001b[0m\u001b[0;32mNone\u001b[0m\u001b[0;34m,\u001b[0m\u001b[0;34m\u001b[0m\u001b[0;34m\u001b[0m\u001b[0m\n\u001b[1;32m      7\u001b[0m     \u001b[0msignatures\u001b[0m\u001b[0;34m=\u001b[0m\u001b[0;32mNone\u001b[0m\u001b[0;34m,\u001b[0m\u001b[0;34m\u001b[0m\u001b[0;34m\u001b[0m\u001b[0m\n\u001b[0;32m----> 8\u001b[0;31m     \u001b[0moptions\u001b[0m\u001b[0;34m=\u001b[0m\u001b[0;32mNone\u001b[0m\u001b[0;34m\u001b[0m\u001b[0;34m\u001b[0m\u001b[0m\n\u001b[0m\u001b[1;32m      9\u001b[0m )\n",
            "\u001b[0;32m/usr/local/lib/python3.7/dist-packages/tensorflow/python/keras/saving/save.py\u001b[0m in \u001b[0;36msave_model\u001b[0;34m(model, filepath, overwrite, include_optimizer, save_format, signatures, options, save_traces)\u001b[0m\n\u001b[1;32m    155\u001b[0m   \u001b[0;32melse\u001b[0m\u001b[0;34m:\u001b[0m\u001b[0;34m\u001b[0m\u001b[0;34m\u001b[0m\u001b[0m\n\u001b[1;32m    156\u001b[0m     saved_model_save.save(model, filepath, overwrite, include_optimizer,\n\u001b[0;32m--> 157\u001b[0;31m                           signatures, options, save_traces)\n\u001b[0m\u001b[1;32m    158\u001b[0m \u001b[0;34m\u001b[0m\u001b[0m\n\u001b[1;32m    159\u001b[0m \u001b[0;34m\u001b[0m\u001b[0m\n",
            "\u001b[0;32m/usr/local/lib/python3.7/dist-packages/tensorflow/python/keras/saving/saved_model/save.py\u001b[0m in \u001b[0;36msave\u001b[0;34m(model, filepath, overwrite, include_optimizer, signatures, options, save_traces)\u001b[0m\n\u001b[1;32m     70\u001b[0m \u001b[0;34m\u001b[0m\u001b[0m\n\u001b[1;32m     71\u001b[0m   \u001b[0;32mif\u001b[0m \u001b[0msave_traces\u001b[0m\u001b[0;34m:\u001b[0m\u001b[0;34m\u001b[0m\u001b[0;34m\u001b[0m\u001b[0m\n\u001b[0;32m---> 72\u001b[0;31m     \u001b[0;32mif\u001b[0m \u001b[0msave_impl\u001b[0m\u001b[0;34m.\u001b[0m\u001b[0mshould_skip_serialization\u001b[0m\u001b[0;34m(\u001b[0m\u001b[0mmodel\u001b[0m\u001b[0;34m)\u001b[0m\u001b[0;34m:\u001b[0m\u001b[0;34m\u001b[0m\u001b[0;34m\u001b[0m\u001b[0m\n\u001b[0m\u001b[1;32m     73\u001b[0m       \u001b[0msaving_utils\u001b[0m\u001b[0;34m.\u001b[0m\u001b[0mraise_model_input_error\u001b[0m\u001b[0;34m(\u001b[0m\u001b[0mmodel\u001b[0m\u001b[0;34m)\u001b[0m\u001b[0;34m\u001b[0m\u001b[0;34m\u001b[0m\u001b[0m\n\u001b[1;32m     74\u001b[0m \u001b[0;34m\u001b[0m\u001b[0m\n",
            "\u001b[0;32m/usr/local/lib/python3.7/dist-packages/tensorflow/python/keras/saving/saved_model/save_impl.py\u001b[0m in \u001b[0;36mshould_skip_serialization\u001b[0;34m(layer)\u001b[0m\n\u001b[1;32m     74\u001b[0m   saved_model_input_spec_set = (isinstance(layer, training_lib.Model) and\n\u001b[1;32m     75\u001b[0m                                 layer._saved_model_inputs_spec is not None)  # pylint: disable=protected-access\n\u001b[0;32m---> 76\u001b[0;31m   \u001b[0;32mif\u001b[0m \u001b[0;32mnot\u001b[0m \u001b[0mlayer\u001b[0m\u001b[0;34m.\u001b[0m\u001b[0mbuilt\u001b[0m \u001b[0;32mand\u001b[0m \u001b[0;32mnot\u001b[0m \u001b[0msaved_model_input_spec_set\u001b[0m\u001b[0;34m:\u001b[0m\u001b[0;34m\u001b[0m\u001b[0;34m\u001b[0m\u001b[0m\n\u001b[0m\u001b[1;32m     77\u001b[0m     logging.warning('Skipping full serialization of Keras layer {}, because '\n\u001b[1;32m     78\u001b[0m                     'it is not built.'.format(layer))\n",
            "\u001b[0;31mAttributeError\u001b[0m: module 'keras.models' has no attribute 'built'"
          ]
        }
      ]
    },
    {
      "cell_type": "code",
      "metadata": {
        "id": "pzPUOo5JChX3"
      },
      "source": [
        ""
      ],
      "execution_count": null,
      "outputs": []
    }
  ]
}