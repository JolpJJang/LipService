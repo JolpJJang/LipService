{
 "cells": [
  {
   "cell_type": "code",
   "execution_count": 1,
   "metadata": {},
   "outputs": [],
   "source": [
    "import numpy as np\n",
    "from sklearn.model_selection import train_test_split\n",
    "\n",
    "import tensorflow as tf\n",
    "from tensorflow import keras\n",
    "from tensorflow.keras import layers\n",
    "from keras.models import Sequential\n",
    "from keras import models, layers, activations\n",
    "from keras.layers import Conv2D, TimeDistributed, BatchNormalization, MaxPooling2D, Flatten, Bidirectional, Dense, Dropout, Embedding\n",
    "from keras.callbacks import EarlyStopping"
   ]
  },
  {
   "cell_type": "code",
   "execution_count": 2,
   "metadata": {},
   "outputs": [
    {
     "name": "stdout",
     "output_type": "stream",
     "text": [
      "(3000, 27, 64, 64, 3) (3000, 11)\n"
     ]
    }
   ],
   "source": [
    "x_data = np.load('lip/lip_x_data.npy') # x_save.npy\n",
    "y_data = np.load('lip/lip_y_data.npy') # y_data.npy\n",
    "y_data = keras.utils.to_categorical(y_data,11)\n",
    "print(x_data.shape, y_data.shape)"
   ]
  },
  {
   "cell_type": "code",
   "execution_count": 4,
   "metadata": {},
   "outputs": [
    {
     "name": "stdout",
     "output_type": "stream",
     "text": [
      "X_train: (2400, 27, 64, 64, 3), X_test: (600, 27, 64, 64, 3)\n",
      "Y_train: (2400, 11), Y_test: (600, 11)\n"
     ]
    }
   ],
   "source": [
    "# Train과 Test 분리\n",
    "X_train, X_test, Y_train, Y_test = train_test_split(x_data, y_data, test_size = 0.2, shuffle = True, stratify=y_data)\n",
    "#X_train = X_train / 255\n",
    "print(\"X_train: {}, X_test: {}\".format(X_train.shape, X_test.shape))\n",
    "print(\"Y_train: {}, Y_test: {}\".format(Y_train.shape, Y_test.shape))"
   ]
  },
  {
   "cell_type": "code",
   "execution_count": 5,
   "metadata": {},
   "outputs": [],
   "source": [
    "import efficientnet.keras as efn\n",
    "\n",
    "class EfficientNet_LSTM(keras.Model):\n",
    "    def __init__(self, num_classes):\n",
    "        super(EfficientNet_LSTM, self).__init__()\n",
    "        #self.BZ = input_shape[0]\n",
    "        #self.frame = input_shape[1]\n",
    "        self.EFNB0 = TimeDistributed(efn.EfficientNetB0(weights='imagenet', include_top=False,\n",
    "                                               pooling='max'))\n",
    "        self.EFNB0.trainable = False\n",
    "        self.bilstm = layers.Bidirectional(layers.LSTM(256), merge_mode='concat')\n",
    "        self.dense2 = layers.Dense(128, activation='relu')\n",
    "        self.dense = layers.Dense(num_classes, activation='softmax')\n",
    "        self.max_pool = TimeDistributed(MaxPooling2D(pool_size=(2, 2)))\n",
    "        self.dropout2 = layers.Dropout(0.2)\n",
    "        self.dropout5 = layers.Dropout(0.5)\n",
    "        self.flat = TimeDistributed(Flatten())\n",
    "\n",
    "    def call(self, x):\n",
    "        x = self.EFNB0(x)\n",
    "        x = self.flat(x)\n",
    "        x = self.bilstm(x)\n",
    "        #x = self.dense2(x)\n",
    "        x = self.dropout5(x)\n",
    "        return self.dense(x)"
   ]
  },
  {
   "cell_type": "code",
   "execution_count": 6,
   "metadata": {},
   "outputs": [],
   "source": [
    "def get_model_vgg():\n",
    "    return EfficientNet_LSTM(num_classes = 11)"
   ]
  },
  {
   "cell_type": "code",
   "execution_count": 7,
   "metadata": {},
   "outputs": [],
   "source": [
    "model = get_model_vgg()\n",
    "model.compile(optimizer = 'adam', loss = 'categorical_crossentropy', metrics = ['accuracy'])"
   ]
  },
  {
   "cell_type": "code",
   "execution_count": 8,
   "metadata": {},
   "outputs": [
    {
     "name": "stdout",
     "output_type": "stream",
     "text": [
      "Epoch 1/100\n",
      "60/60 [==============================] - 351s 5s/step - loss: 2.5431 - accuracy: 0.0968 - val_loss: 2.3235 - val_accuracy: 0.1125\n",
      "Epoch 2/100\n",
      "60/60 [==============================] - 321s 5s/step - loss: 2.3346 - accuracy: 0.1094 - val_loss: 2.2706 - val_accuracy: 0.1292\n",
      "Epoch 3/100\n",
      "60/60 [==============================] - 325s 5s/step - loss: 2.2488 - accuracy: 0.1739 - val_loss: 2.1919 - val_accuracy: 0.2104\n",
      "Epoch 4/100\n",
      "60/60 [==============================] - 322s 5s/step - loss: 2.1859 - accuracy: 0.2016 - val_loss: 2.1374 - val_accuracy: 0.2021\n",
      "Epoch 5/100\n",
      "60/60 [==============================] - 323s 5s/step - loss: 2.1310 - accuracy: 0.2194 - val_loss: 2.0831 - val_accuracy: 0.2333\n",
      "Epoch 6/100\n",
      "60/60 [==============================] - 321s 5s/step - loss: 1.9976 - accuracy: 0.2619 - val_loss: 2.0299 - val_accuracy: 0.2188\n",
      "Epoch 7/100\n",
      "60/60 [==============================] - 325s 5s/step - loss: 1.9171 - accuracy: 0.3063 - val_loss: 1.9625 - val_accuracy: 0.2792\n",
      "Epoch 8/100\n",
      "60/60 [==============================] - 324s 5s/step - loss: 1.7896 - accuracy: 0.3445 - val_loss: 1.7850 - val_accuracy: 0.3542\n",
      "Epoch 9/100\n",
      "60/60 [==============================] - 320s 5s/step - loss: 1.6376 - accuracy: 0.4115 - val_loss: 1.6721 - val_accuracy: 0.3792\n",
      "Epoch 10/100\n",
      "60/60 [==============================] - 323s 5s/step - loss: 1.5106 - accuracy: 0.4447 - val_loss: 1.5892 - val_accuracy: 0.4292\n",
      "Epoch 11/100\n",
      "60/60 [==============================] - 321s 5s/step - loss: 1.4251 - accuracy: 0.4923 - val_loss: 1.5716 - val_accuracy: 0.4313\n",
      "Epoch 12/100\n",
      "60/60 [==============================] - 325s 5s/step - loss: 1.3384 - accuracy: 0.5162 - val_loss: 1.5418 - val_accuracy: 0.4250\n",
      "Epoch 13/100\n",
      "60/60 [==============================] - 325s 5s/step - loss: 1.2158 - accuracy: 0.5488 - val_loss: 1.4655 - val_accuracy: 0.4854\n",
      "Epoch 14/100\n",
      "60/60 [==============================] - 322s 5s/step - loss: 1.1444 - accuracy: 0.5895 - val_loss: 1.4004 - val_accuracy: 0.4938\n",
      "Epoch 15/100\n",
      "60/60 [==============================] - 323s 5s/step - loss: 1.0184 - accuracy: 0.6411 - val_loss: 1.3841 - val_accuracy: 0.5000\n",
      "Epoch 16/100\n",
      "60/60 [==============================] - 321s 5s/step - loss: 1.0280 - accuracy: 0.6337 - val_loss: 1.3588 - val_accuracy: 0.5125\n",
      "Epoch 17/100\n",
      "60/60 [==============================] - 319s 5s/step - loss: 0.9460 - accuracy: 0.6651 - val_loss: 1.2740 - val_accuracy: 0.5375\n",
      "Epoch 18/100\n",
      "60/60 [==============================] - 321s 5s/step - loss: 0.8813 - accuracy: 0.6832 - val_loss: 1.3171 - val_accuracy: 0.5146\n",
      "Epoch 19/100\n",
      "60/60 [==============================] - 324s 5s/step - loss: 0.7872 - accuracy: 0.7424 - val_loss: 1.3077 - val_accuracy: 0.5146\n",
      "Epoch 20/100\n",
      "60/60 [==============================] - 319s 5s/step - loss: 0.7711 - accuracy: 0.7329 - val_loss: 1.2838 - val_accuracy: 0.5354\n",
      "Epoch 21/100\n",
      "60/60 [==============================] - 320s 5s/step - loss: 0.6877 - accuracy: 0.7636 - val_loss: 1.3190 - val_accuracy: 0.5458\n",
      "Epoch 22/100\n",
      "60/60 [==============================] - 323s 5s/step - loss: 0.6461 - accuracy: 0.7677 - val_loss: 1.2447 - val_accuracy: 0.5542\n",
      "Epoch 23/100\n",
      "60/60 [==============================] - 320s 5s/step - loss: 0.5894 - accuracy: 0.8066 - val_loss: 1.0686 - val_accuracy: 0.6333\n",
      "Epoch 24/100\n",
      "60/60 [==============================] - 320s 5s/step - loss: 0.5869 - accuracy: 0.7942 - val_loss: 1.1316 - val_accuracy: 0.6250\n",
      "Epoch 25/100\n",
      "60/60 [==============================] - 318s 5s/step - loss: 0.5343 - accuracy: 0.8175 - val_loss: 1.1564 - val_accuracy: 0.5750\n",
      "Epoch 26/100\n",
      "60/60 [==============================] - 319s 5s/step - loss: 0.5084 - accuracy: 0.8318 - val_loss: 1.1751 - val_accuracy: 0.5917\n",
      "Epoch 27/100\n",
      "60/60 [==============================] - 327s 5s/step - loss: 0.4441 - accuracy: 0.8499 - val_loss: 1.1363 - val_accuracy: 0.6333\n",
      "Epoch 28/100\n",
      "60/60 [==============================] - 322s 5s/step - loss: 0.4484 - accuracy: 0.8562 - val_loss: 1.1998 - val_accuracy: 0.6187\n",
      "Epoch 29/100\n",
      "60/60 [==============================] - 320s 5s/step - loss: 0.4240 - accuracy: 0.8679 - val_loss: 1.2260 - val_accuracy: 0.6146\n",
      "Epoch 30/100\n",
      "60/60 [==============================] - 322s 5s/step - loss: 0.3470 - accuracy: 0.8797 - val_loss: 1.1651 - val_accuracy: 0.6396\n",
      "Epoch 31/100\n",
      "60/60 [==============================] - 317s 5s/step - loss: 0.3680 - accuracy: 0.8925 - val_loss: 1.2488 - val_accuracy: 0.5875\n",
      "Epoch 32/100\n",
      "60/60 [==============================] - 318s 5s/step - loss: 0.3995 - accuracy: 0.8607 - val_loss: 1.1648 - val_accuracy: 0.6354\n",
      "Epoch 33/100\n",
      "60/60 [==============================] - 323s 5s/step - loss: 0.3793 - accuracy: 0.8789 - val_loss: 1.2132 - val_accuracy: 0.6396\n"
     ]
    }
   ],
   "source": [
    "es = EarlyStopping(monitor = 'val_loss', patience = 10)\n",
    "history = model.fit(X_train, Y_train, batch_size=32, epochs=100, verbose = 1, validation_split=0.2, callbacks = [es])"
   ]
  },
  {
   "cell_type": "code",
   "execution_count": 9,
   "metadata": {},
   "outputs": [
    {
     "name": "stdout",
     "output_type": "stream",
     "text": [
      "dict_keys(['loss', 'accuracy', 'val_loss', 'val_accuracy'])\n"
     ]
    },
    {
     "data": {
      "image/png": "[encoded data removed]",
      "text/plain": [
       "<Figure size 432x288 with 1 Axes>"
      ]
     },
     "metadata": {
      "needs_background": "light"
     },
     "output_type": "display_data"
    },
    {
     "data": {
      "image/png": "[encoded data removed]",
      "text/plain": [
       "<Figure size 432x288 with 1 Axes>"
      ]
     },
     "metadata": {
      "needs_background": "light"
     },
     "output_type": "display_data"
    }
   ],
   "source": [
    "import matplotlib.pyplot as plt\n",
    "# list all data in history\n",
    "print(history.history.keys())\n",
    "# summarize history for accuracy\n",
    "plt.plot(history.history['accuracy'])\n",
    "plt.plot(history.history['val_accuracy'])\n",
    "plt.title('model accuracy')\n",
    "plt.ylabel('accuracy')\n",
    "plt.xlabel('epoch')\n",
    "plt.legend(['train', 'test'], loc='upper left')\n",
    "plt.show()\n",
    "# summarize history for loss\n",
    "plt.plot(history.history['loss'])\n",
    "plt.plot(history.history['val_loss'])\n",
    "plt.title('model loss')\n",
    "plt.ylabel('loss')\n",
    "plt.xlabel('epoch')\n",
    "plt.legend(['train', 'test'], loc='upper left')\n",
    "plt.show()"
   ]
  },
  {
   "cell_type": "code",
   "execution_count": null,
   "metadata": {},
   "outputs": [],
   "source": []
  }
 ],
 "metadata": {
  "kernelspec": {
   "display_name": "Python 3",
   "language": "python",
   "name": "python3"
  },
  "language_info": {
   "codemirror_mode": {
    "name": "ipython",
    "version": 3
   },
   "file_extension": ".py",
   "mimetype": "text/x-python",
   "name": "python",
   "nbconvert_exporter": "python",
   "pygments_lexer": "ipython3",
   "version": "3.8.5"
  }
 },
 "nbformat": 4,
 "nbformat_minor": 4
}
