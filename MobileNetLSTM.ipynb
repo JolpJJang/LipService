{
  "nbformat": 4,
  "nbformat_minor": 0,
  "metadata": {
    "accelerator": "GPU",
    "colab": {
      "name": "MobileNetLSTM.ipynb",
      "provenance": [],
      "machine_shape": "hm",
      "authorship_tag": "ABX9TyP3MS07Uco/U7g+5qmd5KS1"
    },
    "kernelspec": {
      "display_name": "Python 3",
      "name": "python3"
    },
    "language_info": {
      "name": "python"
    }
  },
  "cells": [
    {
      "cell_type": "code",
      "metadata": {
        "id": "16GDW75_KqcG"
      },
      "source": [
        "import numpy as np\n",
        "from sklearn.model_selection import train_test_split\n",
        "from keras.callbacks import EarlyStopping\n",
        "import tensorflow as tf\n",
        "from tensorflow import keras\n",
        "from tensorflow.keras import layers\n",
        "from keras.models import Sequential\n",
        "from keras import models, layers, activations\n",
        "from keras.layers import Conv2D, TimeDistributed, BatchNormalization, MaxPooling2D, Flatten, Bidirectional, Dense,Dropout,Flatten"
      ],
      "execution_count": 1,
      "outputs": []
    },
    {
      "cell_type": "code",
      "metadata": {
        "colab": {
          "base_uri": "https://localhost:8080/"
        },
        "id": "E4dUbzT_KrJZ",
        "outputId": "215848f4-aaf8-4802-b4bd-eb3a4692f867"
      },
      "source": [
        "from google.colab import drive\n",
        "\n",
        "drive.mount('/content/gdrive')"
      ],
      "execution_count": 2,
      "outputs": [
        {
          "output_type": "stream",
          "text": [
            "Mounted at /content/gdrive\n"
          ],
          "name": "stdout"
        }
      ]
    },
    {
      "cell_type": "code",
      "metadata": {
        "colab": {
          "base_uri": "https://localhost:8080/"
        },
        "id": "5CoSZVaaKs7A",
        "outputId": "76a6c527-1e4b-4c44-d549-7c3b11b94b29"
      },
      "source": [
        "x_data = np.load('/content/gdrive/My Drive/jolp/lip/lip_x_data.npy') # x_save.npy\n",
        "y_data = np.load('/content/gdrive/My Drive/jolp/lip/lip_y_data.npy') # y_data.npy\n",
        "\n",
        "\n",
        "\n",
        "y_data = keras.utils.to_categorical(y_data, num_classes=None)\n",
        "#X_train, X_test, Y_train, Y_test = train_test_split(x_data, y_data, test_size = 0.2, shuffle = True, stratify=y_data)\n",
        "print(x_data.shape, y_data.shape)"
      ],
      "execution_count": 3,
      "outputs": [
        {
          "output_type": "stream",
          "text": [
            "(3000, 27, 64, 64, 3) (3000, 11)\n"
          ],
          "name": "stdout"
        }
      ]
    },
    {
      "cell_type": "code",
      "metadata": {
        "colab": {
          "base_uri": "https://localhost:8080/"
        },
        "id": "ftDjQ4RwKzDs",
        "outputId": "e5839dca-24e9-4a53-adfe-0ca67364bbac"
      },
      "source": [
        "# Train과 Test 분리\n",
        "X_train, X_test, Y_train, Y_test = train_test_split(x_data, y_data, test_size = 0.2, shuffle = True, stratify=y_data)\\\n",
        "#X_train, X_test, Y_train, Y_test = train_test_split(x_data, y_data, test_size = 0.2, shuffle = False)\n",
        "print(\"x_train: {}, X_test: {}\".format(X_train.shape, X_test.shape))\n",
        "print(\"Y_train: {}, Y_test: {}\".format(Y_train.shape, Y_test.shape))"
      ],
      "execution_count": 4,
      "outputs": [
        {
          "output_type": "stream",
          "text": [
            "x_train: (2400, 27, 64, 64, 3), X_test: (600, 27, 64, 64, 3)\n",
            "Y_train: (2400, 11), Y_test: (600, 11)\n"
          ],
          "name": "stdout"
        }
      ]
    },
    {
      "cell_type": "code",
      "metadata": {
        "id": "VyeW-Rh-K3Tn"
      },
      "source": [
        "from tensorflow.keras.applications.mobilenet import MobileNet\n",
        "from tensorflow.keras.layers import Input\n",
        "\n",
        "\n",
        "# this could also be the output a different Keras model or layer\n",
        "#input_tensor = Input(shape=(224, 224, 3))\n",
        "\n",
        "#model = InceptionV3(input_tensor=input_tensor, weights='imagenet', include_top=True)\n",
        "\n",
        "class MobileNet_LSTM(keras.Model):\n",
        "    def __init__(self, num_classes):\n",
        "        super(MobileNet_LSTM, self).__init__()\n",
        "        #self.BZ = input_shape[0]\n",
        "        #self.frame = input_shape[1]\n",
        "\n",
        "        self.mobile = TimeDistributed(MobileNet(weights='imagenet', include_top=False))\n",
        "        #self.vgg.trainable = False\n",
        "\n",
        "        self.bilstm = layers.Bidirectional(layers.LSTM(256), merge_mode='concat')\n",
        "        self.dense = layers.Dense(num_classes, activation='softmax')\n",
        "        self.max = TimeDistributed(MaxPooling2D(pool_size=(2, 2)))\n",
        "        self.dropout = layers.Dropout(0.2)\n",
        "        self.flat= TimeDistributed(Flatten())\n",
        "\n",
        "    def call(self, x):\n",
        "        x = self.mobile(x)\n",
        "        x = self.max(x)\n",
        "        x = self.dropout(x)      \n",
        "        x = self.flat(x)\n",
        "        x = self.dropout(x)\n",
        "        x = self.bilstm(x)\n",
        "        return self.dense(x)"
      ],
      "execution_count": 5,
      "outputs": []
    },
    {
      "cell_type": "code",
      "metadata": {
        "id": "YZzd4UlKK5CE"
      },
      "source": [
        "def get_model():\n",
        "    return MobileNet_LSTM(num_classes =11)"
      ],
      "execution_count": 6,
      "outputs": []
    },
    {
      "cell_type": "code",
      "metadata": {
        "colab": {
          "base_uri": "https://localhost:8080/"
        },
        "id": "WcjU8VfsK5EV",
        "outputId": "4db1bae0-9ffd-46a0-9f48-bd6f9dee4dd3"
      },
      "source": [
        "tf.config.experimental_run_functions_eagerly(True)"
      ],
      "execution_count": 7,
      "outputs": [
        {
          "output_type": "stream",
          "text": [
            "WARNING:tensorflow:From <ipython-input-7-bdb3352f611a>:1: experimental_run_functions_eagerly (from tensorflow.python.eager.def_function) is deprecated and will be removed in a future version.\n",
            "Instructions for updating:\n",
            "Use `tf.config.run_functions_eagerly` instead of the experimental version.\n"
          ],
          "name": "stdout"
        }
      ]
    },
    {
      "cell_type": "code",
      "metadata": {
        "colab": {
          "base_uri": "https://localhost:8080/"
        },
        "id": "kgInUWt1K8MX",
        "outputId": "02ed7858-81d6-41aa-b082-dab1c83d9058"
      },
      "source": [
        "\n",
        "model = get_model()\n",
        "model.compile(optimizer = 'adam', loss = 'categorical_crossentropy', metrics = ['accuracy'])"
      ],
      "execution_count": 8,
      "outputs": [
        {
          "output_type": "stream",
          "text": [
            "WARNING:tensorflow:`input_shape` is undefined or non-square, or `rows` is not in [128, 160, 192, 224]. Weights for input shape (224, 224) will be loaded as the default.\n",
            "Downloading data from https://storage.googleapis.com/tensorflow/keras-applications/mobilenet/mobilenet_1_0_224_tf_no_top.h5\n",
            "17227776/17225924 [==============================] - 0s 0us/step\n"
          ],
          "name": "stdout"
        }
      ]
    },
    {
      "cell_type": "code",
      "metadata": {
        "colab": {
          "base_uri": "https://localhost:8080/"
        },
        "id": "mxaZmL_FK8Qf",
        "outputId": "44f2c44a-f0f5-4d16-abcd-be23f17f4a51"
      },
      "source": [
        "es = EarlyStopping(monitor = 'val_loss', patience = 10)\n",
        "history = model.fit(X_train, Y_train, batch_size= 32, epochs= 100, verbose = 1, validation_split = 0.2, callbacks=[es])"
      ],
      "execution_count": 9,
      "outputs": [
        {
          "output_type": "stream",
          "text": [
            "/usr/local/lib/python3.7/dist-packages/tensorflow/python/data/ops/dataset_ops.py:3504: UserWarning: Even though the tf.config.experimental_run_functions_eagerly option is set, this option does not apply to tf.data functions. tf.data functions are still traced and executed as graphs.\n",
            "  \"Even though the tf.config.experimental_run_functions_eagerly \"\n"
          ],
          "name": "stderr"
        },
        {
          "output_type": "stream",
          "text": [
            "Epoch 1/100\n",
            "60/60 [==============================] - 30s 214ms/step - loss: 2.4642 - accuracy: 0.1168 - val_loss: 2.3288 - val_accuracy: 0.1021\n",
            "Epoch 2/100\n",
            "60/60 [==============================] - 12s 197ms/step - loss: 2.3130 - accuracy: 0.1168 - val_loss: 2.3379 - val_accuracy: 0.1083\n",
            "Epoch 3/100\n",
            "60/60 [==============================] - 12s 196ms/step - loss: 2.2543 - accuracy: 0.1634 - val_loss: 2.2339 - val_accuracy: 0.1625\n",
            "Epoch 4/100\n",
            "60/60 [==============================] - 12s 194ms/step - loss: 2.1246 - accuracy: 0.2044 - val_loss: 2.2520 - val_accuracy: 0.1688\n",
            "Epoch 5/100\n",
            "60/60 [==============================] - 12s 196ms/step - loss: 2.0361 - accuracy: 0.2298 - val_loss: 2.0203 - val_accuracy: 0.2104\n",
            "Epoch 6/100\n",
            "60/60 [==============================] - 12s 194ms/step - loss: 1.9413 - accuracy: 0.2533 - val_loss: 2.0662 - val_accuracy: 0.1792\n",
            "Epoch 7/100\n",
            "60/60 [==============================] - 12s 198ms/step - loss: 1.8473 - accuracy: 0.3209 - val_loss: 1.9059 - val_accuracy: 0.2833\n",
            "Epoch 8/100\n",
            "60/60 [==============================] - 12s 196ms/step - loss: 1.7530 - accuracy: 0.3388 - val_loss: 2.0175 - val_accuracy: 0.2500\n",
            "Epoch 9/100\n",
            "60/60 [==============================] - 12s 205ms/step - loss: 1.6011 - accuracy: 0.4345 - val_loss: 1.7339 - val_accuracy: 0.3688\n",
            "Epoch 10/100\n",
            "60/60 [==============================] - 12s 206ms/step - loss: 1.5266 - accuracy: 0.4543 - val_loss: 2.5214 - val_accuracy: 0.2042\n",
            "Epoch 11/100\n",
            "60/60 [==============================] - 12s 204ms/step - loss: 1.3565 - accuracy: 0.5130 - val_loss: 1.6114 - val_accuracy: 0.4083\n",
            "Epoch 12/100\n",
            "60/60 [==============================] - 12s 205ms/step - loss: 1.3223 - accuracy: 0.5128 - val_loss: 1.8612 - val_accuracy: 0.3917\n",
            "Epoch 13/100\n",
            "60/60 [==============================] - 12s 199ms/step - loss: 1.2877 - accuracy: 0.5510 - val_loss: 1.3584 - val_accuracy: 0.4979\n",
            "Epoch 14/100\n",
            "60/60 [==============================] - 12s 199ms/step - loss: 1.0614 - accuracy: 0.6500 - val_loss: 2.7005 - val_accuracy: 0.1917\n",
            "Epoch 15/100\n",
            "60/60 [==============================] - 12s 198ms/step - loss: 0.9333 - accuracy: 0.6869 - val_loss: 1.0377 - val_accuracy: 0.6417\n",
            "Epoch 16/100\n",
            "60/60 [==============================] - 12s 198ms/step - loss: 0.8380 - accuracy: 0.7328 - val_loss: 1.0878 - val_accuracy: 0.6125\n",
            "Epoch 17/100\n",
            "60/60 [==============================] - 12s 203ms/step - loss: 0.7051 - accuracy: 0.7925 - val_loss: 2.3712 - val_accuracy: 0.2771\n",
            "Epoch 18/100\n",
            "60/60 [==============================] - 12s 207ms/step - loss: 0.5685 - accuracy: 0.8146 - val_loss: 1.1444 - val_accuracy: 0.5583\n",
            "Epoch 19/100\n",
            "60/60 [==============================] - 12s 205ms/step - loss: 0.5146 - accuracy: 0.8335 - val_loss: 0.7684 - val_accuracy: 0.7271\n",
            "Epoch 20/100\n",
            "60/60 [==============================] - 12s 202ms/step - loss: 0.3596 - accuracy: 0.9010 - val_loss: 1.4707 - val_accuracy: 0.5917\n",
            "Epoch 21/100\n",
            "60/60 [==============================] - 12s 201ms/step - loss: 0.3008 - accuracy: 0.9230 - val_loss: 0.6286 - val_accuracy: 0.7729\n",
            "Epoch 22/100\n",
            "60/60 [==============================] - 12s 202ms/step - loss: 0.1925 - accuracy: 0.9658 - val_loss: 0.8945 - val_accuracy: 0.7208\n",
            "Epoch 23/100\n",
            "60/60 [==============================] - 12s 201ms/step - loss: 0.1584 - accuracy: 0.9663 - val_loss: 0.5793 - val_accuracy: 0.7812\n",
            "Epoch 24/100\n",
            "60/60 [==============================] - 12s 202ms/step - loss: 0.1491 - accuracy: 0.9602 - val_loss: 0.7826 - val_accuracy: 0.7625\n",
            "Epoch 25/100\n",
            "60/60 [==============================] - 12s 201ms/step - loss: 0.1585 - accuracy: 0.9628 - val_loss: 1.8284 - val_accuracy: 0.5312\n",
            "Epoch 26/100\n",
            "60/60 [==============================] - 12s 203ms/step - loss: 0.1144 - accuracy: 0.9750 - val_loss: 0.7277 - val_accuracy: 0.7708\n",
            "Epoch 27/100\n",
            "60/60 [==============================] - 12s 207ms/step - loss: 0.0914 - accuracy: 0.9797 - val_loss: 0.6232 - val_accuracy: 0.8042\n",
            "Epoch 28/100\n",
            "60/60 [==============================] - 13s 209ms/step - loss: 0.0630 - accuracy: 0.9904 - val_loss: 0.7233 - val_accuracy: 0.7604\n",
            "Epoch 29/100\n",
            "60/60 [==============================] - 12s 205ms/step - loss: 0.1181 - accuracy: 0.9654 - val_loss: 1.4727 - val_accuracy: 0.5646\n",
            "Epoch 30/100\n",
            "60/60 [==============================] - 12s 208ms/step - loss: 0.1269 - accuracy: 0.9619 - val_loss: 1.0295 - val_accuracy: 0.7104\n",
            "Epoch 31/100\n",
            "60/60 [==============================] - 12s 204ms/step - loss: 0.1229 - accuracy: 0.9641 - val_loss: 0.5479 - val_accuracy: 0.8333\n",
            "Epoch 32/100\n",
            "60/60 [==============================] - 12s 205ms/step - loss: 0.0717 - accuracy: 0.9863 - val_loss: 0.5871 - val_accuracy: 0.8188\n",
            "Epoch 33/100\n",
            "60/60 [==============================] - 12s 202ms/step - loss: 0.0919 - accuracy: 0.9697 - val_loss: 0.6883 - val_accuracy: 0.7729\n",
            "Epoch 34/100\n",
            "60/60 [==============================] - 12s 204ms/step - loss: 0.0723 - accuracy: 0.9816 - val_loss: 0.5040 - val_accuracy: 0.8500\n",
            "Epoch 35/100\n",
            "60/60 [==============================] - 12s 203ms/step - loss: 0.0397 - accuracy: 0.9924 - val_loss: 0.4136 - val_accuracy: 0.8708\n",
            "Epoch 36/100\n",
            "60/60 [==============================] - 12s 205ms/step - loss: 0.0505 - accuracy: 0.9859 - val_loss: 0.5594 - val_accuracy: 0.8375\n",
            "Epoch 37/100\n",
            "60/60 [==============================] - 12s 203ms/step - loss: 0.0438 - accuracy: 0.9895 - val_loss: 0.5514 - val_accuracy: 0.8646\n",
            "Epoch 38/100\n",
            "60/60 [==============================] - 12s 203ms/step - loss: 0.0479 - accuracy: 0.9880 - val_loss: 0.5002 - val_accuracy: 0.8292\n",
            "Epoch 39/100\n",
            "60/60 [==============================] - 12s 206ms/step - loss: 0.0430 - accuracy: 0.9888 - val_loss: 0.4447 - val_accuracy: 0.8542\n",
            "Epoch 40/100\n",
            "60/60 [==============================] - 12s 203ms/step - loss: 0.0619 - accuracy: 0.9799 - val_loss: 0.5896 - val_accuracy: 0.8167\n",
            "Epoch 41/100\n",
            "60/60 [==============================] - 12s 204ms/step - loss: 0.0745 - accuracy: 0.9815 - val_loss: 0.6931 - val_accuracy: 0.8104\n",
            "Epoch 42/100\n",
            "60/60 [==============================] - 12s 203ms/step - loss: 0.1030 - accuracy: 0.9686 - val_loss: 0.6741 - val_accuracy: 0.8083\n",
            "Epoch 43/100\n",
            "60/60 [==============================] - 12s 206ms/step - loss: 0.1177 - accuracy: 0.9649 - val_loss: 1.1832 - val_accuracy: 0.6875\n",
            "Epoch 44/100\n",
            "60/60 [==============================] - 12s 204ms/step - loss: 0.1932 - accuracy: 0.9375 - val_loss: 0.6828 - val_accuracy: 0.7917\n",
            "Epoch 45/100\n",
            "60/60 [==============================] - 12s 204ms/step - loss: 0.0858 - accuracy: 0.9730 - val_loss: 1.0792 - val_accuracy: 0.7167\n"
          ],
          "name": "stdout"
        }
      ]
    },
    {
      "cell_type": "code",
      "metadata": {
        "colab": {
          "base_uri": "https://localhost:8080/"
        },
        "id": "z-hY8020LDrS",
        "outputId": "85e2948c-1001-4d45-a9fa-364e4e2f72b1"
      },
      "source": [
        "history.history"
      ],
      "execution_count": 12,
      "outputs": [
        {
          "output_type": "execute_result",
          "data": {
            "text/plain": [
              "{'accuracy': [0.1119791641831398,\n",
              "  0.1119791641831398,\n",
              "  0.16354165971279144,\n",
              "  0.21041665971279144,\n",
              "  0.2265625,\n",
              "  0.2760416567325592,\n",
              "  0.33125001192092896,\n",
              "  0.3515625,\n",
              "  0.42395833134651184,\n",
              "  0.47968751192092896,\n",
              "  0.512499988079071,\n",
              "  0.5067708492279053,\n",
              "  0.5651041865348816,\n",
              "  0.6468750238418579,\n",
              "  0.6859375238418579,\n",
              "  0.734375,\n",
              "  0.7869791388511658,\n",
              "  0.8098958134651184,\n",
              "  0.8505208492279053,\n",
              "  0.8901041746139526,\n",
              "  0.926562488079071,\n",
              "  0.9583333134651184,\n",
              "  0.9614583253860474,\n",
              "  0.9546874761581421,\n",
              "  0.9682291746139526,\n",
              "  0.9760416746139526,\n",
              "  0.9739583134651184,\n",
              "  0.9859374761581421,\n",
              "  0.9645833373069763,\n",
              "  0.9598958492279053,\n",
              "  0.9677083492279053,\n",
              "  0.981249988079071,\n",
              "  0.96875,\n",
              "  0.9864583611488342,\n",
              "  0.9895833134651184,\n",
              "  0.9828125238418579,\n",
              "  0.9864583611488342,\n",
              "  0.9880208373069763,\n",
              "  0.987500011920929,\n",
              "  0.979687511920929,\n",
              "  0.9807291626930237,\n",
              "  0.9677083492279053,\n",
              "  0.9630208611488342,\n",
              "  0.9458333253860474,\n",
              "  0.9703124761581421],\n",
              " 'loss': [2.407205104827881,\n",
              "  2.313599109649658,\n",
              "  2.2481706142425537,\n",
              "  2.1107513904571533,\n",
              "  2.025263547897339,\n",
              "  1.9137027263641357,\n",
              "  1.8192352056503296,\n",
              "  1.7265315055847168,\n",
              "  1.6143494844436646,\n",
              "  1.4801594018936157,\n",
              "  1.3635839223861694,\n",
              "  1.3361955881118774,\n",
              "  1.2445961236953735,\n",
              "  1.0517200231552124,\n",
              "  0.9475768804550171,\n",
              "  0.8203060030937195,\n",
              "  0.69167160987854,\n",
              "  0.5786550641059875,\n",
              "  0.49160388112068176,\n",
              "  0.37141692638397217,\n",
              "  0.29309991002082825,\n",
              "  0.19047078490257263,\n",
              "  0.16244295239448547,\n",
              "  0.16426044702529907,\n",
              "  0.14440570771694183,\n",
              "  0.10975588113069534,\n",
              "  0.10272996872663498,\n",
              "  0.06740566343069077,\n",
              "  0.12449090927839279,\n",
              "  0.1346452832221985,\n",
              "  0.11456093192100525,\n",
              "  0.07998437434434891,\n",
              "  0.09640095382928848,\n",
              "  0.057681821286678314,\n",
              "  0.045230086892843246,\n",
              "  0.062065545469522476,\n",
              "  0.04711465165019035,\n",
              "  0.045276131480932236,\n",
              "  0.04872241988778114,\n",
              "  0.0663662776350975,\n",
              "  0.06554152816534042,\n",
              "  0.0984228178858757,\n",
              "  0.12247064709663391,\n",
              "  0.16327199339866638,\n",
              "  0.089873768389225],\n",
              " 'val_accuracy': [0.10208333283662796,\n",
              "  0.10833333432674408,\n",
              "  0.16249999403953552,\n",
              "  0.16875000298023224,\n",
              "  0.21041665971279144,\n",
              "  0.17916665971279144,\n",
              "  0.28333333134651184,\n",
              "  0.25,\n",
              "  0.3687500059604645,\n",
              "  0.20416666567325592,\n",
              "  0.40833333134651184,\n",
              "  0.3916666805744171,\n",
              "  0.49791666865348816,\n",
              "  0.19166666269302368,\n",
              "  0.6416666507720947,\n",
              "  0.612500011920929,\n",
              "  0.2770833373069763,\n",
              "  0.5583333373069763,\n",
              "  0.7270833253860474,\n",
              "  0.5916666388511658,\n",
              "  0.7729166746139526,\n",
              "  0.7208333611488342,\n",
              "  0.78125,\n",
              "  0.762499988079071,\n",
              "  0.53125,\n",
              "  0.7708333134651184,\n",
              "  0.8041666746139526,\n",
              "  0.7604166865348816,\n",
              "  0.5645833611488342,\n",
              "  0.7104166746139526,\n",
              "  0.8333333134651184,\n",
              "  0.8187500238418579,\n",
              "  0.7729166746139526,\n",
              "  0.8500000238418579,\n",
              "  0.8708333373069763,\n",
              "  0.8374999761581421,\n",
              "  0.8645833134651184,\n",
              "  0.8291666507720947,\n",
              "  0.8541666865348816,\n",
              "  0.8166666626930237,\n",
              "  0.8104166388511658,\n",
              "  0.8083333373069763,\n",
              "  0.6875,\n",
              "  0.7916666865348816,\n",
              "  0.7166666388511658],\n",
              " 'val_loss': [2.3287932872772217,\n",
              "  2.3378961086273193,\n",
              "  2.2339272499084473,\n",
              "  2.252037286758423,\n",
              "  2.0203001499176025,\n",
              "  2.0662026405334473,\n",
              "  1.9058665037155151,\n",
              "  2.017465353012085,\n",
              "  1.733887791633606,\n",
              "  2.521446943283081,\n",
              "  1.6113699674606323,\n",
              "  1.8612339496612549,\n",
              "  1.3584092855453491,\n",
              "  2.70048451423645,\n",
              "  1.0377466678619385,\n",
              "  1.0877950191497803,\n",
              "  2.371203660964966,\n",
              "  1.1443790197372437,\n",
              "  0.768383800983429,\n",
              "  1.470690131187439,\n",
              "  0.6286000609397888,\n",
              "  0.8944646120071411,\n",
              "  0.5792641043663025,\n",
              "  0.7825798392295837,\n",
              "  1.82835054397583,\n",
              "  0.7277103662490845,\n",
              "  0.6231603622436523,\n",
              "  0.7233467698097229,\n",
              "  1.4727470874786377,\n",
              "  1.0294877290725708,\n",
              "  0.5478574633598328,\n",
              "  0.5871469974517822,\n",
              "  0.6883180141448975,\n",
              "  0.5040435791015625,\n",
              "  0.4136463701725006,\n",
              "  0.5594145059585571,\n",
              "  0.5514453053474426,\n",
              "  0.5002489686012268,\n",
              "  0.4447270631790161,\n",
              "  0.5896348357200623,\n",
              "  0.693130373954773,\n",
              "  0.674130380153656,\n",
              "  1.1831775903701782,\n",
              "  0.6827758550643921,\n",
              "  1.0792412757873535]}"
            ]
          },
          "metadata": {
            "tags": []
          },
          "execution_count": 12
        }
      ]
    },
    {
      "cell_type": "code",
      "metadata": {
        "colab": {
          "base_uri": "https://localhost:8080/",
          "height": 590
        },
        "id": "rIVkh1U-LGd3",
        "outputId": "29deb229-0a2a-475e-b296-752bcc841981"
      },
      "source": [
        "import matplotlib.pyplot as plt\n",
        "# list all data in history\n",
        "print(history.history.keys())\n",
        "# summarize history for accuracy\n",
        "plt.plot(history.history['accuracy'])\n",
        "plt.plot(history.history['val_accuracy'])\n",
        "plt.title('model accuracy')\n",
        "plt.ylabel('accuracy')\n",
        "plt.xlabel('epoch')\n",
        "plt.legend(['train', 'test'], loc='upper left')\n",
        "plt.show()\n",
        "# summarize history for loss\n",
        "plt.plot(history.history['loss'])\n",
        "plt.plot(history.history['val_loss'])\n",
        "plt.title('model loss')\n",
        "plt.ylabel('loss')\n",
        "plt.xlabel('epoch')\n",
        "plt.legend(['train', 'test'], loc='upper left')\n",
        "plt.show()"
      ],
      "execution_count": 13,
      "outputs": [
        {
          "output_type": "stream",
          "text": [
            "dict_keys(['loss', 'accuracy', 'val_loss', 'val_accuracy'])\n"
          ],
          "name": "stdout"
        },
        {
          "output_type": "display_data",
          "data": {
            "image/png": "[encoded data removed]",
            "text/plain": [
              "<Figure size 432x288 with 1 Axes>"
            ]
          },
          "metadata": {
            "tags": [],
            "needs_background": "light"
          }
        },
        {
          "output_type": "display_data",
          "data": {
            "image/png": "[encoded data removed]",
            "text/plain": [
              "<Figure size 432x288 with 1 Axes>"
            ]
          },
          "metadata": {
            "tags": [],
            "needs_background": "light"
          }
        }
      ]
    },
    {
      "cell_type": "code",
      "metadata": {
        "id": "KAGquR3OLmm3"
      },
      "source": [
        ""
      ],
      "execution_count": 11,
      "outputs": []
    }
  ]
}