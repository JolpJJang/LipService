{
 "cells": [
  {
   "cell_type": "code",
   "execution_count": 1,
   "metadata": {},
   "outputs": [],
   "source": [
    "import numpy as np\n",
    "from sklearn.model_selection import train_test_split\n",
    "\n",
    "import tensorflow as tf\n",
    "from tensorflow import keras\n",
    "from tensorflow.keras import layers\n",
    "from keras.models import Sequential\n",
    "from keras import models, layers, activations\n",
    "from keras.layers import Conv2D, TimeDistributed, BatchNormalization, MaxPooling2D, Flatten, Bidirectional, Dense, Dropout, Embedding\n",
    "from keras.callbacks import EarlyStopping"
   ]
  },
  {
   "cell_type": "code",
   "execution_count": 2,
   "metadata": {},
   "outputs": [
    {
     "name": "stdout",
     "output_type": "stream",
     "text": [
      "(3000, 27, 64, 64, 3) (3000, 11)\n"
     ]
    }
   ],
   "source": [
    "x_data = np.load('lip/lip_x_data.npy') # x_save.npy\n",
    "y_data = np.load('lip/lip_y_data.npy') # y_data.npy\n",
    "y_data = keras.utils.to_categorical(y_data,11)\n",
    "print(x_data.shape, y_data.shape)"
   ]
  },
  {
   "cell_type": "code",
   "execution_count": 3,
   "metadata": {},
   "outputs": [
    {
     "name": "stdout",
     "output_type": "stream",
     "text": [
      "X_train: (2400, 27, 64, 64, 3), X_test: (600, 27, 64, 64, 3)\n",
      "Y_train: (2400, 11), Y_test: (600, 11)\n"
     ]
    }
   ],
   "source": [
    "# Train과 Test 분리\n",
    "X_train, X_test, Y_train, Y_test = train_test_split(x_data, y_data, test_size = 0.2, shuffle = True, stratify=y_data)\n",
    "#X_train = X_train / 255\n",
    "print(\"X_train: {}, X_test: {}\".format(X_train.shape, X_test.shape))\n",
    "print(\"Y_train: {}, Y_test: {}\".format(Y_train.shape, Y_test.shape))"
   ]
  },
  {
   "cell_type": "code",
   "execution_count": 4,
   "metadata": {},
   "outputs": [],
   "source": [
    "import efficientnet.keras as efn\n",
    "\n",
    "class EfficientNet_LSTM(keras.Model):\n",
    "    def __init__(self, num_classes):\n",
    "        super(EfficientNet_LSTM, self).__init__()\n",
    "        #self.BZ = input_shape[0]\n",
    "        #self.frame = input_shape[1]\n",
    "        self.EFNB0 = TimeDistributed(efn.EfficientNetB0(weights='imagenet', include_top=False,\n",
    "                                               pooling='max'))\n",
    "        self.EFNB0.trainable = False\n",
    "        self.bilstm = layers.Bidirectional(layers.LSTM(128), merge_mode='concat')\n",
    "        self.dense2 = layers.Dense(128, activation='relu')\n",
    "        self.dense = layers.Dense(num_classes, activation='softmax')\n",
    "        self.max_pool = TimeDistributed(MaxPooling2D(pool_size=(2, 2)))\n",
    "        self.dropout2 = layers.Dropout(0.2)\n",
    "        self.dropout3 = layers.Dropout(0.3)\n",
    "        self.flat = TimeDistributed(Flatten())\n",
    "\n",
    "    def call(self, x):\n",
    "        x = self.EFNB0(x)\n",
    "        x = self.flat(x)\n",
    "        x = self.dropout2(x)\n",
    "        x = self.bilstm(x)\n",
    "        #x = self.dense2(x)\n",
    "        x = self.dropout2(x)\n",
    "        return self.dense(x)"
   ]
  },
  {
   "cell_type": "code",
   "execution_count": 5,
   "metadata": {},
   "outputs": [],
   "source": [
    "def get_model_vgg():\n",
    "    return EfficientNet_LSTM(num_classes = 11)"
   ]
  },
  {
   "cell_type": "code",
   "execution_count": 6,
   "metadata": {},
   "outputs": [],
   "source": [
    "model = get_model_vgg()\n",
    "model.compile(optimizer = 'adam', loss = 'categorical_crossentropy', metrics = ['accuracy'])"
   ]
  },
  {
   "cell_type": "code",
   "execution_count": 7,
   "metadata": {},
   "outputs": [
    {
     "name": "stdout",
     "output_type": "stream",
     "text": [
      "Epoch 1/100\n",
      "60/60 [==============================] - 387s 6s/step - loss: 2.4376 - accuracy: 0.1032 - val_loss: 2.3204 - val_accuracy: 0.1083\n",
      "Epoch 2/100\n",
      "60/60 [==============================] - 303s 5s/step - loss: 2.3175 - accuracy: 0.1112 - val_loss: 2.2722 - val_accuracy: 0.1771\n",
      "Epoch 3/100\n",
      "60/60 [==============================] - 304s 5s/step - loss: 2.2460 - accuracy: 0.1496 - val_loss: 2.2228 - val_accuracy: 0.1583\n",
      "Epoch 4/100\n",
      "60/60 [==============================] - 302s 5s/step - loss: 2.1771 - accuracy: 0.2019 - val_loss: 2.1067 - val_accuracy: 0.3083\n",
      "Epoch 5/100\n",
      "60/60 [==============================] - 301s 5s/step - loss: 2.0935 - accuracy: 0.2357 - val_loss: 2.0703 - val_accuracy: 0.2729\n",
      "Epoch 6/100\n",
      "60/60 [==============================] - 306s 5s/step - loss: 1.9948 - accuracy: 0.2829 - val_loss: 1.9431 - val_accuracy: 0.3021\n",
      "Epoch 7/100\n",
      "60/60 [==============================] - 315s 5s/step - loss: 1.8766 - accuracy: 0.3146 - val_loss: 1.9137 - val_accuracy: 0.3208\n",
      "Epoch 8/100\n",
      "60/60 [==============================] - 306s 5s/step - loss: 1.7888 - accuracy: 0.3705 - val_loss: 1.7737 - val_accuracy: 0.3542\n",
      "Epoch 9/100\n",
      "60/60 [==============================] - 302s 5s/step - loss: 1.6558 - accuracy: 0.4200 - val_loss: 1.6441 - val_accuracy: 0.4271\n",
      "Epoch 10/100\n",
      "60/60 [==============================] - 302s 5s/step - loss: 1.5239 - accuracy: 0.4727 - val_loss: 1.6094 - val_accuracy: 0.4396\n",
      "Epoch 11/100\n",
      "60/60 [==============================] - 303s 5s/step - loss: 1.4278 - accuracy: 0.4999 - val_loss: 1.4599 - val_accuracy: 0.4771\n",
      "Epoch 12/100\n",
      "60/60 [==============================] - 301s 5s/step - loss: 1.3274 - accuracy: 0.5339 - val_loss: 1.4581 - val_accuracy: 0.5000\n",
      "Epoch 13/100\n",
      "60/60 [==============================] - 302s 5s/step - loss: 1.2432 - accuracy: 0.5584 - val_loss: 1.3608 - val_accuracy: 0.5104\n",
      "Epoch 14/100\n",
      "60/60 [==============================] - 302s 5s/step - loss: 1.1143 - accuracy: 0.6145 - val_loss: 1.3302 - val_accuracy: 0.5479\n",
      "Epoch 15/100\n",
      "60/60 [==============================] - 304s 5s/step - loss: 1.0876 - accuracy: 0.6131 - val_loss: 1.3399 - val_accuracy: 0.5417\n",
      "Epoch 16/100\n",
      "60/60 [==============================] - 303s 5s/step - loss: 1.0149 - accuracy: 0.6527 - val_loss: 1.2166 - val_accuracy: 0.5521\n",
      "Epoch 17/100\n",
      "60/60 [==============================] - 304s 5s/step - loss: 0.9295 - accuracy: 0.6936 - val_loss: 1.2449 - val_accuracy: 0.5500\n",
      "Epoch 18/100\n",
      "60/60 [==============================] - 305s 5s/step - loss: 0.8758 - accuracy: 0.7036 - val_loss: 1.1994 - val_accuracy: 0.5604\n",
      "Epoch 19/100\n",
      "60/60 [==============================] - 301s 5s/step - loss: 0.8321 - accuracy: 0.7020 - val_loss: 1.3231 - val_accuracy: 0.5437\n",
      "Epoch 20/100\n",
      "60/60 [==============================] - 302s 5s/step - loss: 0.8529 - accuracy: 0.7120 - val_loss: 1.3060 - val_accuracy: 0.5625\n",
      "Epoch 21/100\n",
      "60/60 [==============================] - 301s 5s/step - loss: 0.7324 - accuracy: 0.7537 - val_loss: 1.2049 - val_accuracy: 0.5688\n",
      "Epoch 22/100\n",
      "60/60 [==============================] - 301s 5s/step - loss: 0.6620 - accuracy: 0.7772 - val_loss: 1.1790 - val_accuracy: 0.5833\n",
      "Epoch 23/100\n",
      "60/60 [==============================] - 302s 5s/step - loss: 0.6588 - accuracy: 0.7853 - val_loss: 1.2091 - val_accuracy: 0.5750\n",
      "Epoch 24/100\n",
      "60/60 [==============================] - 303s 5s/step - loss: 0.6324 - accuracy: 0.7897 - val_loss: 1.1929 - val_accuracy: 0.5938\n",
      "Epoch 25/100\n",
      "60/60 [==============================] - 301s 5s/step - loss: 0.6347 - accuracy: 0.7865 - val_loss: 1.2181 - val_accuracy: 0.5771\n",
      "Epoch 26/100\n",
      "60/60 [==============================] - 303s 5s/step - loss: 0.5666 - accuracy: 0.8128 - val_loss: 1.2243 - val_accuracy: 0.5854\n",
      "Epoch 27/100\n",
      "60/60 [==============================] - 306s 5s/step - loss: 0.5455 - accuracy: 0.8249 - val_loss: 1.1413 - val_accuracy: 0.5979\n",
      "Epoch 28/100\n",
      "60/60 [==============================] - 301s 5s/step - loss: 0.5167 - accuracy: 0.8256 - val_loss: 1.0749 - val_accuracy: 0.5958\n",
      "Epoch 29/100\n",
      "60/60 [==============================] - 301s 5s/step - loss: 0.4804 - accuracy: 0.8477 - val_loss: 1.1543 - val_accuracy: 0.6062\n",
      "Epoch 30/100\n",
      "60/60 [==============================] - 301s 5s/step - loss: 0.4712 - accuracy: 0.8476 - val_loss: 1.1497 - val_accuracy: 0.6271\n",
      "Epoch 31/100\n",
      "60/60 [==============================] - 301s 5s/step - loss: 0.4744 - accuracy: 0.8351 - val_loss: 1.1299 - val_accuracy: 0.6167\n",
      "Epoch 32/100\n",
      "60/60 [==============================] - 303s 5s/step - loss: 0.4341 - accuracy: 0.8570 - val_loss: 1.1819 - val_accuracy: 0.6104\n",
      "Epoch 33/100\n",
      "60/60 [==============================] - 300s 5s/step - loss: 0.4006 - accuracy: 0.8753 - val_loss: 1.2528 - val_accuracy: 0.5792\n",
      "Epoch 34/100\n",
      "60/60 [==============================] - 302s 5s/step - loss: 0.5186 - accuracy: 0.8293 - val_loss: 1.0626 - val_accuracy: 0.6333\n",
      "Epoch 35/100\n",
      "60/60 [==============================] - 304s 5s/step - loss: 0.3663 - accuracy: 0.8719 - val_loss: 1.3444 - val_accuracy: 0.5896\n",
      "Epoch 36/100\n",
      "60/60 [==============================] - 301s 5s/step - loss: 0.4195 - accuracy: 0.8600 - val_loss: 1.1479 - val_accuracy: 0.6292\n",
      "Epoch 37/100\n",
      "60/60 [==============================] - 300s 5s/step - loss: 0.3720 - accuracy: 0.8864 - val_loss: 1.1699 - val_accuracy: 0.6229\n",
      "Epoch 38/100\n",
      "60/60 [==============================] - 302s 5s/step - loss: 0.3121 - accuracy: 0.9002 - val_loss: 1.2550 - val_accuracy: 0.5938\n",
      "Epoch 39/100\n",
      "60/60 [==============================] - 307s 5s/step - loss: 0.3717 - accuracy: 0.8736 - val_loss: 1.1573 - val_accuracy: 0.6292\n",
      "Epoch 40/100\n",
      "60/60 [==============================] - 311s 5s/step - loss: 0.3538 - accuracy: 0.8864 - val_loss: 1.1113 - val_accuracy: 0.6479\n",
      "Epoch 41/100\n",
      "60/60 [==============================] - 309s 5s/step - loss: 0.3074 - accuracy: 0.8991 - val_loss: 1.1825 - val_accuracy: 0.6271\n",
      "Epoch 42/100\n",
      "60/60 [==============================] - 303s 5s/step - loss: 0.3031 - accuracy: 0.8983 - val_loss: 1.2125 - val_accuracy: 0.6333\n",
      "Epoch 43/100\n",
      "60/60 [==============================] - 303s 5s/step - loss: 0.3343 - accuracy: 0.8947 - val_loss: 1.1408 - val_accuracy: 0.6583\n",
      "Epoch 44/100\n",
      "60/60 [==============================] - 300s 5s/step - loss: 0.3224 - accuracy: 0.8843 - val_loss: 1.2897 - val_accuracy: 0.6271\n"
     ]
    }
   ],
   "source": [
    "es = EarlyStopping(monitor = 'val_loss', patience = 10)\n",
    "history = model.fit(X_train, Y_train, batch_size=32, epochs=100, verbose = 1, validation_split=0.2, callbacks = [es])"
   ]
  },
  {
   "cell_type": "code",
   "execution_count": 8,
   "metadata": {},
   "outputs": [
    {
     "name": "stdout",
     "output_type": "stream",
     "text": [
      "dict_keys(['loss', 'accuracy', 'val_loss', 'val_accuracy'])\n"
     ]
    },
    {
     "data": {
      "image/png": "[encoded data removed]",
      "text/plain": [
       "<Figure size 432x288 with 1 Axes>"
      ]
     },
     "metadata": {
      "needs_background": "light"
     },
     "output_type": "display_data"
    },
    {
     "data": {
      "image/png": "[encoded data removed]",
      "text/plain": [
       "<Figure size 432x288 with 1 Axes>"
      ]
     },
     "metadata": {
      "needs_background": "light"
     },
     "output_type": "display_data"
    }
   ],
   "source": [
    "import matplotlib.pyplot as plt\n",
    "# list all data in history\n",
    "print(history.history.keys())\n",
    "# summarize history for accuracy\n",
    "plt.plot(history.history['accuracy'])\n",
    "plt.plot(history.history['val_accuracy'])\n",
    "plt.title('model accuracy')\n",
    "plt.ylabel('accuracy')\n",
    "plt.xlabel('epoch')\n",
    "plt.legend(['train', 'test'], loc='upper left')\n",
    "plt.show()\n",
    "# summarize history for loss\n",
    "plt.plot(history.history['loss'])\n",
    "plt.plot(history.history['val_loss'])\n",
    "plt.title('model loss')\n",
    "plt.ylabel('loss')\n",
    "plt.xlabel('epoch')\n",
    "plt.legend(['train', 'test'], loc='upper left')\n",
    "plt.show()"
   ]
  },
  {
   "cell_type": "code",
   "execution_count": null,
   "metadata": {},
   "outputs": [],
   "source": []
  }
 ],
 "metadata": {
  "kernelspec": {
   "display_name": "Python 3",
   "language": "python",
   "name": "python3"
  },
  "language_info": {
   "codemirror_mode": {
    "name": "ipython",
    "version": 3
   },
   "file_extension": ".py",
   "mimetype": "text/x-python",
   "name": "python",
   "nbconvert_exporter": "python",
   "pygments_lexer": "ipython3",
   "version": "3.8.5"
  }
 },
 "nbformat": 4,
 "nbformat_minor": 4
}
