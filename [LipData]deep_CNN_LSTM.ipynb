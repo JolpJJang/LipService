{
 "cells": [
  {
   "cell_type": "code",
   "execution_count": 2,
   "metadata": {},
   "outputs": [],
   "source": [
    "import numpy as np\n",
    "from sklearn.model_selection import train_test_split\n",
    "\n",
    "import tensorflow as tf\n",
    "from tensorflow import keras\n",
    "from tensorflow.keras import layers\n",
    "from keras.models import Sequential\n",
    "from keras import models, layers, activations\n",
    "from keras.layers import Conv2D, TimeDistributed, BatchNormalization, MaxPooling2D, Flatten, Bidirectional, Dense,Dropout,Flatten\n",
    "from keras.callbacks import EarlyStopping"
   ]
  },
  {
   "cell_type": "code",
   "execution_count": 3,
   "metadata": {},
   "outputs": [
    {
     "name": "stdout",
     "output_type": "stream",
     "text": [
      "(3000, 27, 64, 64, 3) (3000, 11)\n"
     ]
    }
   ],
   "source": [
    "x_data = np.load('lip_x_data.npy')\n",
    "y_data = np.load('lip_y_data.npy')\n",
    "y_data = keras.utils.to_categorical(y_data,11)\n",
    "print(x_data.shape, y_data.shape)"
   ]
  },
  {
   "cell_type": "code",
   "execution_count": 4,
   "metadata": {},
   "outputs": [
    {
     "name": "stdout",
     "output_type": "stream",
     "text": [
      "x_train: (2400, 27, 64, 64, 3), X_test: (600, 27, 64, 64, 3)\n",
      "Y_train: (2400, 11), Y_test: (600, 11)\n"
     ]
    }
   ],
   "source": [
    "# Train과 Test 분리\n",
    "X_train, X_test, Y_train, Y_test = train_test_split(x_data, y_data, test_size = 0.2, shuffle = True, stratify=y_data)\n",
    "print(\"x_train: {}, X_test: {}\".format(X_train.shape, X_test.shape))\n",
    "print(\"Y_train: {}, Y_test: {}\".format(Y_train.shape, Y_test.shape))"
   ]
  },
  {
   "cell_type": "code",
   "execution_count": 5,
   "metadata": {},
   "outputs": [],
   "source": [
    "class deep_CNN_LSTM(keras.Model):\n",
    "    def __init__(self, num_classes):\n",
    "        super(deep_CNN_LSTM, self).__init__()\n",
    "        self.conv1 = TimeDistributed(Conv2D(64, kernel_size=(5,5), activation = 'relu'))\n",
    "        self.conv2 = TimeDistributed(Conv2D(32, kernel_size=(5,5), activation = 'relu'))\n",
    "        self.conv3 = TimeDistributed(Conv2D(64, kernel_size=(5,5), activation = 'relu'))\n",
    "        \n",
    "        self.bilstm = layers.Bidirectional(layers.LSTM(256), merge_mode = 'concat')\n",
    "        self.dense = layers.Dense(num_classes, activation = 'softmax')\n",
    "        self.max_pool= TimeDistributed(MaxPooling2D(pool_size= (2,2)))\n",
    "        self.dropout = layers.Dropout(0.2)\n",
    "        self.flat= TimeDistributed(Flatten())\n",
    "        \n",
    "    def call(self, x):\n",
    "        x = self.conv1(x)\n",
    "        x = TimeDistributed(MaxPooling2D(pool_size= (2,2)))(x)\n",
    "        x = self.dropout(x)\n",
    "        x = BatchNormalization()(x)\n",
    "        x = self.conv2(x)\n",
    "        x = TimeDistributed(MaxPooling2D(pool_size= (2,2)))(x)\n",
    "        x = self.dropout(x)\n",
    "        x = BatchNormalization()(x)\n",
    "        x = self.conv3(x)\n",
    "        x = TimeDistributed(MaxPooling2D(pool_size= (2,2)))(x)\n",
    "        x = self.dropout(x)\n",
    "        x = BatchNormalization()(x)\n",
    "        x = self.flat(x)\n",
    "        x = self.bilstm(x)\n",
    "        x = self.dense(x)\n",
    "        return x"
   ]
  },
  {
   "cell_type": "code",
   "execution_count": 6,
   "metadata": {},
   "outputs": [],
   "source": [
    "def get_model():\n",
    "    return deep_CNN_LSTM(num_classes = 11)"
   ]
  },
  {
   "cell_type": "code",
   "execution_count": 7,
   "metadata": {},
   "outputs": [
    {
     "name": "stdout",
     "output_type": "stream",
     "text": [
      "WARNING:tensorflow:From <ipython-input-7-bdb3352f611a>:1: experimental_run_functions_eagerly (from tensorflow.python.eager.def_function) is deprecated and will be removed in a future version.\n",
      "Instructions for updating:\n",
      "Use `tf.config.run_functions_eagerly` instead of the experimental version.\n"
     ]
    }
   ],
   "source": [
    "tf.config.experimental_run_functions_eagerly(True)"
   ]
  },
  {
   "cell_type": "code",
   "execution_count": 8,
   "metadata": {
    "scrolled": true
   },
   "outputs": [
    {
     "name": "stderr",
     "output_type": "stream",
     "text": [
      "C:\\Users\\owner\\anaconda3\\envs\\Lip\\lib\\site-packages\\tensorflow\\python\\data\\ops\\dataset_ops.py:3704: UserWarning: Even though the `tf.config.experimental_run_functions_eagerly` option is set, this option does not apply to tf.data functions. To force eager execution of tf.data functions, please use `tf.data.experimental.enable.debug_mode()`.\n",
      "  \"Even though the `tf.config.experimental_run_functions_eagerly` \"\n"
     ]
    },
    {
     "name": "stdout",
     "output_type": "stream",
     "text": [
      "Epoch 1/100\n",
      "75/75 [==============================] - 521s 7s/step - loss: 2.3387 - accuracy: 0.1013 - val_loss: 2.3194 - val_accuracy: 0.1000\n",
      "Epoch 2/100\n",
      "75/75 [==============================] - 528s 7s/step - loss: 2.3101 - accuracy: 0.1071 - val_loss: 2.2887 - val_accuracy: 0.1150\n",
      "Epoch 3/100\n",
      "75/75 [==============================] - 530s 7s/step - loss: 2.2807 - accuracy: 0.1279 - val_loss: 2.2478 - val_accuracy: 0.1550\n",
      "Epoch 4/100\n",
      "75/75 [==============================] - 538s 7s/step - loss: 2.2494 - accuracy: 0.1454 - val_loss: 2.2294 - val_accuracy: 0.1417\n",
      "Epoch 5/100\n",
      "75/75 [==============================] - 538s 7s/step - loss: 2.2281 - accuracy: 0.1538 - val_loss: 2.2004 - val_accuracy: 0.1717\n",
      "Epoch 6/100\n",
      "75/75 [==============================] - 547s 7s/step - loss: 2.1539 - accuracy: 0.1871 - val_loss: 2.0272 - val_accuracy: 0.2233\n",
      "Epoch 7/100\n",
      "75/75 [==============================] - 536s 7s/step - loss: 1.9041 - accuracy: 0.2887 - val_loss: 1.7397 - val_accuracy: 0.3867\n",
      "Epoch 8/100\n",
      "75/75 [==============================] - 530s 7s/step - loss: 1.6991 - accuracy: 0.3729 - val_loss: 1.6033 - val_accuracy: 0.4050\n",
      "Epoch 9/100\n",
      "75/75 [==============================] - 531s 7s/step - loss: 1.4804 - accuracy: 0.4475 - val_loss: 1.4549 - val_accuracy: 0.4717\n",
      "Epoch 10/100\n",
      "75/75 [==============================] - 525s 7s/step - loss: 1.2808 - accuracy: 0.5296 - val_loss: 1.2883 - val_accuracy: 0.5167\n",
      "Epoch 11/100\n",
      "75/75 [==============================] - 525s 7s/step - loss: 1.1410 - accuracy: 0.5871 - val_loss: 1.2577 - val_accuracy: 0.5733\n",
      "Epoch 12/100\n",
      "75/75 [==============================] - 521s 7s/step - loss: 0.9408 - accuracy: 0.6600 - val_loss: 1.2174 - val_accuracy: 0.5667\n",
      "Epoch 13/100\n",
      "75/75 [==============================] - 530s 7s/step - loss: 0.7414 - accuracy: 0.7508 - val_loss: 1.1942 - val_accuracy: 0.6100\n",
      "Epoch 14/100\n",
      "75/75 [==============================] - 527s 7s/step - loss: 0.5755 - accuracy: 0.8079 - val_loss: 1.1678 - val_accuracy: 0.6117\n",
      "Epoch 15/100\n",
      "75/75 [==============================] - 526s 7s/step - loss: 0.4082 - accuracy: 0.8721 - val_loss: 1.1624 - val_accuracy: 0.6233\n",
      "Epoch 16/100\n",
      "75/75 [==============================] - 526s 7s/step - loss: 0.2908 - accuracy: 0.9217 - val_loss: 1.2800 - val_accuracy: 0.6233\n",
      "Epoch 17/100\n",
      "75/75 [==============================] - 526s 7s/step - loss: 0.1546 - accuracy: 0.9729 - val_loss: 1.2089 - val_accuracy: 0.6383\n",
      "Epoch 18/100\n",
      "75/75 [==============================] - 527s 7s/step - loss: 0.0628 - accuracy: 0.9950 - val_loss: 1.2592 - val_accuracy: 0.6350\n",
      "Epoch 19/100\n",
      "75/75 [==============================] - 528s 7s/step - loss: 0.0309 - accuracy: 0.9983 - val_loss: 1.3368 - val_accuracy: 0.6333\n",
      "Epoch 20/100\n",
      "75/75 [==============================] - 529s 7s/step - loss: 0.0194 - accuracy: 0.9996 - val_loss: 1.3961 - val_accuracy: 0.6300\n",
      "Epoch 21/100\n",
      "75/75 [==============================] - 534s 7s/step - loss: 0.0351 - accuracy: 0.9937 - val_loss: 1.4033 - val_accuracy: 0.6300\n",
      "Epoch 22/100\n",
      "75/75 [==============================] - 532s 7s/step - loss: 0.0256 - accuracy: 0.9979 - val_loss: 1.4041 - val_accuracy: 0.6433\n",
      "Epoch 23/100\n",
      "75/75 [==============================] - 531s 7s/step - loss: 0.0084 - accuracy: 1.0000 - val_loss: 1.4351 - val_accuracy: 0.6483\n",
      "Epoch 24/100\n",
      "75/75 [==============================] - 527s 7s/step - loss: 0.0046 - accuracy: 1.0000 - val_loss: 1.4870 - val_accuracy: 0.6550\n",
      "Epoch 25/100\n",
      "75/75 [==============================] - 521s 7s/step - loss: 0.0032 - accuracy: 1.0000 - val_loss: 1.5310 - val_accuracy: 0.6550\n"
     ]
    }
   ],
   "source": [
    "model = get_model()\n",
    "model.compile(optimizer = 'adam', loss = 'categorical_crossentropy', metrics = ['accuracy'])\n",
    "es = EarlyStopping(monitor = 'val_loss', patience = 10)\n",
    "history = model.fit(X_train, Y_train, batch_size=32, epochs=100, verbose = 1, validation_data = (X_test, Y_test),callbacks = [es])"
   ]
  },
  {
   "cell_type": "code",
   "execution_count": 9,
   "metadata": {},
   "outputs": [
    {
     "name": "stdout",
     "output_type": "stream",
     "text": [
      "dict_keys(['loss', 'accuracy', 'val_loss', 'val_accuracy'])\n"
     ]
    },
    {
     "data": {
      "image/png": "[encoded data removed]",
      "text/plain": [
       "<Figure size 432x288 with 1 Axes>"
      ]
     },
     "metadata": {
      "needs_background": "light"
     },
     "output_type": "display_data"
    },
    {
     "data": {
      "image/png": "[encoded data removed]",
      "text/plain": [
       "<Figure size 432x288 with 1 Axes>"
      ]
     },
     "metadata": {
      "needs_background": "light"
     },
     "output_type": "display_data"
    }
   ],
   "source": [
    "import matplotlib.pyplot as plt\n",
    "# list all data in history\n",
    "print(history.history.keys())\n",
    "# summarize history for accuracy\n",
    "plt.plot(history.history['accuracy'])\n",
    "plt.plot(history.history['val_accuracy'])\n",
    "plt.title('model accuracy')\n",
    "plt.ylabel('accuracy')\n",
    "plt.xlabel('epoch')\n",
    "plt.legend(['train', 'test'], loc='upper left')\n",
    "plt.show()\n",
    "# summarize history for loss\n",
    "plt.plot(history.history['loss'])\n",
    "plt.plot(history.history['val_loss'])\n",
    "plt.title('model loss')\n",
    "plt.ylabel('loss')\n",
    "plt.xlabel('epoch')\n",
    "plt.legend(['train', 'test'], loc='upper left')\n",
    "plt.show()"
   ]
  },
  {
   "cell_type": "code",
   "execution_count": null,
   "metadata": {},
   "outputs": [],
   "source": []
  }
 ],
 "metadata": {
  "kernelspec": {
   "display_name": "Lip",
   "language": "python",
   "name": "lip"
  },
  "language_info": {
   "codemirror_mode": {
    "name": "ipython",
    "version": 3
   },
   "file_extension": ".py",
   "mimetype": "text/x-python",
   "name": "python",
   "nbconvert_exporter": "python",
   "pygments_lexer": "ipython3",
   "version": "3.6.7"
  }
 },
 "nbformat": 4,
 "nbformat_minor": 4
}
