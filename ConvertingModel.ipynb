{
 "cells": [
  {
   "cell_type": "code",
   "execution_count": 4,
   "id": "invisible-platform",
   "metadata": {},
   "outputs": [],
   "source": [
    "import numpy as np\n",
    "from sklearn.model_selection import train_test_split\n",
    "from tensorflow.keras.callbacks import EarlyStopping\n",
    "import tensorflow as tf\n",
    "from tensorflow import keras\n",
    "from tensorflow.keras import layers\n",
    "from tensorflow.keras.models import Sequential\n",
    "from tensorflow.keras import models, layers, activations\n",
    "from tensorflow.keras.layers import Conv2D, TimeDistributed, BatchNormalization, MaxPooling2D, Flatten, Bidirectional, Dense,Dropout,Flatten\n",
    "import coremltools as ct\n",
    "from coremltools.proto import NeuralNetwork_pb2, FeatureTypes_pb2"
   ]
  },
  {
   "cell_type": "code",
   "execution_count": 5,
   "id": "blocked-swiss",
   "metadata": {},
   "outputs": [
    {
     "name": "stdout",
     "output_type": "stream",
     "text": [
      "(3000, 27, 64, 64, 3) (3000, 11)\n"
     ]
    }
   ],
   "source": [
    "x_data = np.load('lip_x_data.npy') # x_save.npy\n",
    "y_data = np.load('lip_y_data.npy') # y_data.npy\n",
    "y_data = keras.utils.to_categorical(y_data,11)\n",
    "print(x_data.shape, y_data.shape)"
   ]
  },
  {
   "cell_type": "code",
   "execution_count": 6,
   "id": "established-honduras",
   "metadata": {},
   "outputs": [
    {
     "name": "stdout",
     "output_type": "stream",
     "text": [
      "x_train: (2400, 27, 64, 64, 3), X_test: (600, 27, 64, 64, 3)\n",
      "Y_train: (2400, 11), Y_test: (600, 11)\n"
     ]
    }
   ],
   "source": [
    "X_train, X_test, Y_train, Y_test = train_test_split(x_data, y_data, test_size = 0.2, shuffle = True, stratify=y_data)\n",
    "print(\"x_train: {}, X_test: {}\".format(X_train.shape, X_test.shape))\n",
    "print(\"Y_train: {}, Y_test: {}\".format(Y_train.shape, Y_test.shape))"
   ]
  },
  {
   "cell_type": "code",
   "execution_count": 8,
   "id": "alert-mongolia",
   "metadata": {},
   "outputs": [],
   "source": [
    "from tensorflow.keras.applications.mobilenet import MobileNet\n",
    "from tensorflow.keras.layers import Input\n",
    "\n",
    "\n",
    "# this could also be the output a different Keras model or layer\n",
    "#input_tensor = Input(shape=(224, 224, 3))\n",
    "\n",
    "#model = InceptionV3(input_tensor=input_tensor, weights='imagenet', include_top=True)\n",
    "\n",
    "class MobileNet_LSTM(tf.keras.Model):\n",
    "    def __init__(self, num_classes):\n",
    "        super(MobileNet_LSTM, self).__init__()\n",
    "        #self.BZ = input_shape[0]\n",
    "        #self.frame = input_shape[1]\n",
    "\n",
    "        self.mobile = TimeDistributed(MobileNet(weights='imagenet', include_top=False))\n",
    "        #self.vgg.trainable = False\n",
    "\n",
    "        self.bilstm = layers.Bidirectional(layers.LSTM(256), merge_mode='concat')\n",
    "        self.dense = layers.Dense(num_classes, activation='softmax')\n",
    "        self.max = TimeDistributed(MaxPooling2D(pool_size=(2, 2)))\n",
    "        self.dropout = layers.Dropout(0.2)\n",
    "        self.flat= TimeDistributed(Flatten())\n",
    "\n",
    "    def call(self, x):\n",
    "        x = self.mobile(x)\n",
    "        x = self.max(x)\n",
    "        x = self.dropout(x)      \n",
    "        x = self.flat(x)\n",
    "        x = self.dropout(x)\n",
    "        x = self.bilstm(x)\n",
    "        return self.dense(x)"
   ]
  },
  {
   "cell_type": "code",
   "execution_count": 9,
   "id": "dimensional-jamaica",
   "metadata": {},
   "outputs": [],
   "source": [
    "model = MobileNet_LSTM(num_classes = 11)\n",
    "model.compile(optimizer = 'adam', loss = 'categorical_crossentropy', metrics = ['accuracy'])"
   ]
  },
  {
   "cell_type": "code",
   "execution_count": 10,
   "id": "stock-generic",
   "metadata": {},
   "outputs": [
    {
     "data": {
      "text/plain": [
       "<tensorflow.python.training.tracking.util.CheckpointLoadStatus at 0x177a805e0>"
      ]
     },
     "execution_count": 10,
     "metadata": {},
     "output_type": "execute_result"
    }
   ],
   "source": [
    "model.load_weights('mobileNet_lip')"
   ]
  },
  {
   "cell_type": "code",
   "execution_count": 11,
   "id": "dependent-shower",
   "metadata": {},
   "outputs": [],
   "source": [
    "# Y_test의 index 1~10 까지 60개씩 존재 : 총 600개\n",
    "predictions = model.predict(X_test)"
   ]
  },
  {
   "cell_type": "code",
   "execution_count": 33,
   "id": "mighty-survival",
   "metadata": {},
   "outputs": [
    {
     "ename": "InvalidArgumentError",
     "evalue": "Attempting to add a duplicate function with name: while_cond_53617 where the previous and current definitions differ. Previous definiton: signature {\n  name: \"while_cond_53617\"\n  input_arg {\n    name: \"while_while_loop_counter\"\n    type: DT_INT32\n  }\n  input_arg {\n    name: \"while_while_maximum_iterations\"\n    type: DT_INT32\n  }\n  input_arg {\n    name: \"while_placeholder\"\n    type: DT_INT32\n  }\n  input_arg {\n    name: \"while_placeholder_1\"\n    type: DT_VARIANT\n  }\n  input_arg {\n    name: \"while_placeholder_2\"\n    type: DT_FLOAT\n  }\n  input_arg {\n    name: \"while_placeholder_3\"\n    type: DT_FLOAT\n  }\n  input_arg {\n    name: \"while_less_strided_slice\"\n    type: DT_INT32\n  }\n  input_arg {\n    name: \"while_while_cond_53617___redundant_placeholder0\"\n    type: DT_VARIANT\n  }\n  input_arg {\n    name: \"while_while_cond_53617___redundant_placeholder1\"\n    type: DT_FLOAT\n  }\n  input_arg {\n    name: \"while_while_cond_53617___redundant_placeholder2\"\n    type: DT_FLOAT\n  }\n  input_arg {\n    name: \"while_while_cond_53617___redundant_placeholder3\"\n    type: DT_FLOAT\n  }\n  output_arg {\n    name: \"while_identity\"\n    type: DT_BOOL\n  }\n}\nnode_def {\n  name: \"while/Less\"\n  op: \"Less\"\n  input: \"while_placeholder\"\n  input: \"while_less_strided_slice\"\n  attr {\n    key: \"T\"\n    value {\n      type: DT_INT32\n    }\n  }\n  experimental_debug_info {\n    original_node_names: \"while/Less\"\n  }\n}\nnode_def {\n  name: \"while/Identity\"\n  op: \"Identity\"\n  input: \"while/Less:z:0\"\n  attr {\n    key: \"T\"\n    value {\n      type: DT_BOOL\n    }\n  }\n  experimental_debug_info {\n    original_node_names: \"while/Identity\"\n  }\n}\nret {\n  key: \"while_identity\"\n  value: \"while/Identity:output:0\"\n}\narg_attr {\n  key: 0\n  value {\n    attr {\n      key: \"_output_shapes\"\n      value {\n        list {\n          shape {\n          }\n        }\n      }\n    }\n  }\n}\narg_attr {\n  key: 1\n  value {\n    attr {\n      key: \"_output_shapes\"\n      value {\n        list {\n          shape {\n          }\n        }\n      }\n    }\n  }\n}\narg_attr {\n  key: 2\n  value {\n    attr {\n      key: \"_output_shapes\"\n      value {\n        list {\n          shape {\n          }\n        }\n      }\n    }\n  }\n}\narg_attr {\n  key: 3\n  value {\n    attr {\n      key: \"_output_shapes\"\n      value {\n        list {\n          shape {\n          }\n        }\n      }\n    }\n  }\n}\narg_attr {\n  key: 4\n  value {\n    attr {\n      key: \"_output_shapes\"\n      value {\n        list {\n          shape {\n            dim {\n              size: -1\n            }\n            dim {\n              size: 256\n            }\n          }\n        }\n      }\n    }\n  }\n}\narg_attr {\n  key: 5\n  value {\n    attr {\n      key: \"_output_shapes\"\n      value {\n        list {\n          shape {\n            dim {\n              size: -1\n            }\n            dim {\n              size: 256\n            }\n          }\n        }\n      }\n    }\n  }\n}\narg_attr {\n  key: 6\n  value {\n    attr {\n      key: \"_output_shapes\"\n      value {\n        list {\n          shape {\n          }\n        }\n      }\n    }\n  }\n}\narg_attr {\n  key: 7\n  value {\n    attr {\n      key: \"_output_shapes\"\n      value {\n        list {\n          shape {\n            unknown_rank: true\n          }\n        }\n      }\n    }\n  }\n}\narg_attr {\n  key: 8\n  value {\n    attr {\n      key: \"_output_shapes\"\n      value {\n        list {\n          shape {\n            unknown_rank: true\n          }\n        }\n      }\n    }\n  }\n}\narg_attr {\n  key: 9\n  value {\n    attr {\n      key: \"_output_shapes\"\n      value {\n        list {\n          shape {\n            unknown_rank: true\n          }\n        }\n      }\n    }\n  }\n}\narg_attr {\n  key: 10\n  value {\n    attr {\n      key: \"_output_shapes\"\n      value {\n        list {\n          shape {\n            unknown_rank: true\n          }\n        }\n      }\n    }\n  }\n}\n and current definition: signature {\n  name: \"while_cond_53617\"\n  input_arg {\n    name: \"while_while_loop_counter\"\n    type: DT_INT32\n  }\n  input_arg {\n    name: \"while_while_maximum_iterations\"\n    type: DT_INT32\n  }\n  input_arg {\n    name: \"while_placeholder\"\n    type: DT_INT32\n  }\n  input_arg {\n    name: \"while_placeholder_1\"\n    type: DT_VARIANT\n  }\n  input_arg {\n    name: \"while_placeholder_2\"\n    type: DT_FLOAT\n  }\n  input_arg {\n    name: \"while_placeholder_3\"\n    type: DT_FLOAT\n  }\n  input_arg {\n    name: \"while_less_strided_slice\"\n    type: DT_INT32\n  }\n  input_arg {\n    name: \"while_while_cond_53617___redundant_placeholder0\"\n    type: DT_VARIANT\n  }\n  input_arg {\n    name: \"while_while_cond_53617___redundant_placeholder1\"\n    type: DT_FLOAT\n  }\n  input_arg {\n    name: \"while_while_cond_53617___redundant_placeholder2\"\n    type: DT_FLOAT\n  }\n  input_arg {\n    name: \"while_while_cond_53617___redundant_placeholder3\"\n    type: DT_FLOAT\n  }\n  output_arg {\n    name: \"while_identity\"\n    type: DT_BOOL\n  }\n}\nnode_def {\n  name: \"while/Less\"\n  op: \"Less\"\n  input: \"while_placeholder\"\n  input: \"while_less_strided_slice\"\n  attr {\n    key: \"T\"\n    value {\n      type: DT_INT32\n    }\n  }\n}\nret {\n  key: \"while_identity\"\n  value: \"while/Less:z:0\"\n}\narg_attr {\n  key: 0\n  value {\n    attr {\n      key: \"_output_shapes\"\n      value {\n        list {\n          shape {\n          }\n        }\n      }\n    }\n  }\n}\narg_attr {\n  key: 1\n  value {\n    attr {\n      key: \"_output_shapes\"\n      value {\n        list {\n          shape {\n          }\n        }\n      }\n    }\n  }\n}\narg_attr {\n  key: 2\n  value {\n    attr {\n      key: \"_output_shapes\"\n      value {\n        list {\n          shape {\n          }\n        }\n      }\n    }\n  }\n}\narg_attr {\n  key: 3\n  value {\n    attr {\n      key: \"_output_shapes\"\n      value {\n        list {\n          shape {\n          }\n        }\n      }\n    }\n  }\n}\narg_attr {\n  key: 4\n  value {\n    attr {\n      key: \"_output_shapes\"\n      value {\n        list {\n          shape {\n            dim {\n              size: -1\n            }\n            dim {\n              size: 256\n            }\n          }\n        }\n      }\n    }\n  }\n}\narg_attr {\n  key: 5\n  value {\n    attr {\n      key: \"_output_shapes\"\n      value {\n        list {\n          shape {\n            dim {\n              size: -1\n            }\n            dim {\n              size: 256\n            }\n          }\n        }\n      }\n    }\n  }\n}\narg_attr {\n  key: 6\n  value {\n    attr {\n      key: \"_output_shapes\"\n      value {\n        list {\n          shape {\n          }\n        }\n      }\n    }\n  }\n}\narg_attr {\n  key: 7\n  value {\n    attr {\n      key: \"_output_shapes\"\n      value {\n        list {\n          shape {\n            unknown_rank: true\n          }\n        }\n      }\n    }\n  }\n}\narg_attr {\n  key: 8\n  value {\n    attr {\n      key: \"_output_shapes\"\n      value {\n        list {\n          shape {\n            unknown_rank: true\n          }\n        }\n      }\n    }\n  }\n}\narg_attr {\n  key: 9\n  value {\n    attr {\n      key: \"_output_shapes\"\n      value {\n        list {\n          shape {\n            unknown_rank: true\n          }\n        }\n      }\n    }\n  }\n}\narg_attr {\n  key: 10\n  value {\n    attr {\n      key: \"_output_shapes\"\n      value {\n        list {\n          shape {\n            unknown_rank: true\n          }\n        }\n      }\n    }\n  }\n}\n",
     "output_type": "error",
     "traceback": [
      "\u001b[0;31m---------------------------------------------------------------------------\u001b[0m",
      "\u001b[0;31mInvalidArgumentError\u001b[0m                      Traceback (most recent call last)",
      "\u001b[0;32m<ipython-input-33-e9934ad5afcd>\u001b[0m in \u001b[0;36m<module>\u001b[0;34m\u001b[0m\n\u001b[1;32m      5\u001b[0m \u001b[0mclassfiler_config\u001b[0m \u001b[0;34m=\u001b[0m \u001b[0mct\u001b[0m\u001b[0;34m.\u001b[0m\u001b[0mClassifierConfig\u001b[0m\u001b[0;34m(\u001b[0m\u001b[0mclass_labels\u001b[0m\u001b[0;34m=\u001b[0m\u001b[0mclass_labels\u001b[0m\u001b[0;34m)\u001b[0m\u001b[0;34m\u001b[0m\u001b[0;34m\u001b[0m\u001b[0m\n\u001b[1;32m      6\u001b[0m \u001b[0;34m\u001b[0m\u001b[0m\n\u001b[0;32m----> 7\u001b[0;31m mlmodel = ct.convert(\n\u001b[0m\u001b[1;32m      8\u001b[0m     model, inputs=[inputs], classfiler_config=classfiler_config,)\n",
      "\u001b[0;32m~/venv/myvenv/lib/python3.8/site-packages/coremltools/converters/_converters_entry.py\u001b[0m in \u001b[0;36mconvert\u001b[0;34m(model, source, inputs, outputs, classifier_config, minimum_deployment_target, convert_to, **kwargs)\u001b[0m\n\u001b[1;32m    173\u001b[0m         **kwargs)\n\u001b[1;32m    174\u001b[0m \u001b[0;34m\u001b[0m\u001b[0m\n\u001b[0;32m--> 175\u001b[0;31m     mlmodel = mil_convert(\n\u001b[0m\u001b[1;32m    176\u001b[0m         \u001b[0mmodel\u001b[0m\u001b[0;34m,\u001b[0m\u001b[0;34m\u001b[0m\u001b[0;34m\u001b[0m\u001b[0m\n\u001b[1;32m    177\u001b[0m         \u001b[0mconvert_from\u001b[0m\u001b[0;34m=\u001b[0m\u001b[0mexact_source\u001b[0m\u001b[0;34m,\u001b[0m\u001b[0;34m\u001b[0m\u001b[0;34m\u001b[0m\u001b[0m\n",
      "\u001b[0;32m~/venv/myvenv/lib/python3.8/site-packages/coremltools/converters/mil/converter.py\u001b[0m in \u001b[0;36mmil_convert\u001b[0;34m(model, convert_from, convert_to, **kwargs)\u001b[0m\n\u001b[1;32m    126\u001b[0m         \u001b[0mSee\u001b[0m\u001b[0;31m \u001b[0m\u001b[0;31m`\u001b[0m\u001b[0mcoremltools\u001b[0m\u001b[0;34m.\u001b[0m\u001b[0mconverters\u001b[0m\u001b[0;34m.\u001b[0m\u001b[0mconvert\u001b[0m\u001b[0;31m`\u001b[0m\u001b[0;34m\u001b[0m\u001b[0;34m\u001b[0m\u001b[0m\n\u001b[1;32m    127\u001b[0m     \"\"\"\n\u001b[0;32m--> 128\u001b[0;31m     proto = mil_convert_to_proto(model, convert_from, convert_to,\n\u001b[0m\u001b[1;32m    129\u001b[0m         ConverterRegistry, **kwargs)\n\u001b[1;32m    130\u001b[0m     \u001b[0;32mif\u001b[0m \u001b[0mconvert_to\u001b[0m \u001b[0;34m==\u001b[0m \u001b[0;34m'mil'\u001b[0m\u001b[0;34m:\u001b[0m\u001b[0;34m\u001b[0m\u001b[0;34m\u001b[0m\u001b[0m\n",
      "\u001b[0;32m~/venv/myvenv/lib/python3.8/site-packages/coremltools/converters/mil/converter.py\u001b[0m in \u001b[0;36mmil_convert_to_proto\u001b[0;34m(model, convert_from, convert_to, converter_registry, **kwargs)\u001b[0m\n\u001b[1;32m    169\u001b[0m     \u001b[0mfrontend_converter\u001b[0m \u001b[0;34m=\u001b[0m \u001b[0mfrontend_converter_type\u001b[0m\u001b[0;34m(\u001b[0m\u001b[0;34m)\u001b[0m\u001b[0;34m\u001b[0m\u001b[0;34m\u001b[0m\u001b[0m\n\u001b[1;32m    170\u001b[0m \u001b[0;34m\u001b[0m\u001b[0m\n\u001b[0;32m--> 171\u001b[0;31m     \u001b[0mprog\u001b[0m \u001b[0;34m=\u001b[0m \u001b[0mfrontend_converter\u001b[0m\u001b[0;34m(\u001b[0m\u001b[0mmodel\u001b[0m\u001b[0;34m,\u001b[0m \u001b[0;34m**\u001b[0m\u001b[0mkwargs\u001b[0m\u001b[0;34m)\u001b[0m\u001b[0;34m\u001b[0m\u001b[0;34m\u001b[0m\u001b[0m\n\u001b[0m\u001b[1;32m    172\u001b[0m     \u001b[0mcommon_pass\u001b[0m\u001b[0;34m(\u001b[0m\u001b[0mprog\u001b[0m\u001b[0;34m)\u001b[0m\u001b[0;34m\u001b[0m\u001b[0;34m\u001b[0m\u001b[0m\n\u001b[1;32m    173\u001b[0m \u001b[0;34m\u001b[0m\u001b[0m\n",
      "\u001b[0;32m~/venv/myvenv/lib/python3.8/site-packages/coremltools/converters/mil/converter.py\u001b[0m in \u001b[0;36m__call__\u001b[0;34m(self, *args, **kwargs)\u001b[0m\n\u001b[1;32m     73\u001b[0m \u001b[0;34m\u001b[0m\u001b[0m\n\u001b[1;32m     74\u001b[0m         \u001b[0mtf2_loader\u001b[0m \u001b[0;34m=\u001b[0m \u001b[0mTF2Loader\u001b[0m\u001b[0;34m(\u001b[0m\u001b[0;34m*\u001b[0m\u001b[0margs\u001b[0m\u001b[0;34m,\u001b[0m \u001b[0;34m**\u001b[0m\u001b[0mkwargs\u001b[0m\u001b[0;34m)\u001b[0m\u001b[0;34m\u001b[0m\u001b[0;34m\u001b[0m\u001b[0m\n\u001b[0;32m---> 75\u001b[0;31m         \u001b[0;32mreturn\u001b[0m \u001b[0mtf2_loader\u001b[0m\u001b[0;34m.\u001b[0m\u001b[0mload\u001b[0m\u001b[0;34m(\u001b[0m\u001b[0;34m)\u001b[0m\u001b[0;34m\u001b[0m\u001b[0;34m\u001b[0m\u001b[0m\n\u001b[0m\u001b[1;32m     76\u001b[0m \u001b[0;34m\u001b[0m\u001b[0m\n\u001b[1;32m     77\u001b[0m \u001b[0;34m\u001b[0m\u001b[0m\n",
      "\u001b[0;32m~/venv/myvenv/lib/python3.8/site-packages/coremltools/converters/mil/frontend/tensorflow/load.py\u001b[0m in \u001b[0;36mload\u001b[0;34m(self)\u001b[0m\n\u001b[1;32m     62\u001b[0m             \u001b[0;32mraise\u001b[0m \u001b[0mValueError\u001b[0m\u001b[0;34m(\u001b[0m\u001b[0mmsg\u001b[0m\u001b[0;34m)\u001b[0m\u001b[0;34m\u001b[0m\u001b[0;34m\u001b[0m\u001b[0m\n\u001b[1;32m     63\u001b[0m \u001b[0;34m\u001b[0m\u001b[0m\n\u001b[0;32m---> 64\u001b[0;31m         \u001b[0mself\u001b[0m\u001b[0;34m.\u001b[0m\u001b[0m_tf_ssa\u001b[0m \u001b[0;34m=\u001b[0m \u001b[0mself\u001b[0m\u001b[0;34m.\u001b[0m\u001b[0m_tf_ssa_from_graph_def\u001b[0m\u001b[0;34m(\u001b[0m\u001b[0;34m)\u001b[0m\u001b[0;34m\u001b[0m\u001b[0;34m\u001b[0m\u001b[0m\n\u001b[0m\u001b[1;32m     65\u001b[0m \u001b[0;34m\u001b[0m\u001b[0m\n\u001b[1;32m     66\u001b[0m         \u001b[0;32mdel\u001b[0m \u001b[0mself\u001b[0m\u001b[0;34m.\u001b[0m\u001b[0m_graph_def\u001b[0m\u001b[0;34m\u001b[0m\u001b[0;34m\u001b[0m\u001b[0m\n",
      "\u001b[0;32m~/venv/myvenv/lib/python3.8/site-packages/coremltools/converters/mil/frontend/tensorflow2/load.py\u001b[0m in \u001b[0;36m_tf_ssa_from_graph_def\u001b[0;34m(self, fn_name)\u001b[0m\n\u001b[1;32m    113\u001b[0m \u001b[0;34m\u001b[0m\u001b[0m\n\u001b[1;32m    114\u001b[0m         \u001b[0;31m# sub-graphs' input shapes are required for extracting sub-graphs\u001b[0m\u001b[0;34m\u001b[0m\u001b[0;34m\u001b[0m\u001b[0;34m\u001b[0m\u001b[0m\n\u001b[0;32m--> 115\u001b[0;31m         sg_input_shapes = self._populate_sub_graph_input_shapes(\n\u001b[0m\u001b[1;32m    116\u001b[0m             \u001b[0mtf_graph\u001b[0m\u001b[0;34m,\u001b[0m \u001b[0mtf_graph\u001b[0m\u001b[0;34m.\u001b[0m\u001b[0m_functions\u001b[0m\u001b[0;34m\u001b[0m\u001b[0;34m\u001b[0m\u001b[0m\n\u001b[1;32m    117\u001b[0m         )\n",
      "\u001b[0;32m~/venv/myvenv/lib/python3.8/site-packages/coremltools/converters/mil/frontend/tensorflow2/load.py\u001b[0m in \u001b[0;36m_populate_sub_graph_input_shapes\u001b[0;34m(self, graph, graph_fns)\u001b[0m\n\u001b[1;32m    217\u001b[0m         \u001b[0;32mfor\u001b[0m \u001b[0mname\u001b[0m \u001b[0;32min\u001b[0m \u001b[0msub_graphs\u001b[0m\u001b[0;34m:\u001b[0m\u001b[0;34m\u001b[0m\u001b[0;34m\u001b[0m\u001b[0m\n\u001b[1;32m    218\u001b[0m             \u001b[0msg\u001b[0m \u001b[0;34m=\u001b[0m \u001b[0mgraph_fns\u001b[0m\u001b[0;34m.\u001b[0m\u001b[0mget\u001b[0m\u001b[0;34m(\u001b[0m\u001b[0mname\u001b[0m\u001b[0;34m)\u001b[0m\u001b[0;34m\u001b[0m\u001b[0;34m\u001b[0m\u001b[0m\n\u001b[0;32m--> 219\u001b[0;31m             \u001b[0mfn_def\u001b[0m \u001b[0;34m=\u001b[0m \u001b[0msg\u001b[0m\u001b[0;34m.\u001b[0m\u001b[0mdefinition\u001b[0m\u001b[0;34m\u001b[0m\u001b[0;34m\u001b[0m\u001b[0m\n\u001b[0m\u001b[1;32m    220\u001b[0m             \u001b[0mop_input_shapes\u001b[0m \u001b[0;34m=\u001b[0m \u001b[0msg_input_shapes\u001b[0m\u001b[0;34m[\u001b[0m\u001b[0mname\u001b[0m\u001b[0;34m]\u001b[0m\u001b[0;34m\u001b[0m\u001b[0;34m\u001b[0m\u001b[0m\n\u001b[1;32m    221\u001b[0m             \u001b[0mop_input_shapes\u001b[0m \u001b[0;34m=\u001b[0m \u001b[0mop_input_shapes\u001b[0m\u001b[0;34m[\u001b[0m\u001b[0;34m-\u001b[0m\u001b[0mlen\u001b[0m\u001b[0;34m(\u001b[0m\u001b[0mfn_def\u001b[0m\u001b[0;34m.\u001b[0m\u001b[0msignature\u001b[0m\u001b[0;34m.\u001b[0m\u001b[0minput_arg\u001b[0m\u001b[0;34m)\u001b[0m \u001b[0;34m:\u001b[0m\u001b[0;34m]\u001b[0m\u001b[0;34m\u001b[0m\u001b[0;34m\u001b[0m\u001b[0m\n",
      "\u001b[0;32m~/venv/myvenv/lib/python3.8/site-packages/tensorflow/python/framework/function.py\u001b[0m in \u001b[0;36mdefinition\u001b[0;34m(self)\u001b[0m\n\u001b[1;32m    325\u001b[0m         \u001b[0;32mwith\u001b[0m \u001b[0mops\u001b[0m\u001b[0;34m.\u001b[0m\u001b[0minit_scope\u001b[0m\u001b[0;34m(\u001b[0m\u001b[0;34m)\u001b[0m\u001b[0;34m:\u001b[0m\u001b[0;34m\u001b[0m\u001b[0;34m\u001b[0m\u001b[0m\n\u001b[1;32m    326\u001b[0m           \u001b[0;32mif\u001b[0m \u001b[0mcontext\u001b[0m\u001b[0;34m.\u001b[0m\u001b[0mexecuting_eagerly\u001b[0m\u001b[0;34m(\u001b[0m\u001b[0;34m)\u001b[0m\u001b[0;34m:\u001b[0m\u001b[0;34m\u001b[0m\u001b[0;34m\u001b[0m\u001b[0m\n\u001b[0;32m--> 327\u001b[0;31m             \u001b[0mcontext\u001b[0m\u001b[0;34m.\u001b[0m\u001b[0madd_function\u001b[0m\u001b[0;34m(\u001b[0m\u001b[0mself\u001b[0m\u001b[0;34m.\u001b[0m\u001b[0m_c_func\u001b[0m\u001b[0;34m.\u001b[0m\u001b[0mfunc\u001b[0m\u001b[0;34m)\u001b[0m\u001b[0;34m\u001b[0m\u001b[0;34m\u001b[0m\u001b[0m\n\u001b[0m\u001b[1;32m    328\u001b[0m             self._function_deleter = _DefinedFunctionDeleter(\n\u001b[1;32m    329\u001b[0m                 fdef.signature.name)\n",
      "\u001b[0;32m~/venv/myvenv/lib/python3.8/site-packages/tensorflow/python/eager/context.py\u001b[0m in \u001b[0;36madd_function\u001b[0;34m(fdef)\u001b[0m\n\u001b[1;32m   2357\u001b[0m \u001b[0;32mdef\u001b[0m \u001b[0madd_function\u001b[0m\u001b[0;34m(\u001b[0m\u001b[0mfdef\u001b[0m\u001b[0;34m)\u001b[0m\u001b[0;34m:\u001b[0m\u001b[0;34m\u001b[0m\u001b[0;34m\u001b[0m\u001b[0m\n\u001b[1;32m   2358\u001b[0m   \u001b[0;34m\"\"\"Add a function definition to the context.\"\"\"\u001b[0m\u001b[0;34m\u001b[0m\u001b[0;34m\u001b[0m\u001b[0m\n\u001b[0;32m-> 2359\u001b[0;31m   \u001b[0mcontext\u001b[0m\u001b[0;34m(\u001b[0m\u001b[0;34m)\u001b[0m\u001b[0;34m.\u001b[0m\u001b[0madd_function\u001b[0m\u001b[0;34m(\u001b[0m\u001b[0mfdef\u001b[0m\u001b[0;34m)\u001b[0m\u001b[0;34m\u001b[0m\u001b[0;34m\u001b[0m\u001b[0m\n\u001b[0m\u001b[1;32m   2360\u001b[0m \u001b[0;34m\u001b[0m\u001b[0m\n\u001b[1;32m   2361\u001b[0m \u001b[0;34m\u001b[0m\u001b[0m\n",
      "\u001b[0;32m~/venv/myvenv/lib/python3.8/site-packages/tensorflow/python/eager/context.py\u001b[0m in \u001b[0;36madd_function\u001b[0;34m(self, fn)\u001b[0m\n\u001b[1;32m   1122\u001b[0m     \"\"\"\n\u001b[1;32m   1123\u001b[0m     \u001b[0mself\u001b[0m\u001b[0;34m.\u001b[0m\u001b[0mensure_initialized\u001b[0m\u001b[0;34m(\u001b[0m\u001b[0;34m)\u001b[0m\u001b[0;34m\u001b[0m\u001b[0;34m\u001b[0m\u001b[0m\n\u001b[0;32m-> 1124\u001b[0;31m     \u001b[0mpywrap_tfe\u001b[0m\u001b[0;34m.\u001b[0m\u001b[0mTFE_ContextAddFunction\u001b[0m\u001b[0;34m(\u001b[0m\u001b[0mself\u001b[0m\u001b[0;34m.\u001b[0m\u001b[0m_handle\u001b[0m\u001b[0;34m,\u001b[0m \u001b[0mfn\u001b[0m\u001b[0;34m)\u001b[0m\u001b[0;34m\u001b[0m\u001b[0;34m\u001b[0m\u001b[0m\n\u001b[0m\u001b[1;32m   1125\u001b[0m \u001b[0;34m\u001b[0m\u001b[0m\n\u001b[1;32m   1126\u001b[0m   \u001b[0;32mdef\u001b[0m \u001b[0madd_function_def\u001b[0m\u001b[0;34m(\u001b[0m\u001b[0mself\u001b[0m\u001b[0;34m,\u001b[0m \u001b[0mfdef\u001b[0m\u001b[0;34m)\u001b[0m\u001b[0;34m:\u001b[0m\u001b[0;34m\u001b[0m\u001b[0;34m\u001b[0m\u001b[0m\n",
      "\u001b[0;31mInvalidArgumentError\u001b[0m: Attempting to add a duplicate function with name: while_cond_53617 where the previous and current definitions differ. Previous definiton: signature {\n  name: \"while_cond_53617\"\n  input_arg {\n    name: \"while_while_loop_counter\"\n    type: DT_INT32\n  }\n  input_arg {\n    name: \"while_while_maximum_iterations\"\n    type: DT_INT32\n  }\n  input_arg {\n    name: \"while_placeholder\"\n    type: DT_INT32\n  }\n  input_arg {\n    name: \"while_placeholder_1\"\n    type: DT_VARIANT\n  }\n  input_arg {\n    name: \"while_placeholder_2\"\n    type: DT_FLOAT\n  }\n  input_arg {\n    name: \"while_placeholder_3\"\n    type: DT_FLOAT\n  }\n  input_arg {\n    name: \"while_less_strided_slice\"\n    type: DT_INT32\n  }\n  input_arg {\n    name: \"while_while_cond_53617___redundant_placeholder0\"\n    type: DT_VARIANT\n  }\n  input_arg {\n    name: \"while_while_cond_53617___redundant_placeholder1\"\n    type: DT_FLOAT\n  }\n  input_arg {\n    name: \"while_while_cond_53617___redundant_placeholder2\"\n    type: DT_FLOAT\n  }\n  input_arg {\n    name: \"while_while_cond_53617___redundant_placeholder3\"\n    type: DT_FLOAT\n  }\n  output_arg {\n    name: \"while_identity\"\n    type: DT_BOOL\n  }\n}\nnode_def {\n  name: \"while/Less\"\n  op: \"Less\"\n  input: \"while_placeholder\"\n  input: \"while_less_strided_slice\"\n  attr {\n    key: \"T\"\n    value {\n      type: DT_INT32\n    }\n  }\n  experimental_debug_info {\n    original_node_names: \"while/Less\"\n  }\n}\nnode_def {\n  name: \"while/Identity\"\n  op: \"Identity\"\n  input: \"while/Less:z:0\"\n  attr {\n    key: \"T\"\n    value {\n      type: DT_BOOL\n    }\n  }\n  experimental_debug_info {\n    original_node_names: \"while/Identity\"\n  }\n}\nret {\n  key: \"while_identity\"\n  value: \"while/Identity:output:0\"\n}\narg_attr {\n  key: 0\n  value {\n    attr {\n      key: \"_output_shapes\"\n      value {\n        list {\n          shape {\n          }\n        }\n      }\n    }\n  }\n}\narg_attr {\n  key: 1\n  value {\n    attr {\n      key: \"_output_shapes\"\n      value {\n        list {\n          shape {\n          }\n        }\n      }\n    }\n  }\n}\narg_attr {\n  key: 2\n  value {\n    attr {\n      key: \"_output_shapes\"\n      value {\n        list {\n          shape {\n          }\n        }\n      }\n    }\n  }\n}\narg_attr {\n  key: 3\n  value {\n    attr {\n      key: \"_output_shapes\"\n      value {\n        list {\n          shape {\n          }\n        }\n      }\n    }\n  }\n}\narg_attr {\n  key: 4\n  value {\n    attr {\n      key: \"_output_shapes\"\n      value {\n        list {\n          shape {\n            dim {\n              size: -1\n            }\n            dim {\n              size: 256\n            }\n          }\n        }\n      }\n    }\n  }\n}\narg_attr {\n  key: 5\n  value {\n    attr {\n      key: \"_output_shapes\"\n      value {\n        list {\n          shape {\n            dim {\n              size: -1\n            }\n            dim {\n              size: 256\n            }\n          }\n        }\n      }\n    }\n  }\n}\narg_attr {\n  key: 6\n  value {\n    attr {\n      key: \"_output_shapes\"\n      value {\n        list {\n          shape {\n          }\n        }\n      }\n    }\n  }\n}\narg_attr {\n  key: 7\n  value {\n    attr {\n      key: \"_output_shapes\"\n      value {\n        list {\n          shape {\n            unknown_rank: true\n          }\n        }\n      }\n    }\n  }\n}\narg_attr {\n  key: 8\n  value {\n    attr {\n      key: \"_output_shapes\"\n      value {\n        list {\n          shape {\n            unknown_rank: true\n          }\n        }\n      }\n    }\n  }\n}\narg_attr {\n  key: 9\n  value {\n    attr {\n      key: \"_output_shapes\"\n      value {\n        list {\n          shape {\n            unknown_rank: true\n          }\n        }\n      }\n    }\n  }\n}\narg_attr {\n  key: 10\n  value {\n    attr {\n      key: \"_output_shapes\"\n      value {\n        list {\n          shape {\n            unknown_rank: true\n          }\n        }\n      }\n    }\n  }\n}\n and current definition: signature {\n  name: \"while_cond_53617\"\n  input_arg {\n    name: \"while_while_loop_counter\"\n    type: DT_INT32\n  }\n  input_arg {\n    name: \"while_while_maximum_iterations\"\n    type: DT_INT32\n  }\n  input_arg {\n    name: \"while_placeholder\"\n    type: DT_INT32\n  }\n  input_arg {\n    name: \"while_placeholder_1\"\n    type: DT_VARIANT\n  }\n  input_arg {\n    name: \"while_placeholder_2\"\n    type: DT_FLOAT\n  }\n  input_arg {\n    name: \"while_placeholder_3\"\n    type: DT_FLOAT\n  }\n  input_arg {\n    name: \"while_less_strided_slice\"\n    type: DT_INT32\n  }\n  input_arg {\n    name: \"while_while_cond_53617___redundant_placeholder0\"\n    type: DT_VARIANT\n  }\n  input_arg {\n    name: \"while_while_cond_53617___redundant_placeholder1\"\n    type: DT_FLOAT\n  }\n  input_arg {\n    name: \"while_while_cond_53617___redundant_placeholder2\"\n    type: DT_FLOAT\n  }\n  input_arg {\n    name: \"while_while_cond_53617___redundant_placeholder3\"\n    type: DT_FLOAT\n  }\n  output_arg {\n    name: \"while_identity\"\n    type: DT_BOOL\n  }\n}\nnode_def {\n  name: \"while/Less\"\n  op: \"Less\"\n  input: \"while_placeholder\"\n  input: \"while_less_strided_slice\"\n  attr {\n    key: \"T\"\n    value {\n      type: DT_INT32\n    }\n  }\n}\nret {\n  key: \"while_identity\"\n  value: \"while/Less:z:0\"\n}\narg_attr {\n  key: 0\n  value {\n    attr {\n      key: \"_output_shapes\"\n      value {\n        list {\n          shape {\n          }\n        }\n      }\n    }\n  }\n}\narg_attr {\n  key: 1\n  value {\n    attr {\n      key: \"_output_shapes\"\n      value {\n        list {\n          shape {\n          }\n        }\n      }\n    }\n  }\n}\narg_attr {\n  key: 2\n  value {\n    attr {\n      key: \"_output_shapes\"\n      value {\n        list {\n          shape {\n          }\n        }\n      }\n    }\n  }\n}\narg_attr {\n  key: 3\n  value {\n    attr {\n      key: \"_output_shapes\"\n      value {\n        list {\n          shape {\n          }\n        }\n      }\n    }\n  }\n}\narg_attr {\n  key: 4\n  value {\n    attr {\n      key: \"_output_shapes\"\n      value {\n        list {\n          shape {\n            dim {\n              size: -1\n            }\n            dim {\n              size: 256\n            }\n          }\n        }\n      }\n    }\n  }\n}\narg_attr {\n  key: 5\n  value {\n    attr {\n      key: \"_output_shapes\"\n      value {\n        list {\n          shape {\n            dim {\n              size: -1\n            }\n            dim {\n              size: 256\n            }\n          }\n        }\n      }\n    }\n  }\n}\narg_attr {\n  key: 6\n  value {\n    attr {\n      key: \"_output_shapes\"\n      value {\n        list {\n          shape {\n          }\n        }\n      }\n    }\n  }\n}\narg_attr {\n  key: 7\n  value {\n    attr {\n      key: \"_output_shapes\"\n      value {\n        list {\n          shape {\n            unknown_rank: true\n          }\n        }\n      }\n    }\n  }\n}\narg_attr {\n  key: 8\n  value {\n    attr {\n      key: \"_output_shapes\"\n      value {\n        list {\n          shape {\n            unknown_rank: true\n          }\n        }\n      }\n    }\n  }\n}\narg_attr {\n  key: 9\n  value {\n    attr {\n      key: \"_output_shapes\"\n      value {\n        list {\n          shape {\n            unknown_rank: true\n          }\n        }\n      }\n    }\n  }\n}\narg_attr {\n  key: 10\n  value {\n    attr {\n      key: \"_output_shapes\"\n      value {\n        list {\n          shape {\n            unknown_rank: true\n          }\n        }\n      }\n    }\n  }\n}\n"
     ]
    }
   ],
   "source": [
    "# Convert the model\n",
    "inputs = ct.ImageType(shape=(1, 27, 64, 64, 3))\n",
    "class_labels = Y_test[0].shape\n",
    "# class_labels = 11\n",
    "classfiler_config = ct.ClassifierConfig(class_labels=class_labels)\n",
    "\n",
    "mlmodel = ct.convert(\n",
    "    model, inputs=[inputs], classfiler_config=classfiler_config,)"
   ]
  },
  {
   "cell_type": "code",
   "execution_count": 26,
   "id": "educated-simon",
   "metadata": {},
   "outputs": [
    {
     "name": "stdout",
     "output_type": "stream",
     "text": [
      "[[0. 0. 0. 1. 0. 0. 0. 0. 0. 0. 0.]\n",
      " [0. 0. 0. 0. 0. 0. 0. 0. 1. 0. 0.]\n",
      " [0. 0. 0. 0. 0. 0. 1. 0. 0. 0. 0.]\n",
      " [0. 1. 0. 0. 0. 0. 0. 0. 0. 0. 0.]\n",
      " [0. 0. 0. 0. 0. 0. 0. 0. 0. 1. 0.]\n",
      " [0. 0. 0. 0. 0. 1. 0. 0. 0. 0. 0.]\n",
      " [0. 0. 0. 0. 1. 0. 0. 0. 0. 0. 0.]\n",
      " [0. 1. 0. 0. 0. 0. 0. 0. 0. 0. 0.]\n",
      " [0. 0. 0. 0. 1. 0. 0. 0. 0. 0. 0.]\n",
      " [0. 1. 0. 0. 0. 0. 0. 0. 0. 0. 0.]]\n"
     ]
    }
   ],
   "source": [
    "print(Y_test[0:10])"
   ]
  },
  {
   "cell_type": "code",
   "execution_count": null,
   "id": "increasing-palestine",
   "metadata": {},
   "outputs": [],
   "source": []
  }
 ],
 "metadata": {
  "kernelspec": {
   "display_name": "Python 3",
   "language": "python",
   "name": "python3"
  },
  "language_info": {
   "codemirror_mode": {
    "name": "ipython",
    "version": 3
   },
   "file_extension": ".py",
   "mimetype": "text/x-python",
   "name": "python",
   "nbconvert_exporter": "python",
   "pygments_lexer": "ipython3",
   "version": "3.8.2"
  }
 },
 "nbformat": 4,
 "nbformat_minor": 5
}
