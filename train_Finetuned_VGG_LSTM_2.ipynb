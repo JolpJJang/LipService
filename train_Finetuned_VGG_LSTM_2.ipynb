{
 "cells": [
  {
   "cell_type": "code",
   "execution_count": 1,
   "metadata": {},
   "outputs": [],
   "source": [
    "import numpy as np\n",
    "from sklearn.model_selection import train_test_split\n",
    "\n",
    "import tensorflow as tf\n",
    "from tensorflow import keras\n",
    "from tensorflow.keras import layers\n",
    "from tensorflow.keras.models import Sequential\n",
    "from tensorflow.keras import models, layers, activations\n",
    "from tensorflow.keras.layers import Conv2D, TimeDistributed, BatchNormalization, MaxPooling2D, Flatten, Bidirectional, Dense,Dropout,Flatten\n",
    "from tensorflow.keras.applications import VGG16\n",
    "from tensorflow.keras.callbacks import EarlyStopping"
   ]
  },
  {
   "cell_type": "code",
   "execution_count": 2,
   "metadata": {},
   "outputs": [
    {
     "name": "stdout",
     "output_type": "stream",
     "text": [
      "(3000, 27, 64, 64, 3) (3000, 11)\n"
     ]
    }
   ],
   "source": [
    "x_data = np.load('lip_x_data.npy') # x_save.npy\n",
    "y_data = np.load('lip_y_data.npy') # y_data.npy\n",
    "y_data = keras.utils.to_categorical(y_data,11)\n",
    "print(x_data.shape, y_data.shape)"
   ]
  },
  {
   "cell_type": "code",
   "execution_count": 3,
   "metadata": {},
   "outputs": [
    {
     "name": "stdout",
     "output_type": "stream",
     "text": [
      "[0. 1. 0. 0. 0. 0. 0. 0. 0. 0. 0.]\n"
     ]
    }
   ],
   "source": [
    "print(y_data[0])"
   ]
  },
  {
   "cell_type": "code",
   "execution_count": 4,
   "metadata": {},
   "outputs": [
    {
     "name": "stdout",
     "output_type": "stream",
     "text": [
      "x_train: (2400, 27, 64, 64, 3), X_test: (600, 27, 64, 64, 3)\n",
      "Y_train: (2400, 11), Y_test: (600, 11)\n"
     ]
    }
   ],
   "source": [
    "# Train과 Test 분리\n",
    "X_train, X_test, Y_train, Y_test = train_test_split(x_data, y_data, test_size = 0.2, shuffle = True, stratify=y_data)\n",
    "print(\"x_train: {}, X_test: {}\".format(X_train.shape, X_test.shape))\n",
    "print(\"Y_train: {}, Y_test: {}\".format(Y_train.shape, Y_test.shape))"
   ]
  },
  {
   "cell_type": "code",
   "execution_count": 5,
   "metadata": {},
   "outputs": [],
   "source": [
    "class VGG_LSTM_fine(tf.keras.Model):\n",
    "    def __init__(self, input_shape, num_classes):\n",
    "        super(VGG_LSTM_fine, self).__init__()\n",
    "        self.vgg = VGG16(weights='imagenet', include_top=False,\n",
    "                         input_shape=(input_shape[2], input_shape[3], input_shape[4]))\n",
    "        self.vgg.trainable = False\n",
    "\n",
    "        set_trainable = False\n",
    "        for layer in self.vgg.layers:\n",
    "            if layer.name == 'block5_conv1' or layer.name == 'block5_conv2' or layer.name == 'block5_conv3' or layer.name == 'block5_pool':\n",
    "                set_trainable = True\n",
    "            if set_trainable:\n",
    "                layer.trainable = True\n",
    "            else:\n",
    "                layer.trainable = False\n",
    "        self.vggDistributed = TimeDistributed(self.vgg)        \n",
    "        self.bilstm = layers.Bidirectional(layers.LSTM(256), merge_mode='concat')\n",
    "        self.dense = layers.Dense(num_classes, activation='softmax')\n",
    "#         self.max_pool = layers.MaxPooling2D(pool_size=(2, 2))\n",
    "        self.dropout = layers.Dropout(0.2)\n",
    "        self.flat= TimeDistributed(Flatten())\n",
    "        \n",
    "    def call(self, x):\n",
    "        x = self.vggDistributed(x)\n",
    "        x = self.flat(x)\n",
    "        x = self.dropout(x)\n",
    "        x = self.bilstm(x)\n",
    "        x = self.dense(x)\n",
    "        return x"
   ]
  },
  {
   "cell_type": "code",
   "execution_count": 7,
   "metadata": {},
   "outputs": [],
   "source": [
    "def get_model_vgg_fine():\n",
    "    return VGG_LSTM_fine(input_shape = (32, 27, 64, 64, 3), num_classes = 11)"
   ]
  },
  {
   "cell_type": "code",
   "execution_count": 8,
   "metadata": {},
   "outputs": [
    {
     "name": "stdout",
     "output_type": "stream",
     "text": [
      "WARNING:tensorflow:From <ipython-input-8-bdb3352f611a>:1: experimental_run_functions_eagerly (from tensorflow.python.eager.def_function) is deprecated and will be removed in a future version.\n",
      "Instructions for updating:\n",
      "Use `tf.config.run_functions_eagerly` instead of the experimental version.\n"
     ]
    }
   ],
   "source": [
    "tf.config.experimental_run_functions_eagerly(True)"
   ]
  },
  {
   "cell_type": "code",
   "execution_count": 10,
   "metadata": {},
   "outputs": [
    {
     "name": "stdout",
     "output_type": "stream",
     "text": [
      "Epoch 1/70\n",
      "60/60 [==============================] - 2314s 39s/step - loss: 2.4948 - accuracy: 0.0859 - val_loss: 2.3311 - val_accuracy: 0.1167\n",
      "Epoch 2/70\n",
      "60/60 [==============================] - 2304s 38s/step - loss: 2.3122 - accuracy: 0.1184 - val_loss: 2.3458 - val_accuracy: 0.0812\n",
      "Epoch 3/70\n",
      "60/60 [==============================] - 2309s 39s/step - loss: 2.2992 - accuracy: 0.1263 - val_loss: 2.3217 - val_accuracy: 0.1042\n",
      "Epoch 4/70\n",
      "60/60 [==============================] - 2316s 39s/step - loss: 2.2801 - accuracy: 0.1196 - val_loss: 2.3017 - val_accuracy: 0.1292\n",
      "Epoch 5/70\n",
      "60/60 [==============================] - 2305s 38s/step - loss: 2.2527 - accuracy: 0.1509 - val_loss: 2.3009 - val_accuracy: 0.1229\n",
      "Epoch 6/70\n",
      "60/60 [==============================] - 2283s 38s/step - loss: 2.1836 - accuracy: 0.1996 - val_loss: 2.3244 - val_accuracy: 0.1208\n",
      "Epoch 7/70\n",
      "60/60 [==============================] - 2283s 38s/step - loss: 2.1377 - accuracy: 0.2186 - val_loss: 2.2573 - val_accuracy: 0.1500\n",
      "Epoch 8/70\n",
      "60/60 [==============================] - 2291s 38s/step - loss: 2.0511 - accuracy: 0.2532 - val_loss: 2.1226 - val_accuracy: 0.2333\n",
      "Epoch 9/70\n",
      "60/60 [==============================] - 2282s 38s/step - loss: 2.0032 - accuracy: 0.2912 - val_loss: 2.0336 - val_accuracy: 0.2479\n",
      "Epoch 10/70\n",
      "60/60 [==============================] - 2275s 38s/step - loss: 1.8409 - accuracy: 0.3559 - val_loss: 2.0801 - val_accuracy: 0.2000\n",
      "Epoch 11/70\n",
      "60/60 [==============================] - 2271s 38s/step - loss: 1.7634 - accuracy: 0.3667 - val_loss: 1.9118 - val_accuracy: 0.3021\n",
      "Epoch 12/70\n",
      "60/60 [==============================] - 2267s 38s/step - loss: 1.5818 - accuracy: 0.4317 - val_loss: 1.8010 - val_accuracy: 0.3521\n",
      "Epoch 13/70\n",
      "60/60 [==============================] - 2275s 38s/step - loss: 1.5339 - accuracy: 0.4399 - val_loss: 1.7953 - val_accuracy: 0.3208\n",
      "Epoch 14/70\n",
      "60/60 [==============================] - 2278s 38s/step - loss: 1.4774 - accuracy: 0.4672 - val_loss: 1.6878 - val_accuracy: 0.4000\n",
      "Epoch 15/70\n",
      "60/60 [==============================] - 2280s 38s/step - loss: 1.3302 - accuracy: 0.5185 - val_loss: 1.7212 - val_accuracy: 0.3583\n",
      "Epoch 16/70\n",
      "60/60 [==============================] - 2281s 38s/step - loss: 1.3576 - accuracy: 0.5190 - val_loss: 1.6602 - val_accuracy: 0.3771\n",
      "Epoch 17/70\n",
      "60/60 [==============================] - 2297s 38s/step - loss: 1.2838 - accuracy: 0.5539 - val_loss: 1.6167 - val_accuracy: 0.4146\n",
      "Epoch 18/70\n",
      "60/60 [==============================] - 2304s 38s/step - loss: 1.2022 - accuracy: 0.5540 - val_loss: 1.5887 - val_accuracy: 0.3979\n",
      "Epoch 19/70\n",
      "60/60 [==============================] - 2309s 39s/step - loss: 1.0735 - accuracy: 0.6203 - val_loss: 1.5172 - val_accuracy: 0.4563\n",
      "Epoch 20/70\n",
      "60/60 [==============================] - 2312s 39s/step - loss: 1.0146 - accuracy: 0.6386 - val_loss: 1.5035 - val_accuracy: 0.4729\n",
      "Epoch 21/70\n",
      "60/60 [==============================] - 2313s 39s/step - loss: 0.9734 - accuracy: 0.6331 - val_loss: 1.5916 - val_accuracy: 0.4437\n",
      "Epoch 22/70\n",
      "60/60 [==============================] - 2309s 39s/step - loss: 0.9633 - accuracy: 0.6712 - val_loss: 1.5180 - val_accuracy: 0.4437\n",
      "Epoch 23/70\n",
      "60/60 [==============================] - 2303s 38s/step - loss: 0.9344 - accuracy: 0.6699 - val_loss: 1.4384 - val_accuracy: 0.4750\n",
      "Epoch 24/70\n",
      "60/60 [==============================] - 2307s 38s/step - loss: 0.8618 - accuracy: 0.7014 - val_loss: 1.4419 - val_accuracy: 0.5021\n",
      "Epoch 25/70\n",
      "60/60 [==============================] - 2305s 38s/step - loss: 0.7580 - accuracy: 0.7433 - val_loss: 1.6384 - val_accuracy: 0.4354\n",
      "Epoch 26/70\n",
      "60/60 [==============================] - 2315s 39s/step - loss: 0.7867 - accuracy: 0.7109 - val_loss: 1.4119 - val_accuracy: 0.5063\n",
      "Epoch 27/70\n",
      "60/60 [==============================] - 2309s 39s/step - loss: 0.7021 - accuracy: 0.7728 - val_loss: 1.3791 - val_accuracy: 0.5625\n",
      "Epoch 28/70\n",
      "60/60 [==============================] - 2300s 38s/step - loss: 0.6993 - accuracy: 0.7708 - val_loss: 1.4220 - val_accuracy: 0.5167\n",
      "Epoch 29/70\n",
      "60/60 [==============================] - 2319s 39s/step - loss: 0.6838 - accuracy: 0.7587 - val_loss: 1.3604 - val_accuracy: 0.5542\n",
      "Epoch 30/70\n",
      "60/60 [==============================] - 2309s 39s/step - loss: 0.5941 - accuracy: 0.8041 - val_loss: 1.3148 - val_accuracy: 0.5688\n",
      "Epoch 31/70\n",
      "60/60 [==============================] - 2318s 39s/step - loss: 0.6006 - accuracy: 0.7986 - val_loss: 1.3392 - val_accuracy: 0.5646\n",
      "Epoch 32/70\n",
      "60/60 [==============================] - 2316s 39s/step - loss: 0.5373 - accuracy: 0.8348 - val_loss: 1.4209 - val_accuracy: 0.5312\n",
      "Epoch 33/70\n",
      "60/60 [==============================] - 2319s 39s/step - loss: 0.5650 - accuracy: 0.8099 - val_loss: 1.2694 - val_accuracy: 0.6354\n",
      "Epoch 34/70\n",
      "60/60 [==============================] - 2315s 39s/step - loss: 0.4876 - accuracy: 0.8567 - val_loss: 1.2815 - val_accuracy: 0.5917\n",
      "Epoch 35/70\n",
      "60/60 [==============================] - 2320s 39s/step - loss: 0.4475 - accuracy: 0.8645 - val_loss: 1.2950 - val_accuracy: 0.6042\n",
      "Epoch 36/70\n",
      "60/60 [==============================] - 2311s 39s/step - loss: 0.4194 - accuracy: 0.8528 - val_loss: 1.2890 - val_accuracy: 0.5854\n",
      "Epoch 37/70\n",
      "60/60 [==============================] - 2317s 39s/step - loss: 0.3955 - accuracy: 0.8824 - val_loss: 1.2652 - val_accuracy: 0.5979\n",
      "Epoch 38/70\n",
      "60/60 [==============================] - 2318s 39s/step - loss: 0.3776 - accuracy: 0.8888 - val_loss: 1.2892 - val_accuracy: 0.5979\n",
      "Epoch 39/70\n",
      "60/60 [==============================] - 2319s 39s/step - loss: 0.3519 - accuracy: 0.8854 - val_loss: 1.3744 - val_accuracy: 0.5667\n",
      "Epoch 40/70\n",
      "60/60 [==============================] - 2322s 39s/step - loss: 0.3988 - accuracy: 0.8702 - val_loss: 1.2664 - val_accuracy: 0.6292\n",
      "Epoch 41/70\n",
      "60/60 [==============================] - 2311s 39s/step - loss: 0.3382 - accuracy: 0.8849 - val_loss: 1.2952 - val_accuracy: 0.6042\n",
      "Epoch 42/70\n",
      "60/60 [==============================] - 2310s 39s/step - loss: 0.3010 - accuracy: 0.9068 - val_loss: 1.2854 - val_accuracy: 0.6375\n",
      "Epoch 43/70\n",
      "60/60 [==============================] - 2312s 39s/step - loss: 0.2722 - accuracy: 0.9169 - val_loss: 1.2387 - val_accuracy: 0.6583\n",
      "Epoch 44/70\n",
      "60/60 [==============================] - 2312s 39s/step - loss: 0.3117 - accuracy: 0.8952 - val_loss: 1.2750 - val_accuracy: 0.6292\n",
      "Epoch 45/70\n",
      "60/60 [==============================] - 2308s 39s/step - loss: 0.2550 - accuracy: 0.9176 - val_loss: 1.2864 - val_accuracy: 0.6479\n",
      "Epoch 46/70\n",
      "60/60 [==============================] - 2305s 38s/step - loss: 0.2443 - accuracy: 0.9237 - val_loss: 1.3931 - val_accuracy: 0.6208\n",
      "Epoch 47/70\n",
      "60/60 [==============================] - 2315s 39s/step - loss: 0.2555 - accuracy: 0.9039 - val_loss: 1.2737 - val_accuracy: 0.6333\n",
      "Epoch 48/70\n",
      "60/60 [==============================] - 2339s 39s/step - loss: 0.2049 - accuracy: 0.9420 - val_loss: 1.3738 - val_accuracy: 0.6146\n",
      "Epoch 49/70\n",
      "60/60 [==============================] - 2339s 39s/step - loss: 0.2283 - accuracy: 0.9272 - val_loss: 1.2189 - val_accuracy: 0.6625\n",
      "Epoch 50/70\n",
      "60/60 [==============================] - 2286s 38s/step - loss: 0.2402 - accuracy: 0.9330 - val_loss: 1.3573 - val_accuracy: 0.6187\n",
      "Epoch 51/70\n",
      "60/60 [==============================] - 2285s 38s/step - loss: 0.2193 - accuracy: 0.9313 - val_loss: 1.2382 - val_accuracy: 0.6604\n",
      "Epoch 52/70\n",
      "60/60 [==============================] - 2309s 39s/step - loss: 0.1957 - accuracy: 0.9436 - val_loss: 1.3853 - val_accuracy: 0.6313\n",
      "Epoch 53/70\n",
      "60/60 [==============================] - 2380s 40s/step - loss: 0.2398 - accuracy: 0.9238 - val_loss: 1.3998 - val_accuracy: 0.6396\n",
      "Epoch 54/70\n",
      "60/60 [==============================] - 2411s 40s/step - loss: 0.1766 - accuracy: 0.9463 - val_loss: 1.3587 - val_accuracy: 0.6667\n",
      "Epoch 55/70\n",
      "60/60 [==============================] - 2313s 39s/step - loss: 0.1582 - accuracy: 0.9559 - val_loss: 1.3781 - val_accuracy: 0.6187\n",
      "Epoch 56/70\n",
      "60/60 [==============================] - 2309s 39s/step - loss: 0.1813 - accuracy: 0.9433 - val_loss: 1.3860 - val_accuracy: 0.6354\n",
      "Epoch 57/70\n",
      "60/60 [==============================] - 2301s 38s/step - loss: 0.1638 - accuracy: 0.9524 - val_loss: 1.3717 - val_accuracy: 0.6354\n"
     ]
    },
    {
     "name": "stdout",
     "output_type": "stream",
     "text": [
      "Epoch 58/70\n",
      "60/60 [==============================] - 2279s 38s/step - loss: 0.1661 - accuracy: 0.9487 - val_loss: 1.3954 - val_accuracy: 0.6271\n",
      "Epoch 59/70\n",
      "60/60 [==============================] - 2281s 38s/step - loss: 0.1948 - accuracy: 0.9364 - val_loss: 1.2941 - val_accuracy: 0.6833\n"
     ]
    }
   ],
   "source": [
    "model = get_model_vgg_fine()\n",
    "model.compile(optimizer = 'adam', loss = 'categorical_crossentropy', metrics = ['accuracy'])\n",
    "es = EarlyStopping(monitor = 'val_loss', patience = 10)\n",
    "history = model.fit(X_train, Y_train, batch_size=32, epochs=70, verbose = 1, validation_split = 0.2, callbacks = [es])"
   ]
  },
  {
   "cell_type": "code",
   "execution_count": 11,
   "metadata": {},
   "outputs": [
    {
     "data": {
      "text/plain": [
       "{'loss': [2.394479990005493,\n",
       "  2.318490505218506,\n",
       "  2.298175096511841,\n",
       "  2.2757222652435303,\n",
       "  2.2421090602874756,\n",
       "  2.1727821826934814,\n",
       "  2.118715763092041,\n",
       "  2.0537140369415283,\n",
       "  1.961403250694275,\n",
       "  1.8136394023895264,\n",
       "  1.71804678440094,\n",
       "  1.6002949476242065,\n",
       "  1.5161373615264893,\n",
       "  1.452514410018921,\n",
       "  1.3343173265457153,\n",
       "  1.3354588747024536,\n",
       "  1.2327371835708618,\n",
       "  1.185186743736267,\n",
       "  1.0645267963409424,\n",
       "  1.0318048000335693,\n",
       "  0.9929363131523132,\n",
       "  0.9784649610519409,\n",
       "  0.9289360642433167,\n",
       "  0.8373563289642334,\n",
       "  0.794704794883728,\n",
       "  0.7539767622947693,\n",
       "  0.7037937045097351,\n",
       "  0.7141028642654419,\n",
       "  0.6904078125953674,\n",
       "  0.6383672952651978,\n",
       "  0.5815674662590027,\n",
       "  0.5651117563247681,\n",
       "  0.5136757493019104,\n",
       "  0.47140100598335266,\n",
       "  0.4726288616657257,\n",
       "  0.44949156045913696,\n",
       "  0.40103814005851746,\n",
       "  0.3674066364765167,\n",
       "  0.3655311167240143,\n",
       "  0.39505836367607117,\n",
       "  0.33476722240448,\n",
       "  0.3100394606590271,\n",
       "  0.2996023893356323,\n",
       "  0.3026215732097626,\n",
       "  0.2452991008758545,\n",
       "  0.26150214672088623,\n",
       "  0.25839364528656006,\n",
       "  0.2518060505390167,\n",
       "  0.22070950269699097,\n",
       "  0.2614310085773468,\n",
       "  0.22613884508609772,\n",
       "  0.22406618297100067,\n",
       "  0.21708104014396667,\n",
       "  0.16876132786273956,\n",
       "  0.1753627508878708,\n",
       "  0.18231040239334106,\n",
       "  0.1718471646308899,\n",
       "  0.16656045615673065,\n",
       "  0.1830020397901535],\n",
       " 'accuracy': [0.09531249850988388,\n",
       "  0.11614583432674408,\n",
       "  0.12864583730697632,\n",
       "  0.12604166567325592,\n",
       "  0.15729166567325592,\n",
       "  0.19947916269302368,\n",
       "  0.22708334028720856,\n",
       "  0.2541666626930237,\n",
       "  0.2901041805744171,\n",
       "  0.35104167461395264,\n",
       "  0.3791666626930237,\n",
       "  0.4229166805744171,\n",
       "  0.4546875059604645,\n",
       "  0.4802083373069763,\n",
       "  0.518750011920929,\n",
       "  0.5104166865348816,\n",
       "  0.567187488079071,\n",
       "  0.5776041746139526,\n",
       "  0.6213541626930237,\n",
       "  0.6255208253860474,\n",
       "  0.6380208134651184,\n",
       "  0.659375011920929,\n",
       "  0.6713541746139526,\n",
       "  0.7083333134651184,\n",
       "  0.7265625,\n",
       "  0.7348958253860474,\n",
       "  0.7666666507720947,\n",
       "  0.7598958611488342,\n",
       "  0.7583333253860474,\n",
       "  0.7807291746139526,\n",
       "  0.8052083253860474,\n",
       "  0.8166666626930237,\n",
       "  0.8343750238418579,\n",
       "  0.8520833253860474,\n",
       "  0.8447916507720947,\n",
       "  0.84375,\n",
       "  0.871874988079071,\n",
       "  0.8890625238418579,\n",
       "  0.8755208253860474,\n",
       "  0.8713541626930237,\n",
       "  0.890625,\n",
       "  0.901562511920929,\n",
       "  0.9072916507720947,\n",
       "  0.9041666388511658,\n",
       "  0.9255208373069763,\n",
       "  0.9208333492279053,\n",
       "  0.9104166626930237,\n",
       "  0.9223958253860474,\n",
       "  0.9364583492279053,\n",
       "  0.9213541746139526,\n",
       "  0.9322916865348816,\n",
       "  0.9312499761581421,\n",
       "  0.9296875,\n",
       "  0.9505208134651184,\n",
       "  0.9458333253860474,\n",
       "  0.9463541507720947,\n",
       "  0.9479166865348816,\n",
       "  0.953125,\n",
       "  0.9411458373069763],\n",
       " 'val_loss': [2.3310768604278564,\n",
       "  2.3457701206207275,\n",
       "  2.3216726779937744,\n",
       "  2.301701784133911,\n",
       "  2.3008763790130615,\n",
       "  2.3244035243988037,\n",
       "  2.2572808265686035,\n",
       "  2.122589111328125,\n",
       "  2.0335586071014404,\n",
       "  2.0801403522491455,\n",
       "  1.9118314981460571,\n",
       "  1.8010011911392212,\n",
       "  1.7953097820281982,\n",
       "  1.6877949237823486,\n",
       "  1.7212475538253784,\n",
       "  1.660204529762268,\n",
       "  1.6167008876800537,\n",
       "  1.5886573791503906,\n",
       "  1.5171911716461182,\n",
       "  1.5034871101379395,\n",
       "  1.5915521383285522,\n",
       "  1.5180027484893799,\n",
       "  1.4383779764175415,\n",
       "  1.4418574571609497,\n",
       "  1.6383775472640991,\n",
       "  1.4118773937225342,\n",
       "  1.3791288137435913,\n",
       "  1.4219518899917603,\n",
       "  1.3604260683059692,\n",
       "  1.314819574356079,\n",
       "  1.3392128944396973,\n",
       "  1.4208906888961792,\n",
       "  1.269353985786438,\n",
       "  1.2815117835998535,\n",
       "  1.2950465679168701,\n",
       "  1.2890204191207886,\n",
       "  1.2651832103729248,\n",
       "  1.2892029285430908,\n",
       "  1.3743869066238403,\n",
       "  1.2664300203323364,\n",
       "  1.2951629161834717,\n",
       "  1.2853872776031494,\n",
       "  1.2386548519134521,\n",
       "  1.2750194072723389,\n",
       "  1.2864444255828857,\n",
       "  1.3931357860565186,\n",
       "  1.2736999988555908,\n",
       "  1.3737642765045166,\n",
       "  1.2189267873764038,\n",
       "  1.3572649955749512,\n",
       "  1.2382330894470215,\n",
       "  1.3853347301483154,\n",
       "  1.3997727632522583,\n",
       "  1.3587348461151123,\n",
       "  1.3780767917633057,\n",
       "  1.3860154151916504,\n",
       "  1.3716992139816284,\n",
       "  1.3953977823257446,\n",
       "  1.2941237688064575],\n",
       " 'val_accuracy': [0.11666666716337204,\n",
       "  0.08124999701976776,\n",
       "  0.1041666641831398,\n",
       "  0.12916666269302368,\n",
       "  0.12291666865348816,\n",
       "  0.12083332985639572,\n",
       "  0.15000000596046448,\n",
       "  0.23333333432674408,\n",
       "  0.24791666865348816,\n",
       "  0.20000000298023224,\n",
       "  0.3020833432674408,\n",
       "  0.35208332538604736,\n",
       "  0.32083332538604736,\n",
       "  0.4000000059604645,\n",
       "  0.3583333194255829,\n",
       "  0.37708333134651184,\n",
       "  0.41458332538604736,\n",
       "  0.39791667461395264,\n",
       "  0.45625001192092896,\n",
       "  0.4729166626930237,\n",
       "  0.4437499940395355,\n",
       "  0.4437499940395355,\n",
       "  0.4749999940395355,\n",
       "  0.5020833611488342,\n",
       "  0.43541666865348816,\n",
       "  0.5062500238418579,\n",
       "  0.5625,\n",
       "  0.5166666507720947,\n",
       "  0.5541666746139526,\n",
       "  0.5687500238418579,\n",
       "  0.5645833611488342,\n",
       "  0.53125,\n",
       "  0.6354166865348816,\n",
       "  0.5916666388511658,\n",
       "  0.6041666865348816,\n",
       "  0.5854166746139526,\n",
       "  0.5979166626930237,\n",
       "  0.5979166626930237,\n",
       "  0.5666666626930237,\n",
       "  0.6291666626930237,\n",
       "  0.6041666865348816,\n",
       "  0.637499988079071,\n",
       "  0.6583333611488342,\n",
       "  0.6291666626930237,\n",
       "  0.6479166746139526,\n",
       "  0.6208333373069763,\n",
       "  0.6333333253860474,\n",
       "  0.6145833134651184,\n",
       "  0.6625000238418579,\n",
       "  0.6187499761581421,\n",
       "  0.6604166626930237,\n",
       "  0.6312500238418579,\n",
       "  0.6395833492279053,\n",
       "  0.6666666865348816,\n",
       "  0.6187499761581421,\n",
       "  0.6354166865348816,\n",
       "  0.6354166865348816,\n",
       "  0.6270833611488342,\n",
       "  0.6833333373069763]}"
      ]
     },
     "execution_count": 11,
     "metadata": {},
     "output_type": "execute_result"
    }
   ],
   "source": [
    "history.history"
   ]
  },
  {
   "cell_type": "code",
   "execution_count": 12,
   "metadata": {},
   "outputs": [
    {
     "name": "stdout",
     "output_type": "stream",
     "text": [
      "dict_keys(['loss', 'accuracy', 'val_loss', 'val_accuracy'])\n"
     ]
    },
    {
     "data": {
      "image/png": "[encoded data removed]",
      "text/plain": [
       "<Figure size 432x288 with 1 Axes>"
      ]
     },
     "metadata": {
      "needs_background": "light"
     },
     "output_type": "display_data"
    },
    {
     "data": {
      "image/png": "[encoded data removed]",
      "text/plain": [
       "<Figure size 432x288 with 1 Axes>"
      ]
     },
     "metadata": {
      "needs_background": "light"
     },
     "output_type": "display_data"
    }
   ],
   "source": [
    "import matplotlib.pyplot as plt\n",
    "# list all data in history\n",
    "print(history.history.keys())\n",
    "# summarize history for accuracy\n",
    "plt.plot(history.history['accuracy'])\n",
    "plt.plot(history.history['val_accuracy'])\n",
    "plt.title('model accuracy')\n",
    "plt.ylabel('accuracy')\n",
    "plt.xlabel('epoch')\n",
    "plt.legend(['train', 'test'], loc='upper left')\n",
    "plt.show()\n",
    "# summarize history for loss\n",
    "plt.plot(history.history['loss'])\n",
    "plt.plot(history.history['val_loss'])\n",
    "plt.title('model loss')\n",
    "plt.ylabel('loss')\n",
    "plt.xlabel('epoch')\n",
    "plt.legend(['train', 'test'], loc='upper left')\n",
    "plt.show()"
   ]
  },
  {
   "cell_type": "code",
   "execution_count": 13,
   "metadata": {},
   "outputs": [
    {
     "name": "stderr",
     "output_type": "stream",
     "text": [
      "/Users/heegeepark/venv/myvenv/lib/python3.8/site-packages/tensorflow/python/data/ops/dataset_ops.py:3503: UserWarning: Even though the tf.config.experimental_run_functions_eagerly option is set, this option does not apply to tf.data functions. tf.data functions are still traced and executed as graphs.\n",
      "  warnings.warn(\n"
     ]
    },
    {
     "name": "stdout",
     "output_type": "stream",
     "text": [
      "19/19 [==============================] - 405s 21s/step - loss: 1.2085 - accuracy: 0.6800\n",
      "acc: 0.6800000071525574 loss: 1.208500623703003\n"
     ]
    }
   ],
   "source": [
    "score = model.evaluate(X_test, Y_test, batch_size = 32, verbose = 1)\n",
    "print(\"acc:\", score[1], \"loss:\", score[0])"
   ]
  },
  {
   "cell_type": "code",
   "execution_count": 14,
   "metadata": {},
   "outputs": [],
   "source": [
    "from tensorflow.keras.models import load_model\n",
    "\n",
    "model.save_weights('finetuned_vgg_bilstm.h5')"
   ]
  }
 ],
 "metadata": {
  "kernelspec": {
   "display_name": "Python 3",
   "language": "python",
   "name": "python3"
  },
  "language_info": {
   "codemirror_mode": {
    "name": "ipython",
    "version": 3
   },
   "file_extension": ".py",
   "mimetype": "text/x-python",
   "name": "python",
   "nbconvert_exporter": "python",
   "pygments_lexer": "ipython3",
   "version": "3.8.2"
  }
 },
 "nbformat": 4,
 "nbformat_minor": 4
}
