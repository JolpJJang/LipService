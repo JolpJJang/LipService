{
 "cells": [
  {
   "cell_type": "code",
   "execution_count": 1,
   "metadata": {},
   "outputs": [],
   "source": [
    "import numpy as np\n",
    "from sklearn.model_selection import train_test_split\n",
    "\n",
    "import tensorflow as tf\n",
    "from tensorflow import keras\n",
    "from tensorflow.keras import layers\n",
    "from keras.models import Sequential\n",
    "from keras import models, layers, activations\n",
    "from keras.layers import Conv2D, TimeDistributed, BatchNormalization, MaxPooling2D, Flatten, Bidirectional, Dense, Dropout, Embedding\n",
    "from keras.callbacks import EarlyStopping"
   ]
  },
  {
   "cell_type": "code",
   "execution_count": 2,
   "metadata": {},
   "outputs": [
    {
     "name": "stdout",
     "output_type": "stream",
     "text": [
      "(3000, 27, 64, 64, 3) (3000, 11)\n"
     ]
    }
   ],
   "source": [
    "x_data = np.load('face/face/face_x_data.npy') # x_save.npy\n",
    "y_data = np.load('face/face/face_y_data.npy') # y_data.npy\n",
    "y_data = keras.utils.to_categorical(y_data,11)\n",
    "print(x_data.shape, y_data.shape)"
   ]
  },
  {
   "cell_type": "code",
   "execution_count": 3,
   "metadata": {},
   "outputs": [
    {
     "name": "stdout",
     "output_type": "stream",
     "text": [
      "X_train: (2400, 27, 64, 64, 3), X_test: (600, 27, 64, 64, 3)\n",
      "Y_train: (2400, 11), Y_test: (600, 11)\n"
     ]
    }
   ],
   "source": [
    "# Train과 Test 분리\n",
    "X_train, X_test, Y_train, Y_test = train_test_split(x_data, y_data, test_size = 0.2, shuffle = True, stratify=y_data)\n",
    "#X_train = X_train / 255\n",
    "print(\"X_train: {}, X_test: {}\".format(X_train.shape, X_test.shape))\n",
    "print(\"Y_train: {}, Y_test: {}\".format(Y_train.shape, Y_test.shape))"
   ]
  },
  {
   "cell_type": "code",
   "execution_count": 4,
   "metadata": {},
   "outputs": [],
   "source": [
    "import efficientnet.keras as efn\n",
    "\n",
    "class EfficientNet_LSTM(keras.Model):\n",
    "    def __init__(self, num_classes):\n",
    "        super(EfficientNet_LSTM, self).__init__()\n",
    "        #self.BZ = input_shape[0]\n",
    "        #self.frame = input_shape[1]\n",
    "        self.EFNB0 = TimeDistributed(efn.EfficientNetB0(weights='imagenet', include_top=False,\n",
    "                                               pooling='max'))\n",
    "        self.EFNB0.trainable = False\n",
    "        self.bilstm = layers.Bidirectional(layers.LSTM(128), merge_mode='concat')\n",
    "        self.dense2 = layers.Dense(128, activation='relu')\n",
    "        self.dense = layers.Dense(num_classes, activation='softmax')\n",
    "        self.max_pool = TimeDistributed(MaxPooling2D(pool_size=(2, 2)))\n",
    "        self.dropout2 = layers.Dropout(0.2)\n",
    "        self.dropout3 = layers.Dropout(0.3)\n",
    "        self.flat = TimeDistributed(Flatten())\n",
    "\n",
    "    def call(self, x):\n",
    "        x = self.EFNB0(x)\n",
    "        x = self.flat(x)\n",
    "        x = self.dropout2(x)\n",
    "        x = self.bilstm(x)\n",
    "        #x = self.dense2(x)\n",
    "        x = self.dropout2(x)\n",
    "        return self.dense(x)"
   ]
  },
  {
   "cell_type": "code",
   "execution_count": 5,
   "metadata": {},
   "outputs": [],
   "source": [
    "def get_model_vgg():\n",
    "    return EfficientNet_LSTM(num_classes = 11)"
   ]
  },
  {
   "cell_type": "code",
   "execution_count": 6,
   "metadata": {},
   "outputs": [],
   "source": [
    "model = get_model_vgg()\n",
    "model.compile(optimizer = 'adam', loss = 'categorical_crossentropy', metrics = ['accuracy'])"
   ]
  },
  {
   "cell_type": "code",
   "execution_count": 7,
   "metadata": {},
   "outputs": [
    {
     "name": "stdout",
     "output_type": "stream",
     "text": [
      "Epoch 1/100\n",
      "60/60 [==============================] - 351s 5s/step - loss: 2.4371 - accuracy: 0.0964 - val_loss: 2.2776 - val_accuracy: 0.1312\n",
      "Epoch 2/100\n",
      "60/60 [==============================] - 295s 5s/step - loss: 2.2283 - accuracy: 0.1876 - val_loss: 2.2334 - val_accuracy: 0.1708\n",
      "Epoch 3/100\n",
      "60/60 [==============================] - 291s 5s/step - loss: 2.0920 - accuracy: 0.2411 - val_loss: 2.1098 - val_accuracy: 0.2396\n",
      "Epoch 4/100\n",
      "60/60 [==============================] - 288s 5s/step - loss: 1.9421 - accuracy: 0.3237 - val_loss: 2.0278 - val_accuracy: 0.2729\n",
      "Epoch 5/100\n",
      "60/60 [==============================] - 290s 5s/step - loss: 1.7981 - accuracy: 0.3797 - val_loss: 1.8716 - val_accuracy: 0.3562\n",
      "Epoch 6/100\n",
      "60/60 [==============================] - 290s 5s/step - loss: 1.5876 - accuracy: 0.4713 - val_loss: 1.7788 - val_accuracy: 0.3771\n",
      "Epoch 7/100\n",
      "60/60 [==============================] - 289s 5s/step - loss: 1.4654 - accuracy: 0.4973 - val_loss: 1.7169 - val_accuracy: 0.4083\n",
      "Epoch 8/100\n",
      "60/60 [==============================] - 291s 5s/step - loss: 1.2732 - accuracy: 0.5940 - val_loss: 1.6293 - val_accuracy: 0.4125\n",
      "Epoch 9/100\n",
      "60/60 [==============================] - 287s 5s/step - loss: 1.1205 - accuracy: 0.6269 - val_loss: 1.5427 - val_accuracy: 0.4542\n",
      "Epoch 10/100\n",
      "60/60 [==============================] - 290s 5s/step - loss: 0.9348 - accuracy: 0.7083 - val_loss: 1.5614 - val_accuracy: 0.4729\n",
      "Epoch 11/100\n",
      "60/60 [==============================] - 292s 5s/step - loss: 0.8917 - accuracy: 0.7074 - val_loss: 1.5027 - val_accuracy: 0.4875\n",
      "Epoch 12/100\n",
      "60/60 [==============================] - 287s 5s/step - loss: 0.7219 - accuracy: 0.7763 - val_loss: 1.4673 - val_accuracy: 0.5042\n",
      "Epoch 13/100\n",
      "60/60 [==============================] - 286s 5s/step - loss: 0.6671 - accuracy: 0.7947 - val_loss: 1.3509 - val_accuracy: 0.5312\n",
      "Epoch 14/100\n",
      "60/60 [==============================] - 294s 5s/step - loss: 0.5565 - accuracy: 0.8377 - val_loss: 1.5166 - val_accuracy: 0.5188\n",
      "Epoch 15/100\n",
      "60/60 [==============================] - 289s 5s/step - loss: 0.5292 - accuracy: 0.8364 - val_loss: 1.2627 - val_accuracy: 0.5750\n",
      "Epoch 16/100\n",
      "60/60 [==============================] - 289s 5s/step - loss: 0.4013 - accuracy: 0.8887 - val_loss: 1.3592 - val_accuracy: 0.5604\n",
      "Epoch 17/100\n",
      "60/60 [==============================] - 291s 5s/step - loss: 0.3883 - accuracy: 0.8934 - val_loss: 1.3138 - val_accuracy: 0.5854\n",
      "Epoch 18/100\n",
      "60/60 [==============================] - 289s 5s/step - loss: 0.3012 - accuracy: 0.9264 - val_loss: 1.3358 - val_accuracy: 0.5667\n",
      "Epoch 19/100\n",
      "60/60 [==============================] - 289s 5s/step - loss: 0.2609 - accuracy: 0.9259 - val_loss: 1.2805 - val_accuracy: 0.6125\n",
      "Epoch 20/100\n",
      "60/60 [==============================] - 290s 5s/step - loss: 0.2574 - accuracy: 0.9350 - val_loss: 1.3581 - val_accuracy: 0.5688\n",
      "Epoch 21/100\n",
      "60/60 [==============================] - 289s 5s/step - loss: 0.2724 - accuracy: 0.9309 - val_loss: 1.2624 - val_accuracy: 0.6042\n",
      "Epoch 22/100\n",
      "60/60 [==============================] - 293s 5s/step - loss: 0.1885 - accuracy: 0.9525 - val_loss: 1.3178 - val_accuracy: 0.6000\n",
      "Epoch 23/100\n",
      "60/60 [==============================] - 290s 5s/step - loss: 0.2002 - accuracy: 0.9504 - val_loss: 1.3392 - val_accuracy: 0.5813\n",
      "Epoch 24/100\n",
      "60/60 [==============================] - 287s 5s/step - loss: 0.1560 - accuracy: 0.9655 - val_loss: 1.3342 - val_accuracy: 0.6146\n",
      "Epoch 25/100\n",
      "60/60 [==============================] - 291s 5s/step - loss: 0.1943 - accuracy: 0.9482 - val_loss: 1.4187 - val_accuracy: 0.5958\n",
      "Epoch 26/100\n",
      "60/60 [==============================] - 289s 5s/step - loss: 0.1902 - accuracy: 0.9498 - val_loss: 1.3431 - val_accuracy: 0.5917\n",
      "Epoch 27/100\n",
      "60/60 [==============================] - 291s 5s/step - loss: 0.1422 - accuracy: 0.9632 - val_loss: 1.2306 - val_accuracy: 0.6208\n",
      "Epoch 28/100\n",
      "60/60 [==============================] - 291s 5s/step - loss: 0.1630 - accuracy: 0.9579 - val_loss: 1.4420 - val_accuracy: 0.5833\n",
      "Epoch 29/100\n",
      "60/60 [==============================] - 288s 5s/step - loss: 0.1698 - accuracy: 0.9528 - val_loss: 1.3693 - val_accuracy: 0.6042\n",
      "Epoch 30/100\n",
      "60/60 [==============================] - 288s 5s/step - loss: 0.1536 - accuracy: 0.9645 - val_loss: 1.3211 - val_accuracy: 0.6292\n",
      "Epoch 31/100\n",
      "60/60 [==============================] - 290s 5s/step - loss: 0.1211 - accuracy: 0.9706 - val_loss: 1.4216 - val_accuracy: 0.5854\n",
      "Epoch 32/100\n",
      "60/60 [==============================] - 291s 5s/step - loss: 0.1065 - accuracy: 0.9739 - val_loss: 1.4047 - val_accuracy: 0.6167\n",
      "Epoch 33/100\n",
      "60/60 [==============================] - 287s 5s/step - loss: 0.1105 - accuracy: 0.9743 - val_loss: 1.3616 - val_accuracy: 0.6062\n",
      "Epoch 34/100\n",
      "60/60 [==============================] - 287s 5s/step - loss: 0.0929 - accuracy: 0.9792 - val_loss: 1.3280 - val_accuracy: 0.6375\n",
      "Epoch 35/100\n",
      "60/60 [==============================] - 288s 5s/step - loss: 0.1012 - accuracy: 0.9729 - val_loss: 1.4019 - val_accuracy: 0.6000\n",
      "Epoch 36/100\n",
      "60/60 [==============================] - 294s 5s/step - loss: 0.1223 - accuracy: 0.9644 - val_loss: 1.2339 - val_accuracy: 0.6354\n",
      "Epoch 37/100\n",
      "60/60 [==============================] - 291s 5s/step - loss: 0.0931 - accuracy: 0.9750 - val_loss: 1.5425 - val_accuracy: 0.5771\n"
     ]
    }
   ],
   "source": [
    "es = EarlyStopping(monitor = 'val_loss', patience = 10)\n",
    "history = model.fit(X_train, Y_train, batch_size=32, epochs=100, verbose = 1, validation_split=0.2, callbacks = [es])"
   ]
  },
  {
   "cell_type": "code",
   "execution_count": 8,
   "metadata": {},
   "outputs": [
    {
     "name": "stdout",
     "output_type": "stream",
     "text": [
      "dict_keys(['loss', 'accuracy', 'val_loss', 'val_accuracy'])\n"
     ]
    },
    {
     "data": {
      "image/png": "[encoded data removed]",
      "text/plain": [
       "<Figure size 432x288 with 1 Axes>"
      ]
     },
     "metadata": {
      "needs_background": "light"
     },
     "output_type": "display_data"
    },
    {
     "data": {
      "image/png": "[encoded data removed]",
      "text/plain": [
       "<Figure size 432x288 with 1 Axes>"
      ]
     },
     "metadata": {
      "needs_background": "light"
     },
     "output_type": "display_data"
    }
   ],
   "source": [
    "import matplotlib.pyplot as plt\n",
    "# list all data in history\n",
    "print(history.history.keys())\n",
    "# summarize history for accuracy\n",
    "plt.plot(history.history['accuracy'])\n",
    "plt.plot(history.history['val_accuracy'])\n",
    "plt.title('model accuracy')\n",
    "plt.ylabel('accuracy')\n",
    "plt.xlabel('epoch')\n",
    "plt.legend(['train', 'test'], loc='upper left')\n",
    "plt.show()\n",
    "# summarize history for loss\n",
    "plt.plot(history.history['loss'])\n",
    "plt.plot(history.history['val_loss'])\n",
    "plt.title('model loss')\n",
    "plt.ylabel('loss')\n",
    "plt.xlabel('epoch')\n",
    "plt.legend(['train', 'test'], loc='upper left')\n",
    "plt.show()"
   ]
  },
  {
   "cell_type": "code",
   "execution_count": 9,
   "metadata": {},
   "outputs": [
    {
     "name": "stdout",
     "output_type": "stream",
     "text": [
      "19/19 [==============================] - 91s 4s/step - loss: 1.5258 - accuracy: 0.6083\n",
      "acc: 0.6083333492279053 loss: 1.525793194770813\n"
     ]
    }
   ],
   "source": [
    "score = model.evaluate(X_test, Y_test, batch_size = 32, verbose = 1)\n",
    "print(\"acc:\", score[1], \"loss:\", score[0]) "
   ]
  },
  {
   "cell_type": "code",
   "execution_count": 15,
   "metadata": {},
   "outputs": [],
   "source": [
    "from tensorflow.python.keras.models import load_model\n",
    "model.save_weights('efficientnet_lstm_model.h5')"
   ]
  },
  {
   "cell_type": "code",
   "execution_count": null,
   "metadata": {},
   "outputs": [],
   "source": []
  }
 ],
 "metadata": {
  "kernelspec": {
   "display_name": "Python 3",
   "language": "python",
   "name": "python3"
  },
  "language_info": {
   "codemirror_mode": {
    "name": "ipython",
    "version": 3
   },
   "file_extension": ".py",
   "mimetype": "text/x-python",
   "name": "python",
   "nbconvert_exporter": "python",
   "pygments_lexer": "ipython3",
   "version": "3.8.5"
  }
 },
 "nbformat": 4,
 "nbformat_minor": 4
}
