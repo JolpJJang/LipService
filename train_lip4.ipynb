{
 "cells": [
  {
   "cell_type": "code",
   "execution_count": 1,
   "metadata": {},
   "outputs": [],
   "source": [
    "import numpy as np\n",
    "from sklearn.model_selection import train_test_split\n",
    "\n",
    "import tensorflow as tf\n",
    "from tensorflow import keras\n",
    "from tensorflow.keras import layers\n",
    "from keras.models import Sequential\n",
    "from keras import models, layers, activations\n",
    "from keras.layers import Conv2D, TimeDistributed, BatchNormalization, MaxPooling2D, Flatten, Bidirectional, Dense, Dropout, Embedding\n",
    "from keras.callbacks import EarlyStopping"
   ]
  },
  {
   "cell_type": "code",
   "execution_count": 2,
   "metadata": {},
   "outputs": [
    {
     "name": "stdout",
     "output_type": "stream",
     "text": [
      "(3000, 27, 64, 64, 3) (3000, 11)\n"
     ]
    }
   ],
   "source": [
    "x_data = np.load('lip/lip_x_data.npy') # x_save.npy\n",
    "y_data = np.load('lip/lip_y_data.npy') # y_data.npy\n",
    "y_data = keras.utils.to_categorical(y_data,11)\n",
    "print(x_data.shape, y_data.shape)"
   ]
  },
  {
   "cell_type": "code",
   "execution_count": 3,
   "metadata": {},
   "outputs": [
    {
     "name": "stdout",
     "output_type": "stream",
     "text": [
      "X_train: (2400, 27, 64, 64, 3), X_test: (600, 27, 64, 64, 3)\n",
      "Y_train: (2400, 11), Y_test: (600, 11)\n"
     ]
    }
   ],
   "source": [
    "# Train과 Test 분리\n",
    "X_train, X_test, Y_train, Y_test = train_test_split(x_data, y_data, test_size = 0.2, shuffle = True, stratify=y_data)\n",
    "#X_train = X_train / 255\n",
    "print(\"X_train: {}, X_test: {}\".format(X_train.shape, X_test.shape))\n",
    "print(\"Y_train: {}, Y_test: {}\".format(Y_train.shape, Y_test.shape))"
   ]
  },
  {
   "cell_type": "code",
   "execution_count": 9,
   "metadata": {},
   "outputs": [],
   "source": [
    "import efficientnet.keras as efn\n",
    "\n",
    "class EfficientNet_LSTM(keras.Model):\n",
    "    def __init__(self, num_classes):\n",
    "        super(EfficientNet_LSTM, self).__init__()\n",
    "        #self.BZ = input_shape[0]\n",
    "        #self.frame = input_shape[1]\n",
    "        self.EFNB0 = TimeDistributed(efn.EfficientNetB0(weights='imagenet', include_top=False,\n",
    "                                               pooling='max'))\n",
    "        self.EFNB0.trainable = False\n",
    "        self.bilstm = layers.Bidirectional(layers.LSTM(256), merge_mode='concat')\n",
    "        self.dense2 = layers.Dense(128, activation='relu')\n",
    "        self.dense = layers.Dense(num_classes, activation='softmax')\n",
    "        self.max_pool = TimeDistributed(MaxPooling2D(pool_size=(2, 2)))\n",
    "        self.dropout2 = layers.Dropout(0.2)\n",
    "        self.dropout3 = layers.Dropout(0.3)\n",
    "        self.flat = TimeDistributed(Flatten())\n",
    "\n",
    "    def call(self, x):\n",
    "        x = self.EFNB0(x)\n",
    "        x = self.flat(x)\n",
    "        x = self.bilstm(x)\n",
    "        x = self.dense2(x)\n",
    "        x = self.dropout2(x)\n",
    "        return self.dense(x)"
   ]
  },
  {
   "cell_type": "code",
   "execution_count": 10,
   "metadata": {},
   "outputs": [],
   "source": [
    "def get_model_vgg():\n",
    "    return EfficientNet_LSTM(num_classes = 11)"
   ]
  },
  {
   "cell_type": "code",
   "execution_count": 11,
   "metadata": {},
   "outputs": [],
   "source": [
    "model = get_model_vgg()\n",
    "model.compile(optimizer = 'adam', loss = 'categorical_crossentropy', metrics = ['accuracy'])"
   ]
  },
  {
   "cell_type": "code",
   "execution_count": 12,
   "metadata": {},
   "outputs": [
    {
     "name": "stdout",
     "output_type": "stream",
     "text": [
      "Epoch 1/100\n",
      "60/60 [==============================] - 457s 7s/step - loss: 2.4257 - accuracy: 0.1094 - val_loss: 2.3201 - val_accuracy: 0.0896\n",
      "Epoch 2/100\n",
      "60/60 [==============================] - 391s 7s/step - loss: 2.3160 - accuracy: 0.1071 - val_loss: 2.3029 - val_accuracy: 0.1437\n",
      "Epoch 3/100\n",
      "60/60 [==============================] - 382s 6s/step - loss: 2.2749 - accuracy: 0.1438 - val_loss: 2.2553 - val_accuracy: 0.1396\n",
      "Epoch 4/100\n",
      "60/60 [==============================] - 380s 6s/step - loss: 2.2305 - accuracy: 0.1574 - val_loss: 2.2476 - val_accuracy: 0.1437\n",
      "Epoch 5/100\n",
      "60/60 [==============================] - 379s 6s/step - loss: 2.1717 - accuracy: 0.2107 - val_loss: 2.1217 - val_accuracy: 0.2062\n",
      "Epoch 6/100\n",
      "60/60 [==============================] - 379s 6s/step - loss: 2.0258 - accuracy: 0.2747 - val_loss: 1.9534 - val_accuracy: 0.2854\n",
      "Epoch 7/100\n",
      "60/60 [==============================] - 321s 5s/step - loss: 1.9227 - accuracy: 0.3005 - val_loss: 1.8228 - val_accuracy: 0.3187\n",
      "Epoch 8/100\n",
      "60/60 [==============================] - 318s 5s/step - loss: 1.6959 - accuracy: 0.3614 - val_loss: 1.8466 - val_accuracy: 0.3042\n",
      "Epoch 9/100\n",
      "60/60 [==============================] - 319s 5s/step - loss: 1.6546 - accuracy: 0.3869 - val_loss: 1.6295 - val_accuracy: 0.3750\n",
      "Epoch 10/100\n",
      "60/60 [==============================] - 321s 5s/step - loss: 1.4614 - accuracy: 0.4476 - val_loss: 1.5506 - val_accuracy: 0.4250\n",
      "Epoch 11/100\n",
      "60/60 [==============================] - 320s 5s/step - loss: 1.3620 - accuracy: 0.5059 - val_loss: 1.5752 - val_accuracy: 0.4229\n",
      "Epoch 12/100\n",
      "60/60 [==============================] - 322s 5s/step - loss: 1.2885 - accuracy: 0.5488 - val_loss: 1.5124 - val_accuracy: 0.4500\n",
      "Epoch 13/100\n",
      "60/60 [==============================] - 320s 5s/step - loss: 1.1857 - accuracy: 0.5712 - val_loss: 1.4266 - val_accuracy: 0.4792\n",
      "Epoch 14/100\n",
      "60/60 [==============================] - 319s 5s/step - loss: 1.1488 - accuracy: 0.5491 - val_loss: 1.3430 - val_accuracy: 0.5167\n",
      "Epoch 15/100\n",
      "60/60 [==============================] - 320s 5s/step - loss: 1.0058 - accuracy: 0.6510 - val_loss: 1.3883 - val_accuracy: 0.4750\n",
      "Epoch 16/100\n",
      "60/60 [==============================] - 324s 5s/step - loss: 0.9576 - accuracy: 0.6668 - val_loss: 1.4407 - val_accuracy: 0.4938\n",
      "Epoch 17/100\n",
      "60/60 [==============================] - 321s 5s/step - loss: 0.9193 - accuracy: 0.6602 - val_loss: 1.2423 - val_accuracy: 0.5396\n",
      "Epoch 18/100\n",
      "60/60 [==============================] - 320s 5s/step - loss: 0.7750 - accuracy: 0.7257 - val_loss: 1.2577 - val_accuracy: 0.5458\n",
      "Epoch 19/100\n",
      "60/60 [==============================] - 320s 5s/step - loss: 0.7198 - accuracy: 0.7467 - val_loss: 1.2404 - val_accuracy: 0.5708\n",
      "Epoch 20/100\n",
      "60/60 [==============================] - 319s 5s/step - loss: 0.6478 - accuracy: 0.7467 - val_loss: 1.2854 - val_accuracy: 0.5625\n",
      "Epoch 21/100\n",
      "60/60 [==============================] - 322s 5s/step - loss: 0.5684 - accuracy: 0.8128 - val_loss: 1.3205 - val_accuracy: 0.5417\n",
      "Epoch 22/100\n",
      "60/60 [==============================] - 319s 5s/step - loss: 0.5950 - accuracy: 0.7887 - val_loss: 1.2400 - val_accuracy: 0.6000\n",
      "Epoch 23/100\n",
      "60/60 [==============================] - 321s 5s/step - loss: 0.5538 - accuracy: 0.8016 - val_loss: 1.2843 - val_accuracy: 0.5729\n",
      "Epoch 24/100\n",
      "60/60 [==============================] - 319s 5s/step - loss: 0.4750 - accuracy: 0.8395 - val_loss: 1.3402 - val_accuracy: 0.5792\n",
      "Epoch 25/100\n",
      "60/60 [==============================] - 319s 5s/step - loss: 0.4529 - accuracy: 0.8467 - val_loss: 1.3588 - val_accuracy: 0.5896\n",
      "Epoch 26/100\n",
      "60/60 [==============================] - 320s 5s/step - loss: 0.4235 - accuracy: 0.8562 - val_loss: 1.4438 - val_accuracy: 0.5604\n",
      "Epoch 27/100\n",
      "60/60 [==============================] - 325s 5s/step - loss: 0.4225 - accuracy: 0.8541 - val_loss: 1.2924 - val_accuracy: 0.6354\n",
      "Epoch 28/100\n",
      "60/60 [==============================] - 402s 7s/step - loss: 0.3651 - accuracy: 0.8747 - val_loss: 1.3710 - val_accuracy: 0.5917\n",
      "Epoch 29/100\n",
      "60/60 [==============================] - 336s 6s/step - loss: 0.3452 - accuracy: 0.8859 - val_loss: 1.2876 - val_accuracy: 0.6208\n",
      "Epoch 30/100\n",
      "60/60 [==============================] - 321s 5s/step - loss: 0.2882 - accuracy: 0.9074 - val_loss: 1.2894 - val_accuracy: 0.6250\n",
      "Epoch 31/100\n",
      "60/60 [==============================] - 324s 5s/step - loss: 0.3302 - accuracy: 0.8928 - val_loss: 1.3188 - val_accuracy: 0.6229\n",
      "Epoch 32/100\n",
      "60/60 [==============================] - 323s 5s/step - loss: 0.2416 - accuracy: 0.9248 - val_loss: 1.3715 - val_accuracy: 0.6187\n"
     ]
    }
   ],
   "source": [
    "es = EarlyStopping(monitor = 'val_loss', patience = 10)\n",
    "history = model.fit(X_train, Y_train, batch_size=32, epochs=100, verbose = 1, validation_split=0.2, callbacks = [es])"
   ]
  },
  {
   "cell_type": "code",
   "execution_count": 14,
   "metadata": {},
   "outputs": [
    {
     "name": "stdout",
     "output_type": "stream",
     "text": [
      "dict_keys(['loss', 'accuracy', 'val_loss', 'val_accuracy'])\n"
     ]
    },
    {
     "data": {
      "image/png": "[encoded data removed]",
      "text/plain": [
       "<Figure size 432x288 with 1 Axes>"
      ]
     },
     "metadata": {
      "needs_background": "light"
     },
     "output_type": "display_data"
    },
    {
     "data": {
      "image/png": "[encoded data removed]",
      "text/plain": [
       "<Figure size 432x288 with 1 Axes>"
      ]
     },
     "metadata": {
      "needs_background": "light"
     },
     "output_type": "display_data"
    }
   ],
   "source": [
    "import matplotlib.pyplot as plt\n",
    "# list all data in history\n",
    "print(history.history.keys())\n",
    "# summarize history for accuracy\n",
    "plt.plot(history.history['accuracy'])\n",
    "plt.plot(history.history['val_accuracy'])\n",
    "plt.title('model accuracy')\n",
    "plt.ylabel('accuracy')\n",
    "plt.xlabel('epoch')\n",
    "plt.legend(['train', 'test'], loc='upper left')\n",
    "plt.show()\n",
    "# summarize history for loss\n",
    "plt.plot(history.history['loss'])\n",
    "plt.plot(history.history['val_loss'])\n",
    "plt.title('model loss')\n",
    "plt.ylabel('loss')\n",
    "plt.xlabel('epoch')\n",
    "plt.legend(['train', 'test'], loc='upper left')\n",
    "plt.show()"
   ]
  },
  {
   "cell_type": "code",
   "execution_count": 16,
   "metadata": {},
   "outputs": [
    {
     "ename": "NotImplementedError",
     "evalue": "Saving the model to HDF5 format requires the model to be a Functional model or a Sequential model. It does not work for subclassed models, because such models are defined via the body of a Python method, which isn't safely serializable. Consider saving to the Tensorflow SavedModel format (by setting save_format=\"tf\") or using `save_weights`.",
     "output_type": "error",
     "traceback": [
      "\u001b[1;31m---------------------------------------------------------------------------\u001b[0m",
      "\u001b[1;31mNotImplementedError\u001b[0m                       Traceback (most recent call last)",
      "\u001b[1;32m<ipython-input-16-5c701902d67a>\u001b[0m in \u001b[0;36m<module>\u001b[1;34m\u001b[0m\n\u001b[0;32m      1\u001b[0m \u001b[1;32mfrom\u001b[0m \u001b[0mkeras\u001b[0m\u001b[1;33m.\u001b[0m\u001b[0mmodels\u001b[0m \u001b[1;32mimport\u001b[0m \u001b[0mload_model\u001b[0m\u001b[1;33m\u001b[0m\u001b[1;33m\u001b[0m\u001b[0m\n\u001b[1;32m----> 2\u001b[1;33m \u001b[0mmodel\u001b[0m\u001b[1;33m.\u001b[0m\u001b[0msave\u001b[0m\u001b[1;33m(\u001b[0m\u001b[1;34m'EfficientNet_LSTM.h5'\u001b[0m\u001b[1;33m)\u001b[0m\u001b[1;33m\u001b[0m\u001b[1;33m\u001b[0m\u001b[0m\n\u001b[0m",
      "\u001b[1;32m~\\anaconda3\\lib\\site-packages\\tensorflow\\python\\keras\\engine\\training.py\u001b[0m in \u001b[0;36msave\u001b[1;34m(self, filepath, overwrite, include_optimizer, save_format, signatures, options, save_traces)\u001b[0m\n\u001b[0;32m   1999\u001b[0m     \"\"\"\n\u001b[0;32m   2000\u001b[0m     \u001b[1;31m# pylint: enable=line-too-long\u001b[0m\u001b[1;33m\u001b[0m\u001b[1;33m\u001b[0m\u001b[1;33m\u001b[0m\u001b[0m\n\u001b[1;32m-> 2001\u001b[1;33m     save.save_model(self, filepath, overwrite, include_optimizer, save_format,\n\u001b[0m\u001b[0;32m   2002\u001b[0m                     signatures, options, save_traces)\n\u001b[0;32m   2003\u001b[0m \u001b[1;33m\u001b[0m\u001b[0m\n",
      "\u001b[1;32m~\\anaconda3\\lib\\site-packages\\tensorflow\\python\\keras\\saving\\save.py\u001b[0m in \u001b[0;36msave_model\u001b[1;34m(model, filepath, overwrite, include_optimizer, save_format, signatures, options, save_traces)\u001b[0m\n\u001b[0;32m    144\u001b[0m     if (not model._is_graph_network and  # pylint:disable=protected-access\n\u001b[0;32m    145\u001b[0m         not isinstance(model, sequential.Sequential)):\n\u001b[1;32m--> 146\u001b[1;33m       raise NotImplementedError(\n\u001b[0m\u001b[0;32m    147\u001b[0m           \u001b[1;34m'Saving the model to HDF5 format requires the model to be a '\u001b[0m\u001b[1;33m\u001b[0m\u001b[1;33m\u001b[0m\u001b[0m\n\u001b[0;32m    148\u001b[0m           \u001b[1;34m'Functional model or a Sequential model. It does not work for '\u001b[0m\u001b[1;33m\u001b[0m\u001b[1;33m\u001b[0m\u001b[0m\n",
      "\u001b[1;31mNotImplementedError\u001b[0m: Saving the model to HDF5 format requires the model to be a Functional model or a Sequential model. It does not work for subclassed models, because such models are defined via the body of a Python method, which isn't safely serializable. Consider saving to the Tensorflow SavedModel format (by setting save_format=\"tf\") or using `save_weights`."
     ]
    }
   ],
   "source": [
    "from keras.models import load_model\n",
    "model.save('EfficientNet_LSTM.h5')"
   ]
  },
  {
   "cell_type": "code",
   "execution_count": null,
   "metadata": {},
   "outputs": [],
   "source": []
  }
 ],
 "metadata": {
  "kernelspec": {
   "display_name": "Python 3",
   "language": "python",
   "name": "python3"
  },
  "language_info": {
   "codemirror_mode": {
    "name": "ipython",
    "version": 3
   },
   "file_extension": ".py",
   "mimetype": "text/x-python",
   "name": "python",
   "nbconvert_exporter": "python",
   "pygments_lexer": "ipython3",
   "version": "3.8.5"
  }
 },
 "nbformat": 4,
 "nbformat_minor": 4
}
