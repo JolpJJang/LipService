{
 "cells": [
  {
   "cell_type": "markdown",
   "metadata": {},
   "source": [
    "기존 Dataset 코드에서\n",
    "\n",
    "```python\n",
    "np.save('D:/git/LipService/x_save', x_data) # x_save.npy\n",
    "np.save('D:/git/LipService/y_data', y_data) # y_data.npy\n",
    "```"
   ]
  },
  {
   "cell_type": "code",
   "execution_count": 1,
   "metadata": {},
   "outputs": [],
   "source": [
    "import numpy as np\n",
    "from sklearn.model_selection import train_test_split\n",
    "\n",
    "import tensorflow as tf\n",
    "from tensorflow import keras\n",
    "from tensorflow.keras import layers\n",
    "from keras.models import Sequential\n",
    "from keras import models, layers, activations\n",
    "from keras.layers import Conv2D, TimeDistributed, BatchNormalization, MaxPooling2D, Flatten, Bidirectional, Dense, Dropout,Flatten\n",
    "from keras.callbacks import EarlyStopping"
   ]
  },
  {
   "cell_type": "code",
   "execution_count": 2,
   "metadata": {},
   "outputs": [
    {
     "name": "stdout",
     "output_type": "stream",
     "text": [
      "(3000, 27, 64, 64, 3) (3000, 11)\n"
     ]
    }
   ],
   "source": [
    "x_data = np.load('lip/lip_x_data.npy') # x_save.npy\n",
    "y_data = np.load('lip/lip_y_data.npy') # y_data.npy\n",
    "y_data = keras.utils.to_categorical(y_data,11)\n",
    "print(x_data.shape, y_data.shape)"
   ]
  },
  {
   "cell_type": "code",
   "execution_count": 3,
   "metadata": {},
   "outputs": [
    {
     "name": "stdout",
     "output_type": "stream",
     "text": [
      "X_train: (2400, 27, 64, 64, 3), X_test: (600, 27, 64, 64, 3)\n",
      "Y_train: (2400, 11), Y_test: (600, 11)\n"
     ]
    }
   ],
   "source": [
    "# Train과 Test 분리\n",
    "X_train, X_test, Y_train, Y_test = train_test_split(x_data, y_data, test_size = 0.2, shuffle = True, stratify=y_data)\n",
    "#X_train = X_train / 255\n",
    "print(\"X_train: {}, X_test: {}\".format(X_train.shape, X_test.shape))\n",
    "print(\"Y_train: {}, Y_test: {}\".format(Y_train.shape, Y_test.shape))"
   ]
  },
  {
   "cell_type": "code",
   "execution_count": 9,
   "metadata": {},
   "outputs": [],
   "source": [
    "import keras\n",
    "from keras.applications.vgg16 import VGG16 \n",
    "\n",
    "class VGG_LSTM1(keras.Model):\n",
    "    def __init__(self, num_classes):\n",
    "        super(VGG_LSTM1, self).__init__()\n",
    "        #self.BZ = input_shape[0]\n",
    "        #self.frame = input_shape[1]\n",
    "\n",
    "        self.vgg = TimeDistributed(VGG16(weights='imagenet', include_top=False, pooling=max))\n",
    "        self.vgg.trainable = False\n",
    "\n",
    "        self.bilstm = layers.Bidirectional(layers.LSTM(256), merge_mode='concat')\n",
    "        self.dense = layers.Dense(num_classes, activation='softmax')\n",
    "        self.max_pool = TimeDistributed(MaxPooling2D(pool_size=(2, 2)))\n",
    "        self.dropout = layers.Dropout(0.2)\n",
    "        self.flat= TimeDistributed(Flatten())\n",
    "\n",
    "    def call(self, x):\n",
    "        x = self.vgg(x)\n",
    "        x = self.flat(x)\n",
    "        x = self.bilstm(x)\n",
    "        return self.dense(x)"
   ]
  },
  {
   "cell_type": "code",
   "execution_count": 10,
   "metadata": {},
   "outputs": [],
   "source": [
    "def get_model_vgg():\n",
    "    return VGG_LSTM1(num_classes = 11)"
   ]
  },
  {
   "cell_type": "code",
   "execution_count": 6,
   "metadata": {},
   "outputs": [
    {
     "name": "stdout",
     "output_type": "stream",
     "text": [
      "WARNING:tensorflow:From <ipython-input-6-bdb3352f611a>:1: experimental_run_functions_eagerly (from tensorflow.python.eager.def_function) is deprecated and will be removed in a future version.\n",
      "Instructions for updating:\n",
      "Use `tf.config.run_functions_eagerly` instead of the experimental version.\n"
     ]
    }
   ],
   "source": [
    "tf.config.experimental_run_functions_eagerly(True)"
   ]
  },
  {
   "cell_type": "code",
   "execution_count": 11,
   "metadata": {},
   "outputs": [
    {
     "name": "stdout",
     "output_type": "stream",
     "text": [
      "Downloading data from https://storage.googleapis.com/tensorflow/keras-applications/vgg16/vgg16_weights_tf_dim_ordering_tf_kernels_notop.h5\n",
      "58892288/58889256 [==============================] - 7s 0us/step\n",
      "58900480/58889256 [==============================] - 7s 0us/step\n"
     ]
    }
   ],
   "source": [
    "model = get_model_vgg()\n",
    "model.compile(optimizer = 'adam', loss = 'categorical_crossentropy', metrics = ['accuracy'])\n",
    "#history = model.fit(X_train, Y_train, batch_size=16, epochs=5, verbose = 1, validation_data = (X_test, Y_test))\n",
    "#model.summary()"
   ]
  },
  {
   "cell_type": "code",
   "execution_count": 12,
   "metadata": {},
   "outputs": [
    {
     "name": "stdout",
     "output_type": "stream",
     "text": [
      "Epoch 1/100\n",
      "75/75 [==============================] - 1132s 14s/step - loss: 2.4756 - accuracy: 0.1153 - val_loss: 2.3368 - val_accuracy: 0.0883\n",
      "Epoch 2/100\n",
      "75/75 [==============================] - 1026s 14s/step - loss: 2.3225 - accuracy: 0.0873 - val_loss: 2.3279 - val_accuracy: 0.0900\n",
      "Epoch 3/100\n",
      "75/75 [==============================] - 1035s 14s/step - loss: 2.2816 - accuracy: 0.1320 - val_loss: 2.2832 - val_accuracy: 0.1067\n",
      "Epoch 4/100\n",
      "75/75 [==============================] - 1032s 14s/step - loss: 2.2358 - accuracy: 0.1526 - val_loss: 2.2683 - val_accuracy: 0.1217\n",
      "Epoch 5/100\n",
      "75/75 [==============================] - 1010s 14s/step - loss: 2.1959 - accuracy: 0.1846 - val_loss: 2.2462 - val_accuracy: 0.1333\n",
      "Epoch 6/100\n",
      "75/75 [==============================] - 1030s 14s/step - loss: 2.1353 - accuracy: 0.2119 - val_loss: 2.1886 - val_accuracy: 0.1750\n",
      "Epoch 7/100\n",
      "75/75 [==============================] - 1022s 14s/step - loss: 1.9987 - accuracy: 0.2573 - val_loss: 2.0265 - val_accuracy: 0.2117\n",
      "Epoch 8/100\n",
      "75/75 [==============================] - 1018s 14s/step - loss: 1.8654 - accuracy: 0.3154 - val_loss: 1.9526 - val_accuracy: 0.2567\n",
      "Epoch 9/100\n",
      "75/75 [==============================] - 1013s 14s/step - loss: 1.7556 - accuracy: 0.3467 - val_loss: 2.0614 - val_accuracy: 0.2367\n",
      "Epoch 10/100\n",
      "75/75 [==============================] - 1021s 14s/step - loss: 1.6744 - accuracy: 0.3848 - val_loss: 1.8507 - val_accuracy: 0.3017\n",
      "Epoch 11/100\n",
      "75/75 [==============================] - 1020s 14s/step - loss: 1.5967 - accuracy: 0.4175 - val_loss: 1.8379 - val_accuracy: 0.3117\n",
      "Epoch 12/100\n",
      "75/75 [==============================] - 1015s 14s/step - loss: 1.4712 - accuracy: 0.4552 - val_loss: 1.7938 - val_accuracy: 0.3217\n",
      "Epoch 13/100\n",
      "75/75 [==============================] - 1001s 13s/step - loss: 1.4257 - accuracy: 0.4808 - val_loss: 1.7510 - val_accuracy: 0.3583\n",
      "Epoch 14/100\n",
      "75/75 [==============================] - 999s 13s/step - loss: 1.3646 - accuracy: 0.5047 - val_loss: 1.8281 - val_accuracy: 0.2850\n",
      "Epoch 15/100\n",
      "75/75 [==============================] - 997s 13s/step - loss: 1.2605 - accuracy: 0.5389 - val_loss: 1.7013 - val_accuracy: 0.3700\n",
      "Epoch 16/100\n",
      "75/75 [==============================] - 1001s 13s/step - loss: 1.1818 - accuracy: 0.5675 - val_loss: 1.6722 - val_accuracy: 0.4017\n",
      "Epoch 17/100\n",
      "75/75 [==============================] - 995s 13s/step - loss: 1.1002 - accuracy: 0.5827 - val_loss: 1.5984 - val_accuracy: 0.4200\n",
      "Epoch 18/100\n",
      "75/75 [==============================] - 997s 13s/step - loss: 1.0237 - accuracy: 0.6213 - val_loss: 1.6420 - val_accuracy: 0.4233\n",
      "Epoch 19/100\n",
      "75/75 [==============================] - 1000s 13s/step - loss: 0.9931 - accuracy: 0.6416 - val_loss: 1.5291 - val_accuracy: 0.4350\n",
      "Epoch 20/100\n",
      "75/75 [==============================] - 997s 13s/step - loss: 0.8643 - accuracy: 0.7031 - val_loss: 1.5903 - val_accuracy: 0.4117\n",
      "Epoch 21/100\n",
      "75/75 [==============================] - 1010s 14s/step - loss: 0.7905 - accuracy: 0.7290 - val_loss: 1.5234 - val_accuracy: 0.4417\n",
      "Epoch 22/100\n",
      "75/75 [==============================] - 1001s 13s/step - loss: 0.7415 - accuracy: 0.7410 - val_loss: 1.4607 - val_accuracy: 0.4917\n",
      "Epoch 23/100\n",
      "75/75 [==============================] - 1000s 13s/step - loss: 0.6613 - accuracy: 0.7884 - val_loss: 1.5103 - val_accuracy: 0.4517\n",
      "Epoch 24/100\n",
      "75/75 [==============================] - 996s 13s/step - loss: 0.6414 - accuracy: 0.7904 - val_loss: 1.6496 - val_accuracy: 0.4417\n",
      "Epoch 25/100\n",
      "75/75 [==============================] - 994s 13s/step - loss: 0.6747 - accuracy: 0.7684 - val_loss: 1.5052 - val_accuracy: 0.5000\n",
      "Epoch 26/100\n",
      "75/75 [==============================] - 996s 13s/step - loss: 0.5420 - accuracy: 0.8330 - val_loss: 1.5306 - val_accuracy: 0.5100\n",
      "Epoch 27/100\n",
      "75/75 [==============================] - 997s 13s/step - loss: 0.5012 - accuracy: 0.8488 - val_loss: 1.4500 - val_accuracy: 0.5350\n",
      "Epoch 28/100\n",
      "75/75 [==============================] - 999s 13s/step - loss: 0.4445 - accuracy: 0.8616 - val_loss: 1.4890 - val_accuracy: 0.5367\n",
      "Epoch 29/100\n",
      "75/75 [==============================] - 991s 13s/step - loss: 0.4771 - accuracy: 0.8548 - val_loss: 1.3818 - val_accuracy: 0.5417\n",
      "Epoch 30/100\n",
      "75/75 [==============================] - 993s 13s/step - loss: 0.3448 - accuracy: 0.9127 - val_loss: 1.4247 - val_accuracy: 0.5567\n",
      "Epoch 31/100\n",
      "75/75 [==============================] - 995s 13s/step - loss: 0.3702 - accuracy: 0.8935 - val_loss: 1.5498 - val_accuracy: 0.5550\n",
      "Epoch 32/100\n",
      "75/75 [==============================] - 993s 13s/step - loss: 0.3393 - accuracy: 0.9054 - val_loss: 1.4512 - val_accuracy: 0.5533\n",
      "Epoch 33/100\n",
      "75/75 [==============================] - 996s 13s/step - loss: 0.3071 - accuracy: 0.9122 - val_loss: 1.3985 - val_accuracy: 0.6033\n",
      "Epoch 34/100\n",
      "75/75 [==============================] - 992s 13s/step - loss: 0.2613 - accuracy: 0.9330 - val_loss: 1.4771 - val_accuracy: 0.5783\n",
      "Epoch 35/100\n",
      "75/75 [==============================] - 992s 13s/step - loss: 0.2172 - accuracy: 0.9462 - val_loss: 1.4656 - val_accuracy: 0.5833\n",
      "Epoch 36/100\n",
      "75/75 [==============================] - 990s 13s/step - loss: 0.2135 - accuracy: 0.9494 - val_loss: 1.4262 - val_accuracy: 0.5867\n",
      "Epoch 37/100\n",
      "75/75 [==============================] - 993s 13s/step - loss: 0.1877 - accuracy: 0.9583 - val_loss: 1.4938 - val_accuracy: 0.5933\n",
      "Epoch 38/100\n",
      "75/75 [==============================] - 993s 13s/step - loss: 0.2171 - accuracy: 0.9370 - val_loss: 1.4966 - val_accuracy: 0.5933\n",
      "Epoch 39/100\n",
      "75/75 [==============================] - 996s 13s/step - loss: 0.2227 - accuracy: 0.9356 - val_loss: 1.6092 - val_accuracy: 0.5817\n"
     ]
    }
   ],
   "source": [
    "es = EarlyStopping(monitor = 'val_loss', patience = 10)\n",
    "history = model.fit(X_train, Y_train, batch_size=32, epochs=100, verbose = 1, validation_split=0.2, callbacks = [es])"
   ]
  },
  {
   "cell_type": "code",
   "execution_count": 13,
   "metadata": {},
   "outputs": [
    {
     "data": {
      "text/plain": [
       "{'loss': [2.395000457763672,\n",
       "  2.3140785694122314,\n",
       "  2.2777984142303467,\n",
       "  2.2271649837493896,\n",
       "  2.1805996894836426,\n",
       "  2.121126413345337,\n",
       "  1.992339849472046,\n",
       "  1.852919101715088,\n",
       "  1.7640044689178467,\n",
       "  1.674660086631775,\n",
       "  1.5575413703918457,\n",
       "  1.4637668132781982,\n",
       "  1.4266777038574219,\n",
       "  1.334524154663086,\n",
       "  1.2472050189971924,\n",
       "  1.1542731523513794,\n",
       "  1.077195644378662,\n",
       "  1.0185320377349854,\n",
       "  0.9607216119766235,\n",
       "  0.8631971478462219,\n",
       "  0.7866160869598389,\n",
       "  0.7309669256210327,\n",
       "  0.6960575580596924,\n",
       "  0.646492600440979,\n",
       "  0.6245788931846619,\n",
       "  0.5352057218551636,\n",
       "  0.5090493559837341,\n",
       "  0.4517524242401123,\n",
       "  0.4542173147201538,\n",
       "  0.3493950664997101,\n",
       "  0.37632158398628235,\n",
       "  0.3353324830532074,\n",
       "  0.3237254023551941,\n",
       "  0.25812551379203796,\n",
       "  0.21549974381923676,\n",
       "  0.2152031511068344,\n",
       "  0.18995575606822968,\n",
       "  0.22617581486701965,\n",
       "  0.24212408065795898],\n",
       " 'accuracy': [0.10958333313465118,\n",
       "  0.10333333164453506,\n",
       "  0.13375000655651093,\n",
       "  0.15666666626930237,\n",
       "  0.18833333253860474,\n",
       "  0.22083333134651184,\n",
       "  0.25833332538604736,\n",
       "  0.3191666603088379,\n",
       "  0.3425000011920929,\n",
       "  0.37958332896232605,\n",
       "  0.429583340883255,\n",
       "  0.4662500023841858,\n",
       "  0.4716666638851166,\n",
       "  0.5079166889190674,\n",
       "  0.5412499904632568,\n",
       "  0.5704166889190674,\n",
       "  0.5941666960716248,\n",
       "  0.6287500262260437,\n",
       "  0.6575000286102295,\n",
       "  0.6974999904632568,\n",
       "  0.7266666889190674,\n",
       "  0.7445833086967468,\n",
       "  0.7637500166893005,\n",
       "  0.7854166626930237,\n",
       "  0.7925000190734863,\n",
       "  0.8399999737739563,\n",
       "  0.8429166674613953,\n",
       "  0.8616666793823242,\n",
       "  0.8637499809265137,\n",
       "  0.9087499976158142,\n",
       "  0.8858333230018616,\n",
       "  0.9041666388511658,\n",
       "  0.9020833373069763,\n",
       "  0.9287499785423279,\n",
       "  0.9483333230018616,\n",
       "  0.9454166889190674,\n",
       "  0.956250011920929,\n",
       "  0.9333333373069763,\n",
       "  0.9270833134651184],\n",
       " 'val_loss': [2.3368003368377686,\n",
       "  2.327932834625244,\n",
       "  2.2831952571868896,\n",
       "  2.2682716846466064,\n",
       "  2.246175527572632,\n",
       "  2.188595771789551,\n",
       "  2.0264840126037598,\n",
       "  1.9525805711746216,\n",
       "  2.0613503456115723,\n",
       "  1.8506622314453125,\n",
       "  1.8378713130950928,\n",
       "  1.7937923669815063,\n",
       "  1.7510457038879395,\n",
       "  1.8280633687973022,\n",
       "  1.7013293504714966,\n",
       "  1.6722369194030762,\n",
       "  1.5984467267990112,\n",
       "  1.6419501304626465,\n",
       "  1.5291060209274292,\n",
       "  1.5902910232543945,\n",
       "  1.5233938694000244,\n",
       "  1.4607244729995728,\n",
       "  1.5102555751800537,\n",
       "  1.6495696306228638,\n",
       "  1.5051918029785156,\n",
       "  1.5305885076522827,\n",
       "  1.4499670267105103,\n",
       "  1.4889554977416992,\n",
       "  1.3817617893218994,\n",
       "  1.424676775932312,\n",
       "  1.5497578382492065,\n",
       "  1.4512436389923096,\n",
       "  1.39850652217865,\n",
       "  1.4770729541778564,\n",
       "  1.465577244758606,\n",
       "  1.426183819770813,\n",
       "  1.4938342571258545,\n",
       "  1.496558427810669,\n",
       "  1.6091666221618652],\n",
       " 'val_accuracy': [0.08833333104848862,\n",
       "  0.09000000357627869,\n",
       "  0.1066666692495346,\n",
       "  0.12166666984558105,\n",
       "  0.13333334028720856,\n",
       "  0.17499999701976776,\n",
       "  0.21166667342185974,\n",
       "  0.2566666603088379,\n",
       "  0.23666666448116302,\n",
       "  0.3016666769981384,\n",
       "  0.31166666746139526,\n",
       "  0.3216666579246521,\n",
       "  0.3583333194255829,\n",
       "  0.2849999964237213,\n",
       "  0.3700000047683716,\n",
       "  0.40166667103767395,\n",
       "  0.41999998688697815,\n",
       "  0.4233333468437195,\n",
       "  0.4350000023841858,\n",
       "  0.4116666615009308,\n",
       "  0.4416666626930237,\n",
       "  0.49166667461395264,\n",
       "  0.4516666531562805,\n",
       "  0.4416666626930237,\n",
       "  0.5,\n",
       "  0.5099999904632568,\n",
       "  0.5350000262260437,\n",
       "  0.5366666913032532,\n",
       "  0.5416666865348816,\n",
       "  0.5566666722297668,\n",
       "  0.5550000071525574,\n",
       "  0.5533333420753479,\n",
       "  0.6033333539962769,\n",
       "  0.57833331823349,\n",
       "  0.5833333134651184,\n",
       "  0.5866666436195374,\n",
       "  0.5933333039283752,\n",
       "  0.5933333039283752,\n",
       "  0.5816666483879089]}"
      ]
     },
     "execution_count": 13,
     "metadata": {},
     "output_type": "execute_result"
    }
   ],
   "source": [
    "history.history"
   ]
  },
  {
   "cell_type": "code",
   "execution_count": 14,
   "metadata": {},
   "outputs": [
    {
     "name": "stdout",
     "output_type": "stream",
     "text": [
      "dict_keys(['loss', 'accuracy', 'val_loss', 'val_accuracy'])\n"
     ]
    },
    {
     "data": {
      "image/png": "[encoded data removed]",
      "text/plain": [
       "<Figure size 432x288 with 1 Axes>"
      ]
     },
     "metadata": {
      "needs_background": "light"
     },
     "output_type": "display_data"
    },
    {
     "data": {
      "image/png": "[encoded data removed]",
      "text/plain": [
       "<Figure size 432x288 with 1 Axes>"
      ]
     },
     "metadata": {
      "needs_background": "light"
     },
     "output_type": "display_data"
    }
   ],
   "source": [
    "import matplotlib.pyplot as plt\n",
    "# list all data in history\n",
    "print(history.history.keys())\n",
    "# summarize history for accuracy\n",
    "plt.plot(history.history['accuracy'])\n",
    "plt.plot(history.history['val_accuracy'])\n",
    "plt.title('model accuracy')\n",
    "plt.ylabel('accuracy')\n",
    "plt.xlabel('epoch')\n",
    "plt.legend(['train', 'test'], loc='upper left')\n",
    "plt.show()\n",
    "# summarize history for loss\n",
    "plt.plot(history.history['loss'])\n",
    "plt.plot(history.history['val_loss'])\n",
    "plt.title('model loss')\n",
    "plt.ylabel('loss')\n",
    "plt.xlabel('epoch')\n",
    "plt.legend(['train', 'test'], loc='upper left')\n",
    "plt.show()"
   ]
  },
  {
   "cell_type": "code",
   "execution_count": null,
   "metadata": {},
   "outputs": [],
   "source": []
  },
  {
   "cell_type": "code",
   "execution_count": null,
   "metadata": {},
   "outputs": [],
   "source": []
  }
 ],
 "metadata": {
  "kernelspec": {
   "display_name": "Python 3",
   "language": "python",
   "name": "python3"
  },
  "language_info": {
   "codemirror_mode": {
    "name": "ipython",
    "version": 3
   },
   "file_extension": ".py",
   "mimetype": "text/x-python",
   "name": "python",
   "nbconvert_exporter": "python",
   "pygments_lexer": "ipython3",
   "version": "3.8.5"
  }
 },
 "nbformat": 4,
 "nbformat_minor": 4
}
