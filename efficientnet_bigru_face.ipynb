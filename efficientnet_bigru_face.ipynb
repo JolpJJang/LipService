{
 "cells": [
  {
   "cell_type": "code",
   "execution_count": 1,
   "metadata": {},
   "outputs": [],
   "source": [
    "import numpy as np\n",
    "from sklearn.model_selection import train_test_split\n",
    "\n",
    "import tensorflow as tf\n",
    "from tensorflow import keras\n",
    "from tensorflow.keras import layers\n",
    "from keras.models import Sequential\n",
    "from keras import models, layers, activations\n",
    "from keras.layers import Conv2D, TimeDistributed, BatchNormalization, MaxPooling2D, Flatten, Bidirectional, Dense, Dropout \n",
    "from keras.callbacks import EarlyStopping"
   ]
  },
  {
   "cell_type": "code",
   "execution_count": 2,
   "metadata": {},
   "outputs": [
    {
     "name": "stdout",
     "output_type": "stream",
     "text": [
      "(3000, 27, 64, 64, 3) (3000, 11)\n"
     ]
    }
   ],
   "source": [
    "x_data = np.load('face/face/face_x_data.npy') # x_save.npy\n",
    "y_data = np.load('face/face/face_y_data.npy') # y_data.npy\n",
    "y_data = keras.utils.to_categorical(y_data,11)\n",
    "print(x_data.shape, y_data.shape)"
   ]
  },
  {
   "cell_type": "code",
   "execution_count": 3,
   "metadata": {},
   "outputs": [
    {
     "name": "stdout",
     "output_type": "stream",
     "text": [
      "X_train: (2400, 27, 64, 64, 3), X_test: (600, 27, 64, 64, 3)\n",
      "Y_train: (2400, 11), Y_test: (600, 11)\n"
     ]
    }
   ],
   "source": [
    "# Train과 Test 분리\n",
    "X_train, X_test, Y_train, Y_test = train_test_split(x_data, y_data, test_size = 0.2, shuffle = True, stratify=y_data)\n",
    "#X_train = X_train / 255\n",
    "print(\"X_train: {}, X_test: {}\".format(X_train.shape, X_test.shape))\n",
    "print(\"Y_train: {}, Y_test: {}\".format(Y_train.shape, Y_test.shape))"
   ]
  },
  {
   "cell_type": "code",
   "execution_count": 4,
   "metadata": {},
   "outputs": [],
   "source": [
    "import efficientnet.keras as efn\n",
    "\n",
    "class EfficientNet_GRU(keras.Model):\n",
    "    def __init__(self, num_classes):\n",
    "        super(EfficientNet_GRU, self).__init__()\n",
    "        #self.BZ = input_shape[0]\n",
    "        #self.frame = input_shape[1]\n",
    "        self.EFNB0 = TimeDistributed(efn.EfficientNetB0(weights='imagenet', include_top=False,\n",
    "                                               pooling='max'))\n",
    "        self.EFNB0.trainable = False\n",
    "        self.bilstm = layers.Bidirectional(layers.LSTM(128), merge_mode='concat')\n",
    "        self.bigru = layers.Bidirectional(layers.GRU(128), merge_mode='concat')\n",
    "        self.dense2 = layers.Dense(128, activation='relu')\n",
    "        self.dense = layers.Dense(num_classes, activation='softmax')\n",
    "        self.max_pool = TimeDistributed(MaxPooling2D(pool_size=(2, 2)))\n",
    "        self.dropout2 = layers.Dropout(0.2)\n",
    "        self.dropout3 = layers.Dropout(0.3)\n",
    "        self.flat = TimeDistributed(Flatten())\n",
    "\n",
    "    def call(self, x):\n",
    "        x = self.EFNB0(x)\n",
    "        x = self.flat(x)\n",
    "        x = self.dropout2(x)\n",
    "        x = self.bigru(x)\n",
    "        #x = self.dense2(x)\n",
    "        x = self.dropout2(x)\n",
    "        return self.dense(x)"
   ]
  },
  {
   "cell_type": "code",
   "execution_count": 5,
   "metadata": {},
   "outputs": [],
   "source": [
    "def get_model_vgg():\n",
    "    return EfficientNet_GRU(num_classes = 11)"
   ]
  },
  {
   "cell_type": "code",
   "execution_count": 6,
   "metadata": {},
   "outputs": [],
   "source": [
    "model = get_model_vgg()\n",
    "model.compile(optimizer = 'adam', loss = 'categorical_crossentropy', metrics = ['accuracy'])"
   ]
  },
  {
   "cell_type": "code",
   "execution_count": 7,
   "metadata": {},
   "outputs": [
    {
     "name": "stdout",
     "output_type": "stream",
     "text": [
      "Epoch 1/100\n",
      "60/60 [==============================] - 336s 5s/step - loss: 2.6044 - accuracy: 0.1143 - val_loss: 2.2974 - val_accuracy: 0.1167\n",
      "Epoch 2/100\n",
      "60/60 [==============================] - 284s 5s/step - loss: 2.2267 - accuracy: 0.2028 - val_loss: 2.2013 - val_accuracy: 0.2000\n",
      "Epoch 3/100\n",
      "60/60 [==============================] - 285s 5s/step - loss: 2.0530 - accuracy: 0.2652 - val_loss: 2.1476 - val_accuracy: 0.2500\n",
      "Epoch 4/100\n",
      "60/60 [==============================] - 291s 5s/step - loss: 1.7878 - accuracy: 0.3790 - val_loss: 1.8938 - val_accuracy: 0.3396\n",
      "Epoch 5/100\n",
      "60/60 [==============================] - 284s 5s/step - loss: 1.5376 - accuracy: 0.4556 - val_loss: 2.0811 - val_accuracy: 0.3271\n",
      "Epoch 6/100\n",
      "60/60 [==============================] - 287s 5s/step - loss: 1.3119 - accuracy: 0.5540 - val_loss: 1.8572 - val_accuracy: 0.3729\n",
      "Epoch 7/100\n",
      "60/60 [==============================] - 284s 5s/step - loss: 1.0888 - accuracy: 0.6343 - val_loss: 1.5602 - val_accuracy: 0.4708\n",
      "Epoch 8/100\n",
      "60/60 [==============================] - 283s 5s/step - loss: 0.9016 - accuracy: 0.7124 - val_loss: 1.4641 - val_accuracy: 0.5125\n",
      "Epoch 9/100\n",
      "60/60 [==============================] - 287s 5s/step - loss: 0.6957 - accuracy: 0.7927 - val_loss: 1.4580 - val_accuracy: 0.5208\n",
      "Epoch 10/100\n",
      "60/60 [==============================] - 282s 5s/step - loss: 0.5669 - accuracy: 0.8306 - val_loss: 1.4263 - val_accuracy: 0.5479\n",
      "Epoch 11/100\n",
      "60/60 [==============================] - 286s 5s/step - loss: 0.4758 - accuracy: 0.8582 - val_loss: 1.5324 - val_accuracy: 0.5292\n",
      "Epoch 12/100\n",
      "60/60 [==============================] - 283s 5s/step - loss: 0.3816 - accuracy: 0.9020 - val_loss: 1.4161 - val_accuracy: 0.5562\n",
      "Epoch 13/100\n",
      "60/60 [==============================] - 286s 5s/step - loss: 0.3194 - accuracy: 0.9197 - val_loss: 1.3716 - val_accuracy: 0.5771\n",
      "Epoch 14/100\n",
      "60/60 [==============================] - 284s 5s/step - loss: 0.2739 - accuracy: 0.9232 - val_loss: 1.3109 - val_accuracy: 0.5792\n",
      "Epoch 15/100\n",
      "60/60 [==============================] - 281s 5s/step - loss: 0.2359 - accuracy: 0.9410 - val_loss: 1.2675 - val_accuracy: 0.6042\n",
      "Epoch 16/100\n",
      "60/60 [==============================] - 283s 5s/step - loss: 0.2165 - accuracy: 0.9341 - val_loss: 1.3894 - val_accuracy: 0.5667\n",
      "Epoch 17/100\n",
      "60/60 [==============================] - 285s 5s/step - loss: 0.1808 - accuracy: 0.9561 - val_loss: 1.3362 - val_accuracy: 0.6042\n",
      "Epoch 18/100\n",
      "60/60 [==============================] - 283s 5s/step - loss: 0.1983 - accuracy: 0.9366 - val_loss: 1.3624 - val_accuracy: 0.6000\n",
      "Epoch 19/100\n",
      "60/60 [==============================] - 284s 5s/step - loss: 0.1412 - accuracy: 0.9650 - val_loss: 1.3720 - val_accuracy: 0.5979\n",
      "Epoch 20/100\n",
      "60/60 [==============================] - 283s 5s/step - loss: 0.1417 - accuracy: 0.9632 - val_loss: 1.3406 - val_accuracy: 0.6187\n",
      "Epoch 21/100\n",
      "60/60 [==============================] - 285s 5s/step - loss: 0.1155 - accuracy: 0.9702 - val_loss: 1.3749 - val_accuracy: 0.6125\n",
      "Epoch 22/100\n",
      "60/60 [==============================] - 285s 5s/step - loss: 0.1294 - accuracy: 0.9622 - val_loss: 1.3818 - val_accuracy: 0.6021\n",
      "Epoch 23/100\n",
      "60/60 [==============================] - 285s 5s/step - loss: 0.0965 - accuracy: 0.9717 - val_loss: 1.4004 - val_accuracy: 0.6021\n",
      "Epoch 24/100\n",
      "60/60 [==============================] - 284s 5s/step - loss: 0.1034 - accuracy: 0.9732 - val_loss: 1.2715 - val_accuracy: 0.6417\n",
      "Epoch 25/100\n",
      "60/60 [==============================] - 285s 5s/step - loss: 0.0775 - accuracy: 0.9840 - val_loss: 1.4566 - val_accuracy: 0.6125\n"
     ]
    }
   ],
   "source": [
    "es = EarlyStopping(monitor = 'val_loss', patience = 10)\n",
    "history = model.fit(X_train, Y_train, batch_size=32, epochs=100, verbose = 1, validation_split=0.2, callbacks = [es])"
   ]
  },
  {
   "cell_type": "code",
   "execution_count": 8,
   "metadata": {},
   "outputs": [
    {
     "name": "stdout",
     "output_type": "stream",
     "text": [
      "dict_keys(['loss', 'accuracy', 'val_loss', 'val_accuracy'])\n"
     ]
    },
    {
     "data": {
      "image/png": "[encoded data removed]",
      "text/plain": [
       "<Figure size 432x288 with 1 Axes>"
      ]
     },
     "metadata": {
      "needs_background": "light"
     },
     "output_type": "display_data"
    },
    {
     "data": {
      "image/png": "[encoded data removed]",
      "text/plain": [
       "<Figure size 432x288 with 1 Axes>"
      ]
     },
     "metadata": {
      "needs_background": "light"
     },
     "output_type": "display_data"
    }
   ],
   "source": [
    "import matplotlib.pyplot as plt\n",
    "# list all data in history\n",
    "print(history.history.keys())\n",
    "# summarize history for accuracy\n",
    "plt.plot(history.history['accuracy'])\n",
    "plt.plot(history.history['val_accuracy'])\n",
    "plt.title('model accuracy')\n",
    "plt.ylabel('accuracy')\n",
    "plt.xlabel('epoch')\n",
    "plt.legend(['train', 'test'], loc='upper left')\n",
    "plt.show()\n",
    "# summarize history for loss\n",
    "plt.plot(history.history['loss'])\n",
    "plt.plot(history.history['val_loss'])\n",
    "plt.title('model loss')\n",
    "plt.ylabel('loss')\n",
    "plt.xlabel('epoch')\n",
    "plt.legend(['train', 'test'], loc='upper left')\n",
    "plt.show()"
   ]
  },
  {
   "cell_type": "code",
   "execution_count": 9,
   "metadata": {},
   "outputs": [
    {
     "name": "stdout",
     "output_type": "stream",
     "text": [
      "19/19 [==============================] - 80s 4s/step - loss: 1.3970 - accuracy: 0.6450\n",
      "acc: 0.6449999809265137 loss: 1.3969817161560059\n"
     ]
    }
   ],
   "source": [
    "score = model.evaluate(X_test, Y_test, batch_size = 32, verbose = 1)\n",
    "print(\"acc:\", score[1], \"loss:\", score[0])"
   ]
  },
  {
   "cell_type": "code",
   "execution_count": 10,
   "metadata": {},
   "outputs": [],
   "source": [
    "model.save_weights('efficientnet_bigru')"
   ]
  },
  {
   "cell_type": "code",
   "execution_count": null,
   "metadata": {},
   "outputs": [],
   "source": []
  }
 ],
 "metadata": {
  "kernelspec": {
   "display_name": "Python 3",
   "language": "python",
   "name": "python3"
  },
  "language_info": {
   "codemirror_mode": {
    "name": "ipython",
    "version": 3
   },
   "file_extension": ".py",
   "mimetype": "text/x-python",
   "name": "python",
   "nbconvert_exporter": "python",
   "pygments_lexer": "ipython3",
   "version": "3.8.5"
  }
 },
 "nbformat": 4,
 "nbformat_minor": 4
}
