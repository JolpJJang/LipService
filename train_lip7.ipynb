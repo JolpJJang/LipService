{
 "cells": [
  {
   "cell_type": "code",
   "execution_count": 1,
   "metadata": {},
   "outputs": [],
   "source": [
    "import numpy as np\n",
    "from sklearn.model_selection import train_test_split\n",
    "\n",
    "import tensorflow as tf\n",
    "from tensorflow import keras\n",
    "from tensorflow.keras import layers\n",
    "from keras.models import Sequential\n",
    "from keras import models, layers, activations\n",
    "from keras.layers import Conv2D, TimeDistributed, BatchNormalization, MaxPooling2D, Flatten, Bidirectional, Dense, Dropout, Embedding\n",
    "from keras.callbacks import EarlyStopping"
   ]
  },
  {
   "cell_type": "code",
   "execution_count": 2,
   "metadata": {},
   "outputs": [
    {
     "name": "stdout",
     "output_type": "stream",
     "text": [
      "(3000, 27, 64, 64, 3) (3000, 11)\n"
     ]
    }
   ],
   "source": [
    "x_data = np.load('lip/lip_x_data.npy') # x_save.npy\n",
    "y_data = np.load('lip/lip_y_data.npy') # y_data.npy\n",
    "y_data = keras.utils.to_categorical(y_data,11)\n",
    "print(x_data.shape, y_data.shape)"
   ]
  },
  {
   "cell_type": "code",
   "execution_count": 4,
   "metadata": {},
   "outputs": [
    {
     "name": "stdout",
     "output_type": "stream",
     "text": [
      "X_train: (2400, 27, 64, 64, 3), X_test: (600, 27, 64, 64, 3)\n",
      "Y_train: (2400, 11), Y_test: (600, 11)\n"
     ]
    }
   ],
   "source": [
    "# Train과 Test 분리\n",
    "X_train, X_test, Y_train, Y_test = train_test_split(x_data, y_data, test_size = 0.2, shuffle = True, stratify=y_data)\n",
    "#X_train = X_train / 255\n",
    "print(\"X_train: {}, X_test: {}\".format(X_train.shape, X_test.shape))\n",
    "print(\"Y_train: {}, Y_test: {}\".format(Y_train.shape, Y_test.shape))"
   ]
  },
  {
   "cell_type": "code",
   "execution_count": 5,
   "metadata": {},
   "outputs": [],
   "source": [
    "from tensorflow.keras.applications import Xception\n",
    "\n",
    "class Xception_LSTM(keras.Model):\n",
    "    def __init__(self, num_classes):\n",
    "        super(Xception_LSTM, self).__init__()\n",
    "        #self.BZ = input_shape[0]\n",
    "        #self.frame = input_shape[1]\n",
    "        self.xc = TimeDistributed(Xception(weights='imagenet', include_top=False,\n",
    "                                               pooling='max'))\n",
    "        self.xc.trainable = False\n",
    "        self.bilstm = layers.Bidirectional(layers.LSTM(128), merge_mode='concat')\n",
    "        self.dense2 = layers.Dense(128, activation='relu')\n",
    "        self.dense = layers.Dense(num_classes, activation='softmax')\n",
    "        self.max_pool = TimeDistributed(MaxPooling2D(pool_size=(2, 2)))\n",
    "        self.dropout2 = layers.Dropout(0.2)\n",
    "        self.dropout3 = layers.Dropout(0.3)\n",
    "        self.flat = TimeDistributed(Flatten())\n",
    "\n",
    "    def call(self, x):\n",
    "        x = self.xc(x)\n",
    "        x = self.flat(x)\n",
    "        x = self.dropout2(x)\n",
    "        x = self.bilstm(x)\n",
    "        #x = self.dense2(x)\n",
    "        x = self.dropout2(x)\n",
    "        return self.dense(x)"
   ]
  },
  {
   "cell_type": "code",
   "execution_count": 6,
   "metadata": {},
   "outputs": [],
   "source": [
    "def get_model_vgg():\n",
    "    return Xception_LSTM(num_classes = 11)"
   ]
  },
  {
   "cell_type": "code",
   "execution_count": 7,
   "metadata": {},
   "outputs": [
    {
     "name": "stdout",
     "output_type": "stream",
     "text": [
      "Downloading data from https://storage.googleapis.com/tensorflow/keras-applications/xception/xception_weights_tf_dim_ordering_tf_kernels_notop.h5\n",
      "83689472/83683744 [==============================] - 8s 0us/step\n"
     ]
    }
   ],
   "source": [
    "model = get_model_vgg()\n",
    "model.compile(optimizer = 'adam', loss = 'categorical_crossentropy', metrics = ['accuracy'])"
   ]
  },
  {
   "cell_type": "code",
   "execution_count": 8,
   "metadata": {},
   "outputs": [
    {
     "name": "stdout",
     "output_type": "stream",
     "text": [
      "Epoch 1/100\n",
      "60/60 [==============================] - 852s 14s/step - loss: 2.3496 - accuracy: 0.1189 - val_loss: 2.2489 - val_accuracy: 0.1750\n",
      "Epoch 2/100\n",
      "60/60 [==============================] - 784s 13s/step - loss: 2.1313 - accuracy: 0.2305 - val_loss: 2.1324 - val_accuracy: 0.2229\n",
      "Epoch 3/100\n",
      "60/60 [==============================] - 775s 13s/step - loss: 1.9145 - accuracy: 0.3155 - val_loss: 1.8972 - val_accuracy: 0.3063\n",
      "Epoch 4/100\n",
      "60/60 [==============================] - 774s 13s/step - loss: 1.5553 - accuracy: 0.4485 - val_loss: 1.6716 - val_accuracy: 0.3708\n",
      "Epoch 5/100\n",
      "60/60 [==============================] - 773s 13s/step - loss: 1.2798 - accuracy: 0.5732 - val_loss: 1.5983 - val_accuracy: 0.4333\n",
      "Epoch 6/100\n",
      "60/60 [==============================] - 772s 13s/step - loss: 0.9684 - accuracy: 0.6789 - val_loss: 1.5414 - val_accuracy: 0.4583\n",
      "Epoch 7/100\n",
      "60/60 [==============================] - 774s 13s/step - loss: 0.8086 - accuracy: 0.7279 - val_loss: 1.4543 - val_accuracy: 0.5208\n",
      "Epoch 8/100\n",
      "60/60 [==============================] - 772s 13s/step - loss: 0.6206 - accuracy: 0.8087 - val_loss: 1.6046 - val_accuracy: 0.4833\n",
      "Epoch 9/100\n",
      "60/60 [==============================] - 773s 13s/step - loss: 0.4197 - accuracy: 0.8653 - val_loss: 1.5439 - val_accuracy: 0.5188\n",
      "Epoch 10/100\n",
      "60/60 [==============================] - 774s 13s/step - loss: 0.3153 - accuracy: 0.9153 - val_loss: 1.5430 - val_accuracy: 0.5229\n",
      "Epoch 11/100\n",
      "60/60 [==============================] - 774s 13s/step - loss: 0.2325 - accuracy: 0.9295 - val_loss: 1.6127 - val_accuracy: 0.5521\n",
      "Epoch 12/100\n",
      "60/60 [==============================] - 772s 13s/step - loss: 0.2037 - accuracy: 0.9383 - val_loss: 1.6379 - val_accuracy: 0.5208\n",
      "Epoch 13/100\n",
      "60/60 [==============================] - 770s 13s/step - loss: 0.1261 - accuracy: 0.9706 - val_loss: 1.6781 - val_accuracy: 0.5375\n",
      "Epoch 14/100\n",
      "60/60 [==============================] - 772s 13s/step - loss: 0.1097 - accuracy: 0.9750 - val_loss: 1.6972 - val_accuracy: 0.5396\n",
      "Epoch 15/100\n",
      "60/60 [==============================] - 773s 13s/step - loss: 0.0955 - accuracy: 0.9799 - val_loss: 1.5677 - val_accuracy: 0.5437\n",
      "Epoch 16/100\n",
      "60/60 [==============================] - 775s 13s/step - loss: 0.0670 - accuracy: 0.9893 - val_loss: 1.7320 - val_accuracy: 0.5437\n",
      "Epoch 17/100\n",
      "60/60 [==============================] - 772s 13s/step - loss: 0.0794 - accuracy: 0.9758 - val_loss: 1.7620 - val_accuracy: 0.5437\n"
     ]
    }
   ],
   "source": [
    "es = EarlyStopping(monitor = 'val_loss', patience = 10)\n",
    "history = model.fit(X_train, Y_train, batch_size=32, epochs=100, verbose = 1, validation_split=0.2, callbacks = [es])"
   ]
  },
  {
   "cell_type": "code",
   "execution_count": 9,
   "metadata": {},
   "outputs": [
    {
     "name": "stdout",
     "output_type": "stream",
     "text": [
      "dict_keys(['loss', 'accuracy', 'val_loss', 'val_accuracy'])\n"
     ]
    },
    {
     "data": {
      "image/png": "[encoded data removed]",
      "text/plain": [
       "<Figure size 432x288 with 1 Axes>"
      ]
     },
     "metadata": {
      "needs_background": "light"
     },
     "output_type": "display_data"
    },
    {
     "data": {
      "image/png": "[encoded data removed]",
      "text/plain": [
       "<Figure size 432x288 with 1 Axes>"
      ]
     },
     "metadata": {
      "needs_background": "light"
     },
     "output_type": "display_data"
    }
   ],
   "source": [
    "\n",
    "import matplotlib.pyplot as plt\n",
    "# list all data in history\n",
    "print(history.history.keys())\n",
    "# summarize history for accuracy\n",
    "plt.plot(history.history['accuracy'])\n",
    "plt.plot(history.history['val_accuracy'])\n",
    "plt.title('model accuracy')\n",
    "plt.ylabel('accuracy')\n",
    "plt.xlabel('epoch')\n",
    "plt.legend(['train', 'test'], loc='upper left')\n",
    "plt.show()\n",
    "# summarize history for loss\n",
    "plt.plot(history.history['loss'])\n",
    "plt.plot(history.history['val_loss'])\n",
    "plt.title('model loss')\n",
    "plt.ylabel('loss')\n",
    "plt.xlabel('epoch')\n",
    "plt.legend(['train', 'test'], loc='upper left')\n",
    "plt.show()"
   ]
  },
  {
   "cell_type": "code",
   "execution_count": null,
   "metadata": {},
   "outputs": [],
   "source": []
  }
 ],
 "metadata": {
  "kernelspec": {
   "display_name": "Python 3",
   "language": "python",
   "name": "python3"
  },
  "language_info": {
   "codemirror_mode": {
    "name": "ipython",
    "version": 3
   },
   "file_extension": ".py",
   "mimetype": "text/x-python",
   "name": "python",
   "nbconvert_exporter": "python",
   "pygments_lexer": "ipython3",
   "version": "3.8.5"
  }
 },
 "nbformat": 4,
 "nbformat_minor": 4
}
