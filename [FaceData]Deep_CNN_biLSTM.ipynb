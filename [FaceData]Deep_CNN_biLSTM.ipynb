{
 "cells": [
  {
   "cell_type": "code",
   "execution_count": 1,
   "metadata": {},
   "outputs": [],
   "source": [
    "import numpy as np\n",
    "from sklearn.model_selection import train_test_split\n",
    "\n",
    "import tensorflow as tf\n",
    "from tensorflow import keras\n",
    "from tensorflow.keras import layers\n",
    "from keras.models import Sequential\n",
    "from keras import models, layers, activations\n",
    "from keras.layers import Conv2D, TimeDistributed, BatchNormalization, MaxPooling2D, Flatten, Bidirectional, Dense,Dropout,Flatten\n",
    "from keras.callbacks import EarlyStopping"
   ]
  },
  {
   "cell_type": "code",
   "execution_count": 2,
   "metadata": {},
   "outputs": [
    {
     "name": "stdout",
     "output_type": "stream",
     "text": [
      "(3000, 27, 64, 64, 3) (3000, 11)\n"
     ]
    }
   ],
   "source": [
    "x_data = np.load('face_x_data.npy')\n",
    "y_data = np.load('face_y_data.npy')\n",
    "y_data = keras.utils.to_categorical(y_data,11)\n",
    "print(x_data.shape, y_data.shape)"
   ]
  },
  {
   "cell_type": "code",
   "execution_count": 3,
   "metadata": {},
   "outputs": [
    {
     "name": "stdout",
     "output_type": "stream",
     "text": [
      "x_train: (2400, 27, 64, 64, 3), X_test: (600, 27, 64, 64, 3)\n",
      "Y_train: (2400, 11), Y_test: (600, 11)\n"
     ]
    }
   ],
   "source": [
    "# Train과 Test 분리\n",
    "X_train, X_test, Y_train, Y_test = train_test_split(x_data, y_data, test_size = 0.2, shuffle = True, stratify=y_data)\n",
    "print(\"x_train: {}, X_test: {}\".format(X_train.shape, X_test.shape))\n",
    "print(\"Y_train: {}, Y_test: {}\".format(Y_train.shape, Y_test.shape))"
   ]
  },
  {
   "cell_type": "code",
   "execution_count": 4,
   "metadata": {},
   "outputs": [],
   "source": [
    "class deep_CNN_LSTM(keras.Model):\n",
    "    def __init__(self, num_classes):\n",
    "        super(deep_CNN_LSTM, self).__init__()\n",
    "        self.conv1 = TimeDistributed(Conv2D(64, kernel_size=(5,5), activation = 'relu'))\n",
    "        self.conv2 = TimeDistributed(Conv2D(32, kernel_size=(5,5), activation = 'relu'))\n",
    "        self.conv3 = TimeDistributed(Conv2D(64, kernel_size=(5,5), activation = 'relu'))\n",
    "        \n",
    "        self.bilstm = layers.Bidirectional(layers.LSTM(256), merge_mode = 'concat')\n",
    "        self.dense = layers.Dense(num_classes, activation = 'softmax')\n",
    "        self.max_pool= TimeDistributed(MaxPooling2D(pool_size= (2,2)))\n",
    "        self.dropout = layers.Dropout(0.2)\n",
    "        self.flat= TimeDistributed(Flatten())\n",
    "        \n",
    "    def call(self, x):\n",
    "        x = self.conv1(x)\n",
    "        x = TimeDistributed(MaxPooling2D(pool_size= (2,2)))(x)\n",
    "        x = self.dropout(x)\n",
    "        x = BatchNormalization()(x)\n",
    "        x = self.conv2(x)\n",
    "        x = TimeDistributed(MaxPooling2D(pool_size= (2,2)))(x)\n",
    "        x = self.dropout(x)\n",
    "        x = BatchNormalization()(x)\n",
    "        x = self.conv3(x)\n",
    "        x = TimeDistributed(MaxPooling2D(pool_size= (2,2)))(x)\n",
    "        x = self.dropout(x)\n",
    "        x = BatchNormalization()(x)\n",
    "        x = self.flat(x)\n",
    "        x = self.bilstm(x)\n",
    "        x = self.dense(x)\n",
    "        return x"
   ]
  },
  {
   "cell_type": "code",
   "execution_count": 5,
   "metadata": {},
   "outputs": [],
   "source": [
    "def get_model():\n",
    "    return deep_CNN_LSTM(num_classes = 11)"
   ]
  },
  {
   "cell_type": "code",
   "execution_count": 6,
   "metadata": {},
   "outputs": [
    {
     "name": "stdout",
     "output_type": "stream",
     "text": [
      "WARNING:tensorflow:From <ipython-input-6-bdb3352f611a>:1: experimental_run_functions_eagerly (from tensorflow.python.eager.def_function) is deprecated and will be removed in a future version.\n",
      "Instructions for updating:\n",
      "Use `tf.config.run_functions_eagerly` instead of the experimental version.\n"
     ]
    }
   ],
   "source": [
    "tf.config.experimental_run_functions_eagerly(True)"
   ]
  },
  {
   "cell_type": "code",
   "execution_count": 7,
   "metadata": {},
   "outputs": [
    {
     "name": "stderr",
     "output_type": "stream",
     "text": [
      "C:\\Users\\owner\\anaconda3\\envs\\Lip\\lib\\site-packages\\tensorflow\\python\\data\\ops\\dataset_ops.py:3704: UserWarning: Even though the `tf.config.experimental_run_functions_eagerly` option is set, this option does not apply to tf.data functions. To force eager execution of tf.data functions, please use `tf.data.experimental.enable.debug_mode()`.\n",
      "  \"Even though the `tf.config.experimental_run_functions_eagerly` \"\n"
     ]
    },
    {
     "name": "stdout",
     "output_type": "stream",
     "text": [
      "Epoch 1/100\n",
      "75/75 [==============================] - 724s 10s/step - loss: 2.3209 - accuracy: 0.1096 - val_loss: 2.2714 - val_accuracy: 0.1367\n",
      "Epoch 2/100\n",
      "75/75 [==============================] - 1811s 24s/step - loss: 2.2769 - accuracy: 0.1238 - val_loss: 2.2654 - val_accuracy: 0.1250\n",
      "Epoch 3/100\n",
      "75/75 [==============================] - 516s 7s/step - loss: 2.2593 - accuracy: 0.1554 - val_loss: 2.2498 - val_accuracy: 0.1450\n",
      "Epoch 4/100\n",
      "75/75 [==============================] - 522s 7s/step - loss: 2.2556 - accuracy: 0.1346 - val_loss: 2.2324 - val_accuracy: 0.1633\n",
      "Epoch 5/100\n",
      "75/75 [==============================] - 526s 7s/step - loss: 2.2539 - accuracy: 0.1338 - val_loss: 2.2969 - val_accuracy: 0.1150\n",
      "Epoch 6/100\n",
      "75/75 [==============================] - 533s 7s/step - loss: 2.3032 - accuracy: 0.1108 - val_loss: 2.2704 - val_accuracy: 0.1433\n",
      "Epoch 7/100\n",
      "75/75 [==============================] - 536s 7s/step - loss: 2.2650 - accuracy: 0.1350 - val_loss: 2.2522 - val_accuracy: 0.1517\n",
      "Epoch 8/100\n",
      "75/75 [==============================] - 538s 7s/step - loss: 2.2492 - accuracy: 0.1462 - val_loss: 2.2409 - val_accuracy: 0.1483\n",
      "Epoch 9/100\n",
      "75/75 [==============================] - 533s 7s/step - loss: 2.2280 - accuracy: 0.1596 - val_loss: 2.2404 - val_accuracy: 0.1350\n",
      "Epoch 10/100\n",
      "75/75 [==============================] - 531s 7s/step - loss: 2.2228 - accuracy: 0.1658 - val_loss: 2.2347 - val_accuracy: 0.1433\n",
      "Epoch 11/100\n",
      "75/75 [==============================] - 566s 8s/step - loss: 2.2101 - accuracy: 0.1758 - val_loss: 2.2503 - val_accuracy: 0.1400\n",
      "Epoch 12/100\n",
      "75/75 [==============================] - 534s 7s/step - loss: 2.1944 - accuracy: 0.1792 - val_loss: 2.2495 - val_accuracy: 0.1517\n",
      "Epoch 13/100\n",
      "75/75 [==============================] - 524s 7s/step - loss: 2.1516 - accuracy: 0.2008 - val_loss: 2.2361 - val_accuracy: 0.1667\n",
      "Epoch 14/100\n",
      "75/75 [==============================] - 519s 7s/step - loss: 2.1040 - accuracy: 0.2350 - val_loss: 2.2210 - val_accuracy: 0.1750\n",
      "Epoch 15/100\n",
      "75/75 [==============================] - 515s 7s/step - loss: 2.0174 - accuracy: 0.2713 - val_loss: 2.1593 - val_accuracy: 0.1983\n",
      "Epoch 16/100\n",
      "75/75 [==============================] - 520s 7s/step - loss: 1.8784 - accuracy: 0.3308 - val_loss: 2.1056 - val_accuracy: 0.2450\n",
      "Epoch 17/100\n",
      "75/75 [==============================] - 519s 7s/step - loss: 1.7067 - accuracy: 0.4025 - val_loss: 2.0982 - val_accuracy: 0.2367\n",
      "Epoch 18/100\n",
      "75/75 [==============================] - 518s 7s/step - loss: 1.4864 - accuracy: 0.4896 - val_loss: 2.0322 - val_accuracy: 0.3100\n",
      "Epoch 19/100\n",
      "75/75 [==============================] - 517s 7s/step - loss: 1.2184 - accuracy: 0.6100 - val_loss: 2.0026 - val_accuracy: 0.3167\n",
      "Epoch 20/100\n",
      "75/75 [==============================] - 518s 7s/step - loss: 0.9045 - accuracy: 0.7175 - val_loss: 2.0159 - val_accuracy: 0.3367\n",
      "Epoch 21/100\n",
      "75/75 [==============================] - 519s 7s/step - loss: 0.6704 - accuracy: 0.7975 - val_loss: 2.0077 - val_accuracy: 0.3900\n",
      "Epoch 22/100\n",
      "75/75 [==============================] - 519s 7s/step - loss: 0.4416 - accuracy: 0.8737 - val_loss: 2.0441 - val_accuracy: 0.4333\n",
      "Epoch 23/100\n",
      "75/75 [==============================] - 518s 7s/step - loss: 0.3105 - accuracy: 0.9192 - val_loss: 2.1186 - val_accuracy: 0.4417\n",
      "Epoch 24/100\n",
      "75/75 [==============================] - 519s 7s/step - loss: 0.2249 - accuracy: 0.9404 - val_loss: 2.1693 - val_accuracy: 0.4400\n",
      "Epoch 25/100\n",
      "75/75 [==============================] - 517s 7s/step - loss: 0.2071 - accuracy: 0.9425 - val_loss: 2.1345 - val_accuracy: 0.4433\n",
      "Epoch 26/100\n",
      "75/75 [==============================] - 517s 7s/step - loss: 0.1367 - accuracy: 0.9575 - val_loss: 2.1556 - val_accuracy: 0.4667\n",
      "Epoch 27/100\n",
      "75/75 [==============================] - 520s 7s/step - loss: 0.0918 - accuracy: 0.9742 - val_loss: 2.2077 - val_accuracy: 0.4817\n",
      "Epoch 28/100\n",
      "75/75 [==============================] - 516s 7s/step - loss: 0.0465 - accuracy: 0.9900 - val_loss: 2.3522 - val_accuracy: 0.4883\n",
      "Epoch 29/100\n",
      "75/75 [==============================] - 514s 7s/step - loss: 0.0410 - accuracy: 0.9921 - val_loss: 2.2810 - val_accuracy: 0.4950\n"
     ]
    }
   ],
   "source": [
    "model = get_model()\n",
    "model.compile(optimizer = 'adam', loss = 'categorical_crossentropy', metrics = ['accuracy'])\n",
    "es = EarlyStopping(monitor = 'val_loss', patience = 10)\n",
    "history = model.fit(X_train, Y_train, batch_size=32, epochs=100, verbose = 1, validation_data = (X_test, Y_test),callbacks = [es])"
   ]
  },
  {
   "cell_type": "code",
   "execution_count": 8,
   "metadata": {},
   "outputs": [
    {
     "name": "stdout",
     "output_type": "stream",
     "text": [
      "dict_keys(['loss', 'accuracy', 'val_loss', 'val_accuracy'])\n"
     ]
    },
    {
     "data": {
      "image/png": "[encoded data removed]",
      "text/plain": [
       "<Figure size 432x288 with 1 Axes>"
      ]
     },
     "metadata": {
      "needs_background": "light"
     },
     "output_type": "display_data"
    },
    {
     "data": {
      "image/png": "[encoded data removed]",
      "text/plain": [
       "<Figure size 432x288 with 1 Axes>"
      ]
     },
     "metadata": {
      "needs_background": "light"
     },
     "output_type": "display_data"
    }
   ],
   "source": [
    "import matplotlib.pyplot as plt\n",
    "# list all data in history\n",
    "print(history.history.keys())\n",
    "# summarize history for accuracy\n",
    "plt.plot(history.history['accuracy'])\n",
    "plt.plot(history.history['val_accuracy'])\n",
    "plt.title('model accuracy')\n",
    "plt.ylabel('accuracy')\n",
    "plt.xlabel('epoch')\n",
    "plt.legend(['train', 'test'], loc='upper left')\n",
    "plt.show()\n",
    "# summarize history for loss\n",
    "plt.plot(history.history['loss'])\n",
    "plt.plot(history.history['val_loss'])\n",
    "plt.title('model loss')\n",
    "plt.ylabel('loss')\n",
    "plt.xlabel('epoch')\n",
    "plt.legend(['train', 'test'], loc='upper left')\n",
    "plt.show()"
   ]
  },
  {
   "cell_type": "code",
   "execution_count": 11,
   "metadata": {},
   "outputs": [
    {
     "name": "stdout",
     "output_type": "stream",
     "text": [
      "19/19 [==============================] - 35s 2s/step - loss: 2.2810 - accuracy: 0.4950\n",
      "## evaluation loss and_metrics ##\n",
      "[2.281034231185913, 0.4950000047683716]\n"
     ]
    }
   ],
   "source": [
    "loss_and_metrics = model.evaluate(X_test, Y_test, batch_size=32)\n",
    "print('## evaluation loss and_metrics ##')\n",
    "print(loss_and_metrics)"
   ]
  },
  {
   "cell_type": "code",
   "execution_count": 14,
   "metadata": {},
   "outputs": [
    {
     "name": "stdout",
     "output_type": "stream",
     "text": [
      "19/19 [==============================] - 35s 2s/step - loss: 2.2810 - accuracy: 0.4950\n",
      "acc: 0.4950000047683716 loss: 2.281034231185913\n"
     ]
    }
   ],
   "source": [
    "score = model.evaluate(X_test, Y_test, batch_size = 32, verbose = 1)\n",
    "print(\"acc:\", score[1], \"loss:\", score[0])"
   ]
  },
  {
   "cell_type": "code",
   "execution_count": 19,
   "metadata": {},
   "outputs": [],
   "source": [
    "model.save_weights('deep_cnn_bilstm.h5')"
   ]
  },
  {
   "cell_type": "code",
   "execution_count": 16,
   "metadata": {},
   "outputs": [],
   "source": [
    "model.load_weights('deep_cnn_bilstm.h5')"
   ]
  },
  {
   "cell_type": "code",
   "execution_count": 22,
   "metadata": {},
   "outputs": [],
   "source": [
    "import json\n",
    "from keras.models import Sequential\n",
    "from keras.layers import Dense\n",
    "from keras.callbacks import ModelCheckpoint\n",
    "import numpy\n",
    "import pandas as pd"
   ]
  },
  {
   "cell_type": "code",
   "execution_count": null,
   "metadata": {},
   "outputs": [],
   "source": []
  }
 ],
 "metadata": {
  "kernelspec": {
   "display_name": "Lip",
   "language": "python",
   "name": "lip"
  },
  "language_info": {
   "codemirror_mode": {
    "name": "ipython",
    "version": 3
   },
   "file_extension": ".py",
   "mimetype": "text/x-python",
   "name": "python",
   "nbconvert_exporter": "python",
   "pygments_lexer": "ipython3",
   "version": "3.6.7"
  }
 },
 "nbformat": 4,
 "nbformat_minor": 4
}
