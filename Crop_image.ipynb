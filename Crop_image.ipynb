{
 "cells": [
  {
   "cell_type": "code",
   "execution_count": 1,
   "metadata": {},
   "outputs": [],
   "source": [
    "import cv2\n",
    "import numpy as np\n",
    "import dlib\n",
    "import pandas as pd\n",
    "import os"
   ]
  },
  {
   "cell_type": "code",
   "execution_count": 2,
   "metadata": {},
   "outputs": [],
   "source": [
    "detector = dlib.get_frontal_face_detector() #fACE dETECTIOR\n",
    "predictor = dlib.shape_predictor(\"data/shape_predictor_68_face_landmarks.dat\") # predict 해주는애"
   ]
  },
  {
   "cell_type": "code",
   "execution_count": 3,
   "metadata": {},
   "outputs": [],
   "source": [
    "def get_rect(shape):\n",
    "    rw = 0\n",
    "    rh = 0\n",
    "    rx = 65535\n",
    "    ry = 65535\n",
    "    for (x,y) in shape:\n",
    "        rw = max(rw,x)\n",
    "        rh = max(rh,y)\n",
    "        rx = min(rx,x)\n",
    "        ry = min(ry,y)\n",
    "    return (rx,ry,rw-rx,rh-ry)\n",
    "\n",
    "def shape_to_np(shape, dtype=\"int\"):\n",
    "    # initialize the list of (x, y)-coordinates\n",
    "    coords = np.zeros((shape.num_parts, 2), dtype=dtype)\n",
    "\n",
    "    # loop over all facial landmarks and convert them\n",
    "    # to a 2-tuple of (x, y)-coordinates\n",
    "    for i in range(0, shape.num_parts):\n",
    "        coords[i] = (shape.part(i).x, shape.part(i).y)\n",
    "\n",
    "    # return the list of (x, y)-coordinates\n",
    "    return coords"
   ]
  },
  {
   "cell_type": "code",
   "execution_count": null,
   "metadata": {},
   "outputs": [
    {
     "name": "stdout",
     "output_type": "stream",
     "text": [
      "person: F01 [1/14]\n"
     ]
    }
   ],
   "source": [
    "inpDir = 'data/dataset/dataset'\n",
    "ratio = 1.0/2.0\n",
    "linpDir = os.listdir(inpDir)\n",
    "pi = 0\n",
    "for personStr in linpDir:\n",
    "    if personStr == \".DS_Store\" :\n",
    "        continue\n",
    "    pi += 1\n",
    "    print(\"person: %s [%d/%d]\" % (personStr,pi,len(linpDir) - 1))\n",
    "    personFolder = '%s/%s/words' % (inpDir,personStr)\n",
    "    lpersonFolder = os.listdir(personFolder)\n",
    "    \n",
    "    for sentenceId in lpersonFolder:\n",
    "        sentenceFolder = '%s/%s' % (personFolder,sentenceId)\n",
    "        \n",
    "        for sentenceId2 in os.listdir(sentenceFolder):\n",
    "            sentenceFolder2 = '%s/%s/%s' % (personFolder,sentenceId,sentenceId2)\n",
    "            \n",
    "            for frame in os.listdir(sentenceFolder2):\n",
    "                file = \"%s/%s\" % (sentenceFolder2,frame)\n",
    "                if(not os.path.isfile(file)):\n",
    "                    print(\"%s does not exist\" % file)\n",
    "                    sys.exit(1)\n",
    "                if(frame[0:5] != \"color\"):\n",
    "                    continue\n",
    "                \n",
    "                frame = frame[6:-4]\n",
    "                image = cv2.imread(file)\n",
    "                img = cv2.cvtColor(image, cv2.COLOR_BGR2GRAY)\n",
    "                #speed up detector by resizing first\n",
    "                img2 = cv2.resize(img, dsize=(2560, 1920), interpolation=cv2.INTER_AREA)\n",
    "\n",
    "                #detects whole face\n",
    "                rects = detector(img2, 1)\n",
    "                if len(rects) == 0:\n",
    "                    print(\"error finding head at file: %s\" % file)\n",
    "                    continue\n",
    "                    \n",
    "                for face in rects:\n",
    "                    crop_face = img2.copy()\n",
    "                    crop_face = crop_face[face.top(): face.bottom(), face.left(): face.right()]\n",
    "                    #rects[0] = dlib.scale_rect(rects[0],1/ratio)\n",
    "                    shape = predictor(img2,rects[0])\n",
    "                    shape = shape_to_np(shape)\n",
    "                    #indices from 48 to 67 are for mouth\n",
    "                    shape = [shape[x] for x in range(48,68)]\n",
    "                    crop_lip = img2.copy()\n",
    "                    (x, y, w, h) = get_rect(shape)\n",
    "                    crop_lip = crop_lip[y: y+h, x:x+w]\n",
    "                    \n",
    "                    for (i, (x_i, y_i)) in enumerate(shape):\n",
    "                        cv2.circle(image, (x_i, y_i), 1, (255, 0, 0), -1)\n",
    "                    \n",
    "                    (x, y, w, h) = get_rect(shape)\n",
    "                \n",
    "                    for s in shape:\n",
    "                        s[0] -= x\n",
    "                        s[1] -= y\n",
    "                \n",
    "                cropl_path = 'data_cropped/%s/%s/%s/crop_lip'%(personStr, sentenceId, sentenceId2)\n",
    "                cropf_path = 'data_cropped/%s/%s/%s/crop_face'%(personStr, sentenceId, sentenceId2)\n",
    "                \n",
    "                try:\n",
    "                    os.makedirs(cropl_path)\n",
    "                    os.makedirs(cropf_path)\n",
    "                except FileExistsError as e:\n",
    "                    pass\n",
    "            \n",
    "                mouth_name = f'mouth_{frame}.jpg'\n",
    "                face_name = f'face_{frame}.jpg'\n",
    "                mouth_path = cropl_path + '/' + mouth_name\n",
    "                face_path = cropf_path + '/' + face_name\n",
    "        \n",
    "                # save images by frame\n",
    "                cv2.imwrite(face_path, crop_face)\n",
    "                cv2.imwrite(mouth_path, crop_lip)\n",
    "                #cv2.imwrite(face_path, crop_face)\n",
    "            \n",
    "        #for now just one sentence\n",
    "        #if SHORT_TEST:\n",
    "        #    break\n",
    "    #for now just one person\n",
    "    #if SHORT_TEST:\n",
    "    #    break"
   ]
  },
  {
   "cell_type": "code",
   "execution_count": null,
   "metadata": {},
   "outputs": [],
   "source": []
  },
  {
   "cell_type": "code",
   "execution_count": null,
   "metadata": {},
   "outputs": [],
   "source": []
  }
 ],
 "metadata": {
  "kernelspec": {
   "display_name": "Python 3",
   "language": "python",
   "name": "python3"
  },
  "language_info": {
   "codemirror_mode": {
    "name": "ipython",
    "version": 3
   },
   "file_extension": ".py",
   "mimetype": "text/x-python",
   "name": "python",
   "nbconvert_exporter": "python",
   "pygments_lexer": "ipython3",
   "version": "3.8.5"
  }
 },
 "nbformat": 4,
 "nbformat_minor": 4
}
