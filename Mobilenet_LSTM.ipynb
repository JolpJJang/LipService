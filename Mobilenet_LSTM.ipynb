{
  "nbformat": 4,
  "nbformat_minor": 0,
  "metadata": {
    "colab": {
      "name": "Mobilenet_LSTM.ipynb",
      "provenance": [],
      "machine_shape": "hm",
      "authorship_tag": "ABX9TyMhbDtWHmIsWVa5q0HCwkh9"
    },
    "kernelspec": {
      "name": "python3",
      "display_name": "Python 3"
    },
    "language_info": {
      "name": "python"
    },
    "accelerator": "GPU"
  },
  "cells": [
    {
      "cell_type": "code",
      "metadata": {
        "id": "TbOj-p_9B_bq"
      },
      "source": [
        "import numpy as np\n",
        "from sklearn.model_selection import train_test_split\n",
        "from keras.callbacks import EarlyStopping\n",
        "import tensorflow as tf\n",
        "from tensorflow import keras\n",
        "from tensorflow.keras import layers\n",
        "from keras.models import Sequential\n",
        "from keras import models, layers, activations\n",
        "from keras.layers import Conv2D, TimeDistributed, BatchNormalization, MaxPooling2D, Flatten, Bidirectional, Dense,Dropout,Flatten"
      ],
      "execution_count": 2,
      "outputs": []
    },
    {
      "cell_type": "code",
      "metadata": {
        "colab": {
          "base_uri": "https://localhost:8080/"
        },
        "id": "XJV_KLyNCbBr",
        "outputId": "9d9a654e-5cd5-4a59-aa5a-a05b299b7fb6"
      },
      "source": [
        "from google.colab import drive\n",
        "\n",
        "drive.mount('/content/gdrive')"
      ],
      "execution_count": 3,
      "outputs": [
        {
          "output_type": "stream",
          "text": [
            "Mounted at /content/gdrive\n"
          ],
          "name": "stdout"
        }
      ]
    },
    {
      "cell_type": "code",
      "metadata": {
        "colab": {
          "base_uri": "https://localhost:8080/"
        },
        "id": "Fnvlfns4D5sM",
        "outputId": "ab12cfdd-59e1-4264-a0b0-997704b5e568"
      },
      "source": [
        "x_data = np.load('/content/gdrive/My Drive/jolp/lip/lip_x_data.npy') # x_save.npy\n",
        "y_data = np.load('/content/gdrive/My Drive/jolp/lip/lip_y_data.npy') # y_data.npy\n",
        "\n",
        "\n",
        "\n",
        "y_data = keras.utils.to_categorical(y_data, num_classes=None)\n",
        "#X_train, X_test, Y_train, Y_test = train_test_split(x_data, y_data, test_size = 0.2, shuffle = True, stratify=y_data)\n",
        "print(x_data.shape, y_data.shape)"
      ],
      "execution_count": 4,
      "outputs": [
        {
          "output_type": "stream",
          "text": [
            "(3000, 27, 64, 64, 3) (3000, 11)\n"
          ],
          "name": "stdout"
        }
      ]
    },
    {
      "cell_type": "code",
      "metadata": {
        "colab": {
          "base_uri": "https://localhost:8080/"
        },
        "id": "mM_iZRiGEAfL",
        "outputId": "fe12f053-7ee2-4831-a697-ff9ad1b7a167"
      },
      "source": [
        "\n",
        "# Train과 Test 분리\n",
        "X_train, X_test, Y_train, Y_test = train_test_split(x_data, y_data, test_size = 0.4, shuffle = True, stratify=y_data)\\\n",
        "#X_train, X_test, Y_train, Y_test = train_test_split(x_data, y_data, test_size = 0.2, shuffle = False)\n",
        "print(\"x_train: {}, X_test: {}\".format(X_train.shape, X_test.shape))\n",
        "print(\"Y_train: {}, Y_test: {}\".format(Y_train.shape, Y_test.shape))"
      ],
      "execution_count": 5,
      "outputs": [
        {
          "output_type": "stream",
          "text": [
            "x_train: (1800, 27, 64, 64, 3), X_test: (1200, 27, 64, 64, 3)\n",
            "Y_train: (1800, 11), Y_test: (1200, 11)\n"
          ],
          "name": "stdout"
        }
      ]
    },
    {
      "cell_type": "code",
      "metadata": {
        "id": "u8hkK9BTEUcd"
      },
      "source": [
        "\n",
        "from tensorflow.keras.applications.mobilenet import MobileNet\n",
        "from tensorflow.keras.layers import Input\n",
        "\n",
        "\n",
        "# this could also be the output a different Keras model or layer\n",
        "#input_tensor = Input(shape=(224, 224, 3))\n",
        "\n",
        "#model = InceptionV3(input_tensor=input_tensor, weights='imagenet', include_top=True)\n",
        "\n",
        "class MobileNet_LSTM(keras.Model):\n",
        "    def __init__(self, num_classes):\n",
        "        super(MobileNet_LSTM, self).__init__()\n",
        "        #self.BZ = input_shape[0]\n",
        "        #self.frame = input_shape[1]\n",
        "\n",
        "        self.mobile = TimeDistributed(MobileNet(weights='imagenet', include_top=False))\n",
        "        #self.vgg.trainable = False\n",
        "\n",
        "        self.bilstm = layers.Bidirectional(layers.LSTM(256), merge_mode='concat')\n",
        "        self.dense = layers.Dense(num_classes, activation='softmax')\n",
        "        self.max = TimeDistributed(MaxPooling2D(pool_size=(2, 2)))\n",
        "        self.dropout = layers.Dropout(0.2)\n",
        "        self.flat= TimeDistributed(Flatten())\n",
        "\n",
        "    def call(self, x):\n",
        "        x = self.mobile(x)\n",
        "        x = self.max(x)\n",
        "      \n",
        "        x = self.flat(x)\n",
        "        x = self.dropout(x)\n",
        "        x = self.bilstm(x)\n",
        "        return self.dense(x)\n",
        "\n"
      ],
      "execution_count": 6,
      "outputs": []
    },
    {
      "cell_type": "code",
      "metadata": {
        "id": "7VOCDAgrEUhg"
      },
      "source": [
        "def get_model():\n",
        "    return MobileNet_LSTM(num_classes =11)"
      ],
      "execution_count": 7,
      "outputs": []
    },
    {
      "cell_type": "code",
      "metadata": {
        "colab": {
          "base_uri": "https://localhost:8080/"
        },
        "id": "Ikh5qea6EYyg",
        "outputId": "70836a8b-cab6-4d8f-eb5c-fce7bc5c026f"
      },
      "source": [
        "\n",
        "tf.config.experimental_run_functions_eagerly(True)"
      ],
      "execution_count": 8,
      "outputs": [
        {
          "output_type": "stream",
          "text": [
            "WARNING:tensorflow:From <ipython-input-8-f05a146a5911>:2: experimental_run_functions_eagerly (from tensorflow.python.eager.def_function) is deprecated and will be removed in a future version.\n",
            "Instructions for updating:\n",
            "Use `tf.config.run_functions_eagerly` instead of the experimental version.\n"
          ],
          "name": "stdout"
        }
      ]
    },
    {
      "cell_type": "markdown",
      "metadata": {
        "id": "lEY751vPi4vZ"
      },
      "source": [
        ""
      ]
    },
    {
      "cell_type": "code",
      "metadata": {
        "colab": {
          "base_uri": "https://localhost:8080/"
        },
        "id": "EmyYkfqVEY00",
        "outputId": "59fcc5b6-5c73-4c55-c969-f802a9195ee9"
      },
      "source": [
        "model = get_model()\n",
        "model.compile(optimizer = 'adam', loss = 'categorical_crossentropy', metrics = ['accuracy'])"
      ],
      "execution_count": 9,
      "outputs": [
        {
          "output_type": "stream",
          "text": [
            "WARNING:tensorflow:`input_shape` is undefined or non-square, or `rows` is not in [128, 160, 192, 224]. Weights for input shape (224, 224) will be loaded as the default.\n",
            "Downloading data from https://storage.googleapis.com/tensorflow/keras-applications/mobilenet/mobilenet_1_0_224_tf_no_top.h5\n",
            "17227776/17225924 [==============================] - 0s 0us/step\n"
          ],
          "name": "stdout"
        }
      ]
    },
    {
      "cell_type": "code",
      "metadata": {
        "id": "Zw0oE6EioJm7",
        "outputId": "a993fd14-0c49-42dd-d4b6-bcaaab7c8668",
        "colab": {
          "base_uri": "https://localhost:8080/"
        }
      },
      "source": [
        "es = EarlyStopping(monitor = 'val_loss', patience = 15)\n",
        "history = model.fit(X_train, Y_train, batch_size= 32, epochs= 100, verbose = 1, validation_split = 0.2, callbacks=[es])\n",
        "#model.summary()"
      ],
      "execution_count": 10,
      "outputs": [
        {
          "output_type": "stream",
          "text": [
            "/usr/local/lib/python3.7/dist-packages/tensorflow/python/data/ops/dataset_ops.py:3504: UserWarning: Even though the tf.config.experimental_run_functions_eagerly option is set, this option does not apply to tf.data functions. tf.data functions are still traced and executed as graphs.\n",
            "  \"Even though the tf.config.experimental_run_functions_eagerly \"\n"
          ],
          "name": "stderr"
        },
        {
          "output_type": "stream",
          "text": [
            "Epoch 1/100\n",
            "45/45 [==============================] - 31s 334ms/step - loss: 2.5027 - accuracy: 0.0907 - val_loss: 2.3149 - val_accuracy: 0.0972\n",
            "Epoch 2/100\n",
            "45/45 [==============================] - 14s 316ms/step - loss: 2.2982 - accuracy: 0.1201 - val_loss: 2.3281 - val_accuracy: 0.1139\n",
            "Epoch 3/100\n",
            "45/45 [==============================] - 14s 315ms/step - loss: 2.2085 - accuracy: 0.1889 - val_loss: 2.2894 - val_accuracy: 0.1583\n",
            "Epoch 4/100\n",
            "45/45 [==============================] - 14s 316ms/step - loss: 2.0414 - accuracy: 0.2648 - val_loss: 2.0389 - val_accuracy: 0.2361\n",
            "Epoch 5/100\n",
            "45/45 [==============================] - 14s 315ms/step - loss: 1.8395 - accuracy: 0.3856 - val_loss: 1.9177 - val_accuracy: 0.2944\n",
            "Epoch 6/100\n",
            "45/45 [==============================] - 14s 315ms/step - loss: 1.6443 - accuracy: 0.4338 - val_loss: 2.0224 - val_accuracy: 0.2528\n",
            "Epoch 7/100\n",
            "45/45 [==============================] - 14s 318ms/step - loss: 1.5891 - accuracy: 0.4548 - val_loss: 1.7897 - val_accuracy: 0.3583\n",
            "Epoch 8/100\n",
            "45/45 [==============================] - 14s 316ms/step - loss: 1.4159 - accuracy: 0.4837 - val_loss: 2.6320 - val_accuracy: 0.2139\n",
            "Epoch 9/100\n",
            "45/45 [==============================] - 14s 316ms/step - loss: 1.2160 - accuracy: 0.5892 - val_loss: 1.6549 - val_accuracy: 0.4111\n",
            "Epoch 10/100\n",
            "45/45 [==============================] - 14s 316ms/step - loss: 1.0227 - accuracy: 0.6591 - val_loss: 2.0867 - val_accuracy: 0.2722\n",
            "Epoch 11/100\n",
            "45/45 [==============================] - 14s 316ms/step - loss: 0.8869 - accuracy: 0.7299 - val_loss: 1.4750 - val_accuracy: 0.4806\n",
            "Epoch 12/100\n",
            "45/45 [==============================] - 14s 316ms/step - loss: 0.8004 - accuracy: 0.7648 - val_loss: 1.2945 - val_accuracy: 0.5194\n",
            "Epoch 13/100\n",
            "45/45 [==============================] - 14s 318ms/step - loss: 0.6510 - accuracy: 0.8046 - val_loss: 1.1524 - val_accuracy: 0.5889\n",
            "Epoch 14/100\n",
            "45/45 [==============================] - 14s 315ms/step - loss: 0.5182 - accuracy: 0.8568 - val_loss: 1.7804 - val_accuracy: 0.3472\n",
            "Epoch 15/100\n",
            "45/45 [==============================] - 14s 316ms/step - loss: 0.3830 - accuracy: 0.8963 - val_loss: 1.4262 - val_accuracy: 0.4889\n",
            "Epoch 16/100\n",
            "45/45 [==============================] - 14s 316ms/step - loss: 0.2703 - accuracy: 0.9445 - val_loss: 0.9728 - val_accuracy: 0.6556\n",
            "Epoch 17/100\n",
            "45/45 [==============================] - 14s 317ms/step - loss: 0.2152 - accuracy: 0.9573 - val_loss: 0.9816 - val_accuracy: 0.6833\n",
            "Epoch 18/100\n",
            "45/45 [==============================] - 14s 317ms/step - loss: 0.1435 - accuracy: 0.9796 - val_loss: 1.3586 - val_accuracy: 0.5694\n",
            "Epoch 19/100\n",
            "45/45 [==============================] - 14s 319ms/step - loss: 0.1622 - accuracy: 0.9597 - val_loss: 0.9498 - val_accuracy: 0.6667\n",
            "Epoch 20/100\n",
            "45/45 [==============================] - 14s 316ms/step - loss: 0.1122 - accuracy: 0.9794 - val_loss: 1.3537 - val_accuracy: 0.5806\n",
            "Epoch 21/100\n",
            "45/45 [==============================] - 14s 316ms/step - loss: 0.0504 - accuracy: 0.9974 - val_loss: 0.9144 - val_accuracy: 0.7222\n",
            "Epoch 22/100\n",
            "45/45 [==============================] - 14s 318ms/step - loss: 0.0431 - accuracy: 0.9923 - val_loss: 1.1583 - val_accuracy: 0.6389\n",
            "Epoch 23/100\n",
            "45/45 [==============================] - 14s 315ms/step - loss: 0.0746 - accuracy: 0.9863 - val_loss: 1.1175 - val_accuracy: 0.6722\n",
            "Epoch 24/100\n",
            "45/45 [==============================] - 14s 315ms/step - loss: 0.0774 - accuracy: 0.9803 - val_loss: 1.1177 - val_accuracy: 0.6528\n",
            "Epoch 25/100\n",
            "45/45 [==============================] - 14s 319ms/step - loss: 0.1004 - accuracy: 0.9722 - val_loss: 1.4789 - val_accuracy: 0.5889\n",
            "Epoch 26/100\n",
            "45/45 [==============================] - 14s 317ms/step - loss: 0.1405 - accuracy: 0.9567 - val_loss: 1.1390 - val_accuracy: 0.6417\n",
            "Epoch 27/100\n",
            "45/45 [==============================] - 14s 318ms/step - loss: 0.2137 - accuracy: 0.9357 - val_loss: 2.8332 - val_accuracy: 0.3167\n",
            "Epoch 28/100\n",
            "45/45 [==============================] - 14s 316ms/step - loss: 0.0991 - accuracy: 0.9767 - val_loss: 1.0334 - val_accuracy: 0.6583\n",
            "Epoch 29/100\n",
            "45/45 [==============================] - 14s 316ms/step - loss: 0.1198 - accuracy: 0.9636 - val_loss: 1.4573 - val_accuracy: 0.5500\n",
            "Epoch 30/100\n",
            "45/45 [==============================] - 14s 318ms/step - loss: 0.0839 - accuracy: 0.9736 - val_loss: 1.0981 - val_accuracy: 0.6611\n",
            "Epoch 31/100\n",
            "45/45 [==============================] - 14s 316ms/step - loss: 0.0881 - accuracy: 0.9835 - val_loss: 1.1449 - val_accuracy: 0.6500\n",
            "Epoch 32/100\n",
            "45/45 [==============================] - 14s 318ms/step - loss: 0.0540 - accuracy: 0.9910 - val_loss: 1.1053 - val_accuracy: 0.7000\n",
            "Epoch 33/100\n",
            "45/45 [==============================] - 14s 316ms/step - loss: 0.0372 - accuracy: 0.9927 - val_loss: 0.8932 - val_accuracy: 0.7361\n",
            "Epoch 34/100\n",
            "45/45 [==============================] - 14s 317ms/step - loss: 0.0147 - accuracy: 0.9998 - val_loss: 0.8393 - val_accuracy: 0.7472\n",
            "Epoch 35/100\n",
            "45/45 [==============================] - 14s 318ms/step - loss: 0.0085 - accuracy: 0.9994 - val_loss: 0.8421 - val_accuracy: 0.7833\n",
            "Epoch 36/100\n",
            "45/45 [==============================] - 14s 317ms/step - loss: 0.0050 - accuracy: 1.0000 - val_loss: 0.7854 - val_accuracy: 0.7889\n",
            "Epoch 37/100\n",
            "45/45 [==============================] - 14s 318ms/step - loss: 0.0029 - accuracy: 1.0000 - val_loss: 0.8167 - val_accuracy: 0.7944\n",
            "Epoch 38/100\n",
            "45/45 [==============================] - 14s 315ms/step - loss: 0.0027 - accuracy: 1.0000 - val_loss: 0.8348 - val_accuracy: 0.7722\n",
            "Epoch 39/100\n",
            "45/45 [==============================] - 14s 316ms/step - loss: 0.0020 - accuracy: 1.0000 - val_loss: 0.8227 - val_accuracy: 0.7833\n",
            "Epoch 40/100\n",
            "45/45 [==============================] - 14s 318ms/step - loss: 0.0017 - accuracy: 1.0000 - val_loss: 0.8338 - val_accuracy: 0.7722\n",
            "Epoch 41/100\n",
            "45/45 [==============================] - 14s 316ms/step - loss: 0.0016 - accuracy: 1.0000 - val_loss: 0.8332 - val_accuracy: 0.7722\n",
            "Epoch 42/100\n",
            "45/45 [==============================] - 14s 316ms/step - loss: 0.0012 - accuracy: 1.0000 - val_loss: 0.8397 - val_accuracy: 0.7722\n",
            "Epoch 43/100\n",
            "45/45 [==============================] - 14s 318ms/step - loss: 0.0013 - accuracy: 1.0000 - val_loss: 0.8407 - val_accuracy: 0.7722\n",
            "Epoch 44/100\n",
            "45/45 [==============================] - 14s 316ms/step - loss: 0.0011 - accuracy: 1.0000 - val_loss: 0.8471 - val_accuracy: 0.7667\n",
            "Epoch 45/100\n",
            "45/45 [==============================] - 14s 318ms/step - loss: 0.0011 - accuracy: 1.0000 - val_loss: 0.8438 - val_accuracy: 0.7694\n",
            "Epoch 46/100\n",
            "45/45 [==============================] - 14s 316ms/step - loss: 0.0011 - accuracy: 1.0000 - val_loss: 0.8548 - val_accuracy: 0.7639\n",
            "Epoch 47/100\n",
            "45/45 [==============================] - 14s 316ms/step - loss: 9.6526e-04 - accuracy: 1.0000 - val_loss: 0.8556 - val_accuracy: 0.7639\n",
            "Epoch 48/100\n",
            "45/45 [==============================] - 14s 318ms/step - loss: 8.6992e-04 - accuracy: 1.0000 - val_loss: 0.8595 - val_accuracy: 0.7639\n",
            "Epoch 49/100\n",
            "45/45 [==============================] - 14s 315ms/step - loss: 7.9213e-04 - accuracy: 1.0000 - val_loss: 0.8690 - val_accuracy: 0.7833\n",
            "Epoch 50/100\n",
            "45/45 [==============================] - 14s 318ms/step - loss: 7.8850e-04 - accuracy: 1.0000 - val_loss: 0.8752 - val_accuracy: 0.7722\n",
            "Epoch 51/100\n",
            "45/45 [==============================] - 14s 315ms/step - loss: 6.4647e-04 - accuracy: 1.0000 - val_loss: 0.8731 - val_accuracy: 0.7667\n"
          ],
          "name": "stdout"
        }
      ]
    },
    {
      "cell_type": "code",
      "metadata": {
        "colab": {
          "base_uri": "https://localhost:8080/"
        },
        "id": "lqTVBRLpEY3I",
        "outputId": "d2a97aa9-db18-4c00-b075-cac3931ac4c7"
      },
      "source": [
        "history.history"
      ],
      "execution_count": 11,
      "outputs": [
        {
          "output_type": "execute_result",
          "data": {
            "text/plain": [
              "{'accuracy': [0.09305555373430252,\n",
              "  0.11944444477558136,\n",
              "  0.20277777314186096,\n",
              "  0.2680555582046509,\n",
              "  0.3722222149372101,\n",
              "  0.4208333194255829,\n",
              "  0.4444444477558136,\n",
              "  0.49861112236976624,\n",
              "  0.5638889074325562,\n",
              "  0.6631944179534912,\n",
              "  0.7298611402511597,\n",
              "  0.7513889074325562,\n",
              "  0.8069444298744202,\n",
              "  0.8583333492279053,\n",
              "  0.8951388597488403,\n",
              "  0.9444444179534912,\n",
              "  0.9479166865348816,\n",
              "  0.9770833253860474,\n",
              "  0.9583333134651184,\n",
              "  0.9840278029441833,\n",
              "  0.9937499761581421,\n",
              "  0.9895833134651184,\n",
              "  0.9826388955116272,\n",
              "  0.9743055701255798,\n",
              "  0.96875,\n",
              "  0.949305534362793,\n",
              "  0.949999988079071,\n",
              "  0.9756944179534912,\n",
              "  0.9652777910232544,\n",
              "  0.9736111164093018,\n",
              "  0.9833333492279053,\n",
              "  0.9916666746139526,\n",
              "  0.9937499761581421,\n",
              "  0.9993055462837219,\n",
              "  0.9993055462837219,\n",
              "  1.0,\n",
              "  1.0,\n",
              "  1.0,\n",
              "  1.0,\n",
              "  1.0,\n",
              "  1.0,\n",
              "  1.0,\n",
              "  1.0,\n",
              "  1.0,\n",
              "  1.0,\n",
              "  1.0,\n",
              "  1.0,\n",
              "  1.0,\n",
              "  1.0,\n",
              "  1.0,\n",
              "  1.0],\n",
              " 'loss': [2.403505563735962,\n",
              "  2.299520492553711,\n",
              "  2.1975646018981934,\n",
              "  2.023340940475464,\n",
              "  1.8117568492889404,\n",
              "  1.665975570678711,\n",
              "  1.574979543685913,\n",
              "  1.3943085670471191,\n",
              "  1.2282942533493042,\n",
              "  1.0043941736221313,\n",
              "  0.8763035535812378,\n",
              "  0.7951778173446655,\n",
              "  0.6326942443847656,\n",
              "  0.5183660984039307,\n",
              "  0.3772349953651428,\n",
              "  0.26008373498916626,\n",
              "  0.22807076573371887,\n",
              "  0.14648109674453735,\n",
              "  0.16592828929424286,\n",
              "  0.09436250478029251,\n",
              "  0.054252419620752335,\n",
              "  0.052803412079811096,\n",
              "  0.08156236261129379,\n",
              "  0.08944230526685715,\n",
              "  0.1203797236084938,\n",
              "  0.16616590321063995,\n",
              "  0.1782597005367279,\n",
              "  0.09974520653486252,\n",
              "  0.11933337152004242,\n",
              "  0.09163201600313187,\n",
              "  0.08282901346683502,\n",
              "  0.04684723913669586,\n",
              "  0.029880080372095108,\n",
              "  0.014944889582693577,\n",
              "  0.007789350114762783,\n",
              "  0.003967411816120148,\n",
              "  0.0029468568973243237,\n",
              "  0.0026730105746537447,\n",
              "  0.0018660849891602993,\n",
              "  0.0016918332548812032,\n",
              "  0.0015110330423340201,\n",
              "  0.0012170366244390607,\n",
              "  0.0012022140435874462,\n",
              "  0.0011078924871981144,\n",
              "  0.0010445317020639777,\n",
              "  0.001014583627693355,\n",
              "  0.0009503382025286555,\n",
              "  0.0008433588081970811,\n",
              "  0.0008384292596019804,\n",
              "  0.0007747378549538553,\n",
              "  0.0006814849330112338],\n",
              " 'val_accuracy': [0.0972222238779068,\n",
              "  0.11388888955116272,\n",
              "  0.15833333134651184,\n",
              "  0.2361111044883728,\n",
              "  0.2944444417953491,\n",
              "  0.2527777850627899,\n",
              "  0.3583333194255829,\n",
              "  0.21388888359069824,\n",
              "  0.41111111640930176,\n",
              "  0.27222222089767456,\n",
              "  0.48055556416511536,\n",
              "  0.519444465637207,\n",
              "  0.5888888835906982,\n",
              "  0.3472222089767456,\n",
              "  0.4888888895511627,\n",
              "  0.6555555462837219,\n",
              "  0.6833333373069763,\n",
              "  0.5694444179534912,\n",
              "  0.6666666865348816,\n",
              "  0.5805555582046509,\n",
              "  0.7222222089767456,\n",
              "  0.6388888955116272,\n",
              "  0.6722221970558167,\n",
              "  0.6527777910232544,\n",
              "  0.5888888835906982,\n",
              "  0.6416666507720947,\n",
              "  0.3166666626930237,\n",
              "  0.6583333611488342,\n",
              "  0.550000011920929,\n",
              "  0.6611111164093018,\n",
              "  0.6499999761581421,\n",
              "  0.699999988079071,\n",
              "  0.7361111044883728,\n",
              "  0.7472222447395325,\n",
              "  0.7833333611488342,\n",
              "  0.7888888716697693,\n",
              "  0.7944444417953491,\n",
              "  0.7722222208976746,\n",
              "  0.7833333611488342,\n",
              "  0.7722222208976746,\n",
              "  0.7722222208976746,\n",
              "  0.7722222208976746,\n",
              "  0.7722222208976746,\n",
              "  0.7666666507720947,\n",
              "  0.769444465637207,\n",
              "  0.7638888955116272,\n",
              "  0.7638888955116272,\n",
              "  0.7638888955116272,\n",
              "  0.7833333611488342,\n",
              "  0.7722222208976746,\n",
              "  0.7666666507720947],\n",
              " 'val_loss': [2.314885377883911,\n",
              "  2.3280766010284424,\n",
              "  2.2893877029418945,\n",
              "  2.038926601409912,\n",
              "  1.9176647663116455,\n",
              "  2.0223593711853027,\n",
              "  1.789698600769043,\n",
              "  2.631963014602661,\n",
              "  1.654949426651001,\n",
              "  2.0866880416870117,\n",
              "  1.4749755859375,\n",
              "  1.2945079803466797,\n",
              "  1.1523643732070923,\n",
              "  1.780357837677002,\n",
              "  1.426209568977356,\n",
              "  0.9728148579597473,\n",
              "  0.981608510017395,\n",
              "  1.3586007356643677,\n",
              "  0.9498196840286255,\n",
              "  1.35370671749115,\n",
              "  0.9143707156181335,\n",
              "  1.1583276987075806,\n",
              "  1.1174561977386475,\n",
              "  1.1176856756210327,\n",
              "  1.4788849353790283,\n",
              "  1.1390163898468018,\n",
              "  2.833197832107544,\n",
              "  1.0333768129348755,\n",
              "  1.4572986364364624,\n",
              "  1.0981484651565552,\n",
              "  1.1448668241500854,\n",
              "  1.1052683591842651,\n",
              "  0.8931700587272644,\n",
              "  0.8393078446388245,\n",
              "  0.8420767188072205,\n",
              "  0.7853790521621704,\n",
              "  0.8166959881782532,\n",
              "  0.8348468542098999,\n",
              "  0.8226518630981445,\n",
              "  0.8338211178779602,\n",
              "  0.8332325220108032,\n",
              "  0.839691698551178,\n",
              "  0.8407391309738159,\n",
              "  0.847053587436676,\n",
              "  0.8437840938568115,\n",
              "  0.8548458814620972,\n",
              "  0.855576753616333,\n",
              "  0.8595314025878906,\n",
              "  0.8689938187599182,\n",
              "  0.8751903772354126,\n",
              "  0.873121976852417]}"
            ]
          },
          "metadata": {
            "tags": []
          },
          "execution_count": 11
        }
      ]
    },
    {
      "cell_type": "code",
      "metadata": {
        "id": "HNEiMNnxmFJa",
        "outputId": "d8d352a1-69d1-4a70-8754-7323f5457ee7",
        "colab": {
          "base_uri": "https://localhost:8080/",
          "height": 590
        }
      },
      "source": [
        "import matplotlib.pyplot as plt\n",
        "# list all data in history\n",
        "print(history.history.keys())\n",
        "# summarize history for accuracy\n",
        "plt.plot(history.history['accuracy'])\n",
        "plt.plot(history.history['val_accuracy'])\n",
        "plt.title('model accuracy')\n",
        "plt.ylabel('accuracy')\n",
        "plt.xlabel('epoch')\n",
        "plt.legend(['train', 'test'], loc='upper left')\n",
        "plt.show()\n",
        "# summarize history for loss\n",
        "plt.plot(history.history['loss'])\n",
        "plt.plot(history.history['val_loss'])\n",
        "plt.title('model loss')\n",
        "plt.ylabel('loss')\n",
        "plt.xlabel('epoch')\n",
        "plt.legend(['train', 'test'], loc='upper left')\n",
        "plt.show()"
      ],
      "execution_count": 12,
      "outputs": [
        {
          "output_type": "stream",
          "text": [
            "dict_keys(['loss', 'accuracy', 'val_loss', 'val_accuracy'])\n"
          ],
          "name": "stdout"
        },
        {
          "output_type": "display_data",
          "data": {
            "image/png": "[encoded data removed]",
            "text/plain": [
              "<Figure size 432x288 with 1 Axes>"
            ]
          },
          "metadata": {
            "tags": [],
            "needs_background": "light"
          }
        },
        {
          "output_type": "display_data",
          "data": {
            "image/png": "[encoded data removed]",
            "text/plain": [
              "<Figure size 432x288 with 1 Axes>"
            ]
          },
          "metadata": {
            "tags": [],
            "needs_background": "light"
          }
        }
      ]
    },
    {
      "cell_type": "code",
      "metadata": {
        "id": "WfehsoKxF7Rp"
      },
      "source": [
        ""
      ],
      "execution_count": null,
      "outputs": []
    }
  ]
}