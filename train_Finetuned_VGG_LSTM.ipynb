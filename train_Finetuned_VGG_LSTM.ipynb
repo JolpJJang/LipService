{
 "cells": [
  {
   "cell_type": "code",
   "execution_count": 8,
   "metadata": {},
   "outputs": [],
   "source": [
    "import numpy as np\n",
    "from sklearn.model_selection import train_test_split\n",
    "\n",
    "import tensorflow as tf\n",
    "from tensorflow import keras\n",
    "from tensorflow.keras import layers\n",
    "from tensorflow.keras.models import Sequential\n",
    "from tensorflow.keras import models, layers, activations\n",
    "from tensorflow.keras.layers import Conv2D, TimeDistributed, BatchNormalization, MaxPooling2D, Flatten, Bidirectional, Dense,Dropout,Flatten\n",
    "from tensorflow.keras.applications import VGG16\n",
    "from tensorflow.keras.callbacks import EarlyStopping"
   ]
  },
  {
   "cell_type": "code",
   "execution_count": 40,
   "metadata": {},
   "outputs": [
    {
     "name": "stdout",
     "output_type": "stream",
     "text": [
      "(3000, 27, 64, 64, 3) (3000, 11)\n"
     ]
    }
   ],
   "source": [
    "x_data = np.load('face_x_data.npy') # x_save.npy\n",
    "y_data = np.load('face_y_data.npy') # y_data.npy\n",
    "y_data = keras.utils.to_categorical(y_data,11)\n",
    "print(x_data.shape, y_data.shape)"
   ]
  },
  {
   "cell_type": "code",
   "execution_count": 46,
   "metadata": {},
   "outputs": [
    {
     "name": "stdout",
     "output_type": "stream",
     "text": [
      "[0. 1. 0. 0. 0. 0. 0. 0. 0. 0. 0.]\n"
     ]
    }
   ],
   "source": [
    "print(y_data[0])"
   ]
  },
  {
   "cell_type": "code",
   "execution_count": 47,
   "metadata": {},
   "outputs": [
    {
     "name": "stdout",
     "output_type": "stream",
     "text": [
      "x_train: (2400, 27, 64, 64, 3), X_test: (600, 27, 64, 64, 3)\n",
      "Y_train: (2400, 11), Y_test: (600, 11)\n"
     ]
    }
   ],
   "source": [
    "# Train과 Test 분리\n",
    "X_train, X_test, Y_train, Y_test = train_test_split(x_data, y_data, test_size = 0.2, shuffle = True, stratify=y_data)\n",
    "print(\"x_train: {}, X_test: {}\".format(X_train.shape, X_test.shape))\n",
    "print(\"Y_train: {}, Y_test: {}\".format(Y_train.shape, Y_test.shape))"
   ]
  },
  {
   "cell_type": "code",
   "execution_count": 48,
   "metadata": {},
   "outputs": [],
   "source": [
    "class VGG_LSTM_fine(tf.keras.Model):\n",
    "    def __init__(self, input_shape, num_classes):\n",
    "        super(VGG_LSTM_fine, self).__init__()\n",
    "        self.BZ = input_shape[0]\n",
    "        self.frame = input_shape[1]\n",
    "\n",
    "        self.vgg = VGG16(weights='imagenet', include_top=False,\n",
    "                         input_shape=(input_shape[2], input_shape[3], input_shape[4]))\n",
    "        self.vgg.trainable = False\n",
    "\n",
    "        set_trainable = False\n",
    "        for layer in self.vgg.layers:\n",
    "            if layer.name == 'block5_conv1' or layer.name == 'block5_conv2' or layer.name == 'block5_conv3' or layer.name == 'block5_pool':\n",
    "                set_trainable = True\n",
    "            if set_trainable:\n",
    "                layer.trainable = True\n",
    "            else:\n",
    "                layer.trainable = False\n",
    "        self.vggDistributed = TimeDistributed(self.vgg)        \n",
    "        self.bilstm = layers.Bidirectional(layers.LSTM(256), merge_mode='concat')\n",
    "        self.dense = layers.Dense(num_classes, activation='softmax')\n",
    "        self.max_pool = layers.MaxPooling2D(pool_size=(2, 2))\n",
    "        self.dropout = layers.Dropout(0.2)\n",
    "        self.flat= TimeDistributed(Flatten())\n",
    "        \n",
    "    def call(self, x):\n",
    "        x = self.vggDistributed(x)\n",
    "        x = self.flat(x)\n",
    "        x = self.dropout(x)\n",
    "        x = self.bilstm(x)\n",
    "        x = self.dense(x)\n",
    "        return x"
   ]
  },
  {
   "cell_type": "code",
   "execution_count": 49,
   "metadata": {},
   "outputs": [],
   "source": [
    "def get_model_vgg_fine():\n",
    "    return VGG_LSTM_fine(input_shape = (10, 68, 64, 64, 3), num_classes = 11)"
   ]
  },
  {
   "cell_type": "code",
   "execution_count": 50,
   "metadata": {},
   "outputs": [],
   "source": [
    "tf.config.experimental_run_functions_eagerly(True)"
   ]
  },
  {
   "cell_type": "code",
   "execution_count": null,
   "metadata": {},
   "outputs": [
    {
     "name": "stderr",
     "output_type": "stream",
     "text": [
      "/Users/heegeepark/venv/myvenv/lib/python3.8/site-packages/tensorflow/python/data/ops/dataset_ops.py:3503: UserWarning: Even though the tf.config.experimental_run_functions_eagerly option is set, this option does not apply to tf.data functions. tf.data functions are still traced and executed as graphs.\n",
      "  warnings.warn(\n"
     ]
    },
    {
     "name": "stdout",
     "output_type": "stream",
     "text": [
      "Epoch 1/100\n",
      "150/150 [==============================] - 3413s 23s/step - loss: 2.4442 - accuracy: 0.0808 - val_loss: 2.2914 - val_accuracy: 0.1100\n",
      "Epoch 2/100\n",
      "150/150 [==============================] - 7951s 53s/step - loss: 2.2808 - accuracy: 0.1343 - val_loss: 2.2989 - val_accuracy: 0.1400\n",
      "Epoch 3/100\n",
      "150/150 [==============================] - 3109s 21s/step - loss: 2.2103 - accuracy: 0.1987 - val_loss: 2.2719 - val_accuracy: 0.1717\n",
      "Epoch 4/100\n",
      "150/150 [==============================] - 3114s 21s/step - loss: 2.1466 - accuracy: 0.2379 - val_loss: 2.1972 - val_accuracy: 0.2100\n",
      "Epoch 5/100\n",
      "150/150 [==============================] - 3100s 21s/step - loss: 2.0441 - accuracy: 0.2901 - val_loss: 2.1670 - val_accuracy: 0.1967\n",
      "Epoch 6/100\n",
      "150/150 [==============================] - 3100s 21s/step - loss: 1.9341 - accuracy: 0.3332 - val_loss: 2.1082 - val_accuracy: 0.2383\n",
      "Epoch 7/100\n",
      "150/150 [==============================] - 3097s 21s/step - loss: 1.7941 - accuracy: 0.3836 - val_loss: 2.0672 - val_accuracy: 0.2750\n",
      "Epoch 8/100\n",
      "150/150 [==============================] - 3108s 21s/step - loss: 1.6384 - accuracy: 0.4478 - val_loss: 1.9859 - val_accuracy: 0.2917\n",
      "Epoch 9/100\n",
      "150/150 [==============================] - 3106s 21s/step - loss: 1.5179 - accuracy: 0.4922 - val_loss: 1.8702 - val_accuracy: 0.3267\n",
      "Epoch 10/100\n",
      "150/150 [==============================] - 3109s 21s/step - loss: 1.3853 - accuracy: 0.5270 - val_loss: 1.8571 - val_accuracy: 0.3283\n",
      "Epoch 11/100\n",
      "150/150 [==============================] - 9735s 65s/step - loss: 1.2143 - accuracy: 0.6181 - val_loss: 1.8904 - val_accuracy: 0.3250\n",
      "Epoch 12/100\n",
      "150/150 [==============================] - 3143s 21s/step - loss: 1.1115 - accuracy: 0.6335 - val_loss: 1.7565 - val_accuracy: 0.3833\n",
      "Epoch 13/100\n",
      "150/150 [==============================] - 3146s 21s/step - loss: 1.0183 - accuracy: 0.6728 - val_loss: 1.7353 - val_accuracy: 0.3917\n",
      "Epoch 14/100\n",
      "150/150 [==============================] - 3117s 21s/step - loss: 0.9424 - accuracy: 0.7017 - val_loss: 1.7329 - val_accuracy: 0.3800\n",
      "Epoch 15/100\n",
      "150/150 [==============================] - 3112s 21s/step - loss: 0.8254 - accuracy: 0.7394 - val_loss: 1.6771 - val_accuracy: 0.4350\n",
      "Epoch 16/100\n",
      "150/150 [==============================] - 3094s 21s/step - loss: 0.7255 - accuracy: 0.7834 - val_loss: 1.6439 - val_accuracy: 0.4550\n",
      "Epoch 17/100\n",
      "150/150 [==============================] - 3094s 21s/step - loss: 0.6392 - accuracy: 0.8021 - val_loss: 1.6154 - val_accuracy: 0.4700\n",
      "Epoch 18/100\n",
      "150/150 [==============================] - 3108s 21s/step - loss: 0.5639 - accuracy: 0.8290 - val_loss: 1.7215 - val_accuracy: 0.4700\n",
      "Epoch 19/100\n",
      "150/150 [==============================] - 3175s 21s/step - loss: 0.4926 - accuracy: 0.8521 - val_loss: 1.6249 - val_accuracy: 0.4950\n",
      "Epoch 20/100\n",
      "150/150 [==============================] - 3188s 21s/step - loss: 0.3998 - accuracy: 0.8838 - val_loss: 1.5885 - val_accuracy: 0.4883\n",
      "Epoch 21/100\n",
      "150/150 [==============================] - 3134s 21s/step - loss: 0.3353 - accuracy: 0.9229 - val_loss: 1.5792 - val_accuracy: 0.5017\n",
      "Epoch 22/100\n",
      "150/150 [==============================] - 3108s 21s/step - loss: 0.3414 - accuracy: 0.9106 - val_loss: 1.6786 - val_accuracy: 0.4950\n",
      "Epoch 23/100\n",
      "150/150 [==============================] - 3109s 21s/step - loss: 0.3010 - accuracy: 0.9205 - val_loss: 1.6866 - val_accuracy: 0.5083\n",
      "Epoch 24/100\n",
      "150/150 [==============================] - 3118s 21s/step - loss: 0.2485 - accuracy: 0.9364 - val_loss: 1.7070 - val_accuracy: 0.4833\n",
      "Epoch 25/100\n",
      "150/150 [==============================] - 3109s 21s/step - loss: 0.3113 - accuracy: 0.9075 - val_loss: 1.6300 - val_accuracy: 0.5017\n",
      "Epoch 26/100\n",
      " 94/150 [=================>............] - ETA: 17:51 - loss: 0.2299 - accuracy: 0.9359"
     ]
    }
   ],
   "source": [
    "model = get_model_vgg_fine()\n",
    "model.compile(optimizer = 'adam', loss = 'categorical_crossentropy', metrics = ['accuracy'])\n",
    "es = EarlyStopping(monitor = 'val_loss', patience = 10)\n",
    "history = model.fit(X_train, Y_train, batch_size=16, epochs=100, verbose = 1, validation_data = (X_test, Y_test), callbacks = [es])"
   ]
  },
  {
   "cell_type": "code",
   "execution_count": 8,
   "metadata": {},
   "outputs": [
    {
     "data": {
      "text/plain": [
       "{'loss': [1.4683620929718018,\n",
       "  1.1163079738616943,\n",
       "  1.0969408750534058,\n",
       "  1.0747803449630737,\n",
       "  1.0778560638427734,\n",
       "  1.1009058952331543,\n",
       "  1.0692808628082275,\n",
       "  1.093266248703003,\n",
       "  1.0607203245162964,\n",
       "  1.056505560874939,\n",
       "  1.0491002798080444,\n",
       "  1.0090253353118896,\n",
       "  1.0079236030578613,\n",
       "  1.0195258855819702,\n",
       "  1.0011569261550903,\n",
       "  0.9811692833900452,\n",
       "  0.9597784876823425,\n",
       "  0.933172345161438,\n",
       "  0.88935387134552,\n",
       "  0.8919837474822998,\n",
       "  0.8172425627708435,\n",
       "  0.7572595477104187,\n",
       "  0.703959584236145,\n",
       "  0.6606355309486389,\n",
       "  0.6381698250770569,\n",
       "  0.6248282790184021,\n",
       "  0.5390174984931946,\n",
       "  0.48407506942749023,\n",
       "  0.44236692786216736,\n",
       "  0.34562888741493225],\n",
       " 'accuracy': [0.3333333432674408,\n",
       "  0.34583333134651184,\n",
       "  0.3375000059604645,\n",
       "  0.3791666626930237,\n",
       "  0.3958333432674408,\n",
       "  0.3916666805744171,\n",
       "  0.38333332538604736,\n",
       "  0.40833333134651184,\n",
       "  0.42500001192092896,\n",
       "  0.4375,\n",
       "  0.4166666567325592,\n",
       "  0.4625000059604645,\n",
       "  0.42916667461395264,\n",
       "  0.4124999940395355,\n",
       "  0.4833333194255829,\n",
       "  0.49166667461395264,\n",
       "  0.49166667461395264,\n",
       "  0.49166667461395264,\n",
       "  0.574999988079071,\n",
       "  0.5541666746139526,\n",
       "  0.625,\n",
       "  0.6333333253860474,\n",
       "  0.7124999761581421,\n",
       "  0.7124999761581421,\n",
       "  0.6875,\n",
       "  0.7083333134651184,\n",
       "  0.7583333253860474,\n",
       "  0.8208333253860474,\n",
       "  0.8374999761581421,\n",
       "  0.8833333253860474],\n",
       " 'val_loss': [1.2096877098083496,\n",
       "  1.1093101501464844,\n",
       "  1.088821291923523,\n",
       "  1.098232626914978,\n",
       "  1.0611634254455566,\n",
       "  1.1090285778045654,\n",
       "  1.0548380613327026,\n",
       "  1.0765670537948608,\n",
       "  1.0792372226715088,\n",
       "  1.0824350118637085,\n",
       "  1.041430950164795,\n",
       "  1.0409828424453735,\n",
       "  1.0296138525009155,\n",
       "  1.0531219244003296,\n",
       "  1.0305366516113281,\n",
       "  1.040409803390503,\n",
       "  0.9856672883033752,\n",
       "  0.9529462456703186,\n",
       "  1.035050868988037,\n",
       "  0.9733818173408508,\n",
       "  1.0160670280456543,\n",
       "  1.007200002670288,\n",
       "  0.9662090539932251,\n",
       "  0.902813732624054,\n",
       "  0.9919790625572205,\n",
       "  1.1363531351089478,\n",
       "  0.8670293092727661,\n",
       "  0.8219293355941772,\n",
       "  0.8635930418968201,\n",
       "  0.7854175567626953],\n",
       " 'val_accuracy': [0.3333333432674408,\n",
       "  0.36666667461395264,\n",
       "  0.4000000059604645,\n",
       "  0.38333332538604736,\n",
       "  0.4000000059604645,\n",
       "  0.4000000059604645,\n",
       "  0.4000000059604645,\n",
       "  0.4833333194255829,\n",
       "  0.5,\n",
       "  0.44999998807907104,\n",
       "  0.4833333194255829,\n",
       "  0.5166666507720947,\n",
       "  0.5166666507720947,\n",
       "  0.44999998807907104,\n",
       "  0.5,\n",
       "  0.46666666865348816,\n",
       "  0.5166666507720947,\n",
       "  0.5333333611488342,\n",
       "  0.46666666865348816,\n",
       "  0.5666666626930237,\n",
       "  0.46666666865348816,\n",
       "  0.5333333611488342,\n",
       "  0.5666666626930237,\n",
       "  0.5833333134651184,\n",
       "  0.6000000238418579,\n",
       "  0.4833333194255829,\n",
       "  0.6166666746139526,\n",
       "  0.6833333373069763,\n",
       "  0.6666666865348816,\n",
       "  0.6666666865348816]}"
      ]
     },
     "execution_count": 8,
     "metadata": {},
     "output_type": "execute_result"
    }
   ],
   "source": [
    "history.history"
   ]
  },
  {
   "cell_type": "code",
   "execution_count": 10,
   "metadata": {},
   "outputs": [
    {
     "name": "stdout",
     "output_type": "stream",
     "text": [
      "dict_keys(['loss', 'accuracy', 'val_loss', 'val_accuracy'])\n"
     ]
    },
    {
     "data": {
      "image/png": "[encoded data removed]",
      "text/plain": [
       "<Figure size 432x288 with 1 Axes>"
      ]
     },
     "metadata": {
      "needs_background": "light"
     },
     "output_type": "display_data"
    },
    {
     "data": {
      "image/png": "[encoded data removed]",
      "text/plain": [
       "<Figure size 432x288 with 1 Axes>"
      ]
     },
     "metadata": {
      "needs_background": "light"
     },
     "output_type": "display_data"
    }
   ],
   "source": [
    "import matplotlib.pyplot as plt\n",
    "# list all data in history\n",
    "print(history.history.keys())\n",
    "# summarize history for accuracy\n",
    "plt.plot(history.history['accuracy'])\n",
    "plt.plot(history.history['val_accuracy'])\n",
    "plt.title('model accuracy')\n",
    "plt.ylabel('accuracy')\n",
    "plt.xlabel('epoch')\n",
    "plt.legend(['train', 'test'], loc='upper left')\n",
    "plt.show()\n",
    "# summarize history for loss\n",
    "plt.plot(history.history['loss'])\n",
    "plt.plot(history.history['val_loss'])\n",
    "plt.title('model loss')\n",
    "plt.ylabel('loss')\n",
    "plt.xlabel('epoch')\n",
    "plt.legend(['train', 'test'], loc='upper left')\n",
    "plt.show()"
   ]
  },
  {
   "cell_type": "code",
   "execution_count": null,
   "metadata": {},
   "outputs": [],
   "source": []
  },
  {
   "cell_type": "code",
   "execution_count": null,
   "metadata": {},
   "outputs": [],
   "source": []
  }
 ],
 "metadata": {
  "kernelspec": {
   "display_name": "Python 3",
   "language": "python",
   "name": "python3"
  },
  "language_info": {
   "codemirror_mode": {
    "name": "ipython",
    "version": 3
   },
   "file_extension": ".py",
   "mimetype": "text/x-python",
   "name": "python",
   "nbconvert_exporter": "python",
   "pygments_lexer": "ipython3",
   "version": "3.8.2"
  }
 },
 "nbformat": 4,
 "nbformat_minor": 4
}
