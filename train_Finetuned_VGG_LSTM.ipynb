{
 "cells": [
  {
   "cell_type": "code",
   "execution_count": 8,
   "metadata": {},
   "outputs": [],
   "source": [
    "import numpy as np\n",
    "from sklearn.model_selection import train_test_split\n",
    "\n",
    "import tensorflow as tf\n",
    "from tensorflow import keras\n",
    "from tensorflow.keras import layers\n",
    "from tensorflow.keras.models import Sequential\n",
    "from tensorflow.keras import models, layers, activations\n",
    "from tensorflow.keras.layers import Conv2D, TimeDistributed, BatchNormalization, MaxPooling2D, Flatten, Bidirectional, Dense,Dropout,Flatten\n",
    "from tensorflow.keras.applications import VGG16\n",
    "from tensorflow.keras.callbacks import EarlyStopping"
   ]
  },
  {
   "cell_type": "code",
   "execution_count": 40,
   "metadata": {},
   "outputs": [
    {
     "name": "stdout",
     "output_type": "stream",
     "text": [
      "(3000, 27, 64, 64, 3) (3000, 11)\n"
     ]
    }
   ],
   "source": [
    "x_data = np.load('face_x_data.npy') # x_save.npy\n",
    "y_data = np.load('face_y_data.npy') # y_data.npy\n",
    "y_data = keras.utils.to_categorical(y_data,11)\n",
    "print(x_data.shape, y_data.shape)"
   ]
  },
  {
   "cell_type": "code",
   "execution_count": 46,
   "metadata": {},
   "outputs": [
    {
     "name": "stdout",
     "output_type": "stream",
     "text": [
      "[0. 1. 0. 0. 0. 0. 0. 0. 0. 0. 0.]\n"
     ]
    }
   ],
   "source": [
    "print(y_data[0])"
   ]
  },
  {
   "cell_type": "code",
   "execution_count": 47,
   "metadata": {},
   "outputs": [
    {
     "name": "stdout",
     "output_type": "stream",
     "text": [
      "x_train: (2400, 27, 64, 64, 3), X_test: (600, 27, 64, 64, 3)\n",
      "Y_train: (2400, 11), Y_test: (600, 11)\n"
     ]
    }
   ],
   "source": [
    "# Train과 Test 분리\n",
    "X_train, X_test, Y_train, Y_test = train_test_split(x_data, y_data, test_size = 0.2, shuffle = True, stratify=y_data)\n",
    "print(\"x_train: {}, X_test: {}\".format(X_train.shape, X_test.shape))\n",
    "print(\"Y_train: {}, Y_test: {}\".format(Y_train.shape, Y_test.shape))"
   ]
  },
  {
   "cell_type": "code",
   "execution_count": 48,
   "metadata": {},
   "outputs": [],
   "source": [
    "class VGG_LSTM_fine(tf.keras.Model):\n",
    "    def __init__(self, input_shape, num_classes):\n",
    "        super(VGG_LSTM_fine, self).__init__()\n",
    "        self.BZ = input_shape[0]\n",
    "        self.frame = input_shape[1]\n",
    "\n",
    "        self.vgg = VGG16(weights='imagenet', include_top=False,\n",
    "                         input_shape=(input_shape[2], input_shape[3], input_shape[4]))\n",
    "        self.vgg.trainable = False\n",
    "\n",
    "        set_trainable = False\n",
    "        for layer in self.vgg.layers:\n",
    "            if layer.name == 'block5_conv1' or layer.name == 'block5_conv2' or layer.name == 'block5_conv3' or layer.name == 'block5_pool':\n",
    "                set_trainable = True\n",
    "            if set_trainable:\n",
    "                layer.trainable = True\n",
    "            else:\n",
    "                layer.trainable = False\n",
    "        self.vggDistributed = TimeDistributed(self.vgg)        \n",
    "        self.bilstm = layers.Bidirectional(layers.LSTM(256), merge_mode='concat')\n",
    "        self.dense = layers.Dense(num_classes, activation='softmax')\n",
    "        self.max_pool = layers.MaxPooling2D(pool_size=(2, 2))\n",
    "        self.dropout = layers.Dropout(0.2)\n",
    "        self.flat= TimeDistributed(Flatten())\n",
    "        \n",
    "    def call(self, x):\n",
    "        x = self.vggDistributed(x)\n",
    "        x = self.flat(x)\n",
    "        x = self.dropout(x)\n",
    "        x = self.bilstm(x)\n",
    "        x = self.dense(x)\n",
    "        return x"
   ]
  },
  {
   "cell_type": "code",
   "execution_count": 49,
   "metadata": {},
   "outputs": [],
   "source": [
    "def get_model_vgg_fine():\n",
    "    return VGG_LSTM_fine(input_shape = (10, 68, 64, 64, 3), num_classes = 11)"
   ]
  },
  {
   "cell_type": "code",
   "execution_count": 50,
   "metadata": {},
   "outputs": [],
   "source": [
    "tf.config.experimental_run_functions_eagerly(True)"
   ]
  },
  {
   "cell_type": "code",
   "execution_count": 51,
   "metadata": {},
   "outputs": [
    {
     "name": "stderr",
     "output_type": "stream",
     "text": [
      "/Users/heegeepark/venv/myvenv/lib/python3.8/site-packages/tensorflow/python/data/ops/dataset_ops.py:3503: UserWarning: Even though the tf.config.experimental_run_functions_eagerly option is set, this option does not apply to tf.data functions. tf.data functions are still traced and executed as graphs.\n",
      "  warnings.warn(\n"
     ]
    },
    {
     "name": "stdout",
     "output_type": "stream",
     "text": [
      "Epoch 1/100\n",
      "150/150 [==============================] - 3413s 23s/step - loss: 2.4442 - accuracy: 0.0808 - val_loss: 2.2914 - val_accuracy: 0.1100\n",
      "Epoch 2/100\n",
      "150/150 [==============================] - 7951s 53s/step - loss: 2.2808 - accuracy: 0.1343 - val_loss: 2.2989 - val_accuracy: 0.1400\n",
      "Epoch 3/100\n",
      "150/150 [==============================] - 3109s 21s/step - loss: 2.2103 - accuracy: 0.1987 - val_loss: 2.2719 - val_accuracy: 0.1717\n",
      "Epoch 4/100\n",
      "150/150 [==============================] - 3114s 21s/step - loss: 2.1466 - accuracy: 0.2379 - val_loss: 2.1972 - val_accuracy: 0.2100\n",
      "Epoch 5/100\n",
      "150/150 [==============================] - 3100s 21s/step - loss: 2.0441 - accuracy: 0.2901 - val_loss: 2.1670 - val_accuracy: 0.1967\n",
      "Epoch 6/100\n",
      "150/150 [==============================] - 3100s 21s/step - loss: 1.9341 - accuracy: 0.3332 - val_loss: 2.1082 - val_accuracy: 0.2383\n",
      "Epoch 7/100\n",
      "150/150 [==============================] - 3097s 21s/step - loss: 1.7941 - accuracy: 0.3836 - val_loss: 2.0672 - val_accuracy: 0.2750\n",
      "Epoch 8/100\n",
      "150/150 [==============================] - 3108s 21s/step - loss: 1.6384 - accuracy: 0.4478 - val_loss: 1.9859 - val_accuracy: 0.2917\n",
      "Epoch 9/100\n",
      "150/150 [==============================] - 3106s 21s/step - loss: 1.5179 - accuracy: 0.4922 - val_loss: 1.8702 - val_accuracy: 0.3267\n",
      "Epoch 10/100\n",
      "150/150 [==============================] - 3109s 21s/step - loss: 1.3853 - accuracy: 0.5270 - val_loss: 1.8571 - val_accuracy: 0.3283\n",
      "Epoch 11/100\n",
      "150/150 [==============================] - 9735s 65s/step - loss: 1.2143 - accuracy: 0.6181 - val_loss: 1.8904 - val_accuracy: 0.3250\n",
      "Epoch 12/100\n",
      "150/150 [==============================] - 3143s 21s/step - loss: 1.1115 - accuracy: 0.6335 - val_loss: 1.7565 - val_accuracy: 0.3833\n",
      "Epoch 13/100\n",
      "150/150 [==============================] - 3146s 21s/step - loss: 1.0183 - accuracy: 0.6728 - val_loss: 1.7353 - val_accuracy: 0.3917\n",
      "Epoch 14/100\n",
      "150/150 [==============================] - 3117s 21s/step - loss: 0.9424 - accuracy: 0.7017 - val_loss: 1.7329 - val_accuracy: 0.3800\n",
      "Epoch 15/100\n",
      "150/150 [==============================] - 3112s 21s/step - loss: 0.8254 - accuracy: 0.7394 - val_loss: 1.6771 - val_accuracy: 0.4350\n",
      "Epoch 16/100\n",
      "150/150 [==============================] - 3094s 21s/step - loss: 0.7255 - accuracy: 0.7834 - val_loss: 1.6439 - val_accuracy: 0.4550\n",
      "Epoch 17/100\n",
      "150/150 [==============================] - 3094s 21s/step - loss: 0.6392 - accuracy: 0.8021 - val_loss: 1.6154 - val_accuracy: 0.4700\n",
      "Epoch 18/100\n",
      "150/150 [==============================] - 3108s 21s/step - loss: 0.5639 - accuracy: 0.8290 - val_loss: 1.7215 - val_accuracy: 0.4700\n",
      "Epoch 19/100\n",
      "150/150 [==============================] - 3175s 21s/step - loss: 0.4926 - accuracy: 0.8521 - val_loss: 1.6249 - val_accuracy: 0.4950\n",
      "Epoch 20/100\n",
      "150/150 [==============================] - 3188s 21s/step - loss: 0.3998 - accuracy: 0.8838 - val_loss: 1.5885 - val_accuracy: 0.4883\n",
      "Epoch 21/100\n",
      "150/150 [==============================] - 3134s 21s/step - loss: 0.3353 - accuracy: 0.9229 - val_loss: 1.5792 - val_accuracy: 0.5017\n",
      "Epoch 22/100\n",
      "150/150 [==============================] - 3108s 21s/step - loss: 0.3414 - accuracy: 0.9106 - val_loss: 1.6786 - val_accuracy: 0.4950\n",
      "Epoch 23/100\n",
      "150/150 [==============================] - 3109s 21s/step - loss: 0.3010 - accuracy: 0.9205 - val_loss: 1.6866 - val_accuracy: 0.5083\n",
      "Epoch 24/100\n",
      "150/150 [==============================] - 3118s 21s/step - loss: 0.2485 - accuracy: 0.9364 - val_loss: 1.7070 - val_accuracy: 0.4833\n",
      "Epoch 25/100\n",
      "150/150 [==============================] - 3109s 21s/step - loss: 0.3113 - accuracy: 0.9075 - val_loss: 1.6300 - val_accuracy: 0.5017\n",
      "Epoch 26/100\n",
      "150/150 [==============================] - 3183s 21s/step - loss: 0.2307 - accuracy: 0.9366 - val_loss: 1.7780 - val_accuracy: 0.4983\n",
      "Epoch 27/100\n",
      "150/150 [==============================] - 3255s 22s/step - loss: 0.1842 - accuracy: 0.9570 - val_loss: 1.6280 - val_accuracy: 0.5133\n",
      "Epoch 28/100\n",
      "150/150 [==============================] - 3173s 21s/step - loss: 0.1734 - accuracy: 0.9525 - val_loss: 1.7393 - val_accuracy: 0.5050\n",
      "Epoch 29/100\n",
      "150/150 [==============================] - 3229s 22s/step - loss: 0.1326 - accuracy: 0.9735 - val_loss: 1.6274 - val_accuracy: 0.5283\n",
      "Epoch 30/100\n",
      "150/150 [==============================] - 3227s 22s/step - loss: 0.1563 - accuracy: 0.9626 - val_loss: 1.7575 - val_accuracy: 0.5167\n",
      "Epoch 31/100\n",
      "150/150 [==============================] - 3166s 21s/step - loss: 0.1486 - accuracy: 0.9636 - val_loss: 1.9275 - val_accuracy: 0.5250\n"
     ]
    }
   ],
   "source": [
    "model = get_model_vgg_fine()\n",
    "model.compile(optimizer = 'adam', loss = 'categorical_crossentropy', metrics = ['accuracy'])\n",
    "es = EarlyStopping(monitor = 'val_loss', patience = 10)\n",
    "history = model.fit(X_train, Y_train, batch_size=16, epochs=100, verbose = 1, validation_data = (X_test, Y_test), callbacks = [es])"
   ]
  },
  {
   "cell_type": "code",
   "execution_count": 52,
   "metadata": {},
   "outputs": [
    {
     "data": {
      "text/plain": [
       "{'loss': [2.3688571453094482,\n",
       "  2.273064374923706,\n",
       "  2.215923547744751,\n",
       "  2.1394145488739014,\n",
       "  2.049741506576538,\n",
       "  1.9311987161636353,\n",
       "  1.7999680042266846,\n",
       "  1.6552917957305908,\n",
       "  1.4971286058425903,\n",
       "  1.3905487060546875,\n",
       "  1.2585030794143677,\n",
       "  1.1513190269470215,\n",
       "  1.0488091707229614,\n",
       "  0.9625027179718018,\n",
       "  0.8495316505432129,\n",
       "  0.7531171441078186,\n",
       "  0.6612324118614197,\n",
       "  0.5595611333847046,\n",
       "  0.5347036719322205,\n",
       "  0.42729252576828003,\n",
       "  0.35507750511169434,\n",
       "  0.34349778294563293,\n",
       "  0.2950856387615204,\n",
       "  0.2741045653820038,\n",
       "  0.27944397926330566,\n",
       "  0.2313668578863144,\n",
       "  0.1842891126871109,\n",
       "  0.17431306838989258,\n",
       "  0.16473960876464844,\n",
       "  0.17105630040168762,\n",
       "  0.1406058818101883],\n",
       " 'accuracy': [0.09000000357627869,\n",
       "  0.14249999821186066,\n",
       "  0.18541666865348816,\n",
       "  0.23250000178813934,\n",
       "  0.2704166769981384,\n",
       "  0.3283333480358124,\n",
       "  0.3816666603088379,\n",
       "  0.4362500011920929,\n",
       "  0.49416667222976685,\n",
       "  0.5274999737739563,\n",
       "  0.5924999713897705,\n",
       "  0.6245833039283752,\n",
       "  0.6575000286102295,\n",
       "  0.6920833587646484,\n",
       "  0.721666693687439,\n",
       "  0.7699999809265137,\n",
       "  0.7883333563804626,\n",
       "  0.8354166746139526,\n",
       "  0.8358333110809326,\n",
       "  0.8737499713897705,\n",
       "  0.902916669845581,\n",
       "  0.909583330154419,\n",
       "  0.9200000166893005,\n",
       "  0.9262499809265137,\n",
       "  0.9200000166893005,\n",
       "  0.9387500286102295,\n",
       "  0.9591666460037231,\n",
       "  0.9545833468437195,\n",
       "  0.956250011920929,\n",
       "  0.9541666507720947,\n",
       "  0.965833306312561],\n",
       " 'val_loss': [2.2913663387298584,\n",
       "  2.298908233642578,\n",
       "  2.2718658447265625,\n",
       "  2.1971681118011475,\n",
       "  2.167025327682495,\n",
       "  2.1082046031951904,\n",
       "  2.06723690032959,\n",
       "  1.985877275466919,\n",
       "  1.8702384233474731,\n",
       "  1.8571356534957886,\n",
       "  1.890398383140564,\n",
       "  1.7564927339553833,\n",
       "  1.7352513074874878,\n",
       "  1.7329245805740356,\n",
       "  1.6770809888839722,\n",
       "  1.6439331769943237,\n",
       "  1.6153768301010132,\n",
       "  1.7215452194213867,\n",
       "  1.6248506307601929,\n",
       "  1.588476538658142,\n",
       "  1.5792081356048584,\n",
       "  1.6786093711853027,\n",
       "  1.6865900754928589,\n",
       "  1.7069728374481201,\n",
       "  1.6299601793289185,\n",
       "  1.7779532670974731,\n",
       "  1.6279841661453247,\n",
       "  1.7393078804016113,\n",
       "  1.6273691654205322,\n",
       "  1.7575156688690186,\n",
       "  1.9275175333023071],\n",
       " 'val_accuracy': [0.10999999940395355,\n",
       "  0.14000000059604645,\n",
       "  0.17166666686534882,\n",
       "  0.20999999344348907,\n",
       "  0.1966666728258133,\n",
       "  0.2383333295583725,\n",
       "  0.2750000059604645,\n",
       "  0.2916666567325592,\n",
       "  0.3266666531562805,\n",
       "  0.3283333480358124,\n",
       "  0.32499998807907104,\n",
       "  0.38333332538604736,\n",
       "  0.3916666805744171,\n",
       "  0.3799999952316284,\n",
       "  0.4350000023841858,\n",
       "  0.45500001311302185,\n",
       "  0.4699999988079071,\n",
       "  0.4699999988079071,\n",
       "  0.4950000047683716,\n",
       "  0.4883333444595337,\n",
       "  0.5016666650772095,\n",
       "  0.4950000047683716,\n",
       "  0.5083333253860474,\n",
       "  0.4833333194255829,\n",
       "  0.5016666650772095,\n",
       "  0.4983333349227905,\n",
       "  0.5133333206176758,\n",
       "  0.5049999952316284,\n",
       "  0.528333306312561,\n",
       "  0.5166666507720947,\n",
       "  0.5249999761581421]}"
      ]
     },
     "execution_count": 52,
     "metadata": {},
     "output_type": "execute_result"
    }
   ],
   "source": [
    "history.history"
   ]
  },
  {
   "cell_type": "code",
   "execution_count": 53,
   "metadata": {},
   "outputs": [
    {
     "name": "stdout",
     "output_type": "stream",
     "text": [
      "dict_keys(['loss', 'accuracy', 'val_loss', 'val_accuracy'])\n"
     ]
    },
    {
     "data": {
      "image/png": "[encoded data removed]",
      "text/plain": [
       "<Figure size 432x288 with 1 Axes>"
      ]
     },
     "metadata": {
      "needs_background": "light"
     },
     "output_type": "display_data"
    },
    {
     "data": {
      "image/png": "[encoded data removed]",
      "text/plain": [
       "<Figure size 432x288 with 1 Axes>"
      ]
     },
     "metadata": {
      "needs_background": "light"
     },
     "output_type": "display_data"
    }
   ],
   "source": [
    "import matplotlib.pyplot as plt\n",
    "# list all data in history\n",
    "print(history.history.keys())\n",
    "# summarize history for accuracy\n",
    "plt.plot(history.history['accuracy'])\n",
    "plt.plot(history.history['val_accuracy'])\n",
    "plt.title('model accuracy')\n",
    "plt.ylabel('accuracy')\n",
    "plt.xlabel('epoch')\n",
    "plt.legend(['train', 'test'], loc='upper left')\n",
    "plt.show()\n",
    "# summarize history for loss\n",
    "plt.plot(history.history['loss'])\n",
    "plt.plot(history.history['val_loss'])\n",
    "plt.title('model loss')\n",
    "plt.ylabel('loss')\n",
    "plt.xlabel('epoch')\n",
    "plt.legend(['train', 'test'], loc='upper left')\n",
    "plt.show()"
   ]
  },
  {
   "cell_type": "code",
   "execution_count": null,
   "metadata": {},
   "outputs": [],
   "source": []
  },
  {
   "cell_type": "code",
   "execution_count": null,
   "metadata": {},
   "outputs": [],
   "source": []
  }
 ],
 "metadata": {
  "kernelspec": {
   "display_name": "Python 3",
   "language": "python",
   "name": "python3"
  },
  "language_info": {
   "codemirror_mode": {
    "name": "ipython",
    "version": 3
   },
   "file_extension": ".py",
   "mimetype": "text/x-python",
   "name": "python",
   "nbconvert_exporter": "python",
   "pygments_lexer": "ipython3",
   "version": "3.8.2"
  }
 },
 "nbformat": 4,
 "nbformat_minor": 4
}
